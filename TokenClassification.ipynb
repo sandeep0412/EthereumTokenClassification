{
  "nbformat": 4,
  "nbformat_minor": 0,
  "metadata": {
    "colab": {
      "name": "TokenClassification.ipynb",
      "version": "0.3.2",
      "provenance": [],
      "collapsed_sections": [],
      "include_colab_link": true
    },
    "kernelspec": {
      "name": "python3",
      "display_name": "Python 3"
    },
    "accelerator": "GPU"
  },
  "cells": [
    {
      "cell_type": "markdown",
      "metadata": {
        "id": "view-in-github",
        "colab_type": "text"
      },
      "source": [
        "<a href=\"https://colab.research.google.com/github/sandeep0412/EthereumTokenClassification/blob/master/TokenClassification.ipynb\" target=\"_parent\"><img src=\"https://colab.research.google.com/assets/colab-badge.svg\" alt=\"Open In Colab\"/></a>"
      ]
    },
    {
      "metadata": {
        "id": "jHGB2o5a0QYS",
        "colab_type": "text"
      },
      "cell_type": "markdown",
      "source": [
        "# Classification of Ethereum based tokens on their Return on Investment"
      ]
    },
    {
      "metadata": {
        "id": "dMftRaQbmKsi",
        "colab_type": "text"
      },
      "cell_type": "markdown",
      "source": [
        "To determine the ICO returns and classify ICOs based on how much return is expected, we have divided the problem into 2 stages:\n",
        "1. Ethereum Price Prediction\n",
        "2. ICO Returns Classification"
      ]
    },
    {
      "metadata": {
        "id": "1cmUA-l4olQS",
        "colab_type": "text"
      },
      "cell_type": "markdown",
      "source": [
        "## Ethereum Price Prediction"
      ]
    },
    {
      "metadata": {
        "id": "7CjZO9XenV1E",
        "colab_type": "text"
      },
      "cell_type": "markdown",
      "source": [
        "** - In this stage, core Ethereum variables are calculated from Ethereum Blockchain dataset, Ethereum prices in USD, and number of ICOs on each day since 2015 is scraped from websites. Ethereum prices are predicted using two Neural Network models - Simple ANN and Neural network with LSTM**"
      ]
    },
    {
      "metadata": {
        "id": "iD81PkA9P8Mu",
        "colab_type": "text"
      },
      "cell_type": "markdown",
      "source": [
        "### Data Exploration"
      ]
    },
    {
      "metadata": {
        "id": "cLv216nu0QYY",
        "colab_type": "text"
      },
      "cell_type": "markdown",
      "source": [
        "Stage 1 imports all required libraries for the project and initiating client connection to bigquery\n",
        "\"google.cloud.bigquery\" libraries are used to access bigquery data in local project\n",
        "\"pandas\" library is used for converting the data filtered from bigquery to dataframes\n",
        "\"plotly\" graphing library is used for visualization"
      ]
    },
    {
      "metadata": {
        "id": "pXa1FARB0QYU",
        "colab_type": "code",
        "outputId": "e325776d-6f4d-4590-f7d9-0cbec8c533d5",
        "colab": {
          "base_uri": "https://localhost:8080/",
          "height": 34
        }
      },
      "cell_type": "code",
      "source": [
        "from google.cloud import bigquery\n",
        "from google.colab import drive\n",
        "from google.oauth2 import service_account\n",
        "import pandas as pd\n",
        "import plotly\n",
        "import plotly.plotly as py\n",
        "import plotly.graph_objs as go\n",
        "import numpy as np\n",
        "import collections\n",
        "\n",
        "import seaborn as sns\n",
        "import matplotlib\n",
        "import matplotlib.pyplot as plt\n",
        "import matplotlib.cm as cmx\n",
        "import matplotlib.colors as colors\n",
        "%matplotlib inline\n",
        "\n",
        "\n",
        "drive.mount('/content/drive')\n",
        "#!ls \"/content/drive/My Drive/Colab Notebooks\"\n",
        "credentials = service_account.Credentials.from_service_account_file('/content/drive/My Drive/Colab Notebooks/ICOAnalysis-a8d907cf91f4.json')\n",
        "project_id = 'icoanalysis-225316'\n",
        "client = bigquery.Client(credentials= credentials,project=project_id)\n",
        "plotly.tools.set_credentials_file(username = 'sandeep.panigrahy7', api_key = '************')\n",
        "#client = bigquery.Client()\n",
        "#print(\"Stage 1\")"
      ],
      "execution_count": 0,
      "outputs": [
        {
          "output_type": "stream",
          "text": [
            "Drive already mounted at /content/drive; to attempt to forcibly remount, call drive.mount(\"/content/drive\", force_remount=True).\n"
          ],
          "name": "stdout"
        }
      ]
    },
    {
      "metadata": {
        "id": "dOD_IiM_0QYg",
        "colab_type": "text"
      },
      "cell_type": "markdown",
      "source": [
        "Stage 2 : Query to calculate average transaction cost of all transactions"
      ]
    },
    {
      "metadata": {
        "id": "-8t3vFRrbgBs",
        "colab_type": "code",
        "outputId": "80ccaac1-8797-4a16-de54-277ba5b57b4e",
        "colab": {
          "base_uri": "https://localhost:8080/",
          "height": 118
        }
      },
      "cell_type": "code",
      "source": [
        "query_ether_supply = \"\"\"with ether_emitted_by_date  as (\n",
        "  select date(block_timestamp) as Tx_Date, sum(value) as value\n",
        "  from `bigquery-public-data.ethereum_blockchain.traces`\n",
        "  where trace_type in ('genesis', 'reward') AND date(block_timestamp) >'2015-08-06'\n",
        "  group by date(block_timestamp)\n",
        ")\n",
        "select Tx_Date, sum(value) OVER (ORDER BY Tx_Date) / power(10, 18) AS supply\n",
        "from ether_emitted_by_date\"\"\"\n",
        "query_job = client.query(query_ether_supply)\n",
        "iterator = query_job.result(timeout=None)\n",
        "rows = list(iterator)\n",
        "\n",
        "# Transform the rows into a nice pandas dataframe\n",
        "df_supply = pd.DataFrame(data=[list(x.values()) for x in rows], columns=list(rows[0].keys()))\n",
        "print(df_supply.head(5))"
      ],
      "execution_count": 0,
      "outputs": [
        {
          "output_type": "stream",
          "text": [
            "      Tx_Date        supply\n",
            "0  2015-08-07   27437.65625\n",
            "1  2015-08-08   55381.09375\n",
            "2  2015-08-09   82559.37500\n",
            "3  2015-08-10  110376.71875\n",
            "4  2015-08-11  138404.53125\n"
          ],
          "name": "stdout"
        }
      ]
    },
    {
      "metadata": {
        "id": "nJBgQ1bC0QYZ",
        "colab_type": "code",
        "outputId": "0bda49b4-98d8-450a-a43f-325984d06a98",
        "colab": {
          "base_uri": "https://localhost:8080/",
          "height": 118
        }
      },
      "cell_type": "code",
      "source": [
        "query_avg = \"\"\"SELECT SUM(value/POWER(10,18)) AS sum_tx_ether, AVG(gas_price*(receipt_gas_used/POWER(10,18))) AS avg_tx_gas_cost,\n",
        "DATE(block_timestamp) AS Tx_Date FROM `bigquery-public-data.ethereum_blockchain.transactions` AS transactions, `bigquery-public-data.ethereum_blockchain.blocks` AS blocks\n",
        "WHERE TRUE AND transactions.block_number = blocks.number AND value > 0 GROUP BY Tx_Date ORDER BY Tx_Date \"\"\"\n",
        "#print(query_avg)\n",
        "query_job = client.query(query_avg)\n",
        "iterator = query_job.result(timeout=None)\n",
        "rows = list(iterator)\n",
        "\n",
        "# Transform the rows into a nice pandas dataframe\n",
        "df_sum = pd.DataFrame(data=[list(x.values()) for x in rows], columns=list(rows[0].keys()))\n",
        "print(df_sum.head(5))\n"
      ],
      "execution_count": 0,
      "outputs": [
        {
          "output_type": "stream",
          "text": [
            "   sum_tx_ether  avg_tx_gas_cost     Tx_Date\n",
            "0  2.008723e+06         0.012115  2015-08-07\n",
            "1  1.358322e+07         0.029071  2015-08-08\n",
            "2  1.165455e+06         0.010648  2015-08-09\n",
            "3  1.670911e+06         0.018447  2015-08-10\n",
            "4  1.485732e+06         0.002147  2015-08-11\n"
          ],
          "name": "stdout"
        }
      ]
    },
    {
      "metadata": {
        "id": "esAwP3s-0QYh",
        "colab_type": "code",
        "outputId": "80b4b718-2ae6-4645-afd3-2d05ef5fc59f",
        "colab": {
          "base_uri": "https://localhost:8080/",
          "height": 583
        }
      },
      "cell_type": "code",
      "source": [
        "layout = go.Layout(title=\"Average Ether transaction cost over time\",\n",
        "                xaxis=dict(title='Date'),\n",
        "                yaxis=dict(title='Average GAS Cost'))\n",
        "\n",
        "data1 = [go.Bar(x=df_sum.Tx_Date, y=df_sum.avg_tx_gas_cost)]\n",
        "py.iplot(data1, layout=layout, filename='jupyter-basic_bar')"
      ],
      "execution_count": 0,
      "outputs": [
        {
          "output_type": "stream",
          "text": [
            "High five! You successfully sent some data to your account on plotly. View your plot in your browser at https://plot.ly/~sandeep.panigrahy7/0 or inside your plot.ly account where it is named 'jupyter-basic_bar'\n"
          ],
          "name": "stdout"
        },
        {
          "output_type": "execute_result",
          "data": {
            "text/html": [
              "<iframe id=\"igraph\" scrolling=\"no\" style=\"border:none;\" seamless=\"seamless\" src=\"https://plot.ly/~sandeep.panigrahy7/0.embed\" height=\"525px\" width=\"100%\"></iframe>"
            ],
            "text/plain": [
              "<plotly.tools.PlotlyDisplay object>"
            ]
          },
          "metadata": {
            "tags": []
          },
          "execution_count": 57
        }
      ]
    },
    {
      "metadata": {
        "id": "sUjD0gEC0QYq",
        "colab_type": "text"
      },
      "cell_type": "markdown",
      "source": [
        "Stage 3: Query to identify spam transactions in Ethereum Blockchain. Authorization addresses are matched and their verification status is checked from multiple tables of \"transactions\" and \"token_transfers\". "
      ]
    },
    {
      "metadata": {
        "id": "7zYTr4tN0QYm",
        "colab_type": "code",
        "outputId": "934754b5-9a0a-4088-df09-7efe191e6f73",
        "colab": {
          "base_uri": "https://localhost:8080/",
          "height": 195
        }
      },
      "cell_type": "code",
      "source": [
        "query_spam = \"\"\" with transfers_and_authorizing_transactions as (\n",
        "  with external_accounts as (\n",
        "    select distinct(from_address) as address\n",
        "    from `bigquery-public-data.ethereum_blockchain.transactions` as transactions\n",
        "  ),\n",
        "  authorizing_transactions as (\n",
        "    select from_address, to_address, min(block_number) as block_number\n",
        "    from `bigquery-public-data.ethereum_blockchain.transactions` as transactions\n",
        "    group by from_address, to_address\n",
        "  )\n",
        "  select token_transfers.transaction_hash as transaction_hash, \n",
        "    token_transfers.log_index as log_index, \n",
        "    authorizing_transactions.block_number as authorizing_block_number\n",
        "  from `bigquery-public-data.ethereum_blockchain.token_transfers` as token_transfers\n",
        "  join external_accounts on external_accounts.address = token_transfers.from_address\n",
        "  left join authorizing_transactions\n",
        "    on authorizing_transactions.from_address =  token_transfers.from_address\n",
        "    and authorizing_transactions.to_address = token_transfers.token_address\n",
        "    and authorizing_transactions.block_number <= token_transfers.block_number\n",
        "  where  token_transfers.from_address != '0x0000000000000000000000000000000000000000'\n",
        ")\n",
        "select transaction_hash, log_index\n",
        "from transfers_and_authorizing_transactions\n",
        "where authorizing_block_number is null\n",
        "order by log_index desc\n",
        "limit 100\"\"\"\n",
        "query_job = client.query(query_spam)\n",
        "iterator = query_job.result(timeout=None)\n",
        "rows = list(iterator)\n",
        "\n",
        "df_spam = pd.DataFrame(data=[list(x.values()) for x in rows], columns=list(rows[0].keys()))\n",
        "df_spam.head(5)"
      ],
      "execution_count": 0,
      "outputs": [
        {
          "output_type": "execute_result",
          "data": {
            "text/html": [
              "<div>\n",
              "<style scoped>\n",
              "    .dataframe tbody tr th:only-of-type {\n",
              "        vertical-align: middle;\n",
              "    }\n",
              "\n",
              "    .dataframe tbody tr th {\n",
              "        vertical-align: top;\n",
              "    }\n",
              "\n",
              "    .dataframe thead th {\n",
              "        text-align: right;\n",
              "    }\n",
              "</style>\n",
              "<table border=\"1\" class=\"dataframe\">\n",
              "  <thead>\n",
              "    <tr style=\"text-align: right;\">\n",
              "      <th></th>\n",
              "      <th>transaction_hash</th>\n",
              "      <th>log_index</th>\n",
              "    </tr>\n",
              "  </thead>\n",
              "  <tbody>\n",
              "    <tr>\n",
              "      <th>0</th>\n",
              "      <td>0x22592b0547d06808f93dc6ed135ca88db6d0c4f62545...</td>\n",
              "      <td>2015</td>\n",
              "    </tr>\n",
              "    <tr>\n",
              "      <th>1</th>\n",
              "      <td>0x43325dfbcec2489ff40ca26b2e6905b12a42711c6072...</td>\n",
              "      <td>2015</td>\n",
              "    </tr>\n",
              "    <tr>\n",
              "      <th>2</th>\n",
              "      <td>0x3108f527a534b4f905b43dd053ec4a9b6d08c78cf873...</td>\n",
              "      <td>2014</td>\n",
              "    </tr>\n",
              "    <tr>\n",
              "      <th>3</th>\n",
              "      <td>0x53ae910e140249ae3bdc8478479f208dbd9bc49f3280...</td>\n",
              "      <td>2014</td>\n",
              "    </tr>\n",
              "    <tr>\n",
              "      <th>4</th>\n",
              "      <td>0xfedaad0bf2156d9118b6ee84fd34c5ef692a76edc8bf...</td>\n",
              "      <td>2013</td>\n",
              "    </tr>\n",
              "  </tbody>\n",
              "</table>\n",
              "</div>"
            ],
            "text/plain": [
              "                                    transaction_hash  log_index\n",
              "0  0x22592b0547d06808f93dc6ed135ca88db6d0c4f62545...       2015\n",
              "1  0x43325dfbcec2489ff40ca26b2e6905b12a42711c6072...       2015\n",
              "2  0x3108f527a534b4f905b43dd053ec4a9b6d08c78cf873...       2014\n",
              "3  0x53ae910e140249ae3bdc8478479f208dbd9bc49f3280...       2014\n",
              "4  0xfedaad0bf2156d9118b6ee84fd34c5ef692a76edc8bf...       2013"
            ]
          },
          "metadata": {
            "tags": []
          },
          "execution_count": 58
        }
      ]
    },
    {
      "metadata": {
        "id": "Q1LSIcK4D_HL",
        "colab_type": "text"
      },
      "cell_type": "markdown",
      "source": [
        ""
      ]
    },
    {
      "metadata": {
        "id": "ihB-0A4i0QYv",
        "colab_type": "code",
        "outputId": "fcb18206-b902-48e1-ebc0-793201e88eb1",
        "colab": {
          "base_uri": "https://localhost:8080/",
          "height": 647
        }
      },
      "cell_type": "code",
      "source": [
        "query_spam_count = ''' with transfers_and_authorizing_transactions as (\n",
        "  with external_accounts as (\n",
        "    select distinct(from_address) as address\n",
        "    from `bigquery-public-data.ethereum_blockchain.transactions` as transactions\n",
        "  ),\n",
        "  authorizing_transactions as (\n",
        "    select from_address, to_address, min(block_number) as block_number\n",
        "    from `bigquery-public-data.ethereum_blockchain.transactions` as transactions\n",
        "    group by from_address, to_address\n",
        "  )\n",
        "  select token_transfers.transaction_hash as transaction_hash, \n",
        "    token_transfers.log_index as log_index, \n",
        "    authorizing_transactions.block_number as authorizing_block_number\n",
        "  from `bigquery-public-data.ethereum_blockchain.token_transfers` as token_transfers\n",
        "  join external_accounts on external_accounts.address = token_transfers.from_address\n",
        "  left join authorizing_transactions\n",
        "    on authorizing_transactions.from_address =  token_transfers.from_address\n",
        "    and authorizing_transactions.to_address = token_transfers.token_address\n",
        "    and authorizing_transactions.block_number <= token_transfers.block_number\n",
        "  where  token_transfers.from_address != '0x0000000000000000000000000000000000000000'\n",
        ")\n",
        "select log_index, count(*) as spam_count\n",
        "from transfers_and_authorizing_transactions\n",
        "where authorizing_block_number is null\n",
        "GROUP BY log_index\n",
        "ORDER BY spam_count DESC\n",
        "LIMIT 100'''\n",
        "query_job = client.query(query_spam_count)\n",
        "iterator = query_job.result(timeout=None)\n",
        "rows = list(iterator)\n",
        "\n",
        "df_spam_count = pd.DataFrame(data=[list(x.values()) for x in rows], columns=list(rows[0].keys()))\n",
        "print(df_spam_count.head(5))\n",
        "\n",
        "data_spam_count = [go.Scatter(x= df_spam_count.log_index, y=df_spam_count.spam_count, mode = 'markers')]\n",
        "py.iplot(data_spam_count, layout=layout, filename='basic-scatter')"
      ],
      "execution_count": 0,
      "outputs": [
        {
          "output_type": "stream",
          "text": [
            "   log_index  spam_count\n",
            "0          2       17622\n",
            "1          6        9624\n",
            "2         10        8628\n",
            "3         14        8576\n",
            "4         18        8460\n"
          ],
          "name": "stdout"
        },
        {
          "output_type": "execute_result",
          "data": {
            "text/html": [
              "<iframe id=\"igraph\" scrolling=\"no\" style=\"border:none;\" seamless=\"seamless\" src=\"https://plot.ly/~sandeep.panigrahy7/2.embed\" height=\"525px\" width=\"100%\"></iframe>"
            ],
            "text/plain": [
              "<plotly.tools.PlotlyDisplay object>"
            ]
          },
          "metadata": {
            "tags": []
          },
          "execution_count": 59
        }
      ]
    },
    {
      "metadata": {
        "id": "1JJXoPUu0QY2",
        "colab_type": "text"
      },
      "cell_type": "markdown",
      "source": [
        "Stage 4: Query to analyze how many spam_transactions are done using single \"transaction_hash\".\n",
        "This query will help us find time period of spammed transactions processed, and their event behind it."
      ]
    },
    {
      "metadata": {
        "id": "LW3oL9fNd_tJ",
        "colab_type": "code",
        "outputId": "f7305823-2a5d-48a1-a57a-79daeec4e8e1",
        "colab": {
          "base_uri": "https://localhost:8080/",
          "height": 118
        }
      },
      "cell_type": "code",
      "source": [
        "query_spam_date_count = ''' with transfers_and_authorizing_transactions as (\n",
        "  with external_accounts as (\n",
        "    select distinct(from_address) as address,\n",
        "    DATE(block_timestamp) AS Tx_Date\n",
        "    from `bigquery-public-data.ethereum_blockchain.transactions` as transactions\n",
        "  ),\n",
        "  authorizing_transactions as (\n",
        "    select from_address, to_address, min(block_number) as block_number\n",
        "    from `bigquery-public-data.ethereum_blockchain.transactions` as transactions\n",
        "    group by from_address, to_address\n",
        "  )\n",
        "  select token_transfers.transaction_hash as transaction_hash, \n",
        "    token_transfers.log_index as log_index, \n",
        "    external_accounts.Tx_Date as Tx_Date,\n",
        "    authorizing_transactions.block_number as authorizing_block_number\n",
        "  from `bigquery-public-data.ethereum_blockchain.token_transfers` as token_transfers\n",
        "  join external_accounts on external_accounts.address = token_transfers.from_address\n",
        "  left join authorizing_transactions\n",
        "    on authorizing_transactions.from_address =  token_transfers.from_address\n",
        "    and authorizing_transactions.to_address = token_transfers.token_address\n",
        "    and authorizing_transactions.block_number <= token_transfers.block_number\n",
        "  where  token_transfers.from_address != '0x0000000000000000000000000000000000000000'\n",
        ")\n",
        "select Tx_Date, count(*) as spam_count\n",
        "from transfers_and_authorizing_transactions\n",
        "where authorizing_block_number is null\n",
        "GROUP BY Tx_Date\n",
        "ORDER BY Tx_Date'''\n",
        "query_job = client.query(query_spam_date_count)\n",
        "iterator = query_job.result(timeout=None)\n",
        "rows = list(iterator)\n",
        "\n",
        "df_spam_date_count = pd.DataFrame(data=[list(x.values()) for x in rows], columns=list(rows[0].keys()))\n",
        "print(df_spam_date_count.head(5))"
      ],
      "execution_count": 0,
      "outputs": [
        {
          "output_type": "stream",
          "text": [
            "      Tx_Date  spam_count\n",
            "0  2015-08-07          22\n",
            "1  2015-08-08          28\n",
            "2  2015-08-09          15\n",
            "3  2015-08-10        1134\n",
            "4  2015-08-11        1140\n"
          ],
          "name": "stdout"
        }
      ]
    },
    {
      "metadata": {
        "id": "izDBie5v0QY9",
        "colab_type": "code",
        "outputId": "377f7c94-ea0a-4468-93ba-a1b3fc10699a",
        "colab": {
          "base_uri": "https://localhost:8080/",
          "height": 647
        }
      },
      "cell_type": "code",
      "source": [
        "query_hashrate = \"\"\" WITH Tx_Data AS (SELECT\n",
        "  DATE(timestamp) as Tx_Date,\n",
        "  COUNT(number) as Block_Count,\n",
        "  AVG(difficulty)/POWER(10,9) as Difficulty,\n",
        "  86400/COUNT(number) as AVG_TIME,\n",
        "  (AVG(difficulty)/(86400/COUNT(number))/POWER(10,9)) as NetHashRate\n",
        "FROM\n",
        "  `bigquery-public-data.ethereum_blockchain.blocks`\n",
        "WHERE\n",
        "  DATE(timestamp) > '2015-08-06'\n",
        "GROUP BY\n",
        "  DATE(timestamp))\n",
        " select * from Tx_Data\n",
        " ORDER BY Tx_Data.Tx_Date \"\"\"\n",
        "query_job = client.query(query_hashrate)\n",
        "iterator = query_job.result(timeout=None)\n",
        "rows = list(iterator)\n",
        "\n",
        "df_hashrate = pd.DataFrame(data=[list(x.values()) for x in rows], columns=list(rows[0].keys()))\n",
        "print(df_hashrate.head(5))\n",
        "data_hashrate = [go.Bar(x= df_hashrate.Tx_Date, y=df_hashrate.NetHashRate)]\n",
        "py.iplot(data_hashrate, layout=layout, filename='basic-scatter')"
      ],
      "execution_count": 0,
      "outputs": [
        {
          "output_type": "stream",
          "text": [
            "      Tx_Date  Block_Count   Difficulty   AVG_TIME  NetHashRate\n",
            "0  2015-08-07         5189  1470.838651  16.650607    88.335437\n",
            "1  2015-08-08         5256  1586.123529  16.438356    96.489181\n",
            "2  2015-08-09         5123  1709.479787  16.865118   101.361863\n",
            "3  2015-08-10         5255  1837.695763  16.441484   111.771889\n",
            "4  2015-08-11         5280  2036.390798  16.363636   124.446104\n"
          ],
          "name": "stdout"
        },
        {
          "output_type": "execute_result",
          "data": {
            "text/html": [
              "<iframe id=\"igraph\" scrolling=\"no\" style=\"border:none;\" seamless=\"seamless\" src=\"https://plot.ly/~sandeep.panigrahy7/2.embed\" height=\"525px\" width=\"100%\"></iframe>"
            ],
            "text/plain": [
              "<plotly.tools.PlotlyDisplay object>"
            ]
          },
          "metadata": {
            "tags": []
          },
          "execution_count": 61
        }
      ]
    },
    {
      "metadata": {
        "id": "KL4x_L_wh7oY",
        "colab_type": "text"
      },
      "cell_type": "markdown",
      "source": [
        "Merge all dataframes"
      ]
    },
    {
      "metadata": {
        "id": "qY58kyLIkdsR",
        "colab_type": "code",
        "outputId": "3dbffff9-4040-49ff-c74b-77b742fef071",
        "colab": {
          "base_uri": "https://localhost:8080/",
          "height": 168
        }
      },
      "cell_type": "code",
      "source": [
        "df_temp = df_spam_date_count.sort_values(['Tx_Date'])\n",
        "len(df_temp)\n",
        "df_hashrate = pd.merge(df_hashrate,df_temp, how='inner', on='Tx_Date')\n",
        "df_hashrate = pd.merge(df_hashrate,df_sum, how='inner', on='Tx_Date')\n",
        "df_hashrate = pd.merge(df_hashrate,df_supply, how='inner', on='Tx_Date')\n",
        "list(df_hashrate)"
      ],
      "execution_count": 0,
      "outputs": [
        {
          "output_type": "execute_result",
          "data": {
            "text/plain": [
              "['Tx_Date',\n",
              " 'Block_Count',\n",
              " 'Difficulty',\n",
              " 'AVG_TIME',\n",
              " 'NetHashRate',\n",
              " 'spam_count',\n",
              " 'sum_tx_ether',\n",
              " 'avg_tx_gas_cost',\n",
              " 'supply']"
            ]
          },
          "metadata": {
            "tags": []
          },
          "execution_count": 62
        }
      ]
    },
    {
      "metadata": {
        "id": "TMxk7vUJQDQ9",
        "colab_type": "text"
      },
      "cell_type": "markdown",
      "source": [
        "### Data Preparation"
      ]
    },
    {
      "metadata": {
        "id": "V6D-QS9-iZf8",
        "colab_type": "text"
      },
      "cell_type": "markdown",
      "source": [
        "Get Historical Ethereum daily Price "
      ]
    },
    {
      "metadata": {
        "id": "g0mp0Oj3IjeQ",
        "colab_type": "code",
        "colab": {}
      },
      "cell_type": "code",
      "source": [
        "import json \n",
        "import requests \n",
        "from datetime import datetime as utod\n",
        "import datetime\n",
        "date1 = datetime.datetime(2017,4,1,0,0).timestamp()\n",
        "url ='https://min-api.cryptocompare.com/data/histoday?fsym=ETH&tsym=USD&allData=true'\n",
        "request = requests.get(url).json()\n",
        "data = request['Data']\n",
        "for i in data:\n",
        "    i['time'] = utod.fromtimestamp(i['time']).strftime('%Y-%m-%d')"
      ],
      "execution_count": 0,
      "outputs": []
    },
    {
      "metadata": {
        "id": "-P8q2NPoio-q",
        "colab_type": "text"
      },
      "cell_type": "markdown",
      "source": [
        "Sort by date and merge with dataframe"
      ]
    },
    {
      "metadata": {
        "id": "1NQvvPY1QSNR",
        "colab_type": "code",
        "outputId": "479bcdee-fa1a-4ba4-a4c2-ee768e7f9e17",
        "colab": {
          "base_uri": "https://localhost:8080/",
          "height": 235
        }
      },
      "cell_type": "code",
      "source": [
        "temp_val = []\n",
        "for i in data:\n",
        "  temp_val.append(i['close'])\n",
        "temp_val.pop()\n",
        "#temp_val.pop() #uncomment when error\n",
        "#print(len(temp_val))\n",
        "#print(df_hashrate['Tx_Date'].count())\n",
        "#print(df_hashrate['Tx_Date'])\n",
        "#print(temp_val)\n",
        "df_hashrate['price'] = temp_val\n",
        "print(df_hashrate.head(5))"
      ],
      "execution_count": 0,
      "outputs": [
        {
          "output_type": "stream",
          "text": [
            "      Tx_Date  Block_Count   Difficulty   AVG_TIME  NetHashRate  spam_count  \\\n",
            "0  2015-08-07         5189  1470.838651  16.650607    88.335437          22   \n",
            "1  2015-08-08         5256  1586.123529  16.438356    96.489181          28   \n",
            "2  2015-08-09         5123  1709.479787  16.865118   101.361863          15   \n",
            "3  2015-08-10         5255  1837.695763  16.441484   111.771889        1134   \n",
            "4  2015-08-11         5280  2036.390798  16.363636   124.446104        1140   \n",
            "\n",
            "   sum_tx_ether  avg_tx_gas_cost        supply  price  \n",
            "0  2.008723e+06         0.012115   27437.65625   3.00  \n",
            "1  1.358322e+07         0.029071   55381.09375   1.20  \n",
            "2  1.165455e+06         0.010648   82559.37500   1.20  \n",
            "3  1.670911e+06         0.018447  110376.71875   1.20  \n",
            "4  1.485732e+06         0.002147  138404.53125   0.99  \n"
          ],
          "name": "stdout"
        }
      ]
    },
    {
      "metadata": {
        "id": "X-jSL9r_R0dN",
        "colab_type": "code",
        "colab": {}
      },
      "cell_type": "code",
      "source": [
        "df_hashrate1 = df_hashrate.copy()"
      ],
      "execution_count": 0,
      "outputs": []
    },
    {
      "metadata": {
        "id": "WYXg2RZki8sh",
        "colab_type": "text"
      },
      "cell_type": "markdown",
      "source": [
        "Get list and details of all ICO"
      ]
    },
    {
      "metadata": {
        "id": "MtkCadCaOh82",
        "colab_type": "code",
        "colab": {}
      },
      "cell_type": "code",
      "source": [
        "import requests\n",
        "import json\n",
        "import os\n",
        "import pandas as pd\n",
        "\n",
        "url = 'https://api.icowatchlist.com/public/v1/finished'\n",
        "\n",
        "#print(url)\n",
        "\n",
        "response = requests.get(url)\n",
        "\n",
        "# could write this to a file\n",
        "parsed = json.loads(response.text)\n",
        "\n",
        "new_json = json.dumps(parsed[\"ico\"][\"finished\"])\n",
        "df_ico = pd.read_json(new_json)\n",
        "df_ico =df_ico.filter(items=['name','all_time_roi','coin_symbol','end_time','start_time','price_usd'])"
      ],
      "execution_count": 0,
      "outputs": []
    },
    {
      "metadata": {
        "id": "c0UEu1d-EgvU",
        "colab_type": "code",
        "colab": {}
      },
      "cell_type": "code",
      "source": [
        "df_ico = df_ico[df_ico.all_time_roi != 'NA']\n",
        "df_ico = df_ico[df_ico.price_usd != 'NA']\n",
        "df_ico.all_time_roi = df_ico.all_time_roi.apply(lambda x: x.split('.')[0]).replace(',', '', regex=True).apply(lambda x: int(x))\n",
        "df_ico.end_time = df_ico.end_time.apply(lambda x: x.date())\n",
        "df_ico.start_time = df_ico.start_time.apply(lambda x: x.date())\n",
        "df_ico = df_ico[df_ico.start_time >= min(df_hashrate.Tx_Date)]"
      ],
      "execution_count": 0,
      "outputs": []
    },
    {
      "metadata": {
        "id": "436WdKX8jLF3",
        "colab_type": "text"
      },
      "cell_type": "markdown",
      "source": [
        "Group all ICOs by date"
      ]
    },
    {
      "metadata": {
        "id": "Zescg9G6SW8-",
        "colab_type": "code",
        "colab": {}
      },
      "cell_type": "code",
      "source": [
        "date_list ={}\n",
        "daterange = pd.date_range(min(df_hashrate.Tx_Date), max(df_hashrate.Tx_Date))\n",
        "for single_date in daterange:\n",
        "  date_list[single_date.date()] = []\n",
        "for index, row in df_ico.iterrows():\n",
        "  daterange = pd.date_range(row[4], row[3])\n",
        "  for single_date in daterange:\n",
        "      date_list[single_date.date()].append(row[0])\n",
        " "
      ],
      "execution_count": 0,
      "outputs": []
    },
    {
      "metadata": {
        "id": "S4DURSDQSNvb",
        "colab_type": "code",
        "outputId": "64c53a34-13df-43a4-ca06-69c48e734bdd",
        "colab": {
          "base_uri": "https://localhost:8080/",
          "height": 54
        }
      },
      "cell_type": "code",
      "source": [
        "print(date_list)"
      ],
      "execution_count": 0,
      "outputs": [
        {
          "output_type": "stream",
          "text": [
            "{datetime.date(2015, 8, 7): [], datetime.date(2015, 8, 8): [], datetime.date(2015, 8, 9): [], datetime.date(2015, 8, 10): [], datetime.date(2015, 8, 11): [], datetime.date(2015, 8, 12): [], datetime.date(2015, 8, 13): [], datetime.date(2015, 8, 14): [], datetime.date(2015, 8, 15): [], datetime.date(2015, 8, 16): [], datetime.date(2015, 8, 17): ['Augur'], datetime.date(2015, 8, 18): ['Augur'], datetime.date(2015, 8, 19): ['Augur'], datetime.date(2015, 8, 20): ['Augur'], datetime.date(2015, 8, 21): ['Augur'], datetime.date(2015, 8, 22): ['Augur'], datetime.date(2015, 8, 23): ['Augur'], datetime.date(2015, 8, 24): ['Augur'], datetime.date(2015, 8, 25): ['Augur'], datetime.date(2015, 8, 26): ['Augur'], datetime.date(2015, 8, 27): ['Augur'], datetime.date(2015, 8, 28): ['Augur'], datetime.date(2015, 8, 29): ['Augur'], datetime.date(2015, 8, 30): ['Augur'], datetime.date(2015, 8, 31): ['Augur'], datetime.date(2015, 9, 1): ['Augur'], datetime.date(2015, 9, 2): ['Augur'], datetime.date(2015, 9, 3): ['Augur'], datetime.date(2015, 9, 4): ['Augur'], datetime.date(2015, 9, 5): ['Augur'], datetime.date(2015, 9, 6): ['Augur'], datetime.date(2015, 9, 7): ['Augur'], datetime.date(2015, 9, 8): ['Augur'], datetime.date(2015, 9, 9): ['Augur'], datetime.date(2015, 9, 10): ['Augur'], datetime.date(2015, 9, 11): ['Augur'], datetime.date(2015, 9, 12): ['Augur'], datetime.date(2015, 9, 13): ['Augur'], datetime.date(2015, 9, 14): ['Augur'], datetime.date(2015, 9, 15): ['Augur'], datetime.date(2015, 9, 16): ['Augur'], datetime.date(2015, 9, 17): ['Augur'], datetime.date(2015, 9, 18): ['Augur'], datetime.date(2015, 9, 19): ['Augur'], datetime.date(2015, 9, 20): ['Augur'], datetime.date(2015, 9, 21): ['Augur'], datetime.date(2015, 9, 22): ['Augur'], datetime.date(2015, 9, 23): ['Augur'], datetime.date(2015, 9, 24): ['Augur'], datetime.date(2015, 9, 25): ['Augur'], datetime.date(2015, 9, 26): ['Augur'], datetime.date(2015, 9, 27): ['Augur'], datetime.date(2015, 9, 28): ['Augur'], datetime.date(2015, 9, 29): ['Augur'], datetime.date(2015, 9, 30): ['Augur'], datetime.date(2015, 10, 1): ['Augur'], datetime.date(2015, 10, 2): [], datetime.date(2015, 10, 3): [], datetime.date(2015, 10, 4): [], datetime.date(2015, 10, 5): [], datetime.date(2015, 10, 6): [], datetime.date(2015, 10, 7): [], datetime.date(2015, 10, 8): [], datetime.date(2015, 10, 9): [], datetime.date(2015, 10, 10): [], datetime.date(2015, 10, 11): [], datetime.date(2015, 10, 12): [], datetime.date(2015, 10, 13): [], datetime.date(2015, 10, 14): [], datetime.date(2015, 10, 15): [], datetime.date(2015, 10, 16): [], datetime.date(2015, 10, 17): [], datetime.date(2015, 10, 18): [], datetime.date(2015, 10, 19): [], datetime.date(2015, 10, 20): [], datetime.date(2015, 10, 21): [], datetime.date(2015, 10, 22): [], datetime.date(2015, 10, 23): [], datetime.date(2015, 10, 24): [], datetime.date(2015, 10, 25): [], datetime.date(2015, 10, 26): [], datetime.date(2015, 10, 27): [], datetime.date(2015, 10, 28): [], datetime.date(2015, 10, 29): [], datetime.date(2015, 10, 30): [], datetime.date(2015, 10, 31): [], datetime.date(2015, 11, 1): [], datetime.date(2015, 11, 2): [], datetime.date(2015, 11, 3): [], datetime.date(2015, 11, 4): [], datetime.date(2015, 11, 5): [], datetime.date(2015, 11, 6): [], datetime.date(2015, 11, 7): [], datetime.date(2015, 11, 8): [], datetime.date(2015, 11, 9): [], datetime.date(2015, 11, 10): [], datetime.date(2015, 11, 11): [], datetime.date(2015, 11, 12): [], datetime.date(2015, 11, 13): [], datetime.date(2015, 11, 14): [], datetime.date(2015, 11, 15): [], datetime.date(2015, 11, 16): [], datetime.date(2015, 11, 17): [], datetime.date(2015, 11, 18): [], datetime.date(2015, 11, 19): [], datetime.date(2015, 11, 20): [], datetime.date(2015, 11, 21): [], datetime.date(2015, 11, 22): [], datetime.date(2015, 11, 23): [], datetime.date(2015, 11, 24): [], datetime.date(2015, 11, 25): [], datetime.date(2015, 11, 26): [], datetime.date(2015, 11, 27): [], datetime.date(2015, 11, 28): [], datetime.date(2015, 11, 29): [], datetime.date(2015, 11, 30): [], datetime.date(2015, 12, 1): [], datetime.date(2015, 12, 2): [], datetime.date(2015, 12, 3): [], datetime.date(2015, 12, 4): [], datetime.date(2015, 12, 5): [], datetime.date(2015, 12, 6): [], datetime.date(2015, 12, 7): [], datetime.date(2015, 12, 8): [], datetime.date(2015, 12, 9): [], datetime.date(2015, 12, 10): [], datetime.date(2015, 12, 11): [], datetime.date(2015, 12, 12): [], datetime.date(2015, 12, 13): [], datetime.date(2015, 12, 14): [], datetime.date(2015, 12, 15): [], datetime.date(2015, 12, 16): [], datetime.date(2015, 12, 17): [], datetime.date(2015, 12, 18): [], datetime.date(2015, 12, 19): [], datetime.date(2015, 12, 20): [], datetime.date(2015, 12, 21): [], datetime.date(2015, 12, 22): [], datetime.date(2015, 12, 23): [], datetime.date(2015, 12, 24): [], datetime.date(2015, 12, 25): [], datetime.date(2015, 12, 26): [], datetime.date(2015, 12, 27): [], datetime.date(2015, 12, 28): [], datetime.date(2015, 12, 29): [], datetime.date(2015, 12, 30): [], datetime.date(2015, 12, 31): [], datetime.date(2016, 1, 1): [], datetime.date(2016, 1, 2): [], datetime.date(2016, 1, 3): [], datetime.date(2016, 1, 4): [], datetime.date(2016, 1, 5): [], datetime.date(2016, 1, 6): [], datetime.date(2016, 1, 7): [], datetime.date(2016, 1, 8): [], datetime.date(2016, 1, 9): [], datetime.date(2016, 1, 10): [], datetime.date(2016, 1, 11): [], datetime.date(2016, 1, 12): [], datetime.date(2016, 1, 13): [], datetime.date(2016, 1, 14): [], datetime.date(2016, 1, 15): [], datetime.date(2016, 1, 16): [], datetime.date(2016, 1, 17): [], datetime.date(2016, 1, 18): [], datetime.date(2016, 1, 19): [], datetime.date(2016, 1, 20): [], datetime.date(2016, 1, 21): [], datetime.date(2016, 1, 22): [], datetime.date(2016, 1, 23): [], datetime.date(2016, 1, 24): [], datetime.date(2016, 1, 25): [], datetime.date(2016, 1, 26): [], datetime.date(2016, 1, 27): [], datetime.date(2016, 1, 28): [], datetime.date(2016, 1, 29): [], datetime.date(2016, 1, 30): [], datetime.date(2016, 1, 31): [], datetime.date(2016, 2, 1): [], datetime.date(2016, 2, 2): [], datetime.date(2016, 2, 3): [], datetime.date(2016, 2, 4): [], datetime.date(2016, 2, 5): [], datetime.date(2016, 2, 6): [], datetime.date(2016, 2, 7): [], datetime.date(2016, 2, 8): [], datetime.date(2016, 2, 9): [], datetime.date(2016, 2, 10): [], datetime.date(2016, 2, 11): [], datetime.date(2016, 2, 12): [], datetime.date(2016, 2, 13): [], datetime.date(2016, 2, 14): [], datetime.date(2016, 2, 15): [], datetime.date(2016, 2, 16): [], datetime.date(2016, 2, 17): [], datetime.date(2016, 2, 18): [], datetime.date(2016, 2, 19): [], datetime.date(2016, 2, 20): [], datetime.date(2016, 2, 21): [], datetime.date(2016, 2, 22): ['Lisk'], datetime.date(2016, 2, 23): ['Lisk'], datetime.date(2016, 2, 24): ['Lisk'], datetime.date(2016, 2, 25): ['Lisk'], datetime.date(2016, 2, 26): ['Lisk'], datetime.date(2016, 2, 27): ['Lisk'], datetime.date(2016, 2, 28): ['Lisk'], datetime.date(2016, 2, 29): ['Lisk'], datetime.date(2016, 3, 1): ['Lisk'], datetime.date(2016, 3, 2): ['Lisk'], datetime.date(2016, 3, 3): ['Lisk'], datetime.date(2016, 3, 4): ['Lisk'], datetime.date(2016, 3, 5): ['Lisk'], datetime.date(2016, 3, 6): ['Lisk'], datetime.date(2016, 3, 7): ['Lisk'], datetime.date(2016, 3, 8): ['Lisk'], datetime.date(2016, 3, 9): ['Lisk'], datetime.date(2016, 3, 10): ['Lisk'], datetime.date(2016, 3, 11): ['Lisk'], datetime.date(2016, 3, 12): ['Lisk'], datetime.date(2016, 3, 13): ['Lisk'], datetime.date(2016, 3, 14): ['Lisk'], datetime.date(2016, 3, 15): ['Lisk'], datetime.date(2016, 3, 16): ['Lisk'], datetime.date(2016, 3, 17): ['Lisk'], datetime.date(2016, 3, 18): ['Lisk'], datetime.date(2016, 3, 19): ['Lisk'], datetime.date(2016, 3, 20): ['Lisk'], datetime.date(2016, 3, 21): ['Lisk'], datetime.date(2016, 3, 22): [], datetime.date(2016, 3, 23): [], datetime.date(2016, 3, 24): [], datetime.date(2016, 3, 25): [], datetime.date(2016, 3, 26): [], datetime.date(2016, 3, 27): [], datetime.date(2016, 3, 28): [], datetime.date(2016, 3, 29): [], datetime.date(2016, 3, 30): ['Digix DAO'], datetime.date(2016, 3, 31): [], datetime.date(2016, 4, 1): [], datetime.date(2016, 4, 2): [], datetime.date(2016, 4, 3): [], datetime.date(2016, 4, 4): [], datetime.date(2016, 4, 5): [], datetime.date(2016, 4, 6): [], datetime.date(2016, 4, 7): [], datetime.date(2016, 4, 8): [], datetime.date(2016, 4, 9): [], datetime.date(2016, 4, 10): [], datetime.date(2016, 4, 11): [], datetime.date(2016, 4, 12): ['Waves'], datetime.date(2016, 4, 13): ['Waves'], datetime.date(2016, 4, 14): ['Waves'], datetime.date(2016, 4, 15): ['Waves'], datetime.date(2016, 4, 16): ['Waves'], datetime.date(2016, 4, 17): ['Waves'], datetime.date(2016, 4, 18): ['Waves'], datetime.date(2016, 4, 19): ['Waves'], datetime.date(2016, 4, 20): ['Waves'], datetime.date(2016, 4, 21): ['Waves'], datetime.date(2016, 4, 22): ['Waves'], datetime.date(2016, 4, 23): ['Waves'], datetime.date(2016, 4, 24): ['Waves'], datetime.date(2016, 4, 25): ['Waves'], datetime.date(2016, 4, 26): ['Waves'], datetime.date(2016, 4, 27): ['Waves'], datetime.date(2016, 4, 28): ['Waves'], datetime.date(2016, 4, 29): ['Waves'], datetime.date(2016, 4, 30): ['Waves'], datetime.date(2016, 5, 1): ['Waves'], datetime.date(2016, 5, 2): ['Waves'], datetime.date(2016, 5, 3): ['Waves'], datetime.date(2016, 5, 4): ['Waves'], datetime.date(2016, 5, 5): ['Waves'], datetime.date(2016, 5, 6): ['Waves'], datetime.date(2016, 5, 7): ['Waves'], datetime.date(2016, 5, 8): ['Waves'], datetime.date(2016, 5, 9): ['Waves'], datetime.date(2016, 5, 10): ['Waves'], datetime.date(2016, 5, 11): ['Waves'], datetime.date(2016, 5, 12): ['Waves'], datetime.date(2016, 5, 13): ['Waves'], datetime.date(2016, 5, 14): ['Waves'], datetime.date(2016, 5, 15): ['Waves'], datetime.date(2016, 5, 16): ['Waves'], datetime.date(2016, 5, 17): ['Waves'], datetime.date(2016, 5, 18): ['Waves'], datetime.date(2016, 5, 19): ['Waves'], datetime.date(2016, 5, 20): ['Waves'], datetime.date(2016, 5, 21): ['Waves'], datetime.date(2016, 5, 22): ['Waves'], datetime.date(2016, 5, 23): ['Waves'], datetime.date(2016, 5, 24): ['Waves'], datetime.date(2016, 5, 25): ['Waves'], datetime.date(2016, 5, 26): ['Waves'], datetime.date(2016, 5, 27): ['Waves'], datetime.date(2016, 5, 28): ['Waves'], datetime.date(2016, 5, 29): ['Waves'], datetime.date(2016, 5, 30): ['Waves'], datetime.date(2016, 5, 31): ['Waves'], datetime.date(2016, 6, 1): [], datetime.date(2016, 6, 2): [], datetime.date(2016, 6, 3): [], datetime.date(2016, 6, 4): [], datetime.date(2016, 6, 5): [], datetime.date(2016, 6, 6): [], datetime.date(2016, 6, 7): [], datetime.date(2016, 6, 8): [], datetime.date(2016, 6, 9): [], datetime.date(2016, 6, 10): [], datetime.date(2016, 6, 11): [], datetime.date(2016, 6, 12): [], datetime.date(2016, 6, 13): [], datetime.date(2016, 6, 14): [], datetime.date(2016, 6, 15): [], datetime.date(2016, 6, 16): [], datetime.date(2016, 6, 17): [], datetime.date(2016, 6, 18): [], datetime.date(2016, 6, 19): [], datetime.date(2016, 6, 20): [], datetime.date(2016, 6, 21): ['Stratis'], datetime.date(2016, 6, 22): ['Stratis'], datetime.date(2016, 6, 23): ['Stratis'], datetime.date(2016, 6, 24): ['Stratis'], datetime.date(2016, 6, 25): ['Stratis'], datetime.date(2016, 6, 26): ['Stratis'], datetime.date(2016, 6, 27): ['Stratis'], datetime.date(2016, 6, 28): ['Stratis'], datetime.date(2016, 6, 29): ['Stratis'], datetime.date(2016, 6, 30): ['Stratis'], datetime.date(2016, 7, 1): ['Stratis'], datetime.date(2016, 7, 2): ['Stratis'], datetime.date(2016, 7, 3): ['Stratis'], datetime.date(2016, 7, 4): ['Stratis'], datetime.date(2016, 7, 5): ['Stratis'], datetime.date(2016, 7, 6): ['Stratis'], datetime.date(2016, 7, 7): ['Stratis'], datetime.date(2016, 7, 8): ['Stratis'], datetime.date(2016, 7, 9): ['Stratis'], datetime.date(2016, 7, 10): ['Stratis'], datetime.date(2016, 7, 11): ['Stratis'], datetime.date(2016, 7, 12): ['Stratis'], datetime.date(2016, 7, 13): ['Stratis'], datetime.date(2016, 7, 14): ['Stratis'], datetime.date(2016, 7, 15): ['Stratis'], datetime.date(2016, 7, 16): ['Stratis', 'Tao Network'], datetime.date(2016, 7, 17): ['Stratis', 'Tao Network'], datetime.date(2016, 7, 18): ['Stratis', 'Tao Network'], datetime.date(2016, 7, 19): ['Stratis', 'Tao Network'], datetime.date(2016, 7, 20): ['Stratis', 'Tao Network'], datetime.date(2016, 7, 21): ['Stratis', 'Tao Network'], datetime.date(2016, 7, 22): ['Stratis', 'Tao Network'], datetime.date(2016, 7, 23): ['Stratis', 'Tao Network'], datetime.date(2016, 7, 24): ['Stratis', 'Tao Network'], datetime.date(2016, 7, 25): ['Stratis', 'Tao Network'], datetime.date(2016, 7, 26): ['Stratis', 'Tao Network'], datetime.date(2016, 7, 27): ['Tao Network'], datetime.date(2016, 7, 28): ['Tao Network'], datetime.date(2016, 7, 29): ['Tao Network'], datetime.date(2016, 7, 30): ['Tao Network'], datetime.date(2016, 7, 31): ['Tao Network'], datetime.date(2016, 8, 1): ['Tao Network'], datetime.date(2016, 8, 2): ['Tao Network'], datetime.date(2016, 8, 3): ['Tao Network'], datetime.date(2016, 8, 4): ['Tao Network'], datetime.date(2016, 8, 5): ['Tao Network'], datetime.date(2016, 8, 6): ['Tao Network'], datetime.date(2016, 8, 7): ['Tao Network'], datetime.date(2016, 8, 8): ['Tao Network', 'NEO'], datetime.date(2016, 8, 9): ['Tao Network', 'NEO'], datetime.date(2016, 8, 10): ['Tao Network', 'NEO'], datetime.date(2016, 8, 11): ['Tao Network', 'NEO'], datetime.date(2016, 8, 12): ['Tao Network', 'NEO'], datetime.date(2016, 8, 13): ['Tao Network', 'NEO'], datetime.date(2016, 8, 14): ['Tao Network', 'NEO'], datetime.date(2016, 8, 15): ['Tao Network', 'NEO', 'BlockPay'], datetime.date(2016, 8, 16): ['NEO', 'BlockPay'], datetime.date(2016, 8, 17): ['NEO', 'BlockPay'], datetime.date(2016, 8, 18): ['NEO', 'BlockPay'], datetime.date(2016, 8, 19): ['NEO', 'BlockPay'], datetime.date(2016, 8, 20): ['NEO', 'BlockPay'], datetime.date(2016, 8, 21): ['NEO', 'BlockPay'], datetime.date(2016, 8, 22): ['NEO', 'BlockPay'], datetime.date(2016, 8, 23): ['NEO', 'BlockPay'], datetime.date(2016, 8, 24): ['NEO', 'BlockPay'], datetime.date(2016, 8, 25): ['NEO', 'BlockPay', 'Iconomi'], datetime.date(2016, 8, 26): ['NEO', 'BlockPay', 'Iconomi'], datetime.date(2016, 8, 27): ['NEO', 'BlockPay', 'Iconomi'], datetime.date(2016, 8, 28): ['NEO', 'BlockPay', 'Iconomi'], datetime.date(2016, 8, 29): ['NEO', 'BlockPay', 'Iconomi'], datetime.date(2016, 8, 30): ['NEO', 'BlockPay', 'Iconomi'], datetime.date(2016, 8, 31): ['NEO', 'BlockPay', 'Iconomi'], datetime.date(2016, 9, 1): ['Incent', 'NEO', 'BlockPay', 'Iconomi'], datetime.date(2016, 9, 2): ['NEO', 'BlockPay', 'Iconomi'], datetime.date(2016, 9, 3): ['NEO', 'BlockPay', 'Iconomi'], datetime.date(2016, 9, 4): ['NEO', 'BlockPay', 'Iconomi'], datetime.date(2016, 9, 5): ['NEO', 'BlockPay', 'Iconomi'], datetime.date(2016, 9, 6): ['NEO', 'BlockPay', 'Iconomi'], datetime.date(2016, 9, 7): ['NEO', 'BlockPay', 'Iconomi'], datetime.date(2016, 9, 8): ['BlockPay', 'Iconomi'], datetime.date(2016, 9, 9): ['BlockPay', 'Iconomi'], datetime.date(2016, 9, 10): ['BlockPay', 'Iconomi'], datetime.date(2016, 9, 11): ['BlockPay', 'Iconomi'], datetime.date(2016, 9, 12): ['BlockPay', 'Iconomi'], datetime.date(2016, 9, 13): ['BlockPay', 'Iconomi'], datetime.date(2016, 9, 14): ['BlockPay', 'Iconomi'], datetime.date(2016, 9, 15): ['BlockPay', 'Iconomi'], datetime.date(2016, 9, 16): ['Iconomi'], datetime.date(2016, 9, 17): ['Iconomi'], datetime.date(2016, 9, 18): ['Iconomi', 'Synereo'], datetime.date(2016, 9, 19): ['Iconomi', 'Synereo'], datetime.date(2016, 9, 20): ['Iconomi', 'Synereo'], datetime.date(2016, 9, 21): ['Iconomi', 'Synereo'], datetime.date(2016, 9, 22): ['Iconomi', 'Synereo'], datetime.date(2016, 9, 23): ['Iconomi', 'Synereo'], datetime.date(2016, 9, 24): ['Iconomi', 'Synereo'], datetime.date(2016, 9, 25): ['FirstBlood', 'Iconomi', 'Synereo'], datetime.date(2016, 9, 26): ['FirstBlood', 'Iconomi', 'Synereo'], datetime.date(2016, 9, 27): ['Synereo'], datetime.date(2016, 9, 28): ['Synereo'], datetime.date(2016, 9, 29): ['Synereo'], datetime.date(2016, 9, 30): ['Synereo'], datetime.date(2016, 10, 1): ['Synereo'], datetime.date(2016, 10, 2): ['Synereo'], datetime.date(2016, 10, 3): ['Synereo'], datetime.date(2016, 10, 4): ['Synereo'], datetime.date(2016, 10, 5): ['Synereo', 'SingularDTV'], datetime.date(2016, 10, 6): ['Synereo', 'SingularDTV'], datetime.date(2016, 10, 7): ['Synereo', 'SingularDTV'], datetime.date(2016, 10, 8): ['Synereo', 'SingularDTV'], datetime.date(2016, 10, 9): ['Lykke', 'Synereo', 'SingularDTV'], datetime.date(2016, 10, 10): ['Synereo', 'SingularDTV', 'Decent'], datetime.date(2016, 10, 11): ['Synereo', 'SingularDTV', 'Decent'], datetime.date(2016, 10, 12): ['Synereo', 'SingularDTV', 'Decent'], datetime.date(2016, 10, 13): ['Synereo', 'SingularDTV', 'Decent', 'Golem'], datetime.date(2016, 10, 14): ['Synereo', 'SingularDTV', 'Decent', 'Golem'], datetime.date(2016, 10, 15): ['Synereo', 'SingularDTV', 'Decent', 'Golem', 'Komodo'], datetime.date(2016, 10, 16): ['Synereo', 'SingularDTV', 'Decent', 'Golem', 'Komodo'], datetime.date(2016, 10, 17): ['Synereo', 'SingularDTV', 'Decent', 'Golem', 'Komodo'], datetime.date(2016, 10, 18): ['Synereo', 'SingularDTV', 'Decent', 'Golem', 'Komodo'], datetime.date(2016, 10, 19): ['SingularDTV', 'Decent', 'Golem', 'Komodo'], datetime.date(2016, 10, 20): ['SingularDTV', 'Decent', 'Golem', 'Komodo'], datetime.date(2016, 10, 21): ['SingularDTV', 'Decent', 'Golem', 'Komodo'], datetime.date(2016, 10, 22): ['SingularDTV', 'Decent', 'Golem', 'Komodo'], datetime.date(2016, 10, 23): ['SingularDTV', 'Decent', 'Golem', 'Komodo'], datetime.date(2016, 10, 24): ['SingularDTV', 'Decent', 'Golem', 'Komodo'], datetime.date(2016, 10, 25): ['SingularDTV', 'Decent', 'Golem', 'Komodo'], datetime.date(2016, 10, 26): ['SingularDTV', 'Decent', 'Golem', 'Komodo'], datetime.date(2016, 10, 27): ['SingularDTV', 'Decent', 'Golem', 'Komodo'], datetime.date(2016, 10, 28): ['SingularDTV', 'Decent', 'Golem', 'Komodo'], datetime.date(2016, 10, 29): ['SingularDTV', 'Decent', 'Golem', 'Komodo'], datetime.date(2016, 10, 30): ['Decent', 'Golem', 'Komodo'], datetime.date(2016, 10, 31): ['Decent', 'Golem', 'Komodo'], datetime.date(2016, 11, 1): ['Decent', 'Golem', 'Komodo'], datetime.date(2016, 11, 2): ['Decent', 'Golem', 'Komodo'], datetime.date(2016, 11, 3): ['Decent', 'Golem', 'Komodo'], datetime.date(2016, 11, 4): ['Decent', 'Golem', 'Komodo'], datetime.date(2016, 11, 5): ['Decent', 'Golem', 'Komodo'], datetime.date(2016, 11, 6): ['Decent', 'Golem', 'Komodo'], datetime.date(2016, 11, 7): ['Decent', 'Golem', 'Ark', 'Komodo'], datetime.date(2016, 11, 8): ['Decent', 'Golem', 'Ark', 'Komodo'], datetime.date(2016, 11, 9): ['Decent', 'Golem', 'Ark', 'Komodo'], datetime.date(2016, 11, 10): ['Decent', 'Golem', 'Ark', 'Komodo'], datetime.date(2016, 11, 11): ['Golem', 'Ark', 'Komodo'], datetime.date(2016, 11, 12): ['Golem', 'Ark', 'Komodo'], datetime.date(2016, 11, 13): ['Golem', 'Ark', 'Komodo'], datetime.date(2016, 11, 14): ['Ark', 'Komodo'], datetime.date(2016, 11, 15): ['Ark', 'Komodo'], datetime.date(2016, 11, 16): ['Ark', 'Komodo'], datetime.date(2016, 11, 17): ['Ark', 'Komodo'], datetime.date(2016, 11, 18): ['Ark', 'Komodo', 'Wings'], datetime.date(2016, 11, 19): ['Ark', 'Komodo', 'Wings'], datetime.date(2016, 11, 20): ['Ark', 'Komodo', 'Wings'], datetime.date(2016, 11, 21): ['Ark', 'Komodo', 'Wings'], datetime.date(2016, 11, 22): ['Ark', 'Komodo', 'Wings'], datetime.date(2016, 11, 23): ['Ark', 'Komodo', 'Wings'], datetime.date(2016, 11, 24): ['Ark', 'Komodo', 'Wings'], datetime.date(2016, 11, 25): ['Ark', 'Komodo', 'Wings'], datetime.date(2016, 11, 26): ['Ark', 'Komodo', 'Wings'], datetime.date(2016, 11, 27): ['Ark', 'Komodo', 'Wings'], datetime.date(2016, 11, 28): ['Ark', 'Komodo', 'Wings'], datetime.date(2016, 11, 29): ['Ark', 'Komodo', 'Wings'], datetime.date(2016, 11, 30): ['Ark', 'Komodo', 'Wings'], datetime.date(2016, 12, 1): ['Ark', 'Komodo', 'Wings'], datetime.date(2016, 12, 2): ['Ark', 'Komodo', 'Wings'], datetime.date(2016, 12, 3): ['Ark', 'Komodo', 'Wings'], datetime.date(2016, 12, 4): ['Ark', 'Komodo', 'Wings'], datetime.date(2016, 12, 5): ['Ark', 'Komodo', 'Wings'], datetime.date(2016, 12, 6): ['Ark', 'Komodo', 'Wings'], datetime.date(2016, 12, 7): ['Ark', 'Komodo', 'Wings'], datetime.date(2016, 12, 8): ['Ark', 'Komodo', 'Wings'], datetime.date(2016, 12, 9): ['Ark', 'Komodo', 'Wings'], datetime.date(2016, 12, 10): ['Ark', 'Komodo', 'Wings'], datetime.date(2016, 12, 11): ['Ark', 'Komodo', 'Wings'], datetime.date(2016, 12, 12): ['Ark', 'Komodo', 'Wings', 'Tokes'], datetime.date(2016, 12, 13): ['Komodo', 'Wings', 'Tokes'], datetime.date(2016, 12, 14): ['Komodo', 'Wings', 'Tokes'], datetime.date(2016, 12, 15): ['Komodo', 'Wings', 'Tokes', 'ChronoBank'], datetime.date(2016, 12, 16): ['Komodo', 'Wings', 'Tokes', 'ChronoBank'], datetime.date(2016, 12, 17): ['Wings', 'Tokes', 'ChronoBank'], datetime.date(2016, 12, 18): ['Wings', 'Tokes', 'ChronoBank'], datetime.date(2016, 12, 19): ['Wings', 'Tokes', 'ChronoBank'], datetime.date(2016, 12, 20): ['Wings', 'Tokes', 'ChronoBank'], datetime.date(2016, 12, 21): ['Wings', 'Tokes', 'ChronoBank'], datetime.date(2016, 12, 22): ['Wings', 'Tokes', 'ChronoBank'], datetime.date(2016, 12, 23): ['Wings', 'Tokes', 'ChronoBank'], datetime.date(2016, 12, 24): ['Wings', 'Tokes', 'ChronoBank'], datetime.date(2016, 12, 25): ['Wings', 'Tokes', 'ChronoBank'], datetime.date(2016, 12, 26): ['Wings', 'Tokes', 'ChronoBank'], datetime.date(2016, 12, 27): ['Wings', 'Tokes', 'ChronoBank'], datetime.date(2016, 12, 28): ['Wings', 'Tokes', 'ChronoBank'], datetime.date(2016, 12, 29): ['Wings', 'Tokes', 'ChronoBank'], datetime.date(2016, 12, 30): ['Wings', 'Tokes', 'ChronoBank'], datetime.date(2016, 12, 31): ['Wings', 'Tokes', 'ChronoBank'], datetime.date(2017, 1, 1): ['Wings', 'Tokes', 'ChronoBank'], datetime.date(2017, 1, 2): ['Wings', 'Tokes', 'ChronoBank'], datetime.date(2017, 1, 3): ['Wings', 'Tokes', 'ChronoBank'], datetime.date(2017, 1, 4): ['Wings', 'Tokes', 'ChronoBank'], datetime.date(2017, 1, 5): ['Wings', 'Tokes', 'ChronoBank'], datetime.date(2017, 1, 6): ['Wings', 'Tokes', 'ChronoBank'], datetime.date(2017, 1, 7): ['Tokes', 'ChronoBank'], datetime.date(2017, 1, 8): ['Tokes', 'ChronoBank'], datetime.date(2017, 1, 9): ['Tokes', 'ChronoBank'], datetime.date(2017, 1, 10): ['Tokes', 'ChronoBank'], datetime.date(2017, 1, 11): ['Tokes', 'ChronoBank'], datetime.date(2017, 1, 12): ['Tokes', 'ChronoBank'], datetime.date(2017, 1, 13): ['Tokes', 'ChronoBank'], datetime.date(2017, 1, 14): ['Tokes', 'ChronoBank'], datetime.date(2017, 1, 15): ['Tokes', 'ChronoBank'], datetime.date(2017, 1, 16): ['Tokes', 'ChronoBank'], datetime.date(2017, 1, 17): ['ChronoBank'], datetime.date(2017, 1, 18): ['ChronoBank'], datetime.date(2017, 1, 19): ['ChronoBank'], datetime.date(2017, 1, 20): ['ChronoBank'], datetime.date(2017, 1, 21): ['ChronoBank'], datetime.date(2017, 1, 22): ['ChronoBank'], datetime.date(2017, 1, 23): ['ChronoBank'], datetime.date(2017, 1, 24): ['ChronoBank'], datetime.date(2017, 1, 25): ['ChronoBank'], datetime.date(2017, 1, 26): ['ChronoBank'], datetime.date(2017, 1, 27): ['ChronoBank'], datetime.date(2017, 1, 28): ['ChronoBank'], datetime.date(2017, 1, 29): ['ChronoBank'], datetime.date(2017, 1, 30): ['ChronoBank'], datetime.date(2017, 1, 31): ['ChronoBank'], datetime.date(2017, 2, 1): ['ChronoBank'], datetime.date(2017, 2, 2): ['ChronoBank'], datetime.date(2017, 2, 3): ['ChronoBank'], datetime.date(2017, 2, 4): ['ChronoBank'], datetime.date(2017, 2, 5): ['ChronoBank'], datetime.date(2017, 2, 6): ['ChronoBank'], datetime.date(2017, 2, 7): ['ChronoBank'], datetime.date(2017, 2, 8): ['ChronoBank'], datetime.date(2017, 2, 9): ['ChronoBank'], datetime.date(2017, 2, 10): ['ChronoBank'], datetime.date(2017, 2, 11): ['ChronoBank'], datetime.date(2017, 2, 12): ['ChronoBank'], datetime.date(2017, 2, 13): ['ChronoBank'], datetime.date(2017, 2, 14): ['ChronoBank'], datetime.date(2017, 2, 15): ['ChronoBank'], datetime.date(2017, 2, 16): [], datetime.date(2017, 2, 17): [], datetime.date(2017, 2, 18): [], datetime.date(2017, 2, 19): [], datetime.date(2017, 2, 20): [], datetime.date(2017, 2, 21): [], datetime.date(2017, 2, 22): [], datetime.date(2017, 2, 23): [], datetime.date(2017, 2, 24): [], datetime.date(2017, 2, 25): [], datetime.date(2017, 2, 26): ['Peerplays'], datetime.date(2017, 2, 27): ['Peerplays'], datetime.date(2017, 2, 28): ['Edgeless', 'Peerplays'], datetime.date(2017, 3, 1): ['Edgeless', 'Peerplays'], datetime.date(2017, 3, 2): ['Edgeless', 'Peerplays'], datetime.date(2017, 3, 3): ['Edgeless', 'Peerplays'], datetime.date(2017, 3, 4): ['Edgeless', 'Peerplays'], datetime.date(2017, 3, 5): ['Edgeless', 'Peerplays'], datetime.date(2017, 3, 6): ['Edgeless', 'Peerplays'], datetime.date(2017, 3, 7): ['Edgeless', 'Peerplays'], datetime.date(2017, 3, 8): ['Edgeless', 'Peerplays'], datetime.date(2017, 3, 9): ['Edgeless', 'Peerplays'], datetime.date(2017, 3, 10): ['Edgeless', 'Peerplays'], datetime.date(2017, 3, 11): ['Edgeless', 'Peerplays'], datetime.date(2017, 3, 12): ['Qtum', 'Edgeless', 'Peerplays'], datetime.date(2017, 3, 13): ['Qtum', 'Edgeless', 'Peerplays'], datetime.date(2017, 3, 14): ['Qtum', 'Edgeless', 'Peerplays'], datetime.date(2017, 3, 15): ['Qtum', 'Edgeless', 'Peerplays'], datetime.date(2017, 3, 16): ['Qtum', 'Edgeless', 'Peerplays'], datetime.date(2017, 3, 17): ['Qtum', 'Edgeless', 'Peerplays'], datetime.date(2017, 3, 18): ['Edgeless', 'Peerplays'], datetime.date(2017, 3, 19): ['Edgeless', 'Peerplays'], datetime.date(2017, 3, 20): ['Edgeless', 'Peerplays'], datetime.date(2017, 3, 21): ['Edgeless', 'Peerplays'], datetime.date(2017, 3, 22): ['Peerplays'], datetime.date(2017, 3, 23): ['Peerplays'], datetime.date(2017, 3, 24): ['Peerplays'], datetime.date(2017, 3, 25): ['Peerplays'], datetime.date(2017, 3, 26): ['Peerplays'], datetime.date(2017, 3, 27): ['TaaS', 'Peerplays'], datetime.date(2017, 3, 28): ['TaaS', 'Peerplays'], datetime.date(2017, 3, 29): ['Lunyr', 'TaaS', 'Peerplays'], datetime.date(2017, 3, 30): ['Lunyr', 'TaaS', 'Peerplays'], datetime.date(2017, 3, 31): ['Lunyr', 'TaaS', 'Peerplays'], datetime.date(2017, 4, 1): ['Lunyr', 'TaaS', 'Peerplays'], datetime.date(2017, 4, 2): ['Lunyr', 'TaaS', 'Peerplays'], datetime.date(2017, 4, 3): ['Lunyr', 'TaaS', 'Peerplays'], datetime.date(2017, 4, 4): ['Lunyr', 'TaaS', 'Peerplays'], datetime.date(2017, 4, 5): ['Lunyr', 'TaaS', 'Peerplays'], datetime.date(2017, 4, 6): ['Humaniq', 'Lunyr', 'TaaS', 'Peerplays'], datetime.date(2017, 4, 7): ['Humaniq', 'Lunyr', 'TaaS', 'Peerplays'], datetime.date(2017, 4, 8): ['Humaniq', 'Lunyr', 'TaaS', 'Peerplays'], datetime.date(2017, 4, 9): ['Humaniq', 'Lunyr', 'TaaS', 'Peerplays'], datetime.date(2017, 4, 10): ['Humaniq', 'Lunyr', 'TaaS', 'Blockchain Capital', 'Peerplays'], datetime.date(2017, 4, 11): ['Humaniq', 'Lunyr', 'TaaS', 'Blockchain Capital', 'Peerplays'], datetime.date(2017, 4, 12): ['Humaniq', 'Lunyr', 'TaaS', 'Blockchain Capital', 'Peerplays'], datetime.date(2017, 4, 13): ['Humaniq', 'Lunyr', 'TaaS', 'Blockchain Capital', 'Peerplays'], datetime.date(2017, 4, 14): ['Humaniq', 'Lunyr', 'TaaS', 'Blockchain Capital', 'Peerplays'], datetime.date(2017, 4, 15): ['Humaniq', 'Lunyr', 'TaaS', 'Blockchain Capital', 'Ethbits', 'Peerplays'], datetime.date(2017, 4, 16): ['Humaniq', 'Lunyr', 'TaaS', 'Blockchain Capital', 'Ethbits', 'Peerplays'], datetime.date(2017, 4, 17): ['Humaniq', 'Lunyr', 'TaaS', 'Blockchain Capital', 'Ethbits', 'Peerplays'], datetime.date(2017, 4, 18): ['Humaniq', 'Lunyr', 'TaaS', 'Blockchain Capital', 'Ethbits', 'Peerplays'], datetime.date(2017, 4, 19): ['iEx.ec', 'Humaniq', 'Lunyr', 'TaaS', 'Blockchain Capital', 'Ethbits', 'Peerplays'], datetime.date(2017, 4, 20): ['Humaniq', 'Lunyr', 'TaaS', 'Blockchain Capital', 'Ethbits', 'Peerplays'], datetime.date(2017, 4, 21): ['Humaniq', 'Lunyr', 'TaaS', 'Blockchain Capital', 'Ethbits', 'Peerplays'], datetime.date(2017, 4, 22): ['Humaniq', 'Lunyr', 'TaaS', 'Blockchain Capital', 'Ethbits', 'Peerplays'], datetime.date(2017, 4, 23): ['Humaniq', 'Lunyr', 'TaaS', 'Blockchain Capital', 'Ethbits', 'Peerplays'], datetime.date(2017, 4, 24): ['EncryptoTel', 'Gnosis', 'Humaniq', 'Lunyr', 'TaaS', 'Blockchain Capital', 'Ethbits', 'Peerplays'], datetime.date(2017, 4, 25): ['MobileGo', 'Humaniq', 'Lunyr', 'TaaS', 'Blockchain Capital', 'Ethbits', 'Peerplays', 'Veritaseum'], datetime.date(2017, 4, 26): ['Humaniq', 'Lunyr', 'TaaS', 'Blockchain Capital', 'Ethbits', 'Peerplays', 'Veritaseum'], datetime.date(2017, 4, 27): ['Humaniq', 'Lunyr', 'TaaS', 'Blockchain Capital', 'Ethbits', 'Peerplays', 'Veritaseum'], datetime.date(2017, 4, 28): ['Blockchain Capital', 'Ethbits', 'Peerplays', 'Veritaseum'], datetime.date(2017, 4, 29): ['Blockchain Capital', 'Ethbits', 'Peerplays', 'Veritaseum'], datetime.date(2017, 4, 30): ['Blockchain Capital', 'Ethbits', 'Peerplays', 'Veritaseum'], datetime.date(2017, 5, 1): ['BlockPool', 'Blockchain Capital', 'Ethbits', 'Peerplays', 'Quantum RL ', 'Adelphoi', 'Veritaseum'], datetime.date(2017, 5, 2): ['TokenCard', 'Blockchain Capital', 'Ethbits', 'Peerplays', 'Quantum RL ', 'Adelphoi', 'Veritaseum'], datetime.date(2017, 5, 3): ['Blockchain Capital', 'Ethbits', 'Peerplays', 'Quantum RL ', 'Adelphoi', 'Veritaseum'], datetime.date(2017, 5, 4): ['Blockchain Capital', 'Ethbits', 'Peerplays', 'Quantum RL ', 'Adelphoi', 'Veritaseum'], datetime.date(2017, 5, 5): ['Blockchain Capital', 'Ethbits', 'Peerplays', 'Quantum RL ', 'Adelphoi', 'Veritaseum'], datetime.date(2017, 5, 6): ['Blockchain Capital', 'Ethbits', 'Peerplays', 'Quantum RL ', 'Adelphoi', 'Veritaseum', 'Voise'], datetime.date(2017, 5, 7): ['Blockchain Capital', 'Ethbits', 'Peerplays', 'Quantum RL ', 'Adelphoi', 'Veritaseum', 'Voise'], datetime.date(2017, 5, 8): ['Blockchain Capital', 'Ethbits', 'Peerplays', 'Quantum RL ', 'Adelphoi', 'Veritaseum', 'Voise'], datetime.date(2017, 5, 9): ['EcoBit', 'Blockchain Capital', 'Ethbits', 'Peerplays', 'Quantum RL ', 'Adelphoi', 'Veritaseum', 'Voise'], datetime.date(2017, 5, 10): ['BOScoin', 'Blockchain Capital', 'Ethbits', 'Peerplays', 'Quantum RL ', 'Adelphoi', 'Veritaseum', 'Voise'], datetime.date(2017, 5, 11): ['ZrCoin', 'Ethbits', 'Peerplays', 'Quantum RL ', 'Adelphoi', 'Veritaseum', 'Voise'], datetime.date(2017, 5, 12): ['Aeternity', 'Ethbits', 'Peerplays', 'Quantum RL ', 'Adelphoi', 'Veritaseum', 'Voise'], datetime.date(2017, 5, 13): ['Ethbits', 'Peerplays', 'Quantum RL ', 'Adelphoi', 'Veritaseum', 'Voise'], datetime.date(2017, 5, 14): ['Peerplays', 'Quantum RL ', 'Adelphoi', 'Veritaseum', 'Voise'], datetime.date(2017, 5, 15): ['Quantum RL ', 'Adelphoi', 'Veritaseum', 'Voise', 'Minexcoin'], datetime.date(2017, 5, 16): ['Quantum RL ', 'Adelphoi', 'Veritaseum', 'Voise', 'Minexcoin'], datetime.date(2017, 5, 17): ['Aragon', 'Quantum RL ', 'Adelphoi', 'Veritaseum', 'Voise', 'Minexcoin'], datetime.date(2017, 5, 18): ['Monaco', 'Quantum RL ', 'Adelphoi', 'Veritaseum', 'Voise', 'Minexcoin'], datetime.date(2017, 5, 19): ['Storj', 'Quantum RL ', 'Adelphoi', 'Veritaseum', 'Voise', 'Minexcoin'], datetime.date(2017, 5, 20): ['Crypviser', 'Quantum RL ', 'Adelphoi', 'Veritaseum', 'Voise', 'Minexcoin'], datetime.date(2017, 5, 21): ['Quantum RL ', 'Adelphoi', 'Veritaseum', 'Voise', 'Minexcoin'], datetime.date(2017, 5, 22): ['Quantum RL ', 'Adelphoi', 'Veritaseum', 'Voise', 'Minexcoin'], datetime.date(2017, 5, 23): ['Quantum RL ', 'Adelphoi', 'Veritaseum', 'Voise', 'Minexcoin'], datetime.date(2017, 5, 24): ['Quantum RL ', 'Adelphoi', 'Veritaseum', 'Voise', 'Minexcoin'], datetime.date(2017, 5, 25): ['CryptoPing', 'Adelphoi', 'Veritaseum', 'Voise', 'Minexcoin'], datetime.date(2017, 5, 26): ['Veritaseum', 'Voise', 'Minexcoin'], datetime.date(2017, 5, 27): ['Voise', 'Minexcoin'], datetime.date(2017, 5, 28): ['Voise', 'Minexcoin'], datetime.date(2017, 5, 29): ['Voise', 'Minexcoin'], datetime.date(2017, 5, 30): ['Mysterium', 'Voise', 'Minexcoin'], datetime.date(2017, 5, 31): ['Patientory', 'Basic Attention Token', 'Voise', 'Minexcoin'], datetime.date(2017, 6, 1): ['Wagerr', 'NVO', 'Sphre', 'Dcorp', 'Voise', 'Minexcoin'], datetime.date(2017, 6, 2): ['GigaWatt', 'Voise', 'Minexcoin'], datetime.date(2017, 6, 3): ['Voise', 'Minexcoin'], datetime.date(2017, 6, 4): ['Voise', 'Minexcoin'], datetime.date(2017, 6, 5): ['Voise', 'Minexcoin'], datetime.date(2017, 6, 6): ['Voise', 'Minexcoin'], datetime.date(2017, 6, 7): ['Omise GO', 'Minexcoin'], datetime.date(2017, 6, 8): ['Minexcoin'], datetime.date(2017, 6, 9): ['Minexcoin', 'Metal'], datetime.date(2017, 6, 10): ['Minexcoin', 'Metal'], datetime.date(2017, 6, 11): ['Minexcoin', 'Metal'], datetime.date(2017, 6, 12): ['Bancor', 'Minexcoin', 'Metal'], datetime.date(2017, 6, 13): ['Katalyse', 'Minexcoin', 'Metal'], datetime.date(2017, 6, 14): ['Minexcoin', 'Compcoin', 'Metal'], datetime.date(2017, 6, 15): ['SONM', 'Metal'], datetime.date(2017, 6, 16): ['Metal'], datetime.date(2017, 6, 17): ['Status', 'Metal'], datetime.date(2017, 6, 18): ['Metal', 'Corion Platform'], datetime.date(2017, 6, 19): ['Metal', 'Corion Platform'], datetime.date(2017, 6, 20): ['Metal', 'Corion Platform'], datetime.date(2017, 6, 21): ['Civic', 'Metal', 'Corion Platform'], datetime.date(2017, 6, 22): ['Metal', 'Corion Platform'], datetime.date(2017, 6, 23): ['Metal', 'Corion Platform'], datetime.date(2017, 6, 24): ['Metal', 'Populous', 'TenX', 'Corion Platform'], datetime.date(2017, 6, 25): ['Metal', 'Populous', 'TenX', 'Corion Platform'], datetime.date(2017, 6, 26): ['Primalbase', 'AdToken', 'Metal', 'Populous', 'TenX', 'Corion Platform'], datetime.date(2017, 6, 27): ['MyBit', 'Metal', 'Populous', 'TenX', 'Corion Platform'], datetime.date(2017, 6, 28): ['Bitquence', 'Metal', 'Populous', 'TenX', 'Corion Platform'], datetime.date(2017, 6, 29): ['Metal', 'Populous', 'TenX', 'Corion Platform'], datetime.date(2017, 6, 30): ['Santiment', 'Metal', 'Populous', 'TenX', 'Corion Platform'], datetime.date(2017, 7, 1): ['Metal', 'Tezos', 'Populous', 'TenX', 'Corion Platform'], datetime.date(2017, 7, 2): ['Metal', 'Tezos', 'Populous', 'TenX', 'Corion Platform'], datetime.date(2017, 7, 3): ['Metal', 'Tezos', 'Populous', 'TenX', 'Hive', 'Corion Platform'], datetime.date(2017, 7, 4): ['Metal', 'Tezos', 'Populous', 'TenX', 'Starta', 'Hive', 'Corion Platform'], datetime.date(2017, 7, 5): ['Metal', 'Tezos', 'Populous', 'TenX', 'Starta', 'Hive', 'Corion Platform'], datetime.date(2017, 7, 6): ['Metal', 'Tezos', 'Populous', 'TenX', 'Starta', 'Hive', 'Corion Platform'], datetime.date(2017, 7, 7): ['Metal', 'Tezos', 'Populous', 'TenX', 'Starta', 'Hive', 'Corion Platform'], datetime.date(2017, 7, 8): ['Metal', 'Tezos', 'Populous', 'TenX', 'Starta', 'Hive', 'Corion Platform'], datetime.date(2017, 7, 9): ['Tezos', 'Populous', 'TenX', 'Starta', 'Hive', 'Corion Platform'], datetime.date(2017, 7, 10): ['Tezos', 'Populous', 'TenX', 'Starta', 'Hive', 'Corion Platform'], datetime.date(2017, 7, 11): ['InsureX', 'Tezos', 'Populous', 'TenX', 'Starta', 'Suretly', 'Hive', 'Corion Platform'], datetime.date(2017, 7, 12): ['Tezos', 'Populous', 'TenX', 'Dent', 'Starta', 'Suretly', 'Hive', 'Corion Platform', 'ATB Coin'], datetime.date(2017, 7, 13): ['Tezos', 'Populous', 'TenX', 'Dent', 'Starta', 'Suretly', 'Hive', 'Corion Platform', 'ATB Coin'], datetime.date(2017, 7, 14): ['Populous', 'TenX', 'Dent', 'Starta', 'Suretly', 'Hive', 'Corion Platform', 'ATB Coin'], datetime.date(2017, 7, 15): ['Populous', 'TenX', 'Dent', 'Starta', 'Suretly', 'Hive', 'Corion Platform', 'ATB Coin'], datetime.date(2017, 7, 16): ['Populous', 'TenX', 'Dent', 'Starta', 'Suretly', 'Hive', 'Corion Platform', 'ATB Coin'], datetime.date(2017, 7, 17): ['Populous', 'TenX', 'Dent', 'Starta', 'Suretly', 'Hive', 'CoinDash', 'Corion Platform', 'ATB Coin'], datetime.date(2017, 7, 18): ['Populous', 'TenX', 'Dent', 'district0x', 'Starta', 'Suretly', 'Hive', 'CoinDash', 'Corion Platform', 'ATB Coin'], datetime.date(2017, 7, 19): ['Populous', 'TenX', 'Dent', 'district0x', 'Starta', 'Suretly', 'Hive', 'CoinDash', 'Corion Platform', 'ATB Coin'], datetime.date(2017, 7, 20): ['Populous', 'TenX', 'Dent', 'district0x', 'Starta', 'Suretly', 'Hive', 'CoinDash', 'Corion Platform', 'ATB Coin'], datetime.date(2017, 7, 21): ['Populous', 'TenX', 'Dent', 'district0x', 'Starta', 'Suretly', 'Hive', 'CoinDash', 'Corion Platform', 'ATB Coin'], datetime.date(2017, 7, 22): ['Populous', 'TenX', 'Dent', 'district0x', 'Starta', 'Suretly', 'Hive', 'CoinDash', 'Corion Platform', 'ATB Coin'], datetime.date(2017, 7, 23): ['Populous', 'TenX', 'Dent', 'district0x', 'Starta', 'Suretly', 'Hive', 'CoinDash', 'Corion Platform', 'ATB Coin'], datetime.date(2017, 7, 24): ['Populous', 'TenX', 'Dent', 'district0x', 'Starta', 'Suretly', 'Hive', 'CoinDash', 'Corion Platform', 'ATB Coin'], datetime.date(2017, 7, 25): ['Dent', 'district0x', 'Starta', 'Suretly', 'Hive', 'CoinDash', 'Corion Platform', 'ATB Coin'], datetime.date(2017, 7, 26): ['Dent', 'district0x', 'Starta', 'Suretly', 'Hive', 'CoinDash', 'Corion Platform', 'ATB Coin'], datetime.date(2017, 7, 27): ['district0x', 'Starta', 'Suretly', 'Hive', 'CoinDash', 'Corion Platform', 'ATB Coin'], datetime.date(2017, 7, 28): ['district0x', 'Starta', 'Suretly', 'Hive', 'CoinDash', 'Corion Platform', 'ATB Coin'], datetime.date(2017, 7, 29): ['district0x', 'Starta', 'Suretly', 'Hive', 'CoinDash', 'Corion Platform', 'ATB Coin'], datetime.date(2017, 7, 30): ['district0x', 'Starta', 'Suretly', 'Hive', 'CoinDash', 'Corion Platform', 'Bowhead', 'ATB Coin'], datetime.date(2017, 7, 31): ['district0x', 'Starta', 'Suretly', 'Hive', 'CoinDash', 'Corion Platform', 'Bowhead', 'ATB Coin'], datetime.date(2017, 8, 1): ['district0x', 'Starta', 'Suretly', 'Hive', 'CoinDash', 'Obsidian', 'Corion Platform', 'Bowhead', 'ATB Coin'], datetime.date(2017, 8, 2): ['Stox', 'Starta', 'Suretly', 'Hive', 'CoinDash', 'Obsidian', 'Corion Platform', 'Bowhead', 'ATB Coin', 'BitJob'], datetime.date(2017, 8, 3): ['Starta', 'Suretly', 'Hive', 'CoinDash', 'Obsidian', 'Corion Platform', 'Bowhead', 'ATB Coin', 'BitJob'], datetime.date(2017, 8, 4): ['Suretly', 'Hive', 'CoinDash', 'Obsidian', 'Corion Platform', 'Bowhead', 'ATB Coin', 'BitJob'], datetime.date(2017, 8, 5): ['Suretly', 'Hive', 'CoinDash', 'Obsidian', 'Corion Platform', 'Bowhead', 'ATB Coin', 'BitJob'], datetime.date(2017, 8, 6): ['Suretly', 'Hive', 'CoinDash', 'Obsidian', 'Corion Platform', 'Bowhead', 'ATB Coin', 'BitJob'], datetime.date(2017, 8, 7): ['Suretly', 'Hive', 'CoinDash', 'Obsidian', 'Corion Platform', 'Bowhead', 'ATB Coin', 'BitJob'], datetime.date(2017, 8, 8): ['Suretly', 'Hive', 'CoinDash', 'Obsidian', 'Corion Platform', 'Bowhead', 'ATB Coin', 'BitJob'], datetime.date(2017, 8, 9): ['Suretly', 'Hive', 'CoinDash', 'Obsidian', 'Corion Platform', 'Bowhead', 'ATB Coin', 'BitJob'], datetime.date(2017, 8, 10): ['Suretly', 'Hive', 'CoinDash', 'Rivet', 'Obsidian', 'Corion Platform', 'Bowhead', 'ATB Coin', 'FileCoin', 'BitJob'], datetime.date(2017, 8, 11): ['Suretly', 'Hive', 'CoinDash', 'Rivet', 'Obsidian', 'Corion Platform', 'Bowhead', 'ATB Coin', 'FileCoin', 'BitJob'], datetime.date(2017, 8, 12): ['Hive', 'CoinDash', 'Rivet', 'Obsidian', 'Corion Platform', 'Bowhead', 'ATB Coin', 'FileCoin', 'BitJob'], datetime.date(2017, 8, 13): ['Hive', 'CoinDash', 'Rivet', 'Obsidian', 'Corion Platform', 'Bowhead', 'ATB Coin', 'FileCoin', 'BitJob'], datetime.date(2017, 8, 14): ['Hive', 'CoinDash', 'Rivet', 'Obsidian', 'Corion Platform', 'Bowhead', 'ATB Coin', 'FileCoin', 'BitJob'], datetime.date(2017, 8, 15): ['CoinDash', '0x', 'Rivet', 'Obsidian', 'Corion Platform', 'Bowhead', 'ATB Coin', 'FileCoin', 'BitDice', 'ICOBox', 'BitJob'], datetime.date(2017, 8, 16): ['CoinDash', '0x', 'Rivet', 'Obsidian', 'Corion Platform', 'Bowhead', 'ATB Coin', 'FileCoin', 'BitDice', 'ICOBox', 'BitJob'], datetime.date(2017, 8, 17): ['CoinDash', '0x', 'Rivet', 'Obsidian', 'Corion Platform', 'Bowhead', 'ATB Coin', 'FileCoin', 'BitDice', 'ICOBox', 'BitJob'], datetime.date(2017, 8, 18): ['Decentraland', '0x', 'Rivet', 'Obsidian', 'Corion Platform', 'Bowhead', 'ATB Coin', 'FileCoin', 'BitDice', 'ICOBox', 'BitJob'], datetime.date(2017, 8, 19): ['0x', 'Rivet', 'Obsidian', 'Corion Platform', 'Bowhead', 'ATB Coin', 'FileCoin', 'BitDice', 'ICOBox', 'BitJob'], datetime.date(2017, 8, 20): ['0x', 'Rivet', 'Obsidian', 'Corion Platform', 'iMPERIUM', 'Bowhead', 'ATB Coin', 'FileCoin', 'BitDice', 'ICOBox', 'Umbrella Coin', 'BitJob'], datetime.date(2017, 8, 21): ['Rivet', 'Obsidian', 'Corion Platform', 'iMPERIUM', 'Bowhead', 'ATB Coin', 'FileCoin', 'BitDice', 'ICOBox', 'Umbrella Coin', 'BitJob'], datetime.date(2017, 8, 22): ['Rivet', 'Obsidian', 'Corion Platform', 'iMPERIUM', 'Bowhead', 'ATB Coin', 'FileCoin', 'BitDice', 'ICOBox', 'Umbrella Coin', 'BitJob'], datetime.date(2017, 8, 23): ['Rivet', 'Obsidian', 'Corion Platform', 'iMPERIUM', 'Bowhead', 'ATB Coin', 'FileCoin', 'BitDice', 'ICOBox', 'Umbrella Coin', 'BitJob'], datetime.date(2017, 8, 24): ['Rivet', 'Obsidian', 'Corion Platform', 'iMPERIUM', 'Bowhead', 'ATB Coin', 'FileCoin', 'Hubii Network', 'BitDice', 'ICOBox', 'Umbrella Coin', 'BitJob'], datetime.date(2017, 8, 25): ['Obsidian', 'Corion Platform', 'iMPERIUM', 'Bowhead', 'ATB Coin', 'FileCoin', 'Hubii Network', 'BitDice', 'ICOBox', 'Umbrella Coin', 'BitJob'], datetime.date(2017, 8, 26): ['Obsidian', 'Corion Platform', 'iMPERIUM', 'Bowhead', 'ATB Coin', 'FileCoin', 'Hubii Network', 'BitDice', 'ICOBox', 'Umbrella Coin', 'BitJob'], datetime.date(2017, 8, 27): ['Corion Platform', 'iMPERIUM', 'Bowhead', 'ATB Coin', 'FileCoin', 'Hubii Network', 'BitDice', 'ICOBox', 'Umbrella Coin', 'BitJob'], datetime.date(2017, 8, 28): ['Bowhead', 'ATB Coin', 'FileCoin', 'Hubii Network', 'Ahoolee', 'BitDice', 'ICOBox', 'Umbrella Coin', 'BitJob'], datetime.date(2017, 8, 29): ['Bowhead', 'ATB Coin', 'FileCoin', 'Hubii Network', 'Ahoolee', 'BitDice', 'ICOBox', 'KICKICO', 'Umbrella Coin', 'BitJob'], datetime.date(2017, 8, 30): ['Bowhead', 'ATB Coin', 'FileCoin', 'Hubii Network', 'Ahoolee', 'BitDice', 'ICOBox', 'KICKICO', 'Umbrella Coin', 'Litra Coin', 'BitJob'], datetime.date(2017, 8, 31): ['Bowhead', 'ATB Coin', 'Tron', 'FileCoin', 'Hubii Network', 'Ahoolee', 'BitDice', 'ICOBox', 'KICKICO', 'Umbrella Coin', 'Litra Coin', 'BitJob'], datetime.date(2017, 9, 1): ['Tron', 'FileCoin', 'Hubii Network', 'Ahoolee', 'BitDice', 'ICOBox', 'KICKICO', 'Umbrella Coin', 'jNet1', 'Litra Coin', 'BitJob'], datetime.date(2017, 9, 2): ['Tron', 'FileCoin', 'Hubii Network', 'Ahoolee', 'BitDice', 'ICOBox', 'KICKICO', 'Umbrella Coin', 'jNet1', 'Litra Coin', 'BitJob'], datetime.date(2017, 9, 3): ['FileCoin', 'Hubii Network', 'Ahoolee', 'BitDice', 'ICOBox', 'KICKICO', 'Umbrella Coin', 'jNet1', 'Litra Coin', 'BitJob'], datetime.date(2017, 9, 4): ['FileCoin', 'Hubii Network', 'Ahoolee', 'BitDice', 'ICOBox', 'KICKICO', 'Umbrella Coin', 'jNet1', 'Litra Coin', 'BitJob'], datetime.date(2017, 9, 5): ['FileCoin', 'Hubii Network', 'Ahoolee', 'Wild Crypto', 'BitDice', 'ICOBox', 'KICKICO', 'Umbrella Coin', 'jNet1', 'Litra Coin', 'BitJob'], datetime.date(2017, 9, 6): ['FileCoin', 'Hubii Network', 'Ahoolee', 'Wild Crypto', 'Aventus', 'BitDice', 'ICOBox', 'KICKICO', 'Umbrella Coin', 'jNet1', 'Litra Coin', 'BitJob'], datetime.date(2017, 9, 7): ['FileCoin', 'Hubii Network', 'Ahoolee', 'Wild Crypto', 'Aventus', 'BitDice', 'ICOBox', 'KICKICO', 'Umbrella Coin', 'jNet1', 'Litra Coin', 'BitJob', 'ATLANT'], datetime.date(2017, 9, 8): ['Ahoolee', 'Wild Crypto', 'Aventus', 'BitDice', 'ICOBox', 'KICKICO', 'Umbrella Coin', 'jNet1', 'Litra Coin', 'Power Ledger', 'BitJob', 'ATLANT', 'U.CASH'], datetime.date(2017, 9, 9): ['Ahoolee', 'Wild Crypto', 'Aventus', 'BitDice', 'ICOBox', 'KICKICO', 'Umbrella Coin', 'jNet1', 'Litra Coin', 'Planes Cloud', 'Power Ledger', 'BitJob', 'ATLANT', 'U.CASH'], datetime.date(2017, 9, 10): ['Ahoolee', 'Wild Crypto', 'Aventus', 'BitDice', 'ICOBox', 'KICKICO', 'Umbrella Coin', 'jNet1', 'Litra Coin', 'Planes Cloud', 'Power Ledger', 'BitJob', 'ATLANT', 'U.CASH'], datetime.date(2017, 9, 11): ['Ahoolee', 'Wild Crypto', 'Aventus', 'BitDice', 'ICOBox', 'KICKICO', 'Umbrella Coin', 'jNet1', 'Litra Coin', 'Planes Cloud', 'Power Ledger', 'BitJob', 'ATLANT', 'U.CASH'], datetime.date(2017, 9, 12): ['Aventus', 'BitDice', 'ICOBox', 'KICKICO', 'Umbrella Coin', 'Kin', 'jNet1', 'Litra Coin', 'Planes Cloud', 'Power Ledger', 'DomRaider', 'BitJob', 'ATLANT', 'U.CASH'], datetime.date(2017, 9, 13): ['Aventus', 'BitDice', 'ICOBox', 'KICKICO', 'Umbrella Coin', 'Kin', 'jNet1', 'Litra Coin', 'Planes Cloud', 'Power Ledger', 'DomRaider', 'BitJob', 'EventChain', 'COBINHOOD', 'ATLANT', 'U.CASH'], datetime.date(2017, 9, 14): ['BitDice', 'ICOBox', 'KICKICO', 'Umbrella Coin', 'Kin', 'jNet1', 'Litra Coin', 'Planes Cloud', 'Power Ledger', 'DomRaider', 'BitJob', 'EventChain', 'COBINHOOD', 'Tokenlab', 'ATLANT', 'U.CASH'], datetime.date(2017, 9, 15): ['BitDice', 'ICOBox', 'KICKICO', 'Umbrella Coin', 'Kin', 'jNet1', 'Litra Coin', 'Planes Cloud', 'Power Ledger', 'DomRaider', 'BitJob', 'EventChain', 'HEDGE TOKEN', 'Paragon Coin', 'DLS Academy', 'COBINHOOD', 'Tokenlab', 'BannerCoin', 'ATLANT', 'Genesis Vision', 'U.CASH'], datetime.date(2017, 9, 16): ['KICKICO', 'Umbrella Coin', 'Kin', 'jNet1', 'Litra Coin', 'Planes Cloud', 'Power Ledger', 'DomRaider', 'BitJob', 'EventChain', 'HEDGE TOKEN', 'Paragon Coin', 'DLS Academy', 'COBINHOOD', 'Tokenlab', 'BannerCoin', 'ATLANT', 'Genesis Vision', 'U.CASH'], datetime.date(2017, 9, 17): ['Umbrella Coin', 'Kin', 'jNet1', 'Litra Coin', 'Planes Cloud', 'Power Ledger', 'DomRaider', 'BitJob', 'EventChain', 'HEDGE TOKEN', 'Paragon Coin', 'DLS Academy', 'Ethbet', 'COBINHOOD', 'Tokenlab', 'BannerCoin', 'ATLANT', 'Genesis Vision', 'U.CASH'], datetime.date(2017, 9, 18): ['Kin', 'jNet1', 'Litra Coin', 'Planes Cloud', 'Power Ledger', 'DomRaider', 'BitJob', 'EventChain', 'HEDGE TOKEN', 'Paragon Coin', 'DLS Academy', 'Ethbet', 'COBINHOOD', 'Tokenlab', 'BannerCoin', 'ATLANT', 'Genesis Vision', 'U.CASH'], datetime.date(2017, 9, 19): ['Kin', 'jNet1', 'Litra Coin', 'Planes Cloud', 'Power Ledger', 'DomRaider', 'BitJob', 'EventChain', 'HEDGE TOKEN', 'Paragon Coin', 'DLS Academy', 'Ethbet', 'AirToken', 'COBINHOOD', 'Tokenlab', 'Aeron', 'BannerCoin', 'ATLANT', 'Genesis Vision', 'U.CASH'], datetime.date(2017, 9, 20): ['Kin', 'jNet1', 'Litra Coin', 'Planes Cloud', 'Power Ledger', 'DomRaider', 'BitJob', 'EventChain', 'HEDGE TOKEN', 'Paragon Coin', 'DLS Academy', 'Ethbet', 'AirToken', 'COBINHOOD', 'Tokenlab', 'Aeron', 'BannerCoin', 'ATLANT', 'Genesis Vision', 'U.CASH'], datetime.date(2017, 9, 21): ['Kin', 'jNet1', 'Litra Coin', 'Planes Cloud', 'Power Ledger', 'DomRaider', 'BitJob', 'EventChain', 'HEDGE TOKEN', 'Paragon Coin', 'DLS Academy', 'Ethbet', 'AirToken', 'COBINHOOD', 'Tokenlab', 'Aeron', 'BannerCoin', 'ATLANT', 'Genesis Vision', 'U.CASH'], datetime.date(2017, 9, 22): ['Kin', 'jNet1', 'Litra Coin', 'Planes Cloud', 'Power Ledger', 'DomRaider', 'BitJob', 'EventChain', 'HEDGE TOKEN', 'Paragon Coin', 'DLS Academy', 'Ethbet', 'AirToken', 'COBINHOOD', 'Tokenlab', 'Aeron', 'BannerCoin', 'ATLANT', 'Genesis Vision', 'U.CASH'], datetime.date(2017, 9, 23): ['Kin', 'jNet1', 'Litra Coin', 'Planes Cloud', 'Power Ledger', 'DomRaider', 'BitJob', 'EventChain', 'HEDGE TOKEN', 'Paragon Coin', 'DLS Academy', 'Ethbet', 'AirToken', 'COBINHOOD', 'Tokenlab', 'Aeron', 'BannerCoin', 'ATLANT', 'Genesis Vision', 'U.CASH'], datetime.date(2017, 9, 24): ['Kin', 'jNet1', 'Litra Coin', 'Planes Cloud', 'Power Ledger', 'DomRaider', 'BitJob', 'EventChain', 'HEDGE TOKEN', 'Paragon Coin', 'DLS Academy', 'Ethbet', 'AirToken', 'COBINHOOD', 'Bookira', 'Tokenlab', 'Aeron', 'BannerCoin', 'ATLANT', 'Genesis Vision', 'U.CASH'], datetime.date(2017, 9, 25): ['Kin', 'jNet1', 'Litra Coin', 'Planes Cloud', 'Power Ledger', 'DomRaider', 'BitJob', 'EventChain', 'HEDGE TOKEN', 'Paragon Coin', 'DLS Academy', 'Ethbet', 'AirToken', 'COBINHOOD', 'Bookira', 'Tokenlab', 'Cryptopay', 'Aeron', 'BannerCoin', 'ATLANT', 'Genesis Vision', 'U.CASH'], datetime.date(2017, 9, 26): ['Kin', 'jNet1', 'Litra Coin', 'Planes Cloud', 'Power Ledger', 'DomRaider', 'BitJob', 'EventChain', 'HEDGE TOKEN', 'Paragon Coin', 'DLS Academy', 'Ethbet', 'AirToken', 'COBINHOOD', 'Bookira', 'Soma', 'Tokenlab', 'Cryptopay', 'Aeron', 'BannerCoin', 'ATLANT', 'Genesis Vision', 'U.CASH'], datetime.date(2017, 9, 27): ['jNet1', 'Litra Coin', 'Planes Cloud', 'Power Ledger', 'DomRaider', 'BitJob', 'EventChain', 'HEDGE TOKEN', 'Paragon Coin', 'DLS Academy', 'Ethbet', 'AirToken', 'COBINHOOD', 'Bookira', 'Soma', 'Tokenlab', 'Cryptopay', 'Aeron', 'BannerCoin', 'ATLANT', 'Genesis Vision', 'U.CASH'], datetime.date(2017, 9, 28): ['jNet1', 'Litra Coin', 'Planes Cloud', 'Power Ledger', 'DomRaider', 'BitJob', 'EventChain', 'HEDGE TOKEN', 'Paragon Coin', 'DLS Academy', 'Ethbet', 'AirToken', 'Flyp.me', 'COBINHOOD', 'Bookira', 'Astronaut', 'Soma', 'Tokenlab', 'Cryptopay', 'Aeron', 'BannerCoin', 'ATLANT', 'Genesis Vision', 'U.CASH'], datetime.date(2017, 9, 29): ['jNet1', 'Litra Coin', 'Planes Cloud', 'Power Ledger', 'DomRaider', 'BitJob', 'EventChain', 'HEDGE TOKEN', 'Paragon Coin', 'DLS Academy', 'Ethbet', 'AirToken', 'Flyp.me', 'COBINHOOD', 'Bookira', 'Astronaut', 'Soma', 'Tokenlab', 'Cryptopay', 'Aeron', 'BannerCoin', 'ATLANT', 'Genesis Vision', 'U.CASH'], datetime.date(2017, 9, 30): ['jNet1', 'Litra Coin', 'Planes Cloud', 'Power Ledger', 'DomRaider', 'BitJob', 'EventChain', 'HEDGE TOKEN', 'Paragon Coin', 'DLS Academy', 'Ethbet', 'AirToken', 'Flyp.me', 'COBINHOOD', 'Bookira', 'Astronaut', 'Soma', 'Tokenlab', 'Cryptopay', 'Aeron', 'BannerCoin', 'ATLANT', 'Genesis Vision', 'U.CASH'], datetime.date(2017, 10, 1): ['Planes Cloud', 'Power Ledger', 'DomRaider', 'BitJob', 'EventChain', 'HEDGE TOKEN', 'Paragon Coin', 'DLS Academy', 'Ethbet', 'AirToken', 'Flyp.me', 'COBINHOOD', 'Bookira', 'Astronaut', 'Soma', 'Tokenlab', 'Cryptopay', 'Aeron', 'BannerCoin', 'ATLANT', 'Genesis Vision', 'U.CASH'], datetime.date(2017, 10, 2): ['Power Ledger', 'DomRaider', 'BitJob', 'EventChain', 'HEDGE TOKEN', 'Paragon Coin', 'DLS Academy', 'Ethbet', 'AirToken', 'Flyp.me', 'COBINHOOD', 'Bookira', 'Astronaut', 'ClearPoll', 'Soma', 'Tokenlab', 'Cryptopay', 'Aeron', 'BannerCoin', 'ATLANT', 'Ethino', 'Genesis Vision', 'U.CASH'], datetime.date(2017, 10, 3): ['Power Ledger', 'DomRaider', 'BitJob', 'EventChain', 'HEDGE TOKEN', 'Paragon Coin', 'DLS Academy', 'Ethbet', 'AirToken', 'Flyp.me', 'COBINHOOD', 'Bookira', 'Astronaut', 'ClearPoll', 'Soma', 'Tokenlab', 'Cryptopay', 'Aeron', 'BannerCoin', 'ATLANT', 'Ethino', 'Genesis Vision', 'U.CASH'], datetime.date(2017, 10, 4): ['Power Ledger', 'DomRaider', 'BitJob', 'EventChain', 'HEDGE TOKEN', 'Paragon Coin', 'DLS Academy', 'Ethbet', 'Eidoo', 'AirToken', 'Flyp.me', 'COBINHOOD', 'Bookira', 'Astronaut', 'ClearPoll', 'Soma', 'Tokenlab', 'Cryptopay', 'Aeron', 'BannerCoin', 'ATLANT', 'Ethino', 'Genesis Vision', 'U.CASH'], datetime.date(2017, 10, 5): ['Power Ledger', 'DomRaider', 'BitJob', 'EventChain', 'HEDGE TOKEN', 'Paragon Coin', 'DLS Academy', 'Ethbet', 'Eidoo', 'AirToken', 'Flyp.me', 'COBINHOOD', 'Bookira', 'Astronaut', 'ClearPoll', 'Soma', 'Tokenlab', 'Cryptopay', 'Aeron', 'BannerCoin', 'ATLANT', 'Ethino', 'Genesis Vision', 'U.CASH'], datetime.date(2017, 10, 6): ['Power Ledger', 'DomRaider', 'BitJob', 'EventChain', 'HEDGE TOKEN', 'Paragon Coin', 'DLS Academy', 'Ethbet', 'Eidoo', 'AirToken', 'Flyp.me', 'COBINHOOD', 'Bookira', 'Astronaut', 'ClearPoll', 'Soma', 'Tokenlab', 'Cryptopay', 'Aeron', 'BannerCoin', 'ATLANT', 'Ethino', 'Genesis Vision', 'U.CASH'], datetime.date(2017, 10, 7): ['DomRaider', 'BitJob', 'EventChain', 'HEDGE TOKEN', 'Paragon Coin', 'DLS Academy', 'Ethbet', 'Eidoo', 'AirToken', 'Flyp.me', 'COBINHOOD', 'Bookira', 'Astronaut', 'ClearPoll', 'Soma', 'Tokenlab', 'Cryptopay', 'Aeron', 'BannerCoin', 'ATLANT', 'Ethino', 'Genesis Vision', 'U.CASH'], datetime.date(2017, 10, 8): ['DomRaider', 'BitJob', 'EventChain', 'HEDGE TOKEN', 'Paragon Coin', 'DLS Academy', 'Ethbet', 'Eidoo', 'AirToken', 'Flyp.me', 'COBINHOOD', 'Bookira', 'Astronaut', 'ClearPoll', 'Soma', 'Tokenlab', 'Cryptopay', 'Aeron', 'BannerCoin', 'ATLANT', 'Ethino', 'Genesis Vision', 'U.CASH'], datetime.date(2017, 10, 9): ['DomRaider', 'BitJob', 'EventChain', 'HEDGE TOKEN', 'Paragon Coin', 'DLS Academy', 'Ethbet', 'Eidoo', 'AirToken', 'Flyp.me', 'COBINHOOD', 'Bookira', 'Astronaut', 'ClearPoll', 'Soma', 'Tokenlab', 'Cryptopay', 'Aeron', 'BannerCoin', 'ATLANT', 'Ethino', 'Genesis Vision', 'U.CASH'], datetime.date(2017, 10, 10): ['DomRaider', 'BitJob', 'EventChain', 'HEDGE TOKEN', 'Paragon Coin', 'DLS Academy', 'Ethbet', 'Eidoo', 'AirToken', 'Flyp.me', 'COBINHOOD', 'Bookira', 'Astronaut', 'ClearPoll', 'Soma', 'Tokenlab', 'Cryptopay', 'Aeron', 'BannerCoin', 'ATLANT', 'Ethino', 'Qvolta', 'Genesis Vision', 'U.CASH'], datetime.date(2017, 10, 11): ['DomRaider', 'BitJob', 'EventChain', 'HEDGE TOKEN', 'Paragon Coin', 'DLS Academy', 'Ethbet', 'Eidoo', 'AirToken', 'Flyp.me', 'COBINHOOD', 'Bookira', 'Astronaut', 'ClearPoll', 'Soma', 'Tokenlab', 'Cryptopay', 'Aeron', 'BannerCoin', 'ATLANT', 'Ethino', 'Qvolta', 'Genesis Vision', 'U.CASH'], datetime.date(2017, 10, 12): ['BitJob', 'EventChain', 'HEDGE TOKEN', 'Paragon Coin', 'DLS Academy', 'Ethbet', 'Eidoo', 'AirToken', 'Flyp.me', 'COBINHOOD', 'Bookira', 'Astronaut', 'ClearPoll', 'Soma', 'Tokenlab', 'Cryptopay', 'Aeron', 'BannerCoin', 'ATLANT', 'Ethino', 'Qvolta', 'Genesis Vision', 'U.CASH'], datetime.date(2017, 10, 13): ['BitJob', 'EventChain', 'HEDGE TOKEN', 'Paragon Coin', 'DLS Academy', 'Ethbet', 'Eidoo', 'AirToken', 'Flyp.me', 'COBINHOOD', 'Bookira', 'Astronaut', 'ClearPoll', 'Soma', 'Tokenlab', 'Cryptopay', 'Aeron', 'BannerCoin', 'ATLANT', 'Ethino', 'Qvolta', 'Genesis Vision', 'U.CASH'], datetime.date(2017, 10, 14): ['EventChain', 'HEDGE TOKEN', 'Paragon Coin', 'DLS Academy', 'Ethbet', 'Eidoo', 'AirToken', 'Flyp.me', 'COBINHOOD', 'Bookira', 'Astronaut', 'ClearPoll', 'Soma', 'Tokenlab', 'Cryptopay', 'Aeron', 'BannerCoin', 'ATLANT', 'Ethino', 'Qvolta', 'Genesis Vision', 'Worldcore', 'U.CASH'], datetime.date(2017, 10, 15): ['HEDGE TOKEN', 'Paragon Coin', 'DLS Academy', 'Ethbet', 'Eidoo', 'AirToken', 'Flyp.me', 'COBINHOOD', 'Bookira', 'Astronaut', 'ClearPoll', 'Soma', 'Tokenlab', 'Cryptopay', 'Aeron', 'BannerCoin', 'ATLANT', 'Ethino', 'Qvolta', 'Genesis Vision', 'Worldcore', 'U.CASH'], datetime.date(2017, 10, 16): ['Eidoo', 'AirToken', 'Flyp.me', 'COBINHOOD', 'Bookira', 'Astronaut', 'ClearPoll', 'Soma', 'Tokenlab', 'Cryptopay', 'Aeron', 'BannerCoin', 'ATLANT', 'Ethino', 'Qvolta', 'Genesis Vision', 'CREDEROOM', 'Worldcore', 'U.CASH'], datetime.date(2017, 10, 17): ['AirToken', 'Flyp.me', 'COBINHOOD', 'Bookira', 'Astronaut', 'ClearPoll', 'Soma', 'Tokenlab', 'Cryptopay', 'Aeron', 'BannerCoin', 'ATLANT', 'Ethino', 'Qvolta', 'Genesis Vision', 'CREDEROOM', 'COPICO', 'Worldcore', 'U.CASH'], datetime.date(2017, 10, 18): ['AirToken', 'Flyp.me', 'COBINHOOD', 'Bookira', 'Astronaut', 'ClearPoll', 'Soma', 'Tokenlab', 'Cryptopay', 'Aeron', 'BannerCoin', 'ATLANT', 'Ethino', 'Qvolta', 'Genesis Vision', 'CREDEROOM', 'COPICO', 'MicroMoney', 'Worldcore', 'MiniApps.pro', 'U.CASH'], datetime.date(2017, 10, 19): ['AirToken', 'Flyp.me', 'COBINHOOD', 'Bookira', 'BLOCKv', 'Astronaut', 'ClearPoll', 'Soma', 'Tokenlab', 'Cryptopay', 'Aeron', 'BannerCoin', 'ATLANT', 'Ethino', 'Qvolta', 'Genesis Vision', 'CREDEROOM', 'Privatix', 'COPICO', 'MicroMoney', 'Worldcore', 'MiniApps.pro', 'U.CASH'], datetime.date(2017, 10, 20): ['Flyp.me', 'COBINHOOD', 'Bookira', 'BLOCKv', 'Astronaut', 'ClearPoll', 'Soma', 'Tokenlab', 'Cryptopay', 'Aeron', 'BannerCoin', 'ATLANT', 'Ethino', 'Qvolta', 'Genesis Vision', 'CREDEROOM', 'Privatix', 'COPICO', 'MicroMoney', 'Worldcore', 'MiniApps.pro', 'U.CASH'], datetime.date(2017, 10, 21): ['Flyp.me', 'COBINHOOD', 'Bookira', 'BLOCKv', 'Astronaut', 'ClearPoll', 'Soma', 'Swarm Fund', 'Tokenlab', 'Cryptopay', 'Aeron', 'BannerCoin', 'ATLANT', 'Ethino', 'Qvolta', 'Genesis Vision', 'CREDEROOM', 'Privatix', 'COPICO', 'MicroMoney', 'Worldcore', 'MiniApps.pro', 'U.CASH'], datetime.date(2017, 10, 22): ['COBINHOOD', 'Bookira', 'BLOCKv', 'Astronaut', 'ClearPoll', 'Soma', 'Swarm Fund', 'Tokenlab', 'Cryptopay', 'Aeron', 'BannerCoin', 'ATLANT', 'Ethino', 'Qvolta', 'Genesis Vision', 'CREDEROOM', 'Privatix', 'COPICO', 'MicroMoney', 'WandX', 'Worldcore', 'MiniApps.pro', 'U.CASH'], datetime.date(2017, 10, 23): ['Bookira', 'BLOCKv', 'Astronaut', 'ClearPoll', 'Soma', 'Swarm Fund', 'Tokenlab', 'Cryptopay', 'Aeron', 'BannerCoin', 'ATLANT', 'Ethino', 'Qvolta', 'Genesis Vision', 'CREDEROOM', 'Privatix', 'COPICO', 'MicroMoney', 'WandX', 'Worldcore', 'MiniApps.pro', 'U.CASH'], datetime.date(2017, 10, 24): ['Bookira', 'BLOCKv', 'Astronaut', 'ClearPoll', 'Soma', 'Swarm Fund', 'Tokenlab', 'Cryptopay', 'Aeron', 'BannerCoin', 'ATLANT', 'Ethino', 'Ripio Credit Network', 'Qvolta', 'Genesis Vision', 'CREDEROOM', 'Privatix', 'COPICO', 'MicroMoney', 'WandX', 'Worldcore', 'MiniApps.pro', 'U.CASH'], datetime.date(2017, 10, 25): ['Astronaut', 'ClearPoll', 'Soma', 'Swarm Fund', 'Tokenlab', 'Cryptopay', 'Aeron', 'BannerCoin', 'ATLANT', 'Ethino', 'Ripio Credit Network', 'Qvolta', 'Genesis Vision', 'CREDEROOM', 'Privatix', 'COPICO', 'MicroMoney', 'WandX', 'ZEUS', 'Worldcore', 'MiniApps.pro', 'U.CASH'], datetime.date(2017, 10, 26): ['ClearPoll', 'Soma', 'Swarm Fund', 'Tokenlab', 'Cryptopay', 'Aeron', 'BannerCoin', 'ATLANT', 'Ethino', 'Ripio Credit Network', 'Qvolta', 'Genesis Vision', 'CREDEROOM', 'Privatix', 'COPICO', 'MicroMoney', 'WandX', 'ZEUS', 'Worldcore', 'MiniApps.pro', 'U.CASH'], datetime.date(2017, 10, 27): ['Swarm Fund', 'Tokenlab', 'Cryptopay', 'Aeron', 'BannerCoin', 'ATLANT', 'Ethino', 'Ripio Credit Network', 'Qvolta', 'Genesis Vision', 'CREDEROOM', 'Privatix', 'COPICO', 'MicroMoney', 'WandX', 'ZEUS', 'Worldcore', 'MiniApps.pro', 'U.CASH'], datetime.date(2017, 10, 28): ['Tokenlab', 'Cryptopay', 'Aeron', 'BannerCoin', 'ATLANT', 'Ethino', 'Ripio Credit Network', 'Qvolta', 'Genesis Vision', 'CREDEROOM', 'Privatix', 'COPICO', 'MicroMoney', 'WandX', 'ZEUS', 'Worldcore', 'MiniApps.pro', 'U.CASH'], datetime.date(2017, 10, 29): ['Cryptopay', 'Aeron', 'BannerCoin', 'ATLANT', 'Ethino', 'Ripio Credit Network', 'Qvolta', 'Genesis Vision', 'CREDEROOM', 'Privatix', 'COPICO', 'MicroMoney', 'WandX', 'ZEUS', 'Worldcore', 'MiniApps.pro', 'U.CASH'], datetime.date(2017, 10, 30): ['Cryptopay', 'Aeron', 'BannerCoin', 'ATLANT', 'Ethino', 'Ripio Credit Network', 'Qvolta', 'Genesis Vision', 'CREDEROOM', 'Privatix', 'COPICO', 'MicroMoney', 'WandX', 'ZEUS', 'CopPay', 'Worldcore', 'MiniApps.pro', 'LH-Crypto', 'U.CASH'], datetime.date(2017, 10, 31): ['BannerCoin', 'ATLANT', 'Ethino', 'Ripio Credit Network', 'Qvolta', 'Genesis Vision', 'CREDEROOM', 'Privatix', 'COPICO', 'MicroMoney', 'WandX', 'ZEUS', 'Bonpay', 'CopPay', 'Worldcore', 'MiniApps.pro', 'LH-Crypto', 'U.CASH', 'Crypterium'], datetime.date(2017, 11, 1): ['Ethino', 'Ripio Credit Network', 'Qvolta', 'Blockstack', 'Genesis Vision', 'CREDEROOM', 'Privatix', 'COPICO', 'MicroMoney', 'WandX', 'ZEUS', 'Bonpay', 'WAX', 'Storm', 'Playkey.io', 'CopPay', 'Publica', 'Worldcore', 'MiniApps.pro', 'LH-Crypto', 'U.CASH', 'Crypterium'], datetime.date(2017, 11, 2): ['Ethino', 'Ripio Credit Network', 'Utrust', 'Qvolta', 'Blockstack', 'Genesis Vision', 'CREDEROOM', 'Privatix', 'COPICO', 'MicroMoney', 'WandX', 'ZEUS', 'Bonpay', 'WAX', 'Storm', 'Playkey.io', 'CopPay', 'Publica', 'Worldcore', 'MiniApps.pro', 'LH-Crypto', 'U.CASH', 'Crypterium'], datetime.date(2017, 11, 3): ['Ripio Credit Network', 'Utrust', 'Qvolta', 'Blockstack', 'Genesis Vision', 'CREDEROOM', 'Privatix', 'COPICO', 'MicroMoney', 'WandX', 'ZEUS', 'Bonpay', 'WAX', 'Storm', 'Playkey.io', 'CopPay', 'Publica', 'Worldcore', 'MiniApps.pro', 'LH-Crypto', 'U.CASH', 'Crypterium'], datetime.date(2017, 11, 4): ['Ripio Credit Network', 'Utrust', 'Qvolta', 'Blockstack', 'Genesis Vision', 'CREDEROOM', 'Privatix', 'COPICO', 'MicroMoney', 'WandX', 'ZEUS', 'Bonpay', 'WAX', 'Storm', 'Playkey.io', 'CopPay', 'Publica', 'Worldcore', 'MiniApps.pro', 'LH-Crypto', 'U.CASH', 'Crypterium'], datetime.date(2017, 11, 5): ['Ripio Credit Network', 'Utrust', 'Qvolta', 'Blockstack', 'Genesis Vision', 'CREDEROOM', 'Privatix', 'COPICO', 'MicroMoney', 'WandX', 'ZEUS', 'Bonpay', 'WAX', 'Storm', 'Playkey.io', 'CopPay', 'Publica', 'Worldcore', 'MiniApps.pro', 'LH-Crypto', 'U.CASH', 'Crypterium'], datetime.date(2017, 11, 6): ['Utrust', 'Qvolta', 'Blockstack', 'Genesis Vision', 'CREDEROOM', 'Privatix', 'COPICO', 'MicroMoney', 'WandX', 'ZEUS', 'Bonpay', 'WAX', 'Storm', 'Playkey.io', 'CopPay', 'Publica', 'Worldcore', 'MiniApps.pro', 'LH-Crypto', 'U.CASH', 'Crypterium', 'Sharpe Capital'], datetime.date(2017, 11, 7): ['Utrust', 'Qvolta', 'Blockstack', 'Genesis Vision', 'CREDEROOM', 'Privatix', 'COPICO', 'MicroMoney', 'WandX', 'ZEUS', 'Bonpay', 'WAX', 'Storm', 'Playkey.io', 'CopPay', 'Publica', 'Worldcore', 'MiniApps.pro', 'LH-Crypto', 'U.CASH', 'Crypterium', 'Sharpe Capital'], datetime.date(2017, 11, 8): ['Utrust', 'Qvolta', 'Blockstack', 'Genesis Vision', 'CREDEROOM', 'Privatix', 'COPICO', 'MicroMoney', 'WandX', 'ZEUS', 'Bonpay', 'WAX', 'Storm', 'Playkey.io', 'CopPay', 'Publica', 'Worldcore', 'MiniApps.pro', 'LH-Crypto', 'U.CASH', 'Crypterium', 'Sharpe Capital'], datetime.date(2017, 11, 9): ['Qvolta', 'Blockstack', 'Genesis Vision', 'CREDEROOM', 'Privatix', 'COPICO', 'MicroMoney', 'WandX', 'ZEUS', 'Bonpay', 'WAX', 'Storm', 'Playkey.io', 'CopPay', 'CCORE', 'Publica', 'Worldcore', 'MiniApps.pro', 'LH-Crypto', 'U.CASH', 'Crypterium', 'Sharpe Capital'], datetime.date(2017, 11, 10): ['Qvolta', 'Blockstack', 'Genesis Vision', 'CREDEROOM', 'Privatix', 'COPICO', 'MicroMoney', 'WandX', 'ZEUS', 'Bonpay', 'WAX', 'Storm', 'Playkey.io', 'CopPay', 'CCORE', 'Publica', 'Worldcore', 'MiniApps.pro', 'LH-Crypto', 'LiveShow', 'U.CASH', 'Crypterium', 'Sharpe Capital'], datetime.date(2017, 11, 11): ['Blockstack', 'Genesis Vision', 'CREDEROOM', 'Privatix', 'COPICO', 'MicroMoney', 'WandX', 'ZEUS', 'Bonpay', 'WAX', 'Storm', 'Playkey.io', 'CopPay', 'CCORE', 'Publica', 'Worldcore', 'MiniApps.pro', 'LH-Crypto', 'LiveShow', 'U.CASH', 'Crypterium', 'Sharpe Capital'], datetime.date(2017, 11, 12): ['Blockstack', 'Genesis Vision', 'CREDEROOM', 'Privatix', 'COPICO', 'MicroMoney', 'WandX', 'ZEUS', 'Bonpay', 'WAX', 'Storm', 'Playkey.io', 'CopPay', 'CCORE', 'Publica', 'Worldcore', 'MiniApps.pro', 'LH-Crypto', 'LiveShow', 'U.CASH', 'Crypterium', 'Sharpe Capital'], datetime.date(2017, 11, 13): ['Blockstack', 'Genesis Vision', 'CREDEROOM', 'Privatix', 'COPICO', 'MicroMoney', 'WandX', 'ZEUS', 'Bonpay', 'WAX', 'Storm', 'Playkey.io', 'CopPay', 'CCORE', 'Publica', 'Worldcore', 'MiniApps.pro', 'EtherSport', 'LH-Crypto', 'LiveShow', 'U.CASH', 'Crypterium', 'Sharpe Capital'], datetime.date(2017, 11, 14): ['Genesis Vision', 'CREDEROOM', 'Privatix', 'COPICO', 'MicroMoney', 'WandX', 'ZEUS', 'Bonpay', 'WAX', 'Storm', 'Playkey.io', 'CopPay', 'CCORE', 'Publica', 'Worldcore', 'MiniApps.pro', 'EtherSport', 'LH-Crypto', 'LiveShow', 'U.CASH', 'Crypterium', 'Sharpe Capital'], datetime.date(2017, 11, 15): ['Genesis Vision', 'CREDEROOM', 'Privatix', 'COPICO', 'MicroMoney', 'WandX', 'ZEUS', 'Bonpay', 'WAX', 'Storm', 'Playkey.io', 'CopPay', 'CCORE', 'Publica', 'Worldcore', 'Aigang Network', 'MiniApps.pro', 'EtherSport', 'LH-Crypto', 'LiveShow', 'Freedom Streaming', 'Cryptonetix', 'U.CASH', 'Crypterium', 'Sharpe Capital'], datetime.date(2017, 11, 16): ['Privatix', 'COPICO', 'MicroMoney', 'WandX', 'ZEUS', 'Bonpay', 'WAX', 'Storm', 'Playkey.io', 'CopPay', 'CCORE', 'Publica', 'Worldcore', 'Aigang Network', 'MiniApps.pro', 'EtherSport', 'LH-Crypto', 'LiveShow', 'Freedom Streaming', 'Cryptonetix', 'U.CASH', 'Crypterium', 'Sharpe Capital', 'Forty Seven Bank', 'Clearcoin'], datetime.date(2017, 11, 17): ['COPICO', 'MicroMoney', 'WandX', 'ZEUS', 'Bonpay', 'WAX', 'Storm', 'Playkey.io', 'CopPay', 'CCORE', 'Publica', 'Worldcore', 'Aigang Network', 'Neufund', 'MiniApps.pro', 'EtherSport', 'LH-Crypto', 'LiveShow', 'Freedom Streaming', 'Cryptonetix', 'U.CASH', 'Crypterium', 'Sharpe Capital', 'Forty Seven Bank', 'Clearcoin'], datetime.date(2017, 11, 18): ['MicroMoney', 'WandX', 'ZEUS', 'Bonpay', 'WAX', 'Storm', 'Playkey.io', 'CopPay', 'CCORE', 'Publica', 'Worldcore', 'Aigang Network', 'Neufund', 'MiniApps.pro', 'EtherSport', 'LH-Crypto', 'LiveShow', 'Freedom Streaming', 'Cryptonetix', 'U.CASH', 'Crypterium', 'Sharpe Capital', 'Forty Seven Bank', 'Clearcoin'], datetime.date(2017, 11, 19): ['WandX', 'ZEUS', 'Bonpay', 'WAX', 'Storm', 'Playkey.io', 'CopPay', 'CCORE', 'Publica', 'Worldcore', 'Aigang Network', 'Neufund', 'MiniApps.pro', 'EtherSport', 'LH-Crypto', 'LiveShow', 'Freedom Streaming', 'Cryptonetix', 'U.CASH', 'Crypterium', 'Sharpe Capital', 'Forty Seven Bank', 'Clearcoin'], datetime.date(2017, 11, 20): ['WandX', 'ZEUS', 'Bonpay', 'WAX', 'Storm', 'Playkey.io', 'CopPay', 'CCORE', 'Publica', 'Worldcore', 'Aigang Network', 'MediBloc', 'Neufund', 'MiniApps.pro', 'Connectius', 'Propthereum', 'EtherSport', 'LH-Crypto', 'LiveShow', 'Freedom Streaming', 'Cryptonetix', 'U.CASH', 'Crypterium', 'Crowdwiz', 'Sharpe Capital', 'Forty Seven Bank', 'Clearcoin'], datetime.date(2017, 11, 21): ['WandX', 'ZEUS', 'Bonpay', 'WAX', 'Storm', 'Playkey.io', 'CopPay', 'CCORE', 'Publica', 'Worldcore', 'Aigang Network', 'MediBloc', 'Neufund', 'MiniApps.pro', 'Connectius', 'Propthereum', 'EtherSport', 'LH-Crypto', 'LiveShow', 'Freedom Streaming', 'Cryptonetix', 'U.CASH', 'Crypterium', 'Crowdwiz', 'Sharpe Capital', 'Forty Seven Bank', 'Clearcoin'], datetime.date(2017, 11, 22): ['ZEUS', 'Bonpay', 'WAX', 'Storm', 'Playkey.io', 'CopPay', 'CCORE', 'Publica', 'Worldcore', 'Aigang Network', 'MediBloc', 'Neufund', 'MiniApps.pro', 'Connectius', 'Propthereum', 'EtherSport', 'LH-Crypto', 'LiveShow', 'Freedom Streaming', 'Cryptonetix', 'U.CASH', 'Crypterium', 'Crowdwiz', 'Sharpe Capital', 'Forty Seven Bank', 'Clearcoin'], datetime.date(2017, 11, 23): ['ZEUS', 'Bonpay', 'WAX', 'Storm', 'Playkey.io', 'CopPay', 'CCORE', 'Publica', 'Worldcore', 'Aigang Network', 'MediBloc', 'Neufund', 'MiniApps.pro', 'Connectius', 'Propthereum', 'EtherSport', 'LH-Crypto', 'LiveShow', 'Freedom Streaming', 'Cryptonetix', 'U.CASH', 'Crypterium', 'Crowdwiz', 'Sharpe Capital', 'Forty Seven Bank', 'Clearcoin'], datetime.date(2017, 11, 24): ['ZEUS', 'Bonpay', 'WAX', 'Storm', 'Playkey.io', 'CopPay', 'CCORE', 'Publica', 'Worldcore', 'Aigang Network', 'MediBloc', 'Vega AI Solutions', 'Neufund', 'MiniApps.pro', 'Connectius', 'Propthereum', 'EtherSport', 'LH-Crypto', 'LiveShow', 'Freedom Streaming', 'Cryptonetix', 'U.CASH', 'Crypterium', 'Covesting', 'Crowdwiz', 'Sharpe Capital', 'BitRent', 'Forty Seven Bank', 'Clearcoin'], datetime.date(2017, 11, 25): ['ZEUS', 'Bonpay', 'WAX', 'Storm', 'Playkey.io', 'CopPay', 'CCORE', 'Publica', 'Worldcore', 'Aigang Network', 'MediBloc', 'Vega AI Solutions', 'Neufund', 'MiniApps.pro', 'Connectius', 'Propthereum', 'EtherSport', 'EthLend', 'LH-Crypto', 'LiveShow', 'Freedom Streaming', 'Cryptonetix', 'U.CASH', 'Crypterium', 'Covesting', 'Crowdwiz', 'Sharpe Capital', 'BitRent', 'Forty Seven Bank', 'Clearcoin'], datetime.date(2017, 11, 26): ['Bonpay', 'WAX', 'Storm', 'Playkey.io', 'CopPay', 'CCORE', 'Publica', 'Worldcore', 'Aigang Network', 'MediBloc', 'Vega AI Solutions', 'Neufund', 'MiniApps.pro', 'Connectius', 'Propthereum', 'EtherSport', 'CanYa', 'EthLend', 'LH-Crypto', 'LiveShow', 'Freedom Streaming', 'Cryptonetix', 'U.CASH', 'Crypterium', 'Covesting', 'Crowdwiz', 'Sharpe Capital', 'BitRent', 'Forty Seven Bank', 'Clearcoin'], datetime.date(2017, 11, 27): ['Bonpay', 'WAX', 'Storm', 'Playkey.io', 'CopPay', 'CCORE', 'Publica', 'Worldcore', 'Aigang Network', 'MediBloc', 'Vega AI Solutions', 'Neufund', 'MiniApps.pro', 'Connectius', 'Propthereum', 'EtherSport', 'CanYa', 'EthLend', 'LH-Crypto', 'LiveShow', 'Freedom Streaming', 'Cryptonetix', 'U.CASH', 'Crypterium', 'Covesting', 'Jibrel Network', 'Crowdwiz', 'Sharpe Capital', 'HOQU', 'BitRent', 'Forty Seven Bank', 'Clearcoin'], datetime.date(2017, 11, 28): ['Bonpay', 'WAX', 'Storm', 'Playkey.io', 'CopPay', 'CCORE', 'Publica', 'Worldcore', 'Aigang Network', 'MediBloc', 'Vega AI Solutions', 'Neufund', 'MiniApps.pro', 'Connectius', 'Propthereum', 'EtherSport', 'CanYa', 'EthLend', 'BANKEX', 'LH-Crypto', 'LiveShow', 'Freedom Streaming', 'Cryptonetix', 'U.CASH', 'Crypterium', 'Covesting', 'Jibrel Network', 'Crowdwiz', 'Sharpe Capital', 'HOQU', 'BitRent', 'Forty Seven Bank', 'Clearcoin'], datetime.date(2017, 11, 29): ['WAX', 'Storm', 'Playkey.io', 'CopPay', 'CCORE', 'Publica', 'Worldcore', 'Aigang Network', 'MediBloc', 'Vega AI Solutions', 'Neufund', 'MiniApps.pro', 'Connectius', 'Propthereum', 'EtherSport', 'indaHash', 'CanYa', 'Decentralized Escrow', 'EthLend', 'BANKEX', 'LH-Crypto', 'LiveShow', 'Freedom Streaming', 'Cryptonetix', 'U.CASH', 'Crypterium', 'Covesting', 'Jibrel Network', 'Crowdwiz', 'Sharpe Capital', 'HOQU', 'BitRent', 'Forty Seven Bank', 'Clearcoin'], datetime.date(2017, 11, 30): ['Storm', 'Playkey.io', 'CopPay', 'CCORE', 'Publica', 'Worldcore', 'Aigang Network', 'MediBloc', 'Vega AI Solutions', 'Neufund', 'MiniApps.pro', 'Connectius', 'Propthereum', 'EtherSport', 'indaHash', 'CanYa', 'Decentralized Escrow', 'EthLend', 'BANKEX', 'LH-Crypto', 'LiveShow', 'Freedom Streaming', 'Cryptonetix', 'U.CASH', 'Crypterium', 'Covesting', 'Jibrel Network', 'Crowdwiz', 'Sharpe Capital', 'HOQU', 'BitRent', 'Forty Seven Bank', 'Clearcoin'], datetime.date(2017, 12, 1): ['Publica', 'Worldcore', 'Aigang Network', 'MediBloc', 'NAGA Group', 'Vega AI Solutions', 'Neufund', 'MiniApps.pro', 'Connectius', 'Propthereum', 'EtherSport', 'indaHash', 'CanYa', 'Decentralized Escrow', 'EthLend', 'BANKEX', 'LH-Crypto', 'LiveShow', 'ODMCoin', 'Freedom Streaming', 'Cryptonetix', 'U.CASH', 'Crypterium', 'Covesting', 'BitDegree', 'Jibrel Network', 'Crowdwiz', 'Sharpe Capital', 'HOQU', 'NOAH COIN', 'BitRent', 'Forty Seven Bank', 'Clearcoin', 'Connectjob'], datetime.date(2017, 12, 2): ['Worldcore', 'Aigang Network', 'MediBloc', 'NAGA Group', 'Vega AI Solutions', 'Neufund', 'MiniApps.pro', 'Connectius', 'Propthereum', 'EtherSport', 'indaHash', 'CanYa', 'Decentralized Escrow', 'EthLend', 'BANKEX', 'LH-Crypto', 'LiveShow', 'ODMCoin', 'Freedom Streaming', 'Cryptonetix', 'U.CASH', 'Crypterium', 'Covesting', 'BitDegree', 'Jibrel Network', 'Crowdwiz', 'Sharpe Capital', 'HOQU', 'NOAH COIN', 'BitRent', 'Forty Seven Bank', 'Clearcoin', 'Connectjob'], datetime.date(2017, 12, 3): ['Worldcore', 'Aigang Network', 'MediBloc', 'NAGA Group', 'Vega AI Solutions', 'Neufund', 'MiniApps.pro', 'Connectius', 'Propthereum', 'EtherSport', 'indaHash', 'CanYa', 'Decentralized Escrow', 'EthLend', 'BANKEX', 'LH-Crypto', 'LiveShow', 'ODMCoin', 'Freedom Streaming', 'Cryptonetix', 'U.CASH', 'Crypterium', 'Covesting', 'BitDegree', 'Jibrel Network', 'Crowdwiz', 'Sharpe Capital', 'HOQU', 'NOAH COIN', 'BitRent', 'Forty Seven Bank', 'Clearcoin', 'Connectjob'], datetime.date(2017, 12, 4): ['Worldcore', 'Aigang Network', 'MediBloc', 'NAGA Group', 'Vega AI Solutions', 'Neufund', 'MiniApps.pro', 'Connectius', 'Propthereum', 'EtherSport', 'indaHash', 'INS Ecosystem', 'CanYa', 'Decentralized Escrow', 'EthLend', 'BANKEX', 'LH-Crypto', 'LiveShow', 'ODMCoin', 'Freedom Streaming', 'Cryptonetix', 'U.CASH', 'Crypterium', 'Covesting', 'BitDegree', 'Jibrel Network', 'Gameflip - FLIP (FLP)', 'Crowdwiz', 'Sharpe Capital', 'HOQU', 'NOAH COIN', 'BitRent', 'Forty Seven Bank', 'Clearcoin', 'Connectjob'], datetime.date(2017, 12, 5): ['Worldcore', 'Aigang Network', 'MediBloc', 'NAGA Group', 'Vega AI Solutions', 'Neufund', 'MiniApps.pro', 'Connectius', 'Propthereum', 'EtherSport', 'indaHash', 'INS Ecosystem', 'CanYa', 'Decentralized Escrow', 'EthLend', 'BANKEX', 'LH-Crypto', 'LiveShow', 'ODMCoin', 'Freedom Streaming', 'Cryptonetix', 'U.CASH', 'Crypterium', 'Covesting', 'BitDegree', 'Jibrel Network', 'Gameflip - FLIP (FLP)', 'Crowdwiz', 'Sharpe Capital', 'HOQU', 'Rentberry', 'NOAH COIN', 'BitRent', 'Forty Seven Bank', 'Clearcoin', 'Connectjob'], datetime.date(2017, 12, 6): ['Worldcore', 'Aigang Network', 'MediBloc', 'NAGA Group', 'Vega AI Solutions', 'Neufund', 'MiniApps.pro', 'Connectius', 'Propthereum', 'EtherSport', 'indaHash', 'INS Ecosystem', 'CanYa', 'Decentralized Escrow', 'EthLend', 'BANKEX', 'LH-Crypto', 'LiveShow', 'ODMCoin', 'Freedom Streaming', 'Cryptonetix', 'U.CASH', 'Crypterium', 'Covesting', 'BitDegree', 'Jibrel Network', 'Gameflip - FLIP (FLP)', 'Crowdwiz', 'Sharpe Capital', 'HOQU', 'Rentberry', 'NOAH COIN', 'BitRent', 'Forty Seven Bank', 'Clearcoin', 'Connectjob'], datetime.date(2017, 12, 7): ['Worldcore', 'Aigang Network', 'MediBloc', 'NAGA Group', 'Vega AI Solutions', 'Neufund', 'SophiaTX', 'MiniApps.pro', 'Connectius', 'Propthereum', 'EtherSport', 'indaHash', 'Debitum Network', 'INS Ecosystem', 'CanYa', 'Decentralized Escrow', 'EthLend', 'BANKEX', 'LH-Crypto', 'LiveShow', 'ODMCoin', 'Freedom Streaming', 'Cryptonetix', 'Trade.io', 'U.CASH', 'SwissBorg', 'Crypterium', 'Covesting', 'BitDegree', 'Jibrel Network', 'Gameflip - FLIP (FLP)', 'ViMarket', 'Crowdwiz', 'IUNGO', 'Sharpe Capital', 'HOQU', 'Rentberry', 'NOAH COIN', 'BitRent', 'Forty Seven Bank', 'Clearcoin', 'Connectjob'], datetime.date(2017, 12, 8): ['Worldcore', 'Aigang Network', 'MediBloc', 'NAGA Group', 'Vega AI Solutions', 'Neufund', 'SophiaTX', 'MiniApps.pro', 'Connectius', 'Propthereum', 'EtherSport', 'indaHash', 'Debitum Network', 'INS Ecosystem', 'CanYa', 'Decentralized Escrow', 'EthLend', 'BANKEX', 'LH-Crypto', 'LiveShow', 'ODMCoin', 'Freedom Streaming', 'Cryptonetix', 'Trade.io', 'U.CASH', 'SwissBorg', 'Crypterium', 'Covesting', 'BitDegree', 'Jibrel Network', 'Gameflip - FLIP (FLP)', 'ViMarket', 'Crowdwiz', 'IUNGO', 'Sharpe Capital', 'HOQU', 'Rentberry', 'NOAH COIN', 'BitRent', 'Forty Seven Bank', 'Clearcoin', 'Connectjob'], datetime.date(2017, 12, 9): ['Worldcore', 'Aigang Network', 'MediBloc', 'NAGA Group', 'Vega AI Solutions', 'Neufund', 'SophiaTX', 'MiniApps.pro', 'Connectius', 'Propthereum', 'EtherSport', 'indaHash', 'Debitum Network', 'INS Ecosystem', 'CanYa', 'Decentralized Escrow', 'EthLend', 'BANKEX', 'LH-Crypto', 'LiveShow', 'ODMCoin', 'Freedom Streaming', 'Cryptonetix', 'Trade.io', 'U.CASH', 'SwissBorg', 'Crypterium', 'Covesting', 'BitDegree', 'Jibrel Network', 'Gameflip - FLIP (FLP)', 'ViMarket', 'Crowdwiz', 'IUNGO', 'Sharpe Capital', 'HOQU', 'Rentberry', 'NOAH COIN', 'BitRent', 'Forty Seven Bank', 'Clearcoin', 'Connectjob'], datetime.date(2017, 12, 10): ['Worldcore', 'Aigang Network', 'MediBloc', 'NAGA Group', 'Vega AI Solutions', 'Neufund', 'SophiaTX', 'MiniApps.pro', 'Connectius', 'Propthereum', 'EtherSport', 'indaHash', 'Debitum Network', 'INS Ecosystem', 'CanYa', 'Decentralized Escrow', 'EthLend', 'BANKEX', 'LH-Crypto', 'LiveShow', 'ODMCoin', 'Freedom Streaming', 'Cryptonetix', 'Trade.io', 'U.CASH', 'SwissBorg', 'Crypterium', 'Covesting', 'BitDegree', 'Jibrel Network', 'Gameflip - FLIP (FLP)', 'ViMarket', 'Crowdwiz', 'IUNGO', 'Sharpe Capital', 'HOQU', 'Rentberry', 'NOAH COIN', 'BitRent', 'Forty Seven Bank', 'Clearcoin', 'Connectjob'], datetime.date(2017, 12, 11): ['Worldcore', 'Aigang Network', 'MediBloc', 'NAGA Group', 'Vega AI Solutions', 'Neufund', 'SophiaTX', 'MiniApps.pro', 'Connectius', 'Propthereum', 'EtherSport', 'indaHash', 'Debitum Network', 'INS Ecosystem', 'CanYa', 'Decentralized Escrow', 'EthLend', 'BANKEX', 'LH-Crypto', 'LiveShow', 'ODMCoin', 'Freedom Streaming', 'Cryptonetix', 'Trade.io', 'U.CASH', 'SwissBorg', 'Crypterium', 'Covesting', 'BitDegree', 'Jibrel Network', 'Gameflip - FLIP (FLP)', 'ViMarket', 'Crowdwiz', 'IUNGO', 'Sharpe Capital', 'HOQU', 'Rentberry', 'NOAH COIN', 'BitRent', 'Forty Seven Bank', 'Clearcoin', 'Connectjob'], datetime.date(2017, 12, 12): ['Worldcore', 'Aigang Network', 'MediBloc', 'NAGA Group', 'Vega AI Solutions', 'Neufund', 'SophiaTX', 'MiniApps.pro', 'Connectius', 'Propthereum', 'EtherSport', 'indaHash', 'Debitum Network', 'Finney', 'INS Ecosystem', 'CanYa', 'Decentralized Escrow', 'EthLend', 'BANKEX', 'LH-Crypto', 'LiveShow', 'ODMCoin', 'Freedom Streaming', 'Cryptonetix', 'Trade.io', 'U.CASH', 'SwissBorg', 'Crypterium', 'Covesting', 'BitDegree', 'Jibrel Network', 'Gameflip - FLIP (FLP)', 'ViMarket', 'Crowdwiz', 'IUNGO', 'Sharpe Capital', 'HOQU', 'Rentberry', 'NOAH COIN', 'BitRent', 'Forty Seven Bank', 'Clearcoin', 'Connectjob'], datetime.date(2017, 12, 13): ['Worldcore', 'Aigang Network', 'MediBloc', 'NAGA Group', 'Vega AI Solutions', 'Neufund', 'SophiaTX', 'MiniApps.pro', 'Connectius', 'Propthereum', 'EtherSport', 'indaHash', 'Debitum Network', 'Finney', 'INS Ecosystem', 'CanYa', 'Decentralized Escrow', 'EthLend', 'BANKEX', 'LH-Crypto', 'LiveShow', 'ODMCoin', 'Freedom Streaming', 'Cryptonetix', 'Trade.io', 'U.CASH', 'SwissBorg', 'Crypterium', 'Covesting', 'AppCoins', 'BitDegree', 'Jibrel Network', 'Gameflip - FLIP (FLP)', 'ViMarket', 'Crowdwiz', 'IUNGO', 'Sharpe Capital', 'HOQU', 'Rentberry', 'NOAH COIN', 'BitRent', 'Forty Seven Bank', 'Clearcoin', 'Connectjob'], datetime.date(2017, 12, 14): ['Worldcore', 'Aigang Network', 'MediBloc', 'NAGA Group', 'Vega AI Solutions', 'Neufund', 'SophiaTX', 'MiniApps.pro', 'Connectius', 'Propthereum', 'EtherSport', 'indaHash', 'Debitum Network', 'Finney', 'INS Ecosystem', 'CanYa', 'Decentralized Escrow', 'EthLend', 'BANKEX', 'LH-Crypto', 'LiveShow', 'ODMCoin', 'Freedom Streaming', 'Cryptonetix', 'Trade.io', 'U.CASH', 'SwissBorg', 'Crypterium', 'Covesting', 'AppCoins', 'TravelFlex Coin', 'BitDegree', 'Jibrel Network', 'Gameflip - FLIP (FLP)', 'ViMarket', 'Crowdwiz', 'IUNGO', 'Sharpe Capital', 'HOQU', 'Rentberry', 'NOAH COIN', 'BitRent', 'Forty Seven Bank', 'Clearcoin', 'Connectjob'], datetime.date(2017, 12, 15): ['Worldcore', 'Aigang Network', 'MediBloc', 'NAGA Group', 'Vega AI Solutions', 'Neufund', 'SophiaTX', 'MiniApps.pro', 'Connectius', 'Propthereum', 'EtherSport', 'indaHash', 'Debitum Network', 'Finney', 'INS Ecosystem', 'CanYa', 'Decentralized Escrow', 'EthLend', 'BANKEX', 'LH-Crypto', 'LiveShow', 'ODMCoin', 'Freedom Streaming', 'Cryptonetix', 'Trade.io', 'U.CASH', 'SwissBorg', 'Crypterium', 'envion (EVN)', 'Covesting', 'AppCoins', 'TravelFlex Coin', 'BitDegree', 'Jibrel Network', 'Gameflip - FLIP (FLP)', 'ViMarket', 'Crowdwiz', 'IUNGO', 'Sharpe Capital', 'HOQU', 'Rentberry', 'NOAH COIN', 'BitRent', 'Forty Seven Bank', 'Clearcoin', 'Connectjob', 'Valorem Foundation'], datetime.date(2017, 12, 16): ['Vega AI Solutions', 'Neufund', 'SophiaTX', 'MiniApps.pro', 'Connectius', 'Propthereum', 'EtherSport', 'indaHash', 'Debitum Network', 'Finney', 'INS Ecosystem', 'CanYa', 'Decentralized Escrow', 'EthLend', 'BANKEX', 'LH-Crypto', 'LiveShow', 'ODMCoin', 'Freedom Streaming', 'Cryptonetix', 'Trade.io', 'U.CASH', 'SwissBorg', 'Crypterium', 'envion (EVN)', 'Covesting', 'AppCoins', 'TravelFlex Coin', 'BitDegree', 'Jibrel Network', 'Gameflip - FLIP (FLP)', 'ViMarket', 'Crowdwiz', 'IUNGO', 'Sharpe Capital', 'BITROAD', 'HOQU', 'Rentberry', 'NOAH COIN', 'BitRent', 'Forty Seven Bank', 'Clearcoin', 'Connectjob', 'Valorem Foundation'], datetime.date(2017, 12, 17): ['Neufund', 'SophiaTX', 'MiniApps.pro', 'Connectius', 'Propthereum', 'EtherSport', 'indaHash', 'Debitum Network', 'Finney', 'INS Ecosystem', 'CanYa', 'Decentralized Escrow', 'EthLend', 'BANKEX', 'LH-Crypto', 'LiveShow', 'ODMCoin', 'Freedom Streaming', 'Cryptonetix', 'Trade.io', 'U.CASH', 'SwissBorg', 'Crypterium', 'envion (EVN)', 'Covesting', 'AppCoins', 'TravelFlex Coin', 'BitDegree', 'Jibrel Network', 'Gameflip - FLIP (FLP)', 'ViMarket', 'Crowdwiz', 'IUNGO', 'Sharpe Capital', 'BITROAD', 'HOQU', 'Rentberry', 'MinerDog', 'NOAH COIN', 'BitRent', 'Forty Seven Bank', 'Clearcoin', 'Connectjob', 'Valorem Foundation'], datetime.date(2017, 12, 18): ['MiniApps.pro', 'Connectius', 'Propthereum', 'EtherSport', 'indaHash', 'Debitum Network', 'Finney', 'INS Ecosystem', 'CanYa', 'Decentralized Escrow', 'EthLend', 'BANKEX', 'LH-Crypto', 'LiveShow', 'ODMCoin', 'Freedom Streaming', 'Cryptonetix', 'Trade.io', 'U.CASH', 'SwissBorg', 'Crypterium', 'envion (EVN)', 'Covesting', 'AppCoins', 'TravelFlex Coin', 'BitDegree', 'Jibrel Network', 'Gameflip - FLIP (FLP)', 'ViMarket', 'Crowdwiz', 'IUNGO', 'Sharpe Capital', 'BITROAD', 'HOQU', 'Rentberry', 'MinerDog', 'NOAH COIN', 'BitRent', 'Forty Seven Bank', 'Clearcoin', 'Connectjob', 'Valorem Foundation'], datetime.date(2017, 12, 19): ['MiniApps.pro', 'Connectius', 'Propthereum', 'EtherSport', 'indaHash', 'Debitum Network', 'Finney', 'INS Ecosystem', 'CanYa', 'Decentralized Escrow', 'EthLend', 'BANKEX', 'LH-Crypto', 'LiveShow', 'ODMCoin', 'Freedom Streaming', 'Cryptonetix', 'Trade.io', 'U.CASH', 'SwissBorg', 'Crypterium', 'envion (EVN)', 'Covesting', 'AppCoins', 'TravelFlex Coin', 'BitDegree', 'Jibrel Network', 'Gameflip - FLIP (FLP)', 'ViMarket', 'Crowdwiz', 'IUNGO', 'Sharpe Capital', 'BITROAD', 'HOQU', 'Rentberry', 'MinerDog', 'NOAH COIN', 'BitRent', 'Forty Seven Bank', 'Clearcoin', 'Connectjob', 'Valorem Foundation'], datetime.date(2017, 12, 20): ['Connectius', 'Propthereum', 'EtherSport', 'indaHash', 'Debitum Network', 'Finney', 'INS Ecosystem', 'CanYa', 'Decentralized Escrow', 'EthLend', 'BANKEX', 'LH-Crypto', 'LiveShow', 'ODMCoin', 'Freedom Streaming', 'Cryptonetix', 'Trade.io', 'U.CASH', 'SwissBorg', 'Crypterium', 'envion (EVN)', 'Covesting', 'AppCoins', 'TravelFlex Coin', 'BitDegree', 'Jibrel Network', 'Gameflip - FLIP (FLP)', 'ViMarket', 'Crowdwiz', 'IUNGO', 'Sharpe Capital', 'BITROAD', 'HOQU', 'Rentberry', 'MinerDog', 'NOAH COIN', 'BitRent', 'Forty Seven Bank', 'Clearcoin', 'Connectjob', 'Valorem Foundation'], datetime.date(2017, 12, 21): ['Debitum Network', 'Finney', 'INS Ecosystem', 'CanYa', 'Decentralized Escrow', 'EthLend', 'BANKEX', 'LH-Crypto', 'LiveShow', 'ODMCoin', 'Freedom Streaming', 'Cryptonetix', 'Trade.io', 'U.CASH', 'SwissBorg', 'Crypterium', 'envion (EVN)', 'Covesting', 'AppCoins', 'TravelFlex Coin', 'BitDegree', 'Jibrel Network', 'Gameflip - FLIP (FLP)', 'ViMarket', 'Crowdwiz', 'IUNGO', 'Sharpe Capital', 'BITROAD', 'HOQU', 'Rentberry', 'MinerDog', 'NOAH COIN', 'BitRent', 'Forty Seven Bank', 'Clearcoin', 'Connectjob', 'Valorem Foundation'], datetime.date(2017, 12, 22): ['Finney', 'INS Ecosystem', 'CanYa', 'Decentralized Escrow', 'EthLend', 'BANKEX', 'LH-Crypto', 'LiveShow', 'ODMCoin', 'Freedom Streaming', 'Cryptonetix', 'Trade.io', 'U.CASH', 'SwissBorg', 'Crypterium', 'envion (EVN)', 'Covesting', 'AppCoins', 'TravelFlex Coin', 'BitDegree', 'Jibrel Network', 'Gameflip - FLIP (FLP)', 'ViMarket', 'Crowdwiz', 'IUNGO', 'Sharpe Capital', 'BITROAD', 'HOQU', 'Rentberry', 'MinerDog', 'NOAH COIN', 'BitRent', 'Forty Seven Bank', 'Clearcoin', 'Connectjob', 'Valorem Foundation'], datetime.date(2017, 12, 23): ['Finney', 'INS Ecosystem', 'CanYa', 'Decentralized Escrow', 'EthLend', 'BANKEX', 'LH-Crypto', 'LiveShow', 'ODMCoin', 'Freedom Streaming', 'Cryptonetix', 'Trade.io', 'U.CASH', 'SwissBorg', 'Crypterium', 'envion (EVN)', 'Covesting', 'AppCoins', 'TravelFlex Coin', 'BitDegree', 'Jibrel Network', 'Gameflip - FLIP (FLP)', 'ViMarket', 'Crowdwiz', 'IUNGO', 'Sharpe Capital', 'BITROAD', 'HOQU', 'Rentberry', 'MinerDog', 'NOAH COIN', 'BitRent', 'Forty Seven Bank', 'Clearcoin', 'Connectjob', 'Valorem Foundation'], datetime.date(2017, 12, 24): ['Finney', 'INS Ecosystem', 'CanYa', 'Decentralized Escrow', 'EthLend', 'BANKEX', 'LH-Crypto', 'LiveShow', 'ODMCoin', 'Freedom Streaming', 'Cryptonetix', 'Trade.io', 'U.CASH', 'SwissBorg', 'Crypterium', 'envion (EVN)', 'Covesting', 'AppCoins', 'TravelFlex Coin', 'BitDegree', 'Jibrel Network', 'Gameflip - FLIP (FLP)', 'ViMarket', 'Crowdwiz', 'IUNGO', 'Sharpe Capital', 'BITROAD', 'HOQU', 'Rentberry', 'MinerDog', 'NOAH COIN', 'BitRent', 'Forty Seven Bank', 'Clearcoin', 'Connectjob', 'Valorem Foundation'], datetime.date(2017, 12, 25): ['Finney', 'INS Ecosystem', 'CanYa', 'Decentralized Escrow', 'EthLend', 'BANKEX', 'LH-Crypto', 'LiveShow', 'ODMCoin', 'Freedom Streaming', 'Cryptonetix', 'Trade.io', 'U.CASH', 'SwissBorg', 'Crypterium', 'envion (EVN)', 'Covesting', 'AppCoins', 'TravelFlex Coin', 'BitDegree', 'Jibrel Network', 'Gameflip - FLIP (FLP)', 'ViMarket', 'Crowdwiz', 'IUNGO', 'Sharpe Capital', 'BITROAD', 'HOQU', 'Rentberry', 'MinerDog', 'NOAH COIN', 'BitRent', 'Forty Seven Bank', 'Clearcoin', 'Connectjob', 'Valorem Foundation'], datetime.date(2017, 12, 26): ['CanYa', 'Decentralized Escrow', 'EthLend', 'BANKEX', 'LH-Crypto', 'LiveShow', 'ODMCoin', 'Freedom Streaming', 'Cryptonetix', 'Trade.io', 'U.CASH', 'SwissBorg', 'Crypterium', 'envion (EVN)', 'Covesting', 'AppCoins', 'TravelFlex Coin', 'BitDegree', 'Jibrel Network', 'Gameflip - FLIP (FLP)', 'ViMarket', 'Crowdwiz', 'IUNGO', 'Sharpe Capital', 'BITROAD', 'HOQU', 'Rentberry', 'MinerDog', 'NOAH COIN', 'BitRent', 'Forty Seven Bank', 'Clearcoin', 'Connectjob', 'Valorem Foundation'], datetime.date(2017, 12, 27): ['Decentralized Escrow', 'EthLend', 'BANKEX', 'LH-Crypto', 'LiveShow', 'ODMCoin', 'Freedom Streaming', 'Cryptonetix', 'Trade.io', 'U.CASH', 'SwissBorg', 'Crypterium', 'envion (EVN)', 'Covesting', 'AppCoins', 'TravelFlex Coin', 'BitDegree', 'Jibrel Network', 'Gameflip - FLIP (FLP)', 'ViMarket', 'Crowdwiz', 'IUNGO', 'Sharpe Capital', 'BITROAD', 'HOQU', 'Rentberry', 'MinerDog', 'NOAH COIN', 'BitRent', 'Forty Seven Bank', 'Clearcoin', 'Connectjob', 'Valorem Foundation'], datetime.date(2017, 12, 28): ['BANKEX', 'LH-Crypto', 'LiveShow', 'ODMCoin', 'Freedom Streaming', 'Cryptonetix', 'Trade.io', 'U.CASH', 'SwissBorg', 'Crypterium', 'envion (EVN)', 'Covesting', 'AppCoins', 'TravelFlex Coin', 'BitDegree', 'Jibrel Network', 'Gameflip - FLIP (FLP)', 'ViMarket', 'Crowdwiz', 'IUNGO', 'Sharpe Capital', 'BITROAD', 'HOQU', 'Rentberry', 'MinerDog', 'NOAH COIN', 'BitRent', 'Forty Seven Bank', 'Clearcoin', 'Connectjob', 'Valorem Foundation'], datetime.date(2017, 12, 29): ['LH-Crypto', 'LiveShow', 'ODMCoin', 'Freedom Streaming', 'Cryptonetix', 'Trade.io', 'U.CASH', 'SwissBorg', 'Crypterium', 'envion (EVN)', 'Covesting', 'AppCoins', 'TravelFlex Coin', 'BitDegree', 'Jibrel Network', 'Gameflip - FLIP (FLP)', 'ViMarket', 'Crowdwiz', 'IUNGO', 'Sharpe Capital', 'BITROAD', 'HOQU', 'Rentberry', 'MinerDog', 'NOAH COIN', 'BitRent', 'Forty Seven Bank', 'Clearcoin', 'Connectjob', 'Valorem Foundation'], datetime.date(2017, 12, 30): ['LH-Crypto', 'LiveShow', 'ODMCoin', 'Freedom Streaming', 'Cryptonetix', 'Trade.io', 'U.CASH', 'SwissBorg', 'Crypterium', 'envion (EVN)', 'Covesting', 'AppCoins', 'TravelFlex Coin', 'BitDegree', 'Jibrel Network', 'Gameflip - FLIP (FLP)', 'ViMarket', 'Crowdwiz', 'IUNGO', 'Sharpe Capital', 'BITROAD', 'HOQU', 'Rentberry', 'MinerDog', 'NOAH COIN', 'BitRent', 'Forty Seven Bank', 'Clearcoin', 'Connectjob', 'Valorem Foundation'], datetime.date(2017, 12, 31): ['ODMCoin', 'Freedom Streaming', 'Cryptonetix', 'Trade.io', 'U.CASH', 'SwissBorg', 'Crypterium', 'envion (EVN)', 'Covesting', 'AppCoins', 'TravelFlex Coin', 'BitDegree', 'Jibrel Network', 'Gameflip - FLIP (FLP)', 'ViMarket', 'Crowdwiz', 'IUNGO', 'Sharpe Capital', 'BITROAD', 'HOQU', 'Rentberry', 'MinerDog', 'NOAH COIN', 'BitRent', 'Forty Seven Bank', 'Clearcoin', 'Connectjob', 'Valorem Foundation'], datetime.date(2018, 1, 1): ['Trade.io', 'U.CASH', 'SwissBorg', 'Crypterium', 'envion (EVN)', 'Covesting', 'AppCoins', 'TravelFlex Coin', 'BitDegree', 'Jibrel Network', 'Gameflip - FLIP (FLP)', 'ViMarket', 'Crowdwiz', 'ShipChain', 'IUNGO', 'Sharpe Capital', 'BITROAD', 'HOQU', 'Rentberry', 'MinerDog', 'CryptoHawk', 'NOAH COIN', 'BitRent', 'Forty Seven Bank', 'Clearcoin', 'Connectjob', 'Valorem Foundation'], datetime.date(2018, 1, 2): ['Trade.io', 'U.CASH', 'SwissBorg', 'Crypterium', 'envion (EVN)', 'Covesting', 'AppCoins', 'TravelFlex Coin', 'Elastos', 'BitDegree', 'Jibrel Network', 'Gameflip - FLIP (FLP)', 'ViMarket', 'Crowdwiz', 'ShipChain', 'IUNGO', 'Sharpe Capital', 'BITROAD', 'HOQU', 'Rentberry', 'MinerDog', 'CryptoHawk', 'NOAH COIN', 'BitRent', 'Forty Seven Bank', 'Clearcoin', 'Connectjob', 'Valorem Foundation'], datetime.date(2018, 1, 3): ['Trade.io', 'U.CASH', 'SwissBorg', 'Crypterium', 'envion (EVN)', 'Covesting', 'AppCoins', 'TravelFlex Coin', 'Elastos', 'BitDegree', 'Jibrel Network', 'Gameflip - FLIP (FLP)', 'ViMarket', 'Crowdwiz', 'ShipChain', 'IUNGO', 'Sharpe Capital', 'BITROAD', 'HOQU', 'Rentberry', 'MinerDog', 'CryptoHawk', 'NOAH COIN', 'BitRent', 'Forty Seven Bank', 'Clearcoin', 'Connectjob', 'Valorem Foundation'], datetime.date(2018, 1, 4): ['Trade.io', 'U.CASH', 'SwissBorg', 'Crypterium', 'envion (EVN)', 'Covesting', 'AppCoins', 'TravelFlex Coin', 'Elastos', 'BitDegree', 'Jibrel Network', 'Gameflip - FLIP (FLP)', 'ViMarket', 'Crowdwiz', 'ShipChain', 'IUNGO', 'Sharpe Capital', 'BITROAD', 'HOQU', 'Rentberry', 'MinerDog', 'CryptoHawk', 'NOAH COIN', 'BitRent', 'Forty Seven Bank', 'Clearcoin', 'Connectjob', 'Valorem Foundation'], datetime.date(2018, 1, 5): ['U.CASH', 'SwissBorg', 'Crypterium', 'envion (EVN)', 'Covesting', 'AppCoins', 'TravelFlex Coin', 'Elastos', 'BitDegree', 'Jibrel Network', 'Gameflip - FLIP (FLP)', 'ViMarket', 'Crowdwiz', 'ShipChain', 'IUNGO', 'Sharpe Capital', 'BITROAD', 'HOQU', 'Rentberry', 'MinerDog', 'CryptoHawk', 'NOAH COIN', 'BitRent', 'Forty Seven Bank', 'Clearcoin', 'Connectjob', 'Valorem Foundation'], datetime.date(2018, 1, 6): ['U.CASH', 'SwissBorg', 'Crypterium', 'envion (EVN)', 'Covesting', 'AppCoins', 'TravelFlex Coin', 'Elastos', 'BitDegree', 'Jibrel Network', 'Gameflip - FLIP (FLP)', 'ViMarket', 'Crowdwiz', 'ShipChain', 'IUNGO', 'Sharpe Capital', 'BITROAD', 'HOQU', 'Rentberry', 'MinerDog', 'CryptoHawk', 'NOAH COIN', 'BitRent', 'Forty Seven Bank', 'Clearcoin', 'Connectjob', 'Valorem Foundation'], datetime.date(2018, 1, 7): ['U.CASH', 'SwissBorg', 'Crypterium', 'envion (EVN)', 'Covesting', 'AppCoins', 'TravelFlex Coin', 'Elastos', 'BitDegree', 'Jibrel Network', 'Gameflip - FLIP (FLP)', 'ViMarket', 'Crowdwiz', 'ShipChain', 'IUNGO', 'Sharpe Capital', 'BITROAD', 'HOQU', 'Rentberry', 'MinerDog', 'CryptoHawk', 'NOAH COIN', 'BitRent', 'Forty Seven Bank', 'Clearcoin', 'Connectjob', 'Valorem Foundation'], datetime.date(2018, 1, 8): ['SwissBorg', 'Crypterium', 'envion (EVN)', 'Covesting', 'AppCoins', 'TravelFlex Coin', 'Elastos', 'BitDegree', 'Jibrel Network', 'Gameflip - FLIP (FLP)', 'ViMarket', 'Crowdwiz', 'ShipChain', 'IUNGO', 'Sharpe Capital', 'BITROAD', 'HOQU', 'Rentberry', 'MinerDog', 'CryptoHawk', 'Sp8de', 'NOAH COIN', 'BitRent', 'Forty Seven Bank', 'Clearcoin', 'Connectjob', 'Valorem Foundation'], datetime.date(2018, 1, 9): ['SwissBorg', 'Crypterium', 'envion (EVN)', 'Covesting', 'AppCoins', 'TravelFlex Coin', 'Elastos', 'BitDegree', 'Jibrel Network', 'Gameflip - FLIP (FLP)', 'ViMarket', 'Crowdwiz', 'ShipChain', 'IUNGO', 'Sharpe Capital', 'BITROAD', 'HOQU', 'Rentberry', 'MinerDog', 'CryptoHawk', 'Sp8de', 'NOAH COIN', 'BitRent', 'Forty Seven Bank', 'Clearcoin', 'Connectjob', 'Valorem Foundation'], datetime.date(2018, 1, 10): ['SwissBorg', 'Crypterium', 'envion (EVN)', 'Covesting', 'AppCoins', 'TravelFlex Coin', 'Elastos', 'BitDegree', 'Jibrel Network', 'Gameflip - FLIP (FLP)', 'ViMarket', 'Crowdwiz', 'ShipChain', 'IUNGO', 'Sharpe Capital', 'BITROAD', 'HOQU', 'Rentberry', 'MinerDog', 'CryptoHawk', 'Sp8de', 'NOAH COIN', 'BitRent', 'Forty Seven Bank', 'Clearcoin', 'Connectjob', 'Valorem Foundation'], datetime.date(2018, 1, 11): ['Crypterium', 'envion (EVN)', 'Covesting', 'AppCoins', 'TravelFlex Coin', 'Elastos', 'BitDegree', 'Jibrel Network', 'Gameflip - FLIP (FLP)', 'ViMarket', 'Crowdwiz', 'ShipChain', 'IUNGO', 'Sharpe Capital', 'BITROAD', 'HOQU', 'Rentberry', 'MinerDog', 'CryptoHawk', 'Sp8de', 'NOAH COIN', 'BitRent', 'Forty Seven Bank', 'Clearcoin', 'Connectjob', 'Valorem Foundation'], datetime.date(2018, 1, 12): ['Crypterium', 'envion (EVN)', 'Covesting', 'AppCoins', 'TravelFlex Coin', 'Elastos', 'BitDegree', 'Jibrel Network', 'Gameflip - FLIP (FLP)', 'ViMarket', 'Crowdwiz', 'ShipChain', 'IUNGO', 'Sharpe Capital', 'BITROAD', 'HOQU', 'Rentberry', 'MinerDog', 'CryptoHawk', 'Sp8de', 'NOAH COIN', 'BitRent', 'Forty Seven Bank', 'Clearcoin', 'Connectjob', 'Valorem Foundation'], datetime.date(2018, 1, 13): ['Crypterium', 'envion (EVN)', 'Covesting', 'AppCoins', 'TravelFlex Coin', 'Elastos', 'BitDegree', 'Jibrel Network', 'Gameflip - FLIP (FLP)', 'ViMarket', 'Crowdwiz', 'ShipChain', 'IUNGO', 'Sharpe Capital', 'BITROAD', 'HOQU', 'Rentberry', 'MinerDog', 'CryptoHawk', 'Sp8de', 'NOAH COIN', 'BitRent', 'Forty Seven Bank', 'Clearcoin', 'Connectjob', 'Valorem Foundation'], datetime.date(2018, 1, 14): ['Crypterium', 'envion (EVN)', 'Gatcoin', 'Covesting', 'AppCoins', 'TravelFlex Coin', 'Elastos', 'BitDegree', 'Jibrel Network', 'Gameflip - FLIP (FLP)', 'ViMarket', 'Crowdwiz', 'ShipChain', 'IUNGO', 'Sharpe Capital', 'BITROAD', 'HOQU', 'Rentberry', 'MinerDog', 'CryptoHawk', 'Sp8de', 'NOAH COIN', 'BitRent', 'Forty Seven Bank', 'Clearcoin', 'Connectjob', 'Valorem Foundation'], datetime.date(2018, 1, 15): ['Covesting', 'AppCoins', 'TravelFlex Coin', 'Elastos', 'BitDegree', 'Jibrel Network', 'Gameflip - FLIP (FLP)', 'ViMarket', 'Crowdwiz', 'ShipChain', 'IUNGO', 'Sharpe Capital', 'REDMegaWatt', 'BITROAD', 'HOQU', 'Rentberry', 'MinerDog', 'CryptoHawk', 'Sp8de', 'NOAH COIN', 'BitRent', 'Forty Seven Bank', 'Clearcoin', 'Connectjob', 'Valorem Foundation'], datetime.date(2018, 1, 16): ['TravelFlex Coin', 'Elastos', 'BitDegree', 'Jibrel Network', 'Gameflip - FLIP (FLP)', 'ViMarket', 'Crowdwiz', 'ShipChain', 'IUNGO', 'AidCoin', 'Sharpe Capital', 'REDMegaWatt', 'MATRIX', 'BITROAD', 'HOQU', 'Rentberry', 'Blocklancer', 'MinerDog', 'CryptoHawk', 'Sp8de', 'NOAH COIN', 'BitRent', 'Forty Seven Bank', 'Clearcoin', 'Connectjob', 'Valorem Foundation'], datetime.date(2018, 1, 17): ['TravelFlex Coin', 'Elastos', 'BitDegree', 'Jibrel Network', 'Gameflip - FLIP (FLP)', 'ViMarket', 'Crowdwiz', 'ShipChain', 'IUNGO', 'AidCoin', 'Sharpe Capital', 'REDMegaWatt', 'MATRIX', 'BITROAD', 'HOQU', 'Rentberry', 'Blocklancer', 'MinerDog', 'CryptoHawk', 'Sp8de', 'NOAH COIN', 'BitRent', 'Forty Seven Bank', 'Clearcoin', 'Connectjob', 'Valorem Foundation'], datetime.date(2018, 1, 18): ['TravelFlex Coin', 'Elastos', 'BitDegree', 'Jibrel Network', 'Gameflip - FLIP (FLP)', 'ViMarket', 'Crowdwiz', 'ShipChain', 'IUNGO', 'AidCoin', 'Sharpe Capital', 'REDMegaWatt', 'MATRIX', 'BITROAD', 'HOQU', 'Rentberry', 'Blocklancer', 'MinerDog', 'CryptoHawk', 'Sp8de', 'NOAH COIN', 'BitRent', 'Forty Seven Bank', 'Clearcoin', 'Connectjob', 'Valorem Foundation'], datetime.date(2018, 1, 19): ['TravelFlex Coin', 'Elastos', 'BitDegree', 'Jibrel Network', 'Gameflip - FLIP (FLP)', 'ViMarket', 'Crowdwiz', 'ShipChain', 'IUNGO', 'AidCoin', 'Sharpe Capital', 'REDMegaWatt', 'MATRIX', 'BITROAD', 'HOQU', 'Rentberry', 'Blocklancer', 'MinerDog', 'CryptoHawk', 'Sp8de', 'NOAH COIN', 'BitRent', 'Forty Seven Bank', 'Clearcoin', 'Connectjob', 'Valorem Foundation'], datetime.date(2018, 1, 20): ['TravelFlex Coin', 'Elastos', 'BitDegree', 'Jibrel Network', 'Gameflip - FLIP (FLP)', 'ViMarket', 'Crowdwiz', 'ShipChain', 'IUNGO', 'AidCoin', 'Sharpe Capital', 'REDMegaWatt', 'MATRIX', 'BITROAD', 'HOQU', 'Rentberry', 'Blocklancer', 'MinerDog', 'CryptoHawk', 'Sp8de', 'NOAH COIN', 'BitRent', 'Forty Seven Bank', 'Clearcoin', 'Connectjob', 'Valorem Foundation'], datetime.date(2018, 1, 21): ['TravelFlex Coin', 'Elastos', 'BitDegree', 'Jibrel Network', 'Gameflip - FLIP (FLP)', 'ViMarket', 'Crowdwiz', 'ShipChain', 'IUNGO', 'AidCoin', 'Sharpe Capital', 'REDMegaWatt', 'MATRIX', 'BITROAD', 'HOQU', 'Rentberry', 'Blocklancer', 'MinerDog', 'CryptoHawk', 'Sp8de', 'NOAH COIN', 'BitRent', 'Forty Seven Bank', 'Clearcoin', 'Connectjob', 'Valorem Foundation'], datetime.date(2018, 1, 22): ['TravelFlex Coin', 'Elastos', 'BitDegree', 'Jibrel Network', 'Gameflip - FLIP (FLP)', 'ViMarket', 'Crowdwiz', 'ShipChain', 'IUNGO', 'AidCoin', 'Sharpe Capital', 'REDMegaWatt', 'MATRIX', 'BITROAD', 'HOQU', 'Rentberry', 'DADI', 'Blocklancer', 'MinerDog', 'NapoleonX', 'CryptoHawk', 'Sp8de', 'NOAH COIN', 'BitRent', 'Forty Seven Bank', 'Clearcoin', 'Connectjob', 'Valorem Foundation'], datetime.date(2018, 1, 23): ['Elastos', 'BitDegree', 'Jibrel Network', 'Gameflip - FLIP (FLP)', 'ViMarket', 'Crowdwiz', 'ShipChain', 'IUNGO', 'AidCoin', 'Sharpe Capital', 'REDMegaWatt', 'MATRIX', 'BITROAD', 'HOQU', 'MARK.SPACE', 'Rentberry', 'DADI', 'Blocklancer', 'MinerDog', 'NapoleonX', 'CryptoHawk', 'Sp8de', 'NOAH COIN', 'BitRent', 'Forty Seven Bank', 'Clearcoin', 'Connectjob', 'Valorem Foundation'], datetime.date(2018, 1, 24): ['BitDegree', 'Jibrel Network', 'Gameflip - FLIP (FLP)', 'ViMarket', 'Crowdwiz', 'ShipChain', 'IUNGO', 'AidCoin', 'Sharpe Capital', 'REDMegaWatt', 'MATRIX', 'BITROAD', 'HOQU', 'MARK.SPACE', 'Rentberry', 'DADI', 'Blocklancer', 'MinerDog', 'NapoleonX', 'CryptoHawk', 'Sp8de', 'NOAH COIN', 'BitRent', 'Forty Seven Bank', 'Clearcoin', 'Connectjob', 'Valorem Foundation'], datetime.date(2018, 1, 25): ['BitDegree', 'Jibrel Network', 'Gameflip - FLIP (FLP)', 'ViMarket', 'Crowdwiz', 'ShipChain', 'IUNGO', 'AidCoin', 'Sharpe Capital', 'REDMegaWatt', 'MATRIX', 'BITROAD', 'HOQU', 'MARK.SPACE', 'Rentberry', 'DADI', 'Blocklancer', 'MinerDog', 'NapoleonX', 'CryptoHawk', 'Serenity', 'Sp8de', 'NOAH COIN', 'BitRent', 'Forty Seven Bank', 'Clearcoin', 'Connectjob', 'Valorem Foundation'], datetime.date(2018, 1, 26): ['Jibrel Network', 'Gameflip - FLIP (FLP)', 'ViMarket', 'Crowdwiz', 'ShipChain', 'IUNGO', 'AidCoin', 'Sharpe Capital', 'REDMegaWatt', 'MATRIX', 'BITROAD', 'HOQU', 'MARK.SPACE', 'Rentberry', 'DADI', 'Blocklancer', 'MinerDog', 'NapoleonX', 'CryptoHawk', 'Serenity', 'Sp8de', 'NOAH COIN', 'BitRent', 'Forty Seven Bank', 'Clearcoin', 'Connectjob', 'Valorem Foundation'], datetime.date(2018, 1, 27): ['Gameflip - FLIP (FLP)', 'ViMarket', 'Crowdwiz', 'ShipChain', 'IUNGO', 'AidCoin', 'Sharpe Capital', 'REDMegaWatt', 'MATRIX', 'BITROAD', 'HOQU', 'MARK.SPACE', 'Rentberry', 'DADI', 'Blocklancer', 'MinerDog', 'NapoleonX', 'CryptoHawk', 'Serenity', 'Sp8de', 'NOAH COIN', 'BitRent', 'Forty Seven Bank', 'Clearcoin', 'Connectjob', 'Valorem Foundation'], datetime.date(2018, 1, 28): ['Gameflip - FLIP (FLP)', 'ViMarket', 'Crowdwiz', 'ShipChain', 'IUNGO', 'AidCoin', 'Sharpe Capital', 'REDMegaWatt', 'MATRIX', 'BITROAD', 'HOQU', 'MARK.SPACE', 'Rentberry', 'DADI', 'Blocklancer', 'MinerDog', 'NapoleonX', 'CryptoHawk', 'Serenity', 'Sp8de', 'NOAH COIN', 'BitRent', 'Forty Seven Bank', 'Clearcoin', 'Connectjob', 'Valorem Foundation'], datetime.date(2018, 1, 29): ['Gameflip - FLIP (FLP)', 'ViMarket', 'Crowdwiz', 'ShipChain', 'IUNGO', 'AidCoin', 'Sharpe Capital', 'REDMegaWatt', 'MATRIX', 'BITROAD', 'HOQU', 'MARK.SPACE', 'Rentberry', 'DADI', 'Blocklancer', 'MinerDog', 'NapoleonX', 'CryptoHawk', 'Serenity', 'Sp8de', 'NOAH COIN', 'WAWLLET', 'BitRent', 'Forty Seven Bank', 'Clearcoin', 'Connectjob', 'Valorem Foundation'], datetime.date(2018, 1, 30): ['ViMarket', 'Crowdwiz', 'ShipChain', 'IUNGO', 'AidCoin', 'Sharpe Capital', 'REDMegaWatt', 'MATRIX', 'BITROAD', 'HOQU', 'MARK.SPACE', 'Rentberry', 'DADI', 'Blocklancer', 'MinerDog', 'NapoleonX', 'CryptoHawk', 'Serenity', 'Sp8de', 'NOAH COIN', 'WAWLLET', 'BitRent', 'Forty Seven Bank', 'Clearcoin', 'Connectjob', 'Valorem Foundation', 'Darico'], datetime.date(2018, 1, 31): ['ViMarket', 'Crowdwiz', 'ShipChain', 'IUNGO', 'AidCoin', 'Sharpe Capital', 'REDMegaWatt', 'MATRIX', 'BITROAD', 'HOQU', 'MARK.SPACE', 'Rentberry', 'DADI', 'Blocklancer', 'MinerDog', 'NapoleonX', 'CryptoHawk', 'Serenity', 'Sp8de', 'NOAH COIN', 'WAWLLET', 'BitRent', 'Forty Seven Bank', 'Clearcoin', 'Connectjob', 'Valorem Foundation', 'Darico'], datetime.date(2018, 2, 1): ['AidCoin', 'WePower', 'Sharpe Capital', 'Fusion', 'REDMegaWatt', 'MATRIX', 'BITROAD', 'HOQU', 'MARK.SPACE', 'Rentberry', 'DADI', 'Blocklancer', 'MinerDog', 'NapoleonX', 'CryptoHawk', 'Corusblock', 'MedicalChain', 'Serenity', 'Sp8de', 'NOAH COIN', 'WAWLLET', 'BitRent', 'Forty Seven Bank', 'Clearcoin', 'Connectjob', 'Valorem Foundation', 'Darico'], datetime.date(2018, 2, 2): ['WePower', 'Sharpe Capital', 'Fusion', 'REDMegaWatt', 'MATRIX', 'BITROAD', 'HOQU', 'MARK.SPACE', 'Rentberry', 'DADI', 'Blocklancer', 'MinerDog', 'NapoleonX', 'CryptoHawk', 'Corusblock', 'MedicalChain', 'Serenity', 'Sp8de', 'NOAH COIN', 'WAWLLET', 'BitRent', 'Forty Seven Bank', 'Clearcoin', 'Connectjob', 'Valorem Foundation', 'Darico'], datetime.date(2018, 2, 3): ['Sharpe Capital', 'ArcBlock', 'Fusion', 'REDMegaWatt', 'MATRIX', 'BITROAD', 'HOQU', 'MARK.SPACE', 'Rentberry', 'DADI', 'Blocklancer', 'MinerDog', 'NapoleonX', 'CryptoHawk', 'Corusblock', 'MedicalChain', 'Serenity', 'Sp8de', 'NOAH COIN', 'WAWLLET', 'BitRent', 'Forty Seven Bank', 'Clearcoin', 'Connectjob', 'Valorem Foundation', 'Darico'], datetime.date(2018, 2, 4): ['Sharpe Capital', 'ArcBlock', 'Fusion', 'REDMegaWatt', 'MATRIX', 'BITROAD', 'HOQU', 'MARK.SPACE', 'Rentberry', 'DADI', 'Blocklancer', 'MinerDog', 'NapoleonX', 'CryptoHawk', 'Corusblock', 'MedicalChain', 'Serenity', 'Sp8de', 'NOAH COIN', 'WAWLLET', 'BitRent', 'Forty Seven Bank', 'Clearcoin', 'Connectjob', 'Valorem Foundation', 'Darico'], datetime.date(2018, 2, 5): ['Sharpe Capital', 'ArcBlock', 'Fusion', 'REDMegaWatt', 'MATRIX', 'BITROAD', 'HOQU', 'MARK.SPACE', 'Rentberry', 'DADI', 'Blocklancer', 'MinerDog', 'NapoleonX', 'CryptoHawk', 'Corusblock', 'MedicalChain', 'Serenity', 'Sp8de', 'NOAH COIN', 'WAWLLET', 'BitRent', 'Forty Seven Bank', 'Clearcoin', 'Connectjob', 'Valorem Foundation', 'Darico'], datetime.date(2018, 2, 6): ['ArcBlock', 'Fusion', 'REDMegaWatt', 'MATRIX', 'BITROAD', 'BABB', 'HOQU', 'MARK.SPACE', 'Rentberry', 'DADI', 'Blocklancer', 'MinerDog', 'NapoleonX', 'CryptoHawk', 'Corusblock', 'MedicalChain', 'Serenity', 'Sp8de', 'NOAH COIN', 'WAWLLET', 'BitRent', 'Forty Seven Bank', 'Clearcoin', 'Connectjob', 'Valorem Foundation', 'Darico'], datetime.date(2018, 2, 7): ['ArcBlock', 'Fusion', 'REDMegaWatt', 'Dether', 'MATRIX', 'BITROAD', 'BABB', 'HOQU', 'MARK.SPACE', 'Rentberry', 'DADI', 'Blocklancer', 'MinerDog', 'NapoleonX', 'CryptoHawk', 'Corusblock', 'MedicalChain', 'Serenity', 'Sp8de', 'NOAH COIN', 'WAWLLET', 'BitRent', 'Forty Seven Bank', 'Clearcoin', 'Connectjob', 'Valorem Foundation', 'Darico'], datetime.date(2018, 2, 8): ['ArcBlock', 'Fusion', 'REDMegaWatt', 'Dether', 'MATRIX', 'BITROAD', 'BABB', 'HOQU', 'MARK.SPACE', 'Rentberry', 'DADI', 'Blocklancer', 'MinerDog', 'NapoleonX', 'CryptoHawk', 'Corusblock', 'MedicalChain', 'Serenity', 'Sp8de', 'NOAH COIN', 'WAWLLET', 'BitRent', 'Forty Seven Bank', 'Clearcoin', 'Connectjob', 'Valorem Foundation', 'Darico'], datetime.date(2018, 2, 9): ['ArcBlock', 'Fusion', 'REDMegaWatt', 'Dether', 'MATRIX', 'BITROAD', 'BABB', 'HOQU', 'MARK.SPACE', 'Rentberry', 'DADI', 'Blocklancer', 'MinerDog', 'NapoleonX', 'CryptoHawk', 'Corusblock', 'MedicalChain', 'Serenity', 'Sp8de', 'NOAH COIN', 'WAWLLET', 'BitRent', 'Forty Seven Bank', 'Clearcoin', 'Connectjob', 'Valorem Foundation', 'Darico'], datetime.date(2018, 2, 10): ['ArcBlock', 'Fusion', 'REDMegaWatt', 'Dether', 'MATRIX', 'BITROAD', 'BABB', 'HOQU', 'MARK.SPACE', 'Rentberry', 'DADI', 'Blocklancer', 'MinerDog', 'NapoleonX', 'CryptoHawk', 'Corusblock', 'MedicalChain', 'Serenity', 'Sp8de', 'NOAH COIN', 'WAWLLET', 'BitRent', 'Forty Seven Bank', 'Clearcoin', 'Connectjob', 'Valorem Foundation', 'Darico'], datetime.date(2018, 2, 11): ['REDMegaWatt', 'Dether', 'MATRIX', 'BITROAD', 'BABB', 'HOQU', 'MARK.SPACE', 'Rentberry', 'DADI', 'Blocklancer', 'MinerDog', 'NapoleonX', 'CryptoHawk', 'Corusblock', 'MedicalChain', 'Serenity', 'Sp8de', 'NOAH COIN', 'WAWLLET', 'BitRent', 'Forty Seven Bank', 'Clearcoin', 'Connectjob', 'Valorem Foundation', 'Darico'], datetime.date(2018, 2, 12): ['REDMegaWatt', 'Dether', 'MATRIX', 'BITROAD', 'BABB', 'HOQU', 'MARK.SPACE', 'Rentberry', 'DADI', 'Blocklancer', 'MinerDog', 'NapoleonX', 'CryptoHawk', 'Corusblock', 'MedicalChain', 'Serenity', 'Sp8de', 'Refereum', 'NOAH COIN', 'WAWLLET', 'BitRent', 'Forty Seven Bank', 'Clearcoin', 'Connectjob', 'Valorem Foundation', 'Darico'], datetime.date(2018, 2, 13): ['Dether', 'MATRIX', 'BITROAD', 'BABB', 'HOQU', 'MARK.SPACE', 'Rentberry', 'DADI', 'Blocklancer', 'MinerDog', 'NapoleonX', 'CryptoHawk', 'Corusblock', 'MedicalChain', 'Serenity', 'Sp8de', 'Refereum', 'NOAH COIN', 'WAWLLET', 'BitRent', 'Forty Seven Bank', 'Clearcoin', 'Connectjob', 'Valorem Foundation', 'Darico'], datetime.date(2018, 2, 14): ['Dether', 'MATRIX', 'BITROAD', 'BABB', 'HOQU', 'MARK.SPACE', 'Rentberry', 'DADI', 'Blocklancer', 'MinerDog', 'NapoleonX', 'CryptoHawk', 'Corusblock', 'MedicalChain', 'Serenity', 'Sp8de', 'Refereum', 'NOAH COIN', 'WAWLLET', 'BitRent', 'Forty Seven Bank', 'Clearcoin', 'Connectjob', 'Valorem Foundation', 'Darico'], datetime.date(2018, 2, 15): ['MATRIX', 'BITROAD', 'BABB', 'HOQU', 'MARK.SPACE', 'Rentberry', 'DADI', 'Blocklancer', 'CREDITS', 'MinerDog', 'NapoleonX', 'CryptoHawk', 'Corusblock', 'MedicalChain', 'Serenity', 'Sp8de', 'Refereum', 'Dragon Inc', 'SyncFab', 'NOAH COIN', 'WAWLLET', 'BitRent', 'Forty Seven Bank', 'Clearcoin', 'Fabric Token', 'Otcrit', 'Connectjob', 'Valorem Foundation', 'Darico'], datetime.date(2018, 2, 16): ['BITROAD', 'BABB', 'HOQU', 'MARK.SPACE', 'Rentberry', 'DADI', 'Blocklancer', 'CREDITS', 'MinerDog', 'NapoleonX', 'CryptoHawk', 'Corusblock', 'MedicalChain', 'Serenity', 'Sp8de', 'Refereum', 'Dragon Inc', 'SyncFab', 'NOAH COIN', 'WAWLLET', 'BitRent', 'Forty Seven Bank', 'Clearcoin', 'Fabric Token', 'Otcrit', 'Connectjob', 'Valorem Foundation', 'Darico'], datetime.date(2018, 2, 17): ['BITROAD', 'BABB', 'HOQU', 'MARK.SPACE', 'Rentberry', 'DADI', 'Blocklancer', 'Lympo', 'CREDITS', 'MinerDog', 'NapoleonX', 'CryptoHawk', 'Corusblock', 'MedicalChain', 'Serenity', 'Sp8de', 'Refereum', 'Dragon Inc', 'SyncFab', 'NOAH COIN', 'WAWLLET', 'BitRent', 'Forty Seven Bank', 'Clearcoin', 'Fabric Token', 'Otcrit', 'Connectjob', 'Valorem Foundation', 'Darico'], datetime.date(2018, 2, 18): ['BITROAD', 'BABB', 'HOQU', 'MARK.SPACE', 'Rentberry', 'DADI', 'Blocklancer', 'Lympo', 'CREDITS', 'MinerDog', 'NapoleonX', 'CryptoHawk', 'Corusblock', 'MedicalChain', 'Serenity', 'Sp8de', 'Refereum', 'Dragon Inc', 'SyncFab', 'NOAH COIN', 'WAWLLET', 'BitRent', 'Forty Seven Bank', 'Clearcoin', 'Fabric Token', 'Otcrit', 'Connectjob', 'Valorem Foundation', 'Darico'], datetime.date(2018, 2, 19): ['BITROAD', 'BABB', 'HOQU', 'MARK.SPACE', 'Rentberry', 'DADI', 'Blocklancer', 'Lympo', 'CREDITS', 'MinerDog', 'NapoleonX', 'CryptoHawk', 'Corusblock', 'MedicalChain', 'Serenity', 'Sp8de', 'Refereum', 'Dragon Inc', 'SyncFab', 'NOAH COIN', 'WAWLLET', 'BitRent', 'Forty Seven Bank', 'AB-CHAIN', 'Clearcoin', 'Fabric Token', 'Otcrit', 'Connectjob', 'Valorem Foundation', 'Darico'], datetime.date(2018, 2, 20): ['BITROAD', 'BABB', 'HOQU', 'MARK.SPACE', 'Rentberry', 'DADI', 'Blocklancer', 'Lympo', 'CREDITS', 'MinerDog', 'NapoleonX', 'CryptoHawk', 'Corusblock', 'MedicalChain', 'Serenity', 'Sp8de', 'Refereum', 'Dragon Inc', 'SyncFab', 'NOAH COIN', 'WAWLLET', 'BitRent', 'Forty Seven Bank', 'AB-CHAIN', 'Clearcoin', 'Fabric Token', 'Otcrit', 'Connectjob', 'Valorem Foundation', 'Darico'], datetime.date(2018, 2, 21): ['BABB', 'HOQU', 'MARK.SPACE', 'Rentberry', 'DADI', 'Blocklancer', 'Lympo', 'CREDITS', 'MinerDog', 'NapoleonX', 'CryptoHawk', 'Corusblock', 'MedicalChain', 'Serenity', 'Sp8de', 'Refereum', 'Dragon Inc', 'SyncFab', 'NOAH COIN', 'WAWLLET', 'BitRent', 'Forty Seven Bank', 'AB-CHAIN', 'Clearcoin', 'Fabric Token', 'Otcrit', 'Connectjob', 'Valorem Foundation', 'Darico'], datetime.date(2018, 2, 22): ['HOQU', 'MARK.SPACE', 'Rentberry', 'DADI', 'Blocklancer', 'Lympo', 'CREDITS', 'MinerDog', 'NapoleonX', 'CryptoHawk', 'Corusblock', 'MedicalChain', 'Serenity', 'Sp8de', 'Refereum', 'Dragon Inc', 'SyncFab', 'NOAH COIN', 'Cappasity', 'WAWLLET', 'BitRent', 'Forty Seven Bank', 'AB-CHAIN', 'Clearcoin', 'Fabric Token', 'Otcrit', 'Connectjob', 'Valorem Foundation', 'Darico'], datetime.date(2018, 2, 23): ['HOQU', 'MARK.SPACE', 'Rentberry', 'DADI', 'Blocklancer', 'Lympo', 'CREDITS', 'MinerDog', 'NapoleonX', 'CryptoHawk', 'Corusblock', 'MedicalChain', 'Serenity', 'Sp8de', 'Refereum', 'Dragon Inc', 'SyncFab', 'NOAH COIN', 'Cappasity', 'Origami Network', 'WAWLLET', 'BitRent', 'Forty Seven Bank', 'AB-CHAIN', 'Clearcoin', 'Fabric Token', 'Otcrit', 'Connectjob', 'Valorem Foundation', 'Darico'], datetime.date(2018, 2, 24): ['HOQU', 'MARK.SPACE', 'Rentberry', 'DADI', 'Blocklancer', 'Lympo', 'CREDITS', 'MinerDog', 'NapoleonX', 'CryptoHawk', 'Corusblock', 'MedicalChain', 'Serenity', 'Safe Haven', 'Sp8de', 'Refereum', 'Dragon Inc', 'SyncFab', 'NOAH COIN', 'Cappasity', 'Origami Network', 'WAWLLET', 'BitRent', 'Forty Seven Bank', 'AB-CHAIN', 'Clearcoin', 'Fabric Token', 'Otcrit', 'Connectjob', 'Valorem Foundation', 'Darico'], datetime.date(2018, 2, 25): ['HOQU', 'MARK.SPACE', 'Rentberry', 'DADI', 'Blocklancer', 'Lympo', 'CREDITS', 'MinerDog', 'NapoleonX', 'CryptoHawk', 'Corusblock', 'MedicalChain', 'Serenity', 'Safe Haven', 'Sp8de', 'Refereum', 'Dragon Inc', 'SyncFab', 'NOAH COIN', 'Cappasity', 'Origami Network', 'WAWLLET', 'BitRent', 'Forty Seven Bank', 'AB-CHAIN', 'Clearcoin', 'Fabric Token', 'Otcrit', 'Connectjob', 'Valorem Foundation', 'Darico'], datetime.date(2018, 2, 26): ['MARK.SPACE', 'Rentberry', 'DADI', 'Blocklancer', 'Lympo', 'Nucleus.Vision', 'CREDITS', 'MinerDog', 'NapoleonX', 'CryptoHawk', 'Corusblock', 'MedicalChain', 'Serenity', 'Safe Haven', 'Sp8de', 'Refereum', 'Dragon Inc', 'SyncFab', 'NOAH COIN', 'Cappasity', 'Origami Network', 'WAWLLET', 'BitRent', 'Forty Seven Bank', 'AB-CHAIN', 'Clearcoin', 'Fabric Token', 'Otcrit', 'Connectjob', 'Valorem Foundation', 'Darico'], datetime.date(2018, 2, 27): ['MARK.SPACE', 'Rentberry', 'DADI', 'Blocklancer', 'Lympo', 'Nucleus.Vision', 'CREDITS', 'MinerDog', 'NapoleonX', 'CryptoHawk', 'Corusblock', 'MedicalChain', 'Serenity', 'Safe Haven', 'Sp8de', 'Refereum', 'Dragon Inc', 'SyncFab', 'NOAH COIN', 'Cappasity', 'Origami Network', 'WAWLLET', 'BitRent', 'Forty Seven Bank', 'AB-CHAIN', 'Clearcoin', 'Fabric Token', 'Otcrit', 'Connectjob', 'Valorem Foundation', 'Darico'], datetime.date(2018, 2, 28): ['MARK.SPACE', 'Rentberry', 'DADI', 'Blocklancer', 'Lympo', 'Nucleus.Vision', 'CREDITS', 'MinerDog', 'NapoleonX', 'CryptoHawk', 'Corusblock', 'MedicalChain', 'Jet8', 'Havven', 'Serenity', 'Safe Haven', 'Sp8de', 'Refereum', 'Dragon Inc', 'SyncFab', 'NOAH COIN', 'Cappasity', 'Origami Network', 'WAWLLET', 'BitRent', 'Forty Seven Bank', 'AB-CHAIN', 'Clearcoin', 'Fabric Token', 'Otcrit', 'Connectjob', 'Transcodium', 'Valorem Foundation', 'Darico'], datetime.date(2018, 3, 1): ['Corusblock', 'MedicalChain', 'Jet8', 'Havven', 'Serenity', 'Safe Haven', 'Sp8de', 'LeadCoin', 'Refereum', 'Dragon Inc', 'SyncFab', 'NOAH COIN', 'Cappasity', 'Origami Network', 'WAWLLET', 'BitRent', 'Forty Seven Bank', 'AB-CHAIN', 'Clearcoin', 'Fabric Token', 'Otcrit', 'Connectjob', 'Transcodium', 'Valorem Foundation', 'Darico'], datetime.date(2018, 3, 2): ['Jet8', 'Havven', 'Serenity', 'Safe Haven', 'Sp8de', 'LeadCoin', 'Refereum', 'Dragon Inc', 'SyncFab', 'NOAH COIN', 'Cappasity', 'Origami Network', 'WAWLLET', 'BitRent', 'Forty Seven Bank', 'AB-CHAIN', 'Clearcoin', 'Fabric Token', 'Otcrit', 'Connectjob', 'Transcodium', 'Valorem Foundation', 'Darico'], datetime.date(2018, 3, 3): ['Jet8', 'Havven', 'Serenity', 'Safe Haven', 'Sp8de', 'LeadCoin', 'Refereum', 'Dragon Inc', 'SyncFab', 'NOAH COIN', 'Cappasity', 'Origami Network', 'WAWLLET', 'BitRent', 'Forty Seven Bank', 'AB-CHAIN', 'Clearcoin', 'Fabric Token', 'PAYSURA', 'Otcrit', 'Connectjob', 'Transcodium', 'Valorem Foundation', 'Darico'], datetime.date(2018, 3, 4): ['Jet8', 'Havven', 'Serenity', 'Safe Haven', 'Sp8de', 'LeadCoin', 'Refereum', 'Dragon Inc', 'SyncFab', 'NOAH COIN', 'Cappasity', 'Origami Network', 'WAWLLET', 'BitRent', 'Forty Seven Bank', 'AB-CHAIN', 'Clearcoin', 'Fabric Token', 'PAYSURA', 'Otcrit', 'Connectjob', 'Transcodium', 'Valorem Foundation', 'Darico'], datetime.date(2018, 3, 5): ['Jet8', 'Havven', 'Serenity', 'Safe Haven', 'Sp8de', 'LeadCoin', 'Refereum', 'Dragon Inc', 'SyncFab', 'NOAH COIN', 'Cappasity', 'Origami Network', 'WAWLLET', 'BitRent', 'Forty Seven Bank', 'AB-CHAIN', 'Clearcoin', 'Fabric Token', 'PAYSURA', 'Otcrit', 'Connectjob', 'Transcodium', 'Valorem Foundation', 'Darico'], datetime.date(2018, 3, 6): ['Jet8', 'Havven', 'Serenity', 'Safe Haven', 'Sp8de', 'LeadCoin', 'Refereum', 'Dragon Inc', 'SyncFab', 'NOAH COIN', 'Cappasity', 'Origami Network', 'WAWLLET', 'BitRent', 'Forty Seven Bank', 'AB-CHAIN', 'Clearcoin', 'Fabric Token', 'PAYSURA', 'Otcrit', 'Connectjob', 'Transcodium', 'Valorem Foundation', 'Darico'], datetime.date(2018, 3, 7): ['Serenity', 'Safe Haven', 'Sp8de', 'LeadCoin', 'Refereum', 'Dragon Inc', 'SyncFab', 'NOAH COIN', 'Cappasity', 'Origami Network', 'WAWLLET', 'BitRent', 'Forty Seven Bank', 'AB-CHAIN', 'Clearcoin', 'Fabric Token', 'PAYSURA', 'Otcrit', 'Connectjob', 'Transcodium', 'Valorem Foundation', 'Darico'], datetime.date(2018, 3, 8): ['Safe Haven', 'Sp8de', 'LeadCoin', 'Refereum', 'Dragon Inc', 'SyncFab', 'NOAH COIN', 'Cappasity', 'Origami Network', 'WAWLLET', 'BitRent', 'Forty Seven Bank', 'AB-CHAIN', 'Clearcoin', 'Fabric Token', 'PAYSURA', 'Otcrit', 'Connectjob', 'Transcodium', 'Valorem Foundation', 'Darico'], datetime.date(2018, 3, 9): ['Safe Haven', 'Sp8de', 'LeadCoin', 'Refereum', 'Dragon Inc', 'SyncFab', 'NOAH COIN', 'Cappasity', 'Origami Network', 'WAWLLET', 'BitRent', 'Forty Seven Bank', 'AB-CHAIN', 'Clearcoin', 'Fabric Token', 'PAYSURA', 'Otcrit', 'Connectjob', 'Transcodium', 'Valorem Foundation', 'Darico'], datetime.date(2018, 3, 10): ['Safe Haven', 'Sp8de', 'LeadCoin', 'Refereum', 'Dragon Inc', 'SyncFab', 'NOAH COIN', 'Cappasity', 'Origami Network', 'WAWLLET', 'BitRent', 'Forty Seven Bank', 'AB-CHAIN', 'Clearcoin', 'Fabric Token', 'PAYSURA', 'Otcrit', 'Connectjob', 'Transcodium', 'Valorem Foundation', 'Darico'], datetime.date(2018, 3, 11): ['Sp8de', 'LeadCoin', 'Refereum', 'Dragon Inc', 'SyncFab', 'NOAH COIN', 'Cappasity', 'Origami Network', 'WAWLLET', 'BitRent', 'Forty Seven Bank', 'AB-CHAIN', 'Clearcoin', 'Fabric Token', 'PAYSURA', 'Otcrit', 'Connectjob', 'Transcodium', 'Valorem Foundation', 'Darico'], datetime.date(2018, 3, 12): ['Refereum', 'Dragon Inc', 'SyncFab', 'NOAH COIN', 'Cappasity', 'Origami Network', 'WAWLLET', 'BitRent', 'Forty Seven Bank', 'AB-CHAIN', 'Clearcoin', 'Fabric Token', 'PAYSURA', 'Otcrit', 'Connectjob', 'Transcodium', 'Valorem Foundation', 'Darico'], datetime.date(2018, 3, 13): ['Dragon Inc', 'SyncFab', 'NOAH COIN', 'Cappasity', 'Origami Network', 'WAWLLET', 'BitRent', 'Forty Seven Bank', 'AB-CHAIN', 'Clearcoin', 'Fabric Token', 'PAYSURA', 'Otcrit', 'Connectjob', 'Transcodium', 'Valorem Foundation', 'Darico'], datetime.date(2018, 3, 14): ['Dragon Inc', 'SyncFab', 'NOAH COIN', 'Cappasity', 'Origami Network', 'WAWLLET', 'BitRent', 'Forty Seven Bank', 'AB-CHAIN', 'Clearcoin', 'Fabric Token', 'PAYSURA', 'Otcrit', 'Connectjob', 'Transcodium', 'Valorem Foundation', 'Darico'], datetime.date(2018, 3, 15): ['Dragon Inc', 'SyncFab', 'NOAH COIN', 'Cappasity', 'Origami Network', 'WAWLLET', 'BitRent', 'Forty Seven Bank', 'AB-CHAIN', 'Clearcoin', 'Fabric Token', 'PAYSURA', 'Otcrit', 'Connectjob', 'Transcodium', 'Valorem Foundation', 'Darico'], datetime.date(2018, 3, 16): ['NOAH COIN', 'Cappasity', 'Origami Network', 'WAWLLET', 'BitRent', 'Forty Seven Bank', 'AB-CHAIN', 'Clearcoin', 'Fabric Token', 'PAYSURA', 'Otcrit', 'Connectjob', 'Transcodium', 'Valorem Foundation', 'Darico'], datetime.date(2018, 3, 17): ['NOAH COIN', 'Cappasity', 'Origami Network', 'WAWLLET', 'BitRent', 'Forty Seven Bank', 'AB-CHAIN', 'Clearcoin', 'Fabric Token', 'PAYSURA', 'Otcrit', 'Connectjob', 'Transcodium', 'Valorem Foundation', 'Darico'], datetime.date(2018, 3, 18): ['NOAH COIN', 'Cappasity', 'Origami Network', 'WAWLLET', 'BitRent', 'Forty Seven Bank', 'AB-CHAIN', 'Clearcoin', 'Fabric Token', 'PAYSURA', 'Otcrit', 'Connectjob', 'Transcodium', 'Valorem Foundation', 'Darico'], datetime.date(2018, 3, 19): ['NOAH COIN', 'Cappasity', 'Origami Network', 'WAWLLET', 'BitRent', 'Forty Seven Bank', 'AB-CHAIN', 'Clearcoin', 'Fabric Token', 'PAYSURA', 'Otcrit', 'Connectjob', 'Transcodium', 'Valorem Foundation', 'Darico'], datetime.date(2018, 3, 20): ['Cappasity', 'Origami Network', 'WAWLLET', 'BitRent', 'Forty Seven Bank', 'AB-CHAIN', 'Clearcoin', 'Fabric Token', 'PAYSURA', 'Otcrit', 'Connectjob', 'Transcodium', 'Valorem Foundation', 'Darico'], datetime.date(2018, 3, 21): ['Cappasity', 'Origami Network', 'WAWLLET', 'BitRent', 'Forty Seven Bank', 'AB-CHAIN', 'Clearcoin', 'Fabric Token', 'PAYSURA', 'Otcrit', 'Connectjob', 'Transcodium', 'Valorem Foundation', 'Darico'], datetime.date(2018, 3, 22): ['Cappasity', 'Origami Network', 'WAWLLET', 'BitRent', 'Forty Seven Bank', 'AB-CHAIN', 'Clearcoin', 'Fabric Token', 'PAYSURA', 'Otcrit', 'Connectjob', 'Transcodium', 'Valorem Foundation', 'Darico'], datetime.date(2018, 3, 23): ['Origami Network', 'WAWLLET', 'BitRent', 'Forty Seven Bank', 'AB-CHAIN', 'Clearcoin', 'Fabric Token', 'PAYSURA', 'Otcrit', 'Connectjob', 'Transcodium', 'Valorem Foundation', 'Darico'], datetime.date(2018, 3, 24): ['WAWLLET', 'BitRent', 'Forty Seven Bank', 'AB-CHAIN', 'Clearcoin', 'Fabric Token', 'PAYSURA', 'Otcrit', 'Connectjob', 'Transcodium', 'Valorem Foundation', 'Darico'], datetime.date(2018, 3, 25): ['WAWLLET', 'BitRent', 'Forty Seven Bank', 'AB-CHAIN', 'Clearcoin', 'Fabric Token', 'PAYSURA', 'Otcrit', 'Connectjob', 'Transcodium', 'Valorem Foundation', 'Darico'], datetime.date(2018, 3, 26): ['WAWLLET', 'BitRent', 'Forty Seven Bank', 'AB-CHAIN', 'Clearcoin', 'Fabric Token', 'PAYSURA', 'Otcrit', 'Connectjob', 'Transcodium', 'Valorem Foundation', 'Darico'], datetime.date(2018, 3, 27): ['WAWLLET', 'BitRent', 'Forty Seven Bank', 'AB-CHAIN', 'Clearcoin', 'Fabric Token', 'PAYSURA', 'Otcrit', 'Connectjob', 'Transcodium', 'Valorem Foundation', 'Darico'], datetime.date(2018, 3, 28): ['WAWLLET', 'BitRent', 'Forty Seven Bank', 'AB-CHAIN', 'Clearcoin', 'Fabric Token', 'PAYSURA', 'Otcrit', 'Connectjob', 'Transcodium', 'Valorem Foundation', 'Darico'], datetime.date(2018, 3, 29): ['WAWLLET', 'BitRent', 'Forty Seven Bank', 'AB-CHAIN', 'Clearcoin', 'Fabric Token', 'PAYSURA', 'Otcrit', 'Connectjob', 'Transcodium', 'Valorem Foundation', 'Darico'], datetime.date(2018, 3, 30): ['WAWLLET', 'BitRent', 'Forty Seven Bank', 'AB-CHAIN', 'Clearcoin', 'Fabric Token', 'PAYSURA', 'Otcrit', 'Connectjob', 'Transcodium', 'Valorem Foundation', 'Darico'], datetime.date(2018, 3, 31): ['BitRent', 'Forty Seven Bank', 'AB-CHAIN', 'Clearcoin', 'Fabric Token', 'PAYSURA', 'Otcrit', 'Connectjob', 'Transcodium', 'Valorem Foundation', 'Darico'], datetime.date(2018, 4, 1): ['Fabric Token', 'PAYSURA', 'Otcrit', 'Connectjob', 'Transcodium', 'Valorem Foundation', 'Darico'], datetime.date(2018, 4, 2): ['PAYSURA', 'Otcrit', 'Connectjob', 'Transcodium', 'Valorem Foundation', 'Darico'], datetime.date(2018, 4, 3): ['Otcrit', 'Connectjob', 'Transcodium', 'Valorem Foundation', 'Darico'], datetime.date(2018, 4, 4): ['Otcrit', 'Connectjob', 'Transcodium', 'Valorem Foundation', 'Darico'], datetime.date(2018, 4, 5): ['Otcrit', 'Connectjob', 'Transcodium', 'Valorem Foundation', 'Darico'], datetime.date(2018, 4, 6): ['Otcrit', 'Connectjob', 'Transcodium', 'Valorem Foundation', 'Darico'], datetime.date(2018, 4, 7): ['Otcrit', 'Connectjob', 'Transcodium', 'Valorem Foundation', 'Darico'], datetime.date(2018, 4, 8): ['Otcrit', 'Connectjob', 'Transcodium', 'Valorem Foundation', 'Darico'], datetime.date(2018, 4, 9): ['Otcrit', 'Connectjob', 'Transcodium', 'Valorem Foundation', 'Darico'], datetime.date(2018, 4, 10): ['Otcrit', 'Connectjob', 'Transcodium', 'Valorem Foundation', 'Darico'], datetime.date(2018, 4, 11): ['Otcrit', 'Connectjob', 'Transcodium', 'Valorem Foundation', 'Darico'], datetime.date(2018, 4, 12): ['Otcrit', 'Connectjob', 'DreamTeam', 'Transcodium', 'Valorem Foundation', 'Darico'], datetime.date(2018, 4, 13): ['Otcrit', 'Connectjob', 'DreamTeam', 'Transcodium', 'Valorem Foundation', 'Darico'], datetime.date(2018, 4, 14): ['Otcrit', 'Connectjob', 'DreamTeam', 'Transcodium', 'Valorem Foundation', 'Darico'], datetime.date(2018, 4, 15): ['Otcrit', 'Connectjob', 'DreamTeam', 'Transcodium', 'Valorem Foundation', 'Darico'], datetime.date(2018, 4, 16): ['Otcrit', 'Connectjob', 'DreamTeam', 'Transcodium', 'BIORITMAI', 'WELL', 'Valorem Foundation', 'Darico'], datetime.date(2018, 4, 17): ['Otcrit', 'Connectjob', 'DreamTeam', 'Transcodium', 'BIORITMAI', 'WELL', 'Valorem Foundation', 'Darico'], datetime.date(2018, 4, 18): ['Otcrit', 'Connectjob', 'DreamTeam', 'Transcodium', 'BIORITMAI', 'WELL', 'Valorem Foundation', 'Darico'], datetime.date(2018, 4, 19): ['Otcrit', 'Connectjob', 'DreamTeam', 'Transcodium', 'BIORITMAI', 'WELL', 'Valorem Foundation', 'Darico'], datetime.date(2018, 4, 20): ['Otcrit', 'Connectjob', 'DreamTeam', 'SMOKE', 'Transcodium', 'BIORITMAI', 'WELL', 'Valorem Foundation', 'Darico'], datetime.date(2018, 4, 21): ['Otcrit', 'Connectjob', 'DreamTeam', 'SMOKE', 'Transcodium', 'BIORITMAI', 'WELL', 'Valorem Foundation', 'Darico'], datetime.date(2018, 4, 22): ['Otcrit', 'Connectjob', 'DreamTeam', 'SMOKE', 'Transcodium', 'BIORITMAI', 'WELL', 'Valorem Foundation', 'Darico'], datetime.date(2018, 4, 23): ['Otcrit', 'Connectjob', 'DreamTeam', 'SMOKE', 'Transcodium', 'BIORITMAI', 'WELL', 'Valorem Foundation', 'Darico'], datetime.date(2018, 4, 24): ['Connectjob', 'DreamTeam', 'SMOKE', 'Transcodium', 'BIORITMAI', 'WELL', 'Valorem Foundation', 'Darico'], datetime.date(2018, 4, 25): ['Connectjob', 'DreamTeam', 'SMOKE', 'Transcodium', 'BIORITMAI', 'WELL', 'Valorem Foundation', 'Darico'], datetime.date(2018, 4, 26): ['Connectjob', 'DreamTeam', 'SMOKE', 'Transcodium', 'BIORITMAI', 'WELL', 'Valorem Foundation', 'Darico'], datetime.date(2018, 4, 27): ['Connectjob', 'DreamTeam', 'SMOKE', 'Transcodium', 'BIORITMAI', 'WELL', 'Valorem Foundation', 'Darico'], datetime.date(2018, 4, 28): ['Connectjob', 'DreamTeam', 'SMOKE', 'Transcodium', 'BIORITMAI', 'WELL', 'Valorem Foundation', 'Darico'], datetime.date(2018, 4, 29): ['Connectjob', 'DreamTeam', 'SMOKE', 'Transcodium', 'BIORITMAI', 'WELL', 'Valorem Foundation', 'Darico'], datetime.date(2018, 4, 30): ['Connectjob', 'Brickblock', 'DreamTeam', 'SMOKE', 'Transcodium', 'BIORITMAI', 'WELL', 'Valorem Foundation', 'Darico'], datetime.date(2018, 5, 1): ['Brickblock', 'DreamTeam', 'SMOKE', 'Transcodium', 'BIORITMAI', 'WELL', 'RealCasino', 'Valorem Foundation', 'Darico'], datetime.date(2018, 5, 2): ['Brickblock', 'DreamTeam', 'SMOKE', 'Transcodium', 'BIORITMAI', 'WELL', 'RealCasino', 'Valorem Foundation', 'Darico'], datetime.date(2018, 5, 3): ['Brickblock', 'DreamTeam', 'SMOKE', 'Transcodium', 'BIORITMAI', 'WELL', 'RealCasino', 'Valorem Foundation', 'Darico'], datetime.date(2018, 5, 4): ['Brickblock', 'DreamTeam', 'SMOKE', 'Transcodium', 'BIORITMAI', 'WELL', 'RealCasino', 'Valorem Foundation', 'Darico'], datetime.date(2018, 5, 5): ['Brickblock', 'DreamTeam', 'SMOKE', 'Transcodium', 'BIORITMAI', 'WELL', 'RealCasino', 'Valorem Foundation', 'Darico'], datetime.date(2018, 5, 6): ['Brickblock', 'DreamTeam', 'SMOKE', 'Transcodium', 'BIORITMAI', 'WELL', 'RealCasino', 'Valorem Foundation', 'Darico'], datetime.date(2018, 5, 7): ['Brickblock', 'DreamTeam', 'SMOKE', 'Transcodium', 'BIORITMAI', 'WELL', 'RealCasino', 'Valorem Foundation', 'Darico'], datetime.date(2018, 5, 8): ['Brickblock', 'DreamTeam', 'SMOKE', 'Transcodium', 'BIORITMAI', 'WELL', 'RealCasino', 'Valorem Foundation', 'Darico'], datetime.date(2018, 5, 9): ['Brickblock', 'Spindle', 'DreamTeam', 'SMOKE', 'Transcodium', 'BIORITMAI', 'WELL', 'RealCasino', 'Valorem Foundation', 'Darico'], datetime.date(2018, 5, 10): ['Brickblock', 'Spindle', 'DreamTeam', 'SMOKE', 'Transcodium', 'BIORITMAI', 'WELL', 'RealCasino', 'Valorem Foundation', 'Darico'], datetime.date(2018, 5, 11): ['Brickblock', 'Spindle', 'DreamTeam', 'SMOKE', 'Transcodium', 'BIORITMAI', 'WELL', 'RealCasino', 'Valorem Foundation', 'Darico'], datetime.date(2018, 5, 12): ['Brickblock', 'Spindle', 'DreamTeam', 'SMOKE', 'Transcodium', 'BIORITMAI', 'WELL', 'RealCasino', 'Valorem Foundation', 'Darico'], datetime.date(2018, 5, 13): ['Brickblock', 'Spindle', 'DreamTeam', 'SMOKE', 'Transcodium', 'BIORITMAI', 'WELL', 'RealCasino', 'Valorem Foundation', 'Darico'], datetime.date(2018, 5, 14): ['Brickblock', 'Spindle', 'DreamTeam', 'SMOKE', 'Transcodium', 'BIORITMAI', 'WELL', 'RealCasino', 'Valorem Foundation', 'Darico'], datetime.date(2018, 5, 15): ['Brickblock', 'Spindle', 'DreamTeam', 'SMOKE', 'Transcodium', 'BIORITMAI', 'WELL', 'RealCasino', 'Valorem Foundation', 'Darico'], datetime.date(2018, 5, 16): ['DreamTeam', 'SMOKE', 'Transcodium', 'BIORITMAI', 'WELL', 'RealCasino', 'Valorem Foundation', 'Darico'], datetime.date(2018, 5, 17): ['DreamTeam', 'SMOKE', 'Transcodium', 'BIORITMAI', 'WELL', 'RealCasino', 'Valorem Foundation', 'Darico'], datetime.date(2018, 5, 18): ['DreamTeam', 'SMOKE', 'Transcodium', 'Kora Network', 'BIORITMAI', 'WELL', 'RealCasino', 'Valorem Foundation', 'Darico'], datetime.date(2018, 5, 19): ['DreamTeam', 'SMOKE', 'Transcodium', 'Kora Network', 'BIORITMAI', 'WELL', 'RealCasino', 'Valorem Foundation', 'Darico'], datetime.date(2018, 5, 20): ['SMOKE', 'Transcodium', 'Kora Network', 'BIORITMAI', 'WELL', 'RealCasino', 'Valorem Foundation', 'Darico'], datetime.date(2018, 5, 21): ['SMOKE', 'Transcodium', 'Kora Network', 'BIORITMAI', 'WELL', 'RealCasino', 'Valorem Foundation', 'Darico', 'Ubex'], datetime.date(2018, 5, 22): ['SMOKE', 'Transcodium', 'Kora Network', 'BIORITMAI', 'WELL', 'RealCasino', 'Valorem Foundation', 'Darico', 'Ubex'], datetime.date(2018, 5, 23): ['SMOKE', 'Transcodium', 'Kora Network', 'BIORITMAI', 'WELL', 'RealCasino', 'Valorem Foundation', 'Darico', 'Ubex'], datetime.date(2018, 5, 24): ['SMOKE', 'Transcodium', 'Kora Network', 'BIORITMAI', 'WELL', 'RealCasino', 'Valorem Foundation', 'Darico', 'Ubex'], datetime.date(2018, 5, 25): ['SMOKE', 'Transcodium', 'Kora Network', 'BIORITMAI', 'WELL', 'RealCasino', 'Valorem Foundation', 'Darico', 'Ubex'], datetime.date(2018, 5, 26): ['Transcodium', 'Kora Network', 'BIORITMAI', 'WELL', 'RealCasino', 'Valorem Foundation', 'Darico', 'Ubex'], datetime.date(2018, 5, 27): ['Transcodium', 'Kora Network', 'BIORITMAI', 'WELL', 'RealCasino', 'Valorem Foundation', 'Darico', 'Ubex'], datetime.date(2018, 5, 28): ['Transcodium', 'Kora Network', 'BIORITMAI', 'WELL', 'RealCasino', 'Valorem Foundation', 'Darico', 'Ubex'], datetime.date(2018, 5, 29): ['Transcodium', 'Kora Network', 'BIORITMAI', 'WELL', 'RealCasino', 'Valorem Foundation', 'Darico', 'Ubex'], datetime.date(2018, 5, 30): ['Transcodium', 'Kora Network', 'BIORITMAI', 'WELL', 'RealCasino', 'Valorem Foundation', 'Darico', 'Ubex'], datetime.date(2018, 5, 31): ['Transcodium', 'Kora Network', 'BIORITMAI', 'WELL', 'RealCasino', 'Valorem Foundation', 'Darico', 'Ubex'], datetime.date(2018, 6, 1): ['Kora Network', 'BIORITMAI', 'WELL', 'RealCasino', 'Valorem Foundation', 'Darico', 'Ubex'], datetime.date(2018, 6, 2): ['BIORITMAI', 'WELL', 'RealCasino', 'Valorem Foundation', 'Darico', 'Ubex'], datetime.date(2018, 6, 3): ['BIORITMAI', 'WELL', 'RealCasino', 'Valorem Foundation', 'Darico', 'Ubex'], datetime.date(2018, 6, 4): ['BIORITMAI', 'WELL', 'RealCasino', 'Valorem Foundation', 'Darico', 'Ubex'], datetime.date(2018, 6, 5): ['BIORITMAI', 'WELL', 'RealCasino', 'Valorem Foundation', 'Darico', 'Ubex'], datetime.date(2018, 6, 6): ['BIORITMAI', 'WELL', 'RealCasino', 'Valorem Foundation', 'Darico', 'Ubex'], datetime.date(2018, 6, 7): ['BIORITMAI', 'WELL', 'RealCasino', 'Valorem Foundation', 'Darico', 'Ubex'], datetime.date(2018, 6, 8): ['BIORITMAI', 'WELL', 'RealCasino', 'Valorem Foundation', 'Darico', 'Ubex'], datetime.date(2018, 6, 9): ['BIORITMAI', 'WELL', 'RealCasino', 'Valorem Foundation', 'Darico', 'Ubex'], datetime.date(2018, 6, 10): ['BIORITMAI', 'WELL', 'RealCasino', 'Valorem Foundation', 'Darico', 'Ubex'], datetime.date(2018, 6, 11): ['BIORITMAI', 'WELL', 'RealCasino', 'Valorem Foundation', 'Darico', 'Ubex'], datetime.date(2018, 6, 12): ['BIORITMAI', 'WELL', 'RealCasino', 'Valorem Foundation', 'Darico', 'Ubex'], datetime.date(2018, 6, 13): ['BIORITMAI', 'WELL', 'RealCasino', 'Valorem Foundation', 'Darico', 'Ubex'], datetime.date(2018, 6, 14): ['BIORITMAI', 'WELL', 'RealCasino', 'Valorem Foundation', 'Darico', 'Ubex'], datetime.date(2018, 6, 15): ['BIORITMAI', 'WELL', 'RealCasino', 'Valorem Foundation', 'Darico', 'Ubex'], datetime.date(2018, 6, 16): ['BIORITMAI', 'WELL', 'RealCasino', 'Valorem Foundation', 'Darico', 'Ubex'], datetime.date(2018, 6, 17): ['WELL', 'RealCasino', 'Valorem Foundation', 'Darico', 'Ubex'], datetime.date(2018, 6, 18): ['WELL', 'RealCasino', 'Valorem Foundation', 'Darico', 'Ubex'], datetime.date(2018, 6, 19): ['WELL', 'RealCasino', 'Valorem Foundation', 'Darico', 'Ubex'], datetime.date(2018, 6, 20): ['WELL', 'RealCasino', 'Valorem Foundation', 'Darico', 'Ubex'], datetime.date(2018, 6, 21): ['WELL', 'RealCasino', 'Valorem Foundation', 'Darico', 'Ubex'], datetime.date(2018, 6, 22): ['WELL', 'RealCasino', 'Valorem Foundation', 'Darico', 'Ubex'], datetime.date(2018, 6, 23): ['WELL', 'RealCasino', 'Valorem Foundation', 'Darico', 'Ubex'], datetime.date(2018, 6, 24): ['WELL', 'RealCasino', 'Valorem Foundation', 'Darico', 'Ubex'], datetime.date(2018, 6, 25): ['WELL', 'RealCasino', 'Essentia', 'Valorem Foundation', 'Darico', 'Ubex'], datetime.date(2018, 6, 26): ['WELL', 'RealCasino', 'Essentia', 'Valorem Foundation', 'Darico', 'Ubex'], datetime.date(2018, 6, 27): ['WELL', 'RealCasino', 'Essentia', 'Valorem Foundation', 'Darico', 'Ubex'], datetime.date(2018, 6, 28): ['WELL', 'RealCasino', 'Essentia', 'Valorem Foundation', 'Darico', 'Ubex'], datetime.date(2018, 6, 29): ['WELL', 'RealCasino', 'Essentia', 'Valorem Foundation', 'Darico', 'Ubex'], datetime.date(2018, 6, 30): ['WELL', 'RealCasino', 'Essentia', 'Valorem Foundation', 'Darico', 'Ubex'], datetime.date(2018, 7, 1): ['Essentia', 'Valorem Foundation', 'Darico', 'Ubex'], datetime.date(2018, 7, 2): ['Essentia', 'Valorem Foundation', 'Darico', 'Ubex'], datetime.date(2018, 7, 3): ['Essentia', 'Valorem Foundation', 'Darico', 'Ubex'], datetime.date(2018, 7, 4): ['Essentia', 'Valorem Foundation', 'Darico', 'Ubex'], datetime.date(2018, 7, 5): ['Essentia', 'Valorem Foundation', 'Darico', 'Ubex'], datetime.date(2018, 7, 6): ['Essentia', 'Valorem Foundation', 'Darico', 'Ubex'], datetime.date(2018, 7, 7): ['Essentia', 'Valorem Foundation', 'Darico', 'ImmVRse', 'Ubex'], datetime.date(2018, 7, 8): ['Essentia', 'Valorem Foundation', 'Darico', 'ImmVRse', 'Ubex'], datetime.date(2018, 7, 9): ['Valorem Foundation', 'Darico', 'ImmVRse', 'Ubex'], datetime.date(2018, 7, 10): ['Valorem Foundation', 'Darico', 'ImmVRse', 'Ubex'], datetime.date(2018, 7, 11): ['Valorem Foundation', 'Darico', 'ImmVRse', 'Ubex'], datetime.date(2018, 7, 12): ['Valorem Foundation', 'Darico', 'ImmVRse', 'Ubex'], datetime.date(2018, 7, 13): ['Valorem Foundation', 'Darico', 'ImmVRse', 'Ubex'], datetime.date(2018, 7, 14): ['Valorem Foundation', 'Darico', 'ImmVRse', 'Ubex'], datetime.date(2018, 7, 15): ['Valorem Foundation', 'Darico', 'ImmVRse', 'Ubex'], datetime.date(2018, 7, 16): ['Valorem Foundation', 'Darico', 'ImmVRse', 'Ubex'], datetime.date(2018, 7, 17): ['Valorem Foundation', 'Darico', 'ImmVRse', 'Ubex'], datetime.date(2018, 7, 18): ['Valorem Foundation', 'Darico', 'ImmVRse', 'Ubex'], datetime.date(2018, 7, 19): ['Valorem Foundation', 'Darico', 'ImmVRse', 'Ubex'], datetime.date(2018, 7, 20): ['Valorem Foundation', 'Darico', 'ImmVRse', 'Ubex'], datetime.date(2018, 7, 21): ['Valorem Foundation', 'Darico', 'ImmVRse', 'Ubex'], datetime.date(2018, 7, 22): ['Valorem Foundation', 'Darico', 'ImmVRse', 'Ubex'], datetime.date(2018, 7, 23): ['Valorem Foundation', 'Darico', 'ImmVRse', 'Ubex'], datetime.date(2018, 7, 24): ['Valorem Foundation', 'Darico', 'ImmVRse', 'Ubex'], datetime.date(2018, 7, 25): ['Valorem Foundation', 'Darico', 'ImmVRse', 'Ubex'], datetime.date(2018, 7, 26): ['Valorem Foundation', 'Darico', 'ImmVRse', 'Ubex'], datetime.date(2018, 7, 27): ['Valorem Foundation', 'Darico', 'ImmVRse', 'Ubex'], datetime.date(2018, 7, 28): ['Valorem Foundation', 'Darico', 'ImmVRse', 'Ubex'], datetime.date(2018, 7, 29): ['Darico', 'ImmVRse', 'Ubex'], datetime.date(2018, 7, 30): ['Darico', 'ImmVRse', 'Ubex'], datetime.date(2018, 7, 31): ['ImmVRse', 'Ubex'], datetime.date(2018, 8, 1): ['ImmVRse', 'Ubex'], datetime.date(2018, 8, 2): ['ImmVRse', 'Ubex'], datetime.date(2018, 8, 3): ['ImmVRse', 'Ubex'], datetime.date(2018, 8, 4): ['ImmVRse', 'Ubex'], datetime.date(2018, 8, 5): ['ImmVRse', 'Ubex'], datetime.date(2018, 8, 6): ['ImmVRse', 'Ubex'], datetime.date(2018, 8, 7): ['ImmVRse', 'Ubex'], datetime.date(2018, 8, 8): ['ImmVRse', 'Ubex'], datetime.date(2018, 8, 9): ['ImmVRse', 'Ubex'], datetime.date(2018, 8, 10): ['ImmVRse', 'Ubex'], datetime.date(2018, 8, 11): ['ImmVRse', 'Ubex'], datetime.date(2018, 8, 12): ['ImmVRse', 'Ubex'], datetime.date(2018, 8, 13): ['ImmVRse', 'Ubex'], datetime.date(2018, 8, 14): ['ImmVRse', 'Ubex'], datetime.date(2018, 8, 15): ['ImmVRse', 'Ubex'], datetime.date(2018, 8, 16): ['ImmVRse', 'Ubex'], datetime.date(2018, 8, 17): ['ImmVRse', 'Ubex'], datetime.date(2018, 8, 18): ['ImmVRse', 'Ubex'], datetime.date(2018, 8, 19): ['ImmVRse', 'Ubex'], datetime.date(2018, 8, 20): ['ImmVRse', 'Ubex'], datetime.date(2018, 8, 21): ['ImmVRse', 'Ubex'], datetime.date(2018, 8, 22): ['ImmVRse', 'Ubex'], datetime.date(2018, 8, 23): ['ImmVRse', 'Ubex'], datetime.date(2018, 8, 24): ['ImmVRse', 'Ubex'], datetime.date(2018, 8, 25): ['ImmVRse', 'Ubex'], datetime.date(2018, 8, 26): ['ImmVRse', 'Ubex'], datetime.date(2018, 8, 27): ['ImmVRse', 'Ubex'], datetime.date(2018, 8, 28): ['ImmVRse', 'Ubex'], datetime.date(2018, 8, 29): ['ImmVRse', 'Ubex'], datetime.date(2018, 8, 30): ['ImmVRse', 'Ubex'], datetime.date(2018, 8, 31): ['ImmVRse', 'Ubex'], datetime.date(2018, 9, 1): ['ImmVRse', 'Ubex'], datetime.date(2018, 9, 2): ['ImmVRse', 'Ubex'], datetime.date(2018, 9, 3): ['ImmVRse', 'Ubex'], datetime.date(2018, 9, 4): ['ImmVRse', 'Ubex'], datetime.date(2018, 9, 5): ['ImmVRse', 'Ubex'], datetime.date(2018, 9, 6): ['ImmVRse', 'Ubex'], datetime.date(2018, 9, 7): ['ImmVRse', 'Ubex'], datetime.date(2018, 9, 8): ['Ubex'], datetime.date(2018, 9, 9): ['Ubex'], datetime.date(2018, 9, 10): ['Ubex'], datetime.date(2018, 9, 11): ['Ubex'], datetime.date(2018, 9, 12): ['Ubex'], datetime.date(2018, 9, 13): ['Ubex'], datetime.date(2018, 9, 14): ['Ubex'], datetime.date(2018, 9, 15): ['Ubex'], datetime.date(2018, 9, 16): ['Ubex'], datetime.date(2018, 9, 17): ['Ubex'], datetime.date(2018, 9, 18): ['Ubex'], datetime.date(2018, 9, 19): ['Ubex'], datetime.date(2018, 9, 20): ['Ubex'], datetime.date(2018, 9, 21): ['Ubex'], datetime.date(2018, 9, 22): ['Ubex'], datetime.date(2018, 9, 23): ['Ubex'], datetime.date(2018, 9, 24): ['Ubex'], datetime.date(2018, 9, 25): ['Ubex'], datetime.date(2018, 9, 26): ['Ubex'], datetime.date(2018, 9, 27): ['Ubex'], datetime.date(2018, 9, 28): ['Ubex'], datetime.date(2018, 9, 29): ['Ubex'], datetime.date(2018, 9, 30): ['Ubex'], datetime.date(2018, 10, 1): [], datetime.date(2018, 10, 2): [], datetime.date(2018, 10, 3): [], datetime.date(2018, 10, 4): [], datetime.date(2018, 10, 5): [], datetime.date(2018, 10, 6): [], datetime.date(2018, 10, 7): [], datetime.date(2018, 10, 8): [], datetime.date(2018, 10, 9): [], datetime.date(2018, 10, 10): [], datetime.date(2018, 10, 11): [], datetime.date(2018, 10, 12): [], datetime.date(2018, 10, 13): [], datetime.date(2018, 10, 14): [], datetime.date(2018, 10, 15): [], datetime.date(2018, 10, 16): [], datetime.date(2018, 10, 17): [], datetime.date(2018, 10, 18): [], datetime.date(2018, 10, 19): [], datetime.date(2018, 10, 20): [], datetime.date(2018, 10, 21): [], datetime.date(2018, 10, 22): [], datetime.date(2018, 10, 23): [], datetime.date(2018, 10, 24): [], datetime.date(2018, 10, 25): [], datetime.date(2018, 10, 26): [], datetime.date(2018, 10, 27): [], datetime.date(2018, 10, 28): [], datetime.date(2018, 10, 29): [], datetime.date(2018, 10, 30): [], datetime.date(2018, 10, 31): [], datetime.date(2018, 11, 1): [], datetime.date(2018, 11, 2): [], datetime.date(2018, 11, 3): [], datetime.date(2018, 11, 4): [], datetime.date(2018, 11, 5): [], datetime.date(2018, 11, 6): [], datetime.date(2018, 11, 7): [], datetime.date(2018, 11, 8): [], datetime.date(2018, 11, 9): [], datetime.date(2018, 11, 10): [], datetime.date(2018, 11, 11): [], datetime.date(2018, 11, 12): [], datetime.date(2018, 11, 13): [], datetime.date(2018, 11, 14): [], datetime.date(2018, 11, 15): [], datetime.date(2018, 11, 16): [], datetime.date(2018, 11, 17): [], datetime.date(2018, 11, 18): [], datetime.date(2018, 11, 19): [], datetime.date(2018, 11, 20): [], datetime.date(2018, 11, 21): [], datetime.date(2018, 11, 22): [], datetime.date(2018, 11, 23): [], datetime.date(2018, 11, 24): [], datetime.date(2018, 11, 25): [], datetime.date(2018, 11, 26): [], datetime.date(2018, 11, 27): [], datetime.date(2018, 11, 28): [], datetime.date(2018, 11, 29): [], datetime.date(2018, 11, 30): [], datetime.date(2018, 12, 1): [], datetime.date(2018, 12, 2): [], datetime.date(2018, 12, 3): [], datetime.date(2018, 12, 4): [], datetime.date(2018, 12, 5): [], datetime.date(2018, 12, 6): [], datetime.date(2018, 12, 7): [], datetime.date(2018, 12, 8): [], datetime.date(2018, 12, 9): [], datetime.date(2018, 12, 10): [], datetime.date(2018, 12, 11): [], datetime.date(2018, 12, 12): [], datetime.date(2018, 12, 13): [], datetime.date(2018, 12, 14): [], datetime.date(2018, 12, 15): []}\n"
          ],
          "name": "stdout"
        }
      ]
    },
    {
      "metadata": {
        "id": "HT15ddaSjYgt",
        "colab_type": "text"
      },
      "cell_type": "markdown",
      "source": [
        "Get Ratings of all ICO"
      ]
    },
    {
      "metadata": {
        "id": "xig7loZCdA1n",
        "colab_type": "code",
        "outputId": "8d800db4-aaca-44bb-ce39-620177cfc5be",
        "colab": {
          "base_uri": "https://localhost:8080/",
          "height": 252
        }
      },
      "cell_type": "code",
      "source": [
        "#uploaded = files.upload()\n",
        "# pip install BeautifulSoup4\n",
        "from urllib.request import Request, urlopen\n",
        "from bs4 import BeautifulSoup\n",
        "import io\n",
        "\n",
        "URL = 'https://icobench.com/ico/'\n",
        "\n",
        "#df = pd.read_csv(io.StringIO(uploaded['df_ico.csv'].decode('utf-8')))\n",
        "\n",
        "df_ico['ico_rating'] = None #adding a new column\n",
        "count = 0\n",
        "\n",
        "print(df_ico['name'].count())\n",
        "\n",
        "for symbol in df_ico['name']:\n",
        "    \n",
        "    symbol_name = symbol.lower()\n",
        "    \n",
        "    #print(\"For : \" + str(count+1)+\" \"+ URL + symbol.lower())\n",
        "    \n",
        "    if ' ' in symbol_name:\n",
        "        names = []\n",
        "        split_s = symbol_name.split()\n",
        "        temp = ''\n",
        "        \n",
        "        for x in split_s:\n",
        "            temp+=x;\n",
        "        \n",
        "        names.append(temp)\n",
        "        \n",
        "        temp = split_s[0]\n",
        "        for k in range(1,len(split_s)):\n",
        "            temp += '-' + split_s[k]\n",
        "        \n",
        "        names.append(temp)      \n",
        "        #print(*names, sep = \", \")\n",
        "           \n",
        "        if(len(names) > 0):\n",
        "            for m in range(0,len(names)):\n",
        "                req = Request(URL + names[m].lower(), headers={'User-Agent': 'Mozilla/5.0'})\n",
        "\n",
        "                #print(\"if \" + URL + names[m].lower())\n",
        "\n",
        "                webpage = urlopen(req).read()\n",
        "                soup = BeautifulSoup(webpage, 'html.parser')\n",
        "                ratings = soup.find('div', attrs={'class', 'rate color3'})\n",
        "                if ratings is None:\n",
        "                    ratings = soup.find('div', attrs={'class', 'rate color4'})\n",
        "                if ratings is None:\n",
        "                    ratings = soup.find('div', attrs={'class', 'rate color2'})\n",
        "                if ratings is None:\n",
        "                    ratings = soup.find('div', attrs={'class', 'rate color5'})\n",
        "                if ratings is None:\n",
        "                    print('NA '+ratings)\n",
        "                    continue\n",
        "                if ratings is not None:  \n",
        "                    df_ico.loc[df_ico['name'] == symbol,['ico_rating']] = float(ratings.text.strip())\n",
        "                    break\n",
        "                ratings = None\n",
        "    else:\n",
        "        req = Request(URL + symbol.lower(), headers={'User-Agent': 'Mozilla/5.0'})\n",
        "        webpage = urlopen(req).read()\n",
        "        \n",
        "        #print(\"else : \"+ URL + symbol.lower())\n",
        "        soup = BeautifulSoup(webpage, 'html.parser')\n",
        "\n",
        "        ratings = soup.find('div', attrs={'class', 'rate color3'})\n",
        "        if ratings is None:\n",
        "            ratings = soup.find('div', attrs={'class', 'rate color4'})\n",
        "        if ratings is None:\n",
        "            ratings = soup.find('div', attrs={'class', 'rate color2'})\n",
        "        if ratings is None:\n",
        "            ratings = soup.find('div', attrs={'class', 'rate color5'}) \n",
        "        if ratings is None or ratings.text is None:\n",
        "            #print(\"NA: \"+ URL + symbol.lower())\n",
        "            continue\n",
        "        if ratings is not None:  \n",
        "            df_ico.loc[df_ico['name'] == symbol,['ico_rating']] = float(ratings.text.strip())\n",
        "        \n",
        "        ratings = None\n",
        "\n",
        "    count = count+1\n",
        "\n",
        "print(df_ico.head(5))\n"
      ],
      "execution_count": 0,
      "outputs": [
        {
          "output_type": "stream",
          "text": [
            "245\n",
            "        name  all_time_roi coin_symbol    end_time  start_time price_usd  \\\n",
            "0      Augur           880         REP  2015-10-01  2015-08-17      5.69   \n",
            "1       Lisk          1413         LSK  2016-03-21  2016-02-22      1.13   \n",
            "2  Digix DAO           303         DGD  2016-03-30  2016-03-30     13.06   \n",
            "3      Waves          1193       WAVES  2016-05-31  2016-04-12      2.43   \n",
            "4    Stratis          8490       STRAT  2016-07-26  2016-06-21      0.63   \n",
            "\n",
            "  ico_rating  \n",
            "0        3.7  \n",
            "1        2.9  \n",
            "2        2.3  \n",
            "3        4.3  \n",
            "4          4  \n"
          ],
          "name": "stdout"
        }
      ]
    },
    {
      "metadata": {
        "id": "dtj8Ydq-kUhR",
        "colab_type": "text"
      },
      "cell_type": "markdown",
      "source": [
        "Save the dataset to csv"
      ]
    },
    {
      "metadata": {
        "id": "PSkJv0gHcDI5",
        "colab_type": "code",
        "colab": {}
      },
      "cell_type": "code",
      "source": [
        "df_hashrate.to_csv('/content/drive/My Drive/Colab Notebooks/df_hashrate_initial.csv', index=False)"
      ],
      "execution_count": 0,
      "outputs": []
    },
    {
      "metadata": {
        "id": "z02o6XaUkaz0",
        "colab_type": "text"
      },
      "cell_type": "markdown",
      "source": [
        "Remove all null values and clean data"
      ]
    },
    {
      "metadata": {
        "id": "-m4Ljs7idHrx",
        "colab_type": "code",
        "outputId": "eec56a4e-e9ca-4cbd-c8a8-cd743d6141cc",
        "colab": {
          "base_uri": "https://localhost:8080/",
          "height": 151
        }
      },
      "cell_type": "code",
      "source": [
        "#print(df_ico.loc[df_ico['ico_rating'].isna()])\n",
        "#print(df_ico.isna().sum())\n",
        "df_ico.loc[df_ico.name == 'iMPERIUM', 'ico_rating'] = 1.0\n",
        "df_ico.loc[df_ico.name == 'COPICO', 'ico_rating'] = 1.1\n",
        "df_ico.loc[df_ico.name == 'Corusblock', 'ico_rating'] = 1.1\n",
        "print(df_ico.isna().sum())"
      ],
      "execution_count": 0,
      "outputs": [
        {
          "output_type": "stream",
          "text": [
            "name            0\n",
            "all_time_roi    0\n",
            "coin_symbol     0\n",
            "end_time        0\n",
            "start_time      0\n",
            "price_usd       0\n",
            "ico_rating      0\n",
            "dtype: int64\n"
          ],
          "name": "stdout"
        }
      ]
    },
    {
      "metadata": {
        "id": "_J4wApMydgBH",
        "colab_type": "code",
        "outputId": "763cb731-460d-4c53-94ca-65d6a4732558",
        "colab": {
          "base_uri": "https://localhost:8080/",
          "height": 50
        }
      },
      "cell_type": "code",
      "source": [
        "df_ico['rating'] = None\n",
        "df_ico['rating']= df_ico.ico_rating // ((max(df_ico.ico_rating) - min(df_ico.ico_rating))/4)\n",
        "print(max(df_ico.rating))\n",
        "print(min(df_ico.rating))"
      ],
      "execution_count": 0,
      "outputs": [
        {
          "output_type": "stream",
          "text": [
            "5.0\n",
            "1.0\n"
          ],
          "name": "stdout"
        }
      ]
    },
    {
      "metadata": {
        "id": "n73Exo3TOAJj",
        "colab_type": "code",
        "colab": {}
      },
      "cell_type": "code",
      "source": [
        "#print(df_ico)\n",
        "df_ico.to_csv('/content/drive/My Drive/Colab Notebooks/df_ico.csv', index=False)"
      ],
      "execution_count": 0,
      "outputs": []
    },
    {
      "metadata": {
        "id": "g_YcB8_Bki52",
        "colab_type": "text"
      },
      "cell_type": "markdown",
      "source": [
        "Classify the ICOs in 5 classes: Risky --, Risky-, Neutral, Stable+, Stable++"
      ]
    },
    {
      "metadata": {
        "id": "dVd8BZjef7ea",
        "colab_type": "code",
        "outputId": "dc2ed343-d909-4baf-c3dd-982f30e76c7f",
        "colab": {
          "base_uri": "https://localhost:8080/",
          "height": 54
        }
      },
      "cell_type": "code",
      "source": [
        "df_hashrate['Risky--'] = 0\n",
        "df_hashrate['Risky-'] = 0\n",
        "df_hashrate['Neutral'] = 0\n",
        "df_hashrate['Stable+'] = 0\n",
        "df_hashrate['Stable++'] = 0\n",
        "print(list(df_hashrate))\n",
        "#print(df_hashrate[1])\n",
        "  "
      ],
      "execution_count": 0,
      "outputs": [
        {
          "output_type": "stream",
          "text": [
            "['Tx_Date', 'Block_Count', 'Difficulty', 'AVG_TIME', 'NetHashRate', 'spam_count', 'sum_tx_ether', 'avg_tx_gas_cost', 'supply', 'price', 'Risky--', 'Risky-', 'Neutral', 'Stable+', 'Stable++']\n"
          ],
          "name": "stdout"
        }
      ]
    },
    {
      "metadata": {
        "id": "OFnCZnHJrln8",
        "colab_type": "code",
        "outputId": "d64c6f63-d6b5-4f78-b975-4a196a08743c",
        "colab": {
          "base_uri": "https://localhost:8080/",
          "height": 353
        }
      },
      "cell_type": "code",
      "source": [
        "def rating_count(tx_date):\n",
        "  rating_list = [0,0,0,0,0]\n",
        "  for values in date_list[tx_date]:\n",
        "    temp = int(df_ico.loc[df_ico.name == values, 'rating' ].item())\n",
        "    rating_list[temp - 1] += 1\n",
        "  return rating_list\n",
        "\n",
        "\n",
        "for index, row in df_hashrate.iterrows():\n",
        "  value = rating_count(row[0])\n",
        "  df_hashrate.at[index,'Risky--'] = value[0]\n",
        "  df_hashrate.at[index,'Risky-'] = value[1]\n",
        "  df_hashrate.at[index,'Neutral'] = value[2]\n",
        "  df_hashrate.at[index,'Stable+'] = value[3]\n",
        "  df_hashrate.at[index,'Stable++'] = value[4]\n",
        "\n",
        "print(df_hashrate.head(5))"
      ],
      "execution_count": 0,
      "outputs": [
        {
          "output_type": "stream",
          "text": [
            "      Tx_Date  Block_Count   Difficulty   AVG_TIME  NetHashRate  spam_count  \\\n",
            "0  2015-08-07         5189  1470.838651  16.650607    88.335437          22   \n",
            "1  2015-08-08         5256  1586.123529  16.438356    96.489181          28   \n",
            "2  2015-08-09         5123  1709.479787  16.865118   101.361863          15   \n",
            "3  2015-08-10         5255  1837.695763  16.441484   111.771889        1134   \n",
            "4  2015-08-11         5280  2036.390798  16.363636   124.446104        1140   \n",
            "\n",
            "   sum_tx_ether  avg_tx_gas_cost        supply  price  Risky--  Risky-  \\\n",
            "0  2.008723e+06         0.012115   27437.65625   3.00        0       0   \n",
            "1  1.358322e+07         0.029071   55381.09375   1.20        0       0   \n",
            "2  1.165455e+06         0.010648   82559.37500   1.20        0       0   \n",
            "3  1.670911e+06         0.018447  110376.71875   1.20        0       0   \n",
            "4  1.485732e+06         0.002147  138404.53125   0.99        0       0   \n",
            "\n",
            "   Neutral  Stable+  Stable++  \n",
            "0        0        0         0  \n",
            "1        0        0         0  \n",
            "2        0        0         0  \n",
            "3        0        0         0  \n",
            "4        0        0         0  \n"
          ],
          "name": "stdout"
        }
      ]
    },
    {
      "metadata": {
        "id": "RjUy4UgYPNJw",
        "colab_type": "code",
        "colab": {}
      },
      "cell_type": "code",
      "source": [
        "df_hashrate.to_csv('/content/drive/My Drive/Colab Notebooks/df_hashrate.csv', index=False)"
      ],
      "execution_count": 0,
      "outputs": []
    },
    {
      "metadata": {
        "id": "fkc8sJZHPxG5",
        "colab_type": "text"
      },
      "cell_type": "markdown",
      "source": [
        "### Data Preprocessing"
      ]
    },
    {
      "metadata": {
        "id": "5bHzUngikk5W",
        "colab_type": "code",
        "colab": {}
      },
      "cell_type": "code",
      "source": [
        "df_hashrate = pd.read_csv(\"/content/drive/My Drive/Colab Notebooks/df_hashrate.csv\")"
      ],
      "execution_count": 0,
      "outputs": []
    },
    {
      "metadata": {
        "id": "gagjgCYDlTA3",
        "colab_type": "text"
      },
      "cell_type": "markdown",
      "source": [
        "Standardize all data"
      ]
    },
    {
      "metadata": {
        "id": "lLkHxjzATxXD",
        "colab_type": "code",
        "outputId": "e05a8925-a445-4753-ee7f-679810bf0d27",
        "colab": {
          "base_uri": "https://localhost:8080/",
          "height": 310
        }
      },
      "cell_type": "code",
      "source": [
        "# Get the list with seconds since earliest event\n",
        "df_hashrate.Tx_Date = [(i - min(df_hashrate.Tx_Date)).total_seconds() for i in df_hashrate.Tx_Date]\n",
        "\n",
        "# Normalize data so it lies between 0 and 1\n",
        "df_hashrate.Tx_Date = [i/max(df_hashrate.Tx_Date) for i in df_hashrate.Tx_Date]\n",
        "#print(df_hashrate.Tx_Date)\n",
        "\n",
        "\n",
        "import math\n",
        "# log transform the response 'price'\n",
        "print(min(df_hashrate.price))\n",
        "df_hashrate['price_log'] = df_hashrate['price'].apply(lambda x: math.log(x))\n",
        "\n",
        "import pylab\n",
        "import scipy.stats as stats\n",
        "stats.probplot(df_hashrate['price_log'], dist=\"norm\", plot=pylab)\n",
        "pylab.show()"
      ],
      "execution_count": 0,
      "outputs": [
        {
          "output_type": "stream",
          "text": [
            "0.42\n"
          ],
          "name": "stdout"
        },
        {
          "output_type": "display_data",
          "data": {
            "image/png": "[encoded data removed]",
            "text/plain": [
              "<matplotlib.figure.Figure at 0x7fb6e39fadd8>"
            ]
          },
          "metadata": {
            "tags": []
          }
        }
      ]
    },
    {
      "metadata": {
        "id": "wkjd2574PNwT",
        "colab_type": "code",
        "outputId": "55cb41c3-264a-405e-9de2-c9a7578f0b9e",
        "colab": {
          "base_uri": "https://localhost:8080/",
          "height": 195
        }
      },
      "cell_type": "code",
      "source": [
        "# convert non-categorical variables to floats and standardize\n",
        "def standardize_col(col):\n",
        "    mean = np.mean(col)\n",
        "    std = np.std(col)\n",
        "    return col.apply(lambda x: (x - mean) / std)\n",
        "             \n",
        "non_cat_vars = ['Block_Count', 'Difficulty', 'AVG_TIME', 'NetHashRate', 'spam_count', 'sum_tx_ether', 'avg_tx_gas_cost', 'supply']\n",
        "for col in non_cat_vars:\n",
        "    df_hashrate[col] = df_hashrate[col].astype(float)\n",
        "    df_hashrate[col] = standardize_col(df_hashrate[col])\n",
        "    \n",
        "df_hashrate.head(5)"
      ],
      "execution_count": 0,
      "outputs": [
        {
          "output_type": "execute_result",
          "data": {
            "text/html": [
              "<div>\n",
              "<style scoped>\n",
              "    .dataframe tbody tr th:only-of-type {\n",
              "        vertical-align: middle;\n",
              "    }\n",
              "\n",
              "    .dataframe tbody tr th {\n",
              "        vertical-align: top;\n",
              "    }\n",
              "\n",
              "    .dataframe thead th {\n",
              "        text-align: right;\n",
              "    }\n",
              "</style>\n",
              "<table border=\"1\" class=\"dataframe\">\n",
              "  <thead>\n",
              "    <tr style=\"text-align: right;\">\n",
              "      <th></th>\n",
              "      <th>Tx_Date</th>\n",
              "      <th>Block_Count</th>\n",
              "      <th>Difficulty</th>\n",
              "      <th>AVG_TIME</th>\n",
              "      <th>NetHashRate</th>\n",
              "      <th>spam_count</th>\n",
              "      <th>sum_tx_ether</th>\n",
              "      <th>avg_tx_gas_cost</th>\n",
              "      <th>supply</th>\n",
              "      <th>price</th>\n",
              "      <th>Risky--</th>\n",
              "      <th>Risky-</th>\n",
              "      <th>Neutral</th>\n",
              "      <th>Stable+</th>\n",
              "      <th>Stable++</th>\n",
              "      <th>price_log</th>\n",
              "    </tr>\n",
              "  </thead>\n",
              "  <tbody>\n",
              "    <tr>\n",
              "      <th>0</th>\n",
              "      <td>0.000000</td>\n",
              "      <td>-0.557552</td>\n",
              "      <td>-0.889262</td>\n",
              "      <td>0.286019</td>\n",
              "      <td>-0.858844</td>\n",
              "      <td>-0.775298</td>\n",
              "      <td>-0.483403</td>\n",
              "      <td>7.626503</td>\n",
              "      <td>-1.803941</td>\n",
              "      <td>3.00</td>\n",
              "      <td>0</td>\n",
              "      <td>0</td>\n",
              "      <td>0</td>\n",
              "      <td>0</td>\n",
              "      <td>0</td>\n",
              "      <td>1.098612</td>\n",
              "    </tr>\n",
              "    <tr>\n",
              "      <th>1</th>\n",
              "      <td>0.000816</td>\n",
              "      <td>-0.462407</td>\n",
              "      <td>-0.889178</td>\n",
              "      <td>0.211986</td>\n",
              "      <td>-0.858754</td>\n",
              "      <td>-0.775106</td>\n",
              "      <td>1.354023</td>\n",
              "      <td>19.223528</td>\n",
              "      <td>-1.800981</td>\n",
              "      <td>1.20</td>\n",
              "      <td>0</td>\n",
              "      <td>0</td>\n",
              "      <td>0</td>\n",
              "      <td>0</td>\n",
              "      <td>0</td>\n",
              "      <td>0.182322</td>\n",
              "    </tr>\n",
              "    <tr>\n",
              "      <th>2</th>\n",
              "      <td>0.001631</td>\n",
              "      <td>-0.651278</td>\n",
              "      <td>-0.889087</td>\n",
              "      <td>0.360841</td>\n",
              "      <td>-0.858701</td>\n",
              "      <td>-0.775521</td>\n",
              "      <td>-0.617270</td>\n",
              "      <td>6.623454</td>\n",
              "      <td>-1.798103</td>\n",
              "      <td>1.20</td>\n",
              "      <td>0</td>\n",
              "      <td>0</td>\n",
              "      <td>0</td>\n",
              "      <td>0</td>\n",
              "      <td>0</td>\n",
              "      <td>0.182322</td>\n",
              "    </tr>\n",
              "    <tr>\n",
              "      <th>3</th>\n",
              "      <td>0.002447</td>\n",
              "      <td>-0.463827</td>\n",
              "      <td>-0.888993</td>\n",
              "      <td>0.213077</td>\n",
              "      <td>-0.858586</td>\n",
              "      <td>-0.739768</td>\n",
              "      <td>-0.537030</td>\n",
              "      <td>11.957656</td>\n",
              "      <td>-1.795157</td>\n",
              "      <td>1.20</td>\n",
              "      <td>0</td>\n",
              "      <td>0</td>\n",
              "      <td>0</td>\n",
              "      <td>0</td>\n",
              "      <td>0</td>\n",
              "      <td>0.182322</td>\n",
              "    </tr>\n",
              "    <tr>\n",
              "      <th>4</th>\n",
              "      <td>0.003263</td>\n",
              "      <td>-0.428325</td>\n",
              "      <td>-0.888847</td>\n",
              "      <td>0.185924</td>\n",
              "      <td>-0.858447</td>\n",
              "      <td>-0.739576</td>\n",
              "      <td>-0.566427</td>\n",
              "      <td>0.809380</td>\n",
              "      <td>-1.792188</td>\n",
              "      <td>0.99</td>\n",
              "      <td>0</td>\n",
              "      <td>0</td>\n",
              "      <td>0</td>\n",
              "      <td>0</td>\n",
              "      <td>0</td>\n",
              "      <td>-0.010050</td>\n",
              "    </tr>\n",
              "  </tbody>\n",
              "</table>\n",
              "</div>"
            ],
            "text/plain": [
              "    Tx_Date  Block_Count  Difficulty  AVG_TIME  NetHashRate  spam_count  \\\n",
              "0  0.000000    -0.557552   -0.889262  0.286019    -0.858844   -0.775298   \n",
              "1  0.000816    -0.462407   -0.889178  0.211986    -0.858754   -0.775106   \n",
              "2  0.001631    -0.651278   -0.889087  0.360841    -0.858701   -0.775521   \n",
              "3  0.002447    -0.463827   -0.888993  0.213077    -0.858586   -0.739768   \n",
              "4  0.003263    -0.428325   -0.888847  0.185924    -0.858447   -0.739576   \n",
              "\n",
              "   sum_tx_ether  avg_tx_gas_cost    supply  price  Risky--  Risky-  Neutral  \\\n",
              "0     -0.483403         7.626503 -1.803941   3.00        0       0        0   \n",
              "1      1.354023        19.223528 -1.800981   1.20        0       0        0   \n",
              "2     -0.617270         6.623454 -1.798103   1.20        0       0        0   \n",
              "3     -0.537030        11.957656 -1.795157   1.20        0       0        0   \n",
              "4     -0.566427         0.809380 -1.792188   0.99        0       0        0   \n",
              "\n",
              "   Stable+  Stable++  price_log  \n",
              "0        0         0   1.098612  \n",
              "1        0         0   0.182322  \n",
              "2        0         0   0.182322  \n",
              "3        0         0   0.182322  \n",
              "4        0         0  -0.010050  "
            ]
          },
          "metadata": {
            "tags": []
          },
          "execution_count": 77
        }
      ]
    },
    {
      "metadata": {
        "id": "OjjYjhw9OnFR",
        "colab_type": "code",
        "outputId": "83f6aebd-491b-40fd-c1c3-5a54ad711a14",
        "colab": {
          "base_uri": "https://localhost:8080/",
          "height": 457
        }
      },
      "cell_type": "code",
      "source": [
        "# Compute matrix of correlation coefficients\n",
        "eth_data1 = df_hashrate[['Tx_Date', 'Block_Count', 'Difficulty', 'AVG_TIME', 'NetHashRate', 'spam_count', 'sum_tx_ether', 'avg_tx_gas_cost', 'supply']]\n",
        "corr_matrix = np.corrcoef(eth_data1.T)\n",
        "\n",
        "corr_df = pd.DataFrame(data = corr_matrix, columns = eth_data1.columns, \n",
        "             index = eth_data1.columns)\n",
        "# Display heat map \n",
        "plt.figure(figsize=(7, 7))\n",
        "plt.pcolor(corr_matrix, cmap='RdBu')\n",
        "plt.xlabel('Predictor Index')\n",
        "plt.ylabel('Predictor Index')\n",
        "plt.title('Heatmap of Correlation Matrix')\n",
        "plt.colorbar()\n",
        "\n",
        "plt.show()"
      ],
      "execution_count": 0,
      "outputs": [
        {
          "output_type": "display_data",
          "data": {
            "image/png": "[encoded data removed]",
            "text/plain": [
              "<matplotlib.figure.Figure at 0x7fb6c89f2e80>"
            ]
          },
          "metadata": {
            "tags": []
          }
        }
      ]
    },
    {
      "metadata": {
        "id": "VxCeMAdkQaJk",
        "colab_type": "text"
      },
      "cell_type": "markdown",
      "source": [
        "### Data Modelling"
      ]
    },
    {
      "metadata": {
        "id": "j4Jo56GnYOnk",
        "colab_type": "code",
        "outputId": "07a15608-ba17-407f-f878-668ccbad40e5",
        "colab": {
          "base_uri": "https://localhost:8080/",
          "height": 286
        }
      },
      "cell_type": "code",
      "source": [
        "list(df_hashrate)"
      ],
      "execution_count": 0,
      "outputs": [
        {
          "output_type": "execute_result",
          "data": {
            "text/plain": [
              "['Tx_Date',\n",
              " 'Block_Count',\n",
              " 'Difficulty',\n",
              " 'AVG_TIME',\n",
              " 'NetHashRate',\n",
              " 'spam_count',\n",
              " 'sum_tx_ether',\n",
              " 'avg_tx_gas_cost',\n",
              " 'supply',\n",
              " 'price',\n",
              " 'Risky--',\n",
              " 'Risky-',\n",
              " 'Neutral',\n",
              " 'Stable+',\n",
              " 'Stable++',\n",
              " 'price_log']"
            ]
          },
          "metadata": {
            "tags": []
          },
          "execution_count": 79
        }
      ]
    },
    {
      "metadata": {
        "id": "uWkubB7yQYmQ",
        "colab_type": "code",
        "outputId": "a8a781af-1812-4ae1-d334-7c598b4e399f",
        "colab": {
          "base_uri": "https://localhost:8080/",
          "height": 34
        }
      },
      "cell_type": "code",
      "source": [
        "import sklearn\n",
        "from sklearn.linear_model import LinearRegression\n",
        "from sklearn import linear_model\n",
        "from sklearn.model_selection import KFold # import KFold\n",
        "from statistics import mean\n",
        "\n",
        "from keras.models import Sequential\n",
        "from keras.layers import Dense, Activation, Dropout\n",
        "from keras.layers import LSTM\n",
        "from keras.optimizers import RMSprop\n",
        "import numpy as np\n",
        "import random\n",
        "from sklearn.model_selection import train_test_split\n",
        "\n",
        "import keras\n",
        "from keras.callbacks import ModelCheckpoint, EarlyStopping\n",
        "from keras.models import Sequential\n",
        "from keras.layers import Dense, Activation, Flatten, Dropout\n"
      ],
      "execution_count": 0,
      "outputs": [
        {
          "output_type": "stream",
          "text": [
            "Using TensorFlow backend.\n"
          ],
          "name": "stderr"
        }
      ]
    },
    {
      "metadata": {
        "id": "1meVwjGjX7bE",
        "colab_type": "code",
        "colab": {}
      },
      "cell_type": "code",
      "source": [
        "df_hashrate_train = df_hashrate.drop(columns=['price', 'price_log'])\n",
        "df_hashrate_price = df_hashrate['price_log']\n"
      ],
      "execution_count": 0,
      "outputs": []
    },
    {
      "metadata": {
        "id": "vp1NRGyaQSXG",
        "colab_type": "code",
        "colab": {}
      },
      "cell_type": "code",
      "source": [
        "X_train, X_test, Y_train, Y_test = train_test_split(df_hashrate_train, df_hashrate_price, test_size=0.2, random_state=42)"
      ],
      "execution_count": 0,
      "outputs": []
    },
    {
      "metadata": {
        "id": "uJkmltVmWvJA",
        "colab_type": "code",
        "outputId": "03479d1c-d31a-44ea-bff4-666006c863a5",
        "colab": {
          "base_uri": "https://localhost:8080/",
          "height": 7022
        }
      },
      "cell_type": "code",
      "source": [
        "#Baseline Model\n",
        "\n",
        "NN_model = Sequential()\n",
        "\n",
        "# The Input Layer :\n",
        "NN_model.add(Dense(60, kernel_initializer='normal',input_dim = X_train.shape[1], activation='relu'))\n",
        "\n",
        "# The Hidden Layers :\n",
        "NN_model.add(Dense(30, kernel_initializer='normal',activation='relu'))\n",
        "#NN_model.add(Dropout(rate=0.1))\n",
        "NN_model.add(Dense(10, kernel_initializer='normal',activation='relu'))\n",
        "#NN_model.add(Dropout(rate=0.1))\n",
        "\n",
        "# The Output Layer :\n",
        "NN_model.add(Dense(1, kernel_initializer='normal',activation='linear'))\n",
        "\n",
        "# Compile the network :\n",
        "NN_model.compile(loss='mse', optimizer='adam')\n",
        "NN_model.summary()\n",
        "\n",
        "checkpoint_name = '/content/drive/My Drive/Colab Notebooks/Weights.hdf5' \n",
        "checkpoint = ModelCheckpoint(checkpoint_name, monitor='val_loss', verbose = 1, save_best_only = True, mode ='auto')\n",
        "earlystopping = EarlyStopping(monitor='val_loss', min_delta=0.0001, patience=5, verbose=0, mode='auto')\n",
        "callbacks_list = [checkpoint, earlystopping]\n",
        "\n",
        "NN_model.fit(X_train, Y_train, epochs=100, batch_size=72, validation_split = 0.2, callbacks=callbacks_list)"
      ],
      "execution_count": 0,
      "outputs": [
        {
          "output_type": "stream",
          "text": [
            "_________________________________________________________________\n",
            "Layer (type)                 Output Shape              Param #   \n",
            "=================================================================\n",
            "dense_1 (Dense)              (None, 60)                900       \n",
            "_________________________________________________________________\n",
            "dense_2 (Dense)              (None, 30)                1830      \n",
            "_________________________________________________________________\n",
            "dense_3 (Dense)              (None, 10)                310       \n",
            "_________________________________________________________________\n",
            "dense_4 (Dense)              (None, 1)                 11        \n",
            "=================================================================\n",
            "Total params: 3,051\n",
            "Trainable params: 3,051\n",
            "Non-trainable params: 0\n",
            "_________________________________________________________________\n",
            "Train on 784 samples, validate on 197 samples\n",
            "Epoch 1/100\n",
            "784/784 [==============================] - 1s 1ms/step - loss: 19.0712 - val_loss: 19.9710\n",
            "\n",
            "Epoch 00001: val_loss improved from inf to 19.97101, saving model to /content/drive/My Drive/Colab Notebooks/Weights.hdf5\n",
            "Epoch 2/100\n",
            "784/784 [==============================] - 0s 103us/step - loss: 18.8286 - val_loss: 19.5612\n",
            "\n",
            "Epoch 00002: val_loss improved from 19.97101 to 19.56118, saving model to /content/drive/My Drive/Colab Notebooks/Weights.hdf5\n",
            "Epoch 3/100\n",
            "784/784 [==============================] - 0s 94us/step - loss: 18.1596 - val_loss: 18.3602\n",
            "\n",
            "Epoch 00003: val_loss improved from 19.56118 to 18.36025, saving model to /content/drive/My Drive/Colab Notebooks/Weights.hdf5\n",
            "Epoch 4/100\n",
            "784/784 [==============================] - 0s 84us/step - loss: 16.2425 - val_loss: 15.2346\n",
            "\n",
            "Epoch 00004: val_loss improved from 18.36025 to 15.23464, saving model to /content/drive/My Drive/Colab Notebooks/Weights.hdf5\n",
            "Epoch 5/100\n",
            "784/784 [==============================] - 0s 90us/step - loss: 11.8727 - val_loss: 9.3466\n",
            "\n",
            "Epoch 00005: val_loss improved from 15.23464 to 9.34662, saving model to /content/drive/My Drive/Colab Notebooks/Weights.hdf5\n",
            "Epoch 6/100\n",
            "784/784 [==============================] - 0s 99us/step - loss: 6.3581 - val_loss: 5.7031\n",
            "\n",
            "Epoch 00006: val_loss improved from 9.34662 to 5.70306, saving model to /content/drive/My Drive/Colab Notebooks/Weights.hdf5\n",
            "Epoch 7/100\n",
            "784/784 [==============================] - 0s 107us/step - loss: 5.0148 - val_loss: 4.9725\n",
            "\n",
            "Epoch 00007: val_loss improved from 5.70306 to 4.97247, saving model to /content/drive/My Drive/Colab Notebooks/Weights.hdf5\n",
            "Epoch 8/100\n",
            "784/784 [==============================] - 0s 107us/step - loss: 3.9046 - val_loss: 3.9660\n",
            "\n",
            "Epoch 00008: val_loss improved from 4.97247 to 3.96603, saving model to /content/drive/My Drive/Colab Notebooks/Weights.hdf5\n",
            "Epoch 9/100\n",
            "784/784 [==============================] - 0s 107us/step - loss: 3.2595 - val_loss: 3.0891\n",
            "\n",
            "Epoch 00009: val_loss improved from 3.96603 to 3.08912, saving model to /content/drive/My Drive/Colab Notebooks/Weights.hdf5\n",
            "Epoch 10/100\n",
            "784/784 [==============================] - 0s 104us/step - loss: 2.4963 - val_loss: 2.3323\n",
            "\n",
            "Epoch 00010: val_loss improved from 3.08912 to 2.33232, saving model to /content/drive/My Drive/Colab Notebooks/Weights.hdf5\n",
            "Epoch 11/100\n",
            "784/784 [==============================] - 0s 104us/step - loss: 1.9133 - val_loss: 1.7297\n",
            "\n",
            "Epoch 00011: val_loss improved from 2.33232 to 1.72971, saving model to /content/drive/My Drive/Colab Notebooks/Weights.hdf5\n",
            "Epoch 12/100\n",
            "784/784 [==============================] - 0s 101us/step - loss: 1.4293 - val_loss: 1.2834\n",
            "\n",
            "Epoch 00012: val_loss improved from 1.72971 to 1.28339, saving model to /content/drive/My Drive/Colab Notebooks/Weights.hdf5\n",
            "Epoch 13/100\n",
            "784/784 [==============================] - 0s 96us/step - loss: 1.1016 - val_loss: 0.9833\n",
            "\n",
            "Epoch 00013: val_loss improved from 1.28339 to 0.98335, saving model to /content/drive/My Drive/Colab Notebooks/Weights.hdf5\n",
            "Epoch 14/100\n",
            "784/784 [==============================] - 0s 109us/step - loss: 0.8842 - val_loss: 0.8413\n",
            "\n",
            "Epoch 00014: val_loss improved from 0.98335 to 0.84131, saving model to /content/drive/My Drive/Colab Notebooks/Weights.hdf5\n",
            "Epoch 15/100\n",
            "784/784 [==============================] - 0s 114us/step - loss: 0.7727 - val_loss: 0.7605\n",
            "\n",
            "Epoch 00015: val_loss improved from 0.84131 to 0.76050, saving model to /content/drive/My Drive/Colab Notebooks/Weights.hdf5\n",
            "Epoch 16/100\n",
            "784/784 [==============================] - 0s 103us/step - loss: 0.7018 - val_loss: 0.7123\n",
            "\n",
            "Epoch 00016: val_loss improved from 0.76050 to 0.71233, saving model to /content/drive/My Drive/Colab Notebooks/Weights.hdf5\n",
            "Epoch 17/100\n",
            "784/784 [==============================] - 0s 109us/step - loss: 0.6501 - val_loss: 0.6784\n",
            "\n",
            "Epoch 00017: val_loss improved from 0.71233 to 0.67839, saving model to /content/drive/My Drive/Colab Notebooks/Weights.hdf5\n",
            "Epoch 18/100\n",
            "784/784 [==============================] - 0s 121us/step - loss: 0.6119 - val_loss: 0.6539\n",
            "\n",
            "Epoch 00018: val_loss improved from 0.67839 to 0.65386, saving model to /content/drive/My Drive/Colab Notebooks/Weights.hdf5\n",
            "Epoch 19/100\n",
            "784/784 [==============================] - 0s 103us/step - loss: 0.5846 - val_loss: 0.6340\n",
            "\n",
            "Epoch 00019: val_loss improved from 0.65386 to 0.63400, saving model to /content/drive/My Drive/Colab Notebooks/Weights.hdf5\n",
            "Epoch 20/100\n",
            "784/784 [==============================] - 0s 100us/step - loss: 0.5540 - val_loss: 0.6155\n",
            "\n",
            "Epoch 00020: val_loss improved from 0.63400 to 0.61547, saving model to /content/drive/My Drive/Colab Notebooks/Weights.hdf5\n",
            "Epoch 21/100\n",
            "784/784 [==============================] - 0s 109us/step - loss: 0.5304 - val_loss: 0.5997\n",
            "\n",
            "Epoch 00021: val_loss improved from 0.61547 to 0.59967, saving model to /content/drive/My Drive/Colab Notebooks/Weights.hdf5\n",
            "Epoch 22/100\n",
            "784/784 [==============================] - 0s 102us/step - loss: 0.5088 - val_loss: 0.5870\n",
            "\n",
            "Epoch 00022: val_loss improved from 0.59967 to 0.58696, saving model to /content/drive/My Drive/Colab Notebooks/Weights.hdf5\n",
            "Epoch 23/100\n",
            "784/784 [==============================] - 0s 108us/step - loss: 0.4903 - val_loss: 0.5764\n",
            "\n",
            "Epoch 00023: val_loss improved from 0.58696 to 0.57636, saving model to /content/drive/My Drive/Colab Notebooks/Weights.hdf5\n",
            "Epoch 24/100\n",
            "784/784 [==============================] - 0s 119us/step - loss: 0.4721 - val_loss: 0.5640\n",
            "\n",
            "Epoch 00024: val_loss improved from 0.57636 to 0.56399, saving model to /content/drive/My Drive/Colab Notebooks/Weights.hdf5\n",
            "Epoch 25/100\n",
            "784/784 [==============================] - 0s 121us/step - loss: 0.4558 - val_loss: 0.5535\n",
            "\n",
            "Epoch 00025: val_loss improved from 0.56399 to 0.55347, saving model to /content/drive/My Drive/Colab Notebooks/Weights.hdf5\n",
            "Epoch 26/100\n",
            "784/784 [==============================] - 0s 101us/step - loss: 0.4413 - val_loss: 0.5418\n",
            "\n",
            "Epoch 00026: val_loss improved from 0.55347 to 0.54183, saving model to /content/drive/My Drive/Colab Notebooks/Weights.hdf5\n",
            "Epoch 27/100\n",
            "784/784 [==============================] - 0s 106us/step - loss: 0.4271 - val_loss: 0.5320\n",
            "\n",
            "Epoch 00027: val_loss improved from 0.54183 to 0.53203, saving model to /content/drive/My Drive/Colab Notebooks/Weights.hdf5\n",
            "Epoch 28/100\n",
            "784/784 [==============================] - 0s 99us/step - loss: 0.4139 - val_loss: 0.5197\n",
            "\n",
            "Epoch 00028: val_loss improved from 0.53203 to 0.51971, saving model to /content/drive/My Drive/Colab Notebooks/Weights.hdf5\n",
            "Epoch 29/100\n",
            "784/784 [==============================] - 0s 99us/step - loss: 0.3994 - val_loss: 0.5101\n",
            "\n",
            "Epoch 00029: val_loss improved from 0.51971 to 0.51013, saving model to /content/drive/My Drive/Colab Notebooks/Weights.hdf5\n",
            "Epoch 30/100\n",
            "784/784 [==============================] - 0s 97us/step - loss: 0.3867 - val_loss: 0.4969\n",
            "\n",
            "Epoch 00030: val_loss improved from 0.51013 to 0.49693, saving model to /content/drive/My Drive/Colab Notebooks/Weights.hdf5\n",
            "Epoch 31/100\n",
            "784/784 [==============================] - 0s 98us/step - loss: 0.3736 - val_loss: 0.4884\n",
            "\n",
            "Epoch 00031: val_loss improved from 0.49693 to 0.48842, saving model to /content/drive/My Drive/Colab Notebooks/Weights.hdf5\n",
            "Epoch 32/100\n",
            "784/784 [==============================] - 0s 103us/step - loss: 0.3619 - val_loss: 0.4762\n",
            "\n",
            "Epoch 00032: val_loss improved from 0.48842 to 0.47618, saving model to /content/drive/My Drive/Colab Notebooks/Weights.hdf5\n",
            "Epoch 33/100\n",
            "784/784 [==============================] - 0s 98us/step - loss: 0.3514 - val_loss: 0.4633\n",
            "\n",
            "Epoch 00033: val_loss improved from 0.47618 to 0.46329, saving model to /content/drive/My Drive/Colab Notebooks/Weights.hdf5\n",
            "Epoch 34/100\n",
            "784/784 [==============================] - 0s 94us/step - loss: 0.3410 - val_loss: 0.4488\n",
            "\n",
            "Epoch 00034: val_loss improved from 0.46329 to 0.44884, saving model to /content/drive/My Drive/Colab Notebooks/Weights.hdf5\n",
            "Epoch 35/100\n",
            "784/784 [==============================] - 0s 101us/step - loss: 0.3293 - val_loss: 0.4378\n",
            "\n",
            "Epoch 00035: val_loss improved from 0.44884 to 0.43781, saving model to /content/drive/My Drive/Colab Notebooks/Weights.hdf5\n",
            "Epoch 36/100\n",
            "784/784 [==============================] - 0s 105us/step - loss: 0.3203 - val_loss: 0.4244\n",
            "\n",
            "Epoch 00036: val_loss improved from 0.43781 to 0.42436, saving model to /content/drive/My Drive/Colab Notebooks/Weights.hdf5\n",
            "Epoch 37/100\n",
            "784/784 [==============================] - 0s 96us/step - loss: 0.3111 - val_loss: 0.4100\n",
            "\n",
            "Epoch 00037: val_loss improved from 0.42436 to 0.41005, saving model to /content/drive/My Drive/Colab Notebooks/Weights.hdf5\n",
            "Epoch 38/100\n",
            "784/784 [==============================] - 0s 100us/step - loss: 0.3014 - val_loss: 0.4021\n",
            "\n",
            "Epoch 00038: val_loss improved from 0.41005 to 0.40208, saving model to /content/drive/My Drive/Colab Notebooks/Weights.hdf5\n",
            "Epoch 39/100\n",
            "784/784 [==============================] - 0s 104us/step - loss: 0.2946 - val_loss: 0.3941\n",
            "\n",
            "Epoch 00039: val_loss improved from 0.40208 to 0.39414, saving model to /content/drive/My Drive/Colab Notebooks/Weights.hdf5\n",
            "Epoch 40/100\n",
            "784/784 [==============================] - 0s 103us/step - loss: 0.2868 - val_loss: 0.3806\n",
            "\n",
            "Epoch 00040: val_loss improved from 0.39414 to 0.38059, saving model to /content/drive/My Drive/Colab Notebooks/Weights.hdf5\n",
            "Epoch 41/100\n",
            "784/784 [==============================] - 0s 102us/step - loss: 0.2794 - val_loss: 0.3686\n",
            "\n",
            "Epoch 00041: val_loss improved from 0.38059 to 0.36856, saving model to /content/drive/My Drive/Colab Notebooks/Weights.hdf5\n",
            "Epoch 42/100\n",
            "784/784 [==============================] - 0s 100us/step - loss: 0.2729 - val_loss: 0.3558\n",
            "\n",
            "Epoch 00042: val_loss improved from 0.36856 to 0.35583, saving model to /content/drive/My Drive/Colab Notebooks/Weights.hdf5\n",
            "Epoch 43/100\n",
            "784/784 [==============================] - 0s 105us/step - loss: 0.2654 - val_loss: 0.3519\n",
            "\n",
            "Epoch 00043: val_loss improved from 0.35583 to 0.35191, saving model to /content/drive/My Drive/Colab Notebooks/Weights.hdf5\n",
            "Epoch 44/100\n",
            "784/784 [==============================] - 0s 111us/step - loss: 0.2596 - val_loss: 0.3417\n",
            "\n",
            "Epoch 00044: val_loss improved from 0.35191 to 0.34167, saving model to /content/drive/My Drive/Colab Notebooks/Weights.hdf5\n",
            "Epoch 45/100\n",
            "784/784 [==============================] - 0s 106us/step - loss: 0.2531 - val_loss: 0.3294\n",
            "\n",
            "Epoch 00045: val_loss improved from 0.34167 to 0.32942, saving model to /content/drive/My Drive/Colab Notebooks/Weights.hdf5\n",
            "Epoch 46/100\n",
            "784/784 [==============================] - 0s 91us/step - loss: 0.2473 - val_loss: 0.3230\n",
            "\n",
            "Epoch 00046: val_loss improved from 0.32942 to 0.32296, saving model to /content/drive/My Drive/Colab Notebooks/Weights.hdf5\n",
            "Epoch 47/100\n",
            "784/784 [==============================] - 0s 99us/step - loss: 0.2437 - val_loss: 0.3173\n",
            "\n",
            "Epoch 00047: val_loss improved from 0.32296 to 0.31728, saving model to /content/drive/My Drive/Colab Notebooks/Weights.hdf5\n",
            "Epoch 48/100\n",
            "784/784 [==============================] - 0s 101us/step - loss: 0.2355 - val_loss: 0.3081\n",
            "\n",
            "Epoch 00048: val_loss improved from 0.31728 to 0.30813, saving model to /content/drive/My Drive/Colab Notebooks/Weights.hdf5\n",
            "Epoch 49/100\n",
            "784/784 [==============================] - 0s 106us/step - loss: 0.2292 - val_loss: 0.2950\n",
            "\n",
            "Epoch 00049: val_loss improved from 0.30813 to 0.29502, saving model to /content/drive/My Drive/Colab Notebooks/Weights.hdf5\n",
            "Epoch 50/100\n",
            "784/784 [==============================] - 0s 101us/step - loss: 0.2221 - val_loss: 0.2887\n",
            "\n",
            "Epoch 00050: val_loss improved from 0.29502 to 0.28871, saving model to /content/drive/My Drive/Colab Notebooks/Weights.hdf5\n",
            "Epoch 51/100\n",
            "784/784 [==============================] - 0s 104us/step - loss: 0.2171 - val_loss: 0.2851\n",
            "\n",
            "Epoch 00051: val_loss improved from 0.28871 to 0.28513, saving model to /content/drive/My Drive/Colab Notebooks/Weights.hdf5\n",
            "Epoch 52/100\n",
            "784/784 [==============================] - 0s 104us/step - loss: 0.2113 - val_loss: 0.2759\n",
            "\n",
            "Epoch 00052: val_loss improved from 0.28513 to 0.27591, saving model to /content/drive/My Drive/Colab Notebooks/Weights.hdf5\n",
            "Epoch 53/100\n",
            "784/784 [==============================] - 0s 108us/step - loss: 0.2069 - val_loss: 0.2667\n",
            "\n",
            "Epoch 00053: val_loss improved from 0.27591 to 0.26671, saving model to /content/drive/My Drive/Colab Notebooks/Weights.hdf5\n",
            "Epoch 54/100\n",
            "784/784 [==============================] - 0s 123us/step - loss: 0.2009 - val_loss: 0.2579\n",
            "\n",
            "Epoch 00054: val_loss improved from 0.26671 to 0.25791, saving model to /content/drive/My Drive/Colab Notebooks/Weights.hdf5\n",
            "Epoch 55/100\n",
            "784/784 [==============================] - 0s 92us/step - loss: 0.1975 - val_loss: 0.2524\n",
            "\n",
            "Epoch 00055: val_loss improved from 0.25791 to 0.25236, saving model to /content/drive/My Drive/Colab Notebooks/Weights.hdf5\n",
            "Epoch 56/100\n",
            "784/784 [==============================] - 0s 98us/step - loss: 0.1910 - val_loss: 0.2482\n",
            "\n",
            "Epoch 00056: val_loss improved from 0.25236 to 0.24818, saving model to /content/drive/My Drive/Colab Notebooks/Weights.hdf5\n",
            "Epoch 57/100\n",
            "784/784 [==============================] - 0s 105us/step - loss: 0.1901 - val_loss: 0.2447\n",
            "\n",
            "Epoch 00057: val_loss improved from 0.24818 to 0.24466, saving model to /content/drive/My Drive/Colab Notebooks/Weights.hdf5\n",
            "Epoch 58/100\n",
            "784/784 [==============================] - 0s 98us/step - loss: 0.1838 - val_loss: 0.2347\n",
            "\n",
            "Epoch 00058: val_loss improved from 0.24466 to 0.23465, saving model to /content/drive/My Drive/Colab Notebooks/Weights.hdf5\n",
            "Epoch 59/100\n",
            "784/784 [==============================] - 0s 106us/step - loss: 0.1797 - val_loss: 0.2285\n",
            "\n",
            "Epoch 00059: val_loss improved from 0.23465 to 0.22846, saving model to /content/drive/My Drive/Colab Notebooks/Weights.hdf5\n",
            "Epoch 60/100\n",
            "784/784 [==============================] - 0s 100us/step - loss: 0.1764 - val_loss: 0.2219\n",
            "\n",
            "Epoch 00060: val_loss improved from 0.22846 to 0.22188, saving model to /content/drive/My Drive/Colab Notebooks/Weights.hdf5\n",
            "Epoch 61/100\n",
            "784/784 [==============================] - 0s 121us/step - loss: 0.1731 - val_loss: 0.2190\n",
            "\n",
            "Epoch 00061: val_loss improved from 0.22188 to 0.21898, saving model to /content/drive/My Drive/Colab Notebooks/Weights.hdf5\n",
            "Epoch 62/100\n",
            "784/784 [==============================] - 0s 94us/step - loss: 0.1679 - val_loss: 0.2131\n",
            "\n",
            "Epoch 00062: val_loss improved from 0.21898 to 0.21313, saving model to /content/drive/My Drive/Colab Notebooks/Weights.hdf5\n",
            "Epoch 63/100\n",
            "784/784 [==============================] - 0s 99us/step - loss: 0.1662 - val_loss: 0.2165\n",
            "\n",
            "Epoch 00063: val_loss did not improve from 0.21313\n",
            "Epoch 64/100\n",
            "784/784 [==============================] - 0s 101us/step - loss: 0.1628 - val_loss: 0.1932\n",
            "\n",
            "Epoch 00064: val_loss improved from 0.21313 to 0.19317, saving model to /content/drive/My Drive/Colab Notebooks/Weights.hdf5\n",
            "Epoch 65/100\n",
            "784/784 [==============================] - 0s 98us/step - loss: 0.1587 - val_loss: 0.2043\n",
            "\n",
            "Epoch 00065: val_loss did not improve from 0.19317\n",
            "Epoch 66/100\n",
            "784/784 [==============================] - 0s 96us/step - loss: 0.1568 - val_loss: 0.2021\n",
            "\n",
            "Epoch 00066: val_loss did not improve from 0.19317\n",
            "Epoch 67/100\n",
            "784/784 [==============================] - 0s 85us/step - loss: 0.1533 - val_loss: 0.1878\n",
            "\n",
            "Epoch 00067: val_loss improved from 0.19317 to 0.18778, saving model to /content/drive/My Drive/Colab Notebooks/Weights.hdf5\n",
            "Epoch 68/100\n",
            "784/784 [==============================] - 0s 103us/step - loss: 0.1495 - val_loss: 0.1924\n",
            "\n",
            "Epoch 00068: val_loss did not improve from 0.18778\n",
            "Epoch 69/100\n",
            "784/784 [==============================] - 0s 102us/step - loss: 0.1486 - val_loss: 0.1832\n",
            "\n",
            "Epoch 00069: val_loss improved from 0.18778 to 0.18317, saving model to /content/drive/My Drive/Colab Notebooks/Weights.hdf5\n",
            "Epoch 70/100\n",
            "784/784 [==============================] - 0s 124us/step - loss: 0.1448 - val_loss: 0.1773\n",
            "\n",
            "Epoch 00070: val_loss improved from 0.18317 to 0.17728, saving model to /content/drive/My Drive/Colab Notebooks/Weights.hdf5\n",
            "Epoch 71/100\n",
            "784/784 [==============================] - 0s 99us/step - loss: 0.1422 - val_loss: 0.1820\n",
            "\n",
            "Epoch 00071: val_loss did not improve from 0.17728\n",
            "Epoch 72/100\n",
            "784/784 [==============================] - 0s 95us/step - loss: 0.1391 - val_loss: 0.1736\n",
            "\n",
            "Epoch 00072: val_loss improved from 0.17728 to 0.17362, saving model to /content/drive/My Drive/Colab Notebooks/Weights.hdf5\n",
            "Epoch 73/100\n",
            "784/784 [==============================] - 0s 102us/step - loss: 0.1385 - val_loss: 0.1761\n",
            "\n",
            "Epoch 00073: val_loss did not improve from 0.17362\n",
            "Epoch 74/100\n",
            "784/784 [==============================] - 0s 95us/step - loss: 0.1385 - val_loss: 0.1714\n",
            "\n",
            "Epoch 00074: val_loss improved from 0.17362 to 0.17140, saving model to /content/drive/My Drive/Colab Notebooks/Weights.hdf5\n",
            "Epoch 75/100\n",
            "784/784 [==============================] - 0s 92us/step - loss: 0.1348 - val_loss: 0.1635\n",
            "\n",
            "Epoch 00075: val_loss improved from 0.17140 to 0.16348, saving model to /content/drive/My Drive/Colab Notebooks/Weights.hdf5\n",
            "Epoch 76/100\n",
            "784/784 [==============================] - 0s 95us/step - loss: 0.1316 - val_loss: 0.1687\n",
            "\n",
            "Epoch 00076: val_loss did not improve from 0.16348\n",
            "Epoch 77/100\n",
            "784/784 [==============================] - 0s 99us/step - loss: 0.1328 - val_loss: 0.1688\n",
            "\n",
            "Epoch 00077: val_loss did not improve from 0.16348\n",
            "Epoch 78/100\n",
            "784/784 [==============================] - 0s 102us/step - loss: 0.1307 - val_loss: 0.1614\n",
            "\n",
            "Epoch 00078: val_loss improved from 0.16348 to 0.16137, saving model to /content/drive/My Drive/Colab Notebooks/Weights.hdf5\n",
            "Epoch 79/100\n",
            "784/784 [==============================] - 0s 105us/step - loss: 0.1324 - val_loss: 0.1717\n",
            "\n",
            "Epoch 00079: val_loss did not improve from 0.16137\n",
            "Epoch 80/100\n",
            "784/784 [==============================] - 0s 101us/step - loss: 0.1296 - val_loss: 0.1650\n",
            "\n",
            "Epoch 00080: val_loss did not improve from 0.16137\n",
            "Epoch 81/100\n",
            "784/784 [==============================] - 0s 97us/step - loss: 0.1261 - val_loss: 0.1515\n",
            "\n",
            "Epoch 00081: val_loss improved from 0.16137 to 0.15145, saving model to /content/drive/My Drive/Colab Notebooks/Weights.hdf5\n",
            "Epoch 82/100\n",
            "784/784 [==============================] - 0s 99us/step - loss: 0.1231 - val_loss: 0.1603\n",
            "\n",
            "Epoch 00082: val_loss did not improve from 0.15145\n",
            "Epoch 83/100\n",
            "784/784 [==============================] - 0s 97us/step - loss: 0.1216 - val_loss: 0.1560\n",
            "\n",
            "Epoch 00083: val_loss did not improve from 0.15145\n",
            "Epoch 84/100\n",
            "784/784 [==============================] - 0s 99us/step - loss: 0.1211 - val_loss: 0.1507\n",
            "\n",
            "Epoch 00084: val_loss improved from 0.15145 to 0.15068, saving model to /content/drive/My Drive/Colab Notebooks/Weights.hdf5\n",
            "Epoch 85/100\n",
            "784/784 [==============================] - 0s 98us/step - loss: 0.1201 - val_loss: 0.1591\n",
            "\n",
            "Epoch 00085: val_loss did not improve from 0.15068\n",
            "Epoch 86/100\n",
            "784/784 [==============================] - 0s 97us/step - loss: 0.1192 - val_loss: 0.1460\n",
            "\n",
            "Epoch 00086: val_loss improved from 0.15068 to 0.14604, saving model to /content/drive/My Drive/Colab Notebooks/Weights.hdf5\n",
            "Epoch 87/100\n",
            "784/784 [==============================] - 0s 100us/step - loss: 0.1159 - val_loss: 0.1455\n",
            "\n",
            "Epoch 00087: val_loss improved from 0.14604 to 0.14554, saving model to /content/drive/My Drive/Colab Notebooks/Weights.hdf5\n",
            "Epoch 88/100\n",
            "784/784 [==============================] - 0s 106us/step - loss: 0.1134 - val_loss: 0.1466\n",
            "\n",
            "Epoch 00088: val_loss did not improve from 0.14554\n",
            "Epoch 89/100\n",
            "784/784 [==============================] - 0s 113us/step - loss: 0.1137 - val_loss: 0.1448\n",
            "\n",
            "Epoch 00089: val_loss improved from 0.14554 to 0.14482, saving model to /content/drive/My Drive/Colab Notebooks/Weights.hdf5\n",
            "Epoch 90/100\n",
            "784/784 [==============================] - 0s 98us/step - loss: 0.1125 - val_loss: 0.1446\n",
            "\n",
            "Epoch 00090: val_loss improved from 0.14482 to 0.14459, saving model to /content/drive/My Drive/Colab Notebooks/Weights.hdf5\n",
            "Epoch 91/100\n",
            "784/784 [==============================] - 0s 97us/step - loss: 0.1100 - val_loss: 0.1408\n",
            "\n",
            "Epoch 00091: val_loss improved from 0.14459 to 0.14078, saving model to /content/drive/My Drive/Colab Notebooks/Weights.hdf5\n",
            "Epoch 92/100\n",
            "784/784 [==============================] - 0s 96us/step - loss: 0.1108 - val_loss: 0.1416\n",
            "\n",
            "Epoch 00092: val_loss did not improve from 0.14078\n",
            "Epoch 93/100\n",
            "784/784 [==============================] - 0s 96us/step - loss: 0.1086 - val_loss: 0.1477\n",
            "\n",
            "Epoch 00093: val_loss did not improve from 0.14078\n",
            "Epoch 94/100\n",
            "784/784 [==============================] - 0s 97us/step - loss: 0.1092 - val_loss: 0.1382\n",
            "\n",
            "Epoch 00094: val_loss improved from 0.14078 to 0.13815, saving model to /content/drive/My Drive/Colab Notebooks/Weights.hdf5\n",
            "Epoch 95/100\n",
            "784/784 [==============================] - 0s 91us/step - loss: 0.1054 - val_loss: 0.1397\n",
            "\n",
            "Epoch 00095: val_loss did not improve from 0.13815\n",
            "Epoch 96/100\n",
            "784/784 [==============================] - 0s 100us/step - loss: 0.1070 - val_loss: 0.1439\n",
            "\n",
            "Epoch 00096: val_loss did not improve from 0.13815\n",
            "Epoch 97/100\n",
            "784/784 [==============================] - 0s 98us/step - loss: 0.1077 - val_loss: 0.1400\n",
            "\n",
            "Epoch 00097: val_loss did not improve from 0.13815\n",
            "Epoch 98/100\n",
            "784/784 [==============================] - 0s 98us/step - loss: 0.1061 - val_loss: 0.1417\n",
            "\n",
            "Epoch 00098: val_loss did not improve from 0.13815\n",
            "Epoch 99/100\n",
            "784/784 [==============================] - 0s 113us/step - loss: 0.1026 - val_loss: 0.1361\n",
            "\n",
            "Epoch 00099: val_loss improved from 0.13815 to 0.13611, saving model to /content/drive/My Drive/Colab Notebooks/Weights.hdf5\n",
            "Epoch 100/100\n",
            "784/784 [==============================] - 0s 96us/step - loss: 0.1015 - val_loss: 0.1371\n",
            "\n",
            "Epoch 00100: val_loss did not improve from 0.13611\n"
          ],
          "name": "stdout"
        },
        {
          "output_type": "execute_result",
          "data": {
            "text/plain": [
              "<keras.callbacks.History at 0x7fb67f763cf8>"
            ]
          },
          "metadata": {
            "tags": []
          },
          "execution_count": 83
        }
      ]
    },
    {
      "metadata": {
        "id": "Qomg_uMYmFG4",
        "colab_type": "code",
        "outputId": "c90be48a-7a11-4112-fd38-ced351edb91d",
        "colab": {
          "base_uri": "https://localhost:8080/",
          "height": 6014
        }
      },
      "cell_type": "code",
      "source": [
        "#With Dropout\n",
        "\n",
        "NN_model1 = Sequential()\n",
        "\n",
        "# The Input Layer :\n",
        "NN_model1.add(Dense(60, kernel_initializer='normal',input_dim = X_train.shape[1], activation='relu'))\n",
        "\n",
        "# The Hidden Layers :\n",
        "NN_model1.add(Dense(30, kernel_initializer='normal',activation='relu'))\n",
        "NN_model1.add(Dropout(rate=0.1))\n",
        "NN_model1.add(Dense(10, kernel_initializer='normal',activation='relu'))\n",
        "NN_model1.add(Dropout(rate=0.1))\n",
        "\n",
        "# The Output Layer :\n",
        "NN_model1.add(Dense(1, kernel_initializer='normal',activation='linear'))\n",
        "\n",
        "# Compile the network :\n",
        "NN_model1.compile(loss='mse', optimizer='adam')\n",
        "NN_model1.summary()\n",
        "\n",
        "checkpoint_name = '/content/drive/My Drive/Colab Notebooks/Weights.hdf5' \n",
        "checkpoint = ModelCheckpoint(checkpoint_name, monitor='val_loss', verbose = 1, save_best_only = True, mode ='auto')\n",
        "earlystopping = EarlyStopping(monitor='val_loss', min_delta=0.0001, patience=5, verbose=0, mode='auto')\n",
        "callbacks_list = [checkpoint, earlystopping]\n",
        "\n",
        "NN_model1.fit(X_train, Y_train, epochs=100, batch_size=72, validation_split = 0.2, callbacks=callbacks_list)"
      ],
      "execution_count": 0,
      "outputs": [
        {
          "output_type": "stream",
          "text": [
            "_________________________________________________________________\n",
            "Layer (type)                 Output Shape              Param #   \n",
            "=================================================================\n",
            "dense_5 (Dense)              (None, 60)                900       \n",
            "_________________________________________________________________\n",
            "dense_6 (Dense)              (None, 30)                1830      \n",
            "_________________________________________________________________\n",
            "dropout_1 (Dropout)          (None, 30)                0         \n",
            "_________________________________________________________________\n",
            "dense_7 (Dense)              (None, 10)                310       \n",
            "_________________________________________________________________\n",
            "dropout_2 (Dropout)          (None, 10)                0         \n",
            "_________________________________________________________________\n",
            "dense_8 (Dense)              (None, 1)                 11        \n",
            "=================================================================\n",
            "Total params: 3,051\n",
            "Trainable params: 3,051\n",
            "Non-trainable params: 0\n",
            "_________________________________________________________________\n",
            "Train on 784 samples, validate on 197 samples\n",
            "Epoch 1/100\n",
            "784/784 [==============================] - 0s 492us/step - loss: 19.0884 - val_loss: 20.0099\n",
            "\n",
            "Epoch 00001: val_loss improved from inf to 20.00989, saving model to /content/drive/My Drive/Colab Notebooks/Weights.hdf5\n",
            "Epoch 2/100\n",
            "784/784 [==============================] - 0s 96us/step - loss: 18.9270 - val_loss: 19.7735\n",
            "\n",
            "Epoch 00002: val_loss improved from 20.00989 to 19.77348, saving model to /content/drive/My Drive/Colab Notebooks/Weights.hdf5\n",
            "Epoch 3/100\n",
            "784/784 [==============================] - 0s 98us/step - loss: 18.5816 - val_loss: 19.2216\n",
            "\n",
            "Epoch 00003: val_loss improved from 19.77348 to 19.22160, saving model to /content/drive/My Drive/Colab Notebooks/Weights.hdf5\n",
            "Epoch 4/100\n",
            "784/784 [==============================] - 0s 107us/step - loss: 17.7573 - val_loss: 17.8544\n",
            "\n",
            "Epoch 00004: val_loss improved from 19.22160 to 17.85441, saving model to /content/drive/My Drive/Colab Notebooks/Weights.hdf5\n",
            "Epoch 5/100\n",
            "784/784 [==============================] - 0s 99us/step - loss: 15.7924 - val_loss: 14.7917\n",
            "\n",
            "Epoch 00005: val_loss improved from 17.85441 to 14.79169, saving model to /content/drive/My Drive/Colab Notebooks/Weights.hdf5\n",
            "Epoch 6/100\n",
            "784/784 [==============================] - 0s 102us/step - loss: 11.8330 - val_loss: 9.5770\n",
            "\n",
            "Epoch 00006: val_loss improved from 14.79169 to 9.57702, saving model to /content/drive/My Drive/Colab Notebooks/Weights.hdf5\n",
            "Epoch 7/100\n",
            "784/784 [==============================] - 0s 112us/step - loss: 7.0014 - val_loss: 5.6472\n",
            "\n",
            "Epoch 00007: val_loss improved from 9.57702 to 5.64717, saving model to /content/drive/My Drive/Colab Notebooks/Weights.hdf5\n",
            "Epoch 8/100\n",
            "784/784 [==============================] - 0s 105us/step - loss: 5.7727 - val_loss: 4.8487\n",
            "\n",
            "Epoch 00008: val_loss improved from 5.64717 to 4.84867, saving model to /content/drive/My Drive/Colab Notebooks/Weights.hdf5\n",
            "Epoch 9/100\n",
            "784/784 [==============================] - 0s 101us/step - loss: 4.9310 - val_loss: 4.1652\n",
            "\n",
            "Epoch 00009: val_loss improved from 4.84867 to 4.16521, saving model to /content/drive/My Drive/Colab Notebooks/Weights.hdf5\n",
            "Epoch 10/100\n",
            "784/784 [==============================] - 0s 98us/step - loss: 3.9754 - val_loss: 3.3716\n",
            "\n",
            "Epoch 00010: val_loss improved from 4.16521 to 3.37157, saving model to /content/drive/My Drive/Colab Notebooks/Weights.hdf5\n",
            "Epoch 11/100\n",
            "784/784 [==============================] - 0s 101us/step - loss: 3.5546 - val_loss: 2.6400\n",
            "\n",
            "Epoch 00011: val_loss improved from 3.37157 to 2.64000, saving model to /content/drive/My Drive/Colab Notebooks/Weights.hdf5\n",
            "Epoch 12/100\n",
            "784/784 [==============================] - 0s 118us/step - loss: 3.0429 - val_loss: 2.0630\n",
            "\n",
            "Epoch 00012: val_loss improved from 2.64000 to 2.06303, saving model to /content/drive/My Drive/Colab Notebooks/Weights.hdf5\n",
            "Epoch 13/100\n",
            "784/784 [==============================] - 0s 116us/step - loss: 2.6947 - val_loss: 1.6364\n",
            "\n",
            "Epoch 00013: val_loss improved from 2.06303 to 1.63640, saving model to /content/drive/My Drive/Colab Notebooks/Weights.hdf5\n",
            "Epoch 14/100\n",
            "784/784 [==============================] - 0s 99us/step - loss: 2.0913 - val_loss: 1.2733\n",
            "\n",
            "Epoch 00014: val_loss improved from 1.63640 to 1.27331, saving model to /content/drive/My Drive/Colab Notebooks/Weights.hdf5\n",
            "Epoch 15/100\n",
            "784/784 [==============================] - 0s 92us/step - loss: 2.0203 - val_loss: 1.0128\n",
            "\n",
            "Epoch 00015: val_loss improved from 1.27331 to 1.01276, saving model to /content/drive/My Drive/Colab Notebooks/Weights.hdf5\n",
            "Epoch 16/100\n",
            "784/784 [==============================] - 0s 96us/step - loss: 1.8603 - val_loss: 0.9721\n",
            "\n",
            "Epoch 00016: val_loss improved from 1.01276 to 0.97210, saving model to /content/drive/My Drive/Colab Notebooks/Weights.hdf5\n",
            "Epoch 17/100\n",
            "784/784 [==============================] - 0s 97us/step - loss: 1.6029 - val_loss: 0.8469\n",
            "\n",
            "Epoch 00017: val_loss improved from 0.97210 to 0.84688, saving model to /content/drive/My Drive/Colab Notebooks/Weights.hdf5\n",
            "Epoch 18/100\n",
            "784/784 [==============================] - 0s 100us/step - loss: 1.9737 - val_loss: 0.7544\n",
            "\n",
            "Epoch 00018: val_loss improved from 0.84688 to 0.75437, saving model to /content/drive/My Drive/Colab Notebooks/Weights.hdf5\n",
            "Epoch 19/100\n",
            "784/784 [==============================] - 0s 108us/step - loss: 1.4748 - val_loss: 0.7386\n",
            "\n",
            "Epoch 00019: val_loss improved from 0.75437 to 0.73864, saving model to /content/drive/My Drive/Colab Notebooks/Weights.hdf5\n",
            "Epoch 20/100\n",
            "784/784 [==============================] - 0s 102us/step - loss: 1.6919 - val_loss: 0.7183\n",
            "\n",
            "Epoch 00020: val_loss improved from 0.73864 to 0.71826, saving model to /content/drive/My Drive/Colab Notebooks/Weights.hdf5\n",
            "Epoch 21/100\n",
            "784/784 [==============================] - 0s 106us/step - loss: 1.6197 - val_loss: 0.7369\n",
            "\n",
            "Epoch 00021: val_loss did not improve from 0.71826\n",
            "Epoch 22/100\n",
            "784/784 [==============================] - 0s 93us/step - loss: 1.7585 - val_loss: 0.6625\n",
            "\n",
            "Epoch 00022: val_loss improved from 0.71826 to 0.66249, saving model to /content/drive/My Drive/Colab Notebooks/Weights.hdf5\n",
            "Epoch 23/100\n",
            "784/784 [==============================] - 0s 102us/step - loss: 1.6124 - val_loss: 0.6734\n",
            "\n",
            "Epoch 00023: val_loss did not improve from 0.66249\n",
            "Epoch 24/100\n",
            "784/784 [==============================] - 0s 102us/step - loss: 1.3810 - val_loss: 0.6535\n",
            "\n",
            "Epoch 00024: val_loss improved from 0.66249 to 0.65348, saving model to /content/drive/My Drive/Colab Notebooks/Weights.hdf5\n",
            "Epoch 25/100\n",
            "784/784 [==============================] - 0s 105us/step - loss: 1.4120 - val_loss: 0.6531\n",
            "\n",
            "Epoch 00025: val_loss improved from 0.65348 to 0.65309, saving model to /content/drive/My Drive/Colab Notebooks/Weights.hdf5\n",
            "Epoch 26/100\n",
            "784/784 [==============================] - 0s 105us/step - loss: 1.4592 - val_loss: 0.6281\n",
            "\n",
            "Epoch 00026: val_loss improved from 0.65309 to 0.62813, saving model to /content/drive/My Drive/Colab Notebooks/Weights.hdf5\n",
            "Epoch 27/100\n",
            "784/784 [==============================] - 0s 98us/step - loss: 1.4924 - val_loss: 0.5973\n",
            "\n",
            "Epoch 00027: val_loss improved from 0.62813 to 0.59731, saving model to /content/drive/My Drive/Colab Notebooks/Weights.hdf5\n",
            "Epoch 28/100\n",
            "784/784 [==============================] - 0s 104us/step - loss: 1.5405 - val_loss: 0.5765\n",
            "\n",
            "Epoch 00028: val_loss improved from 0.59731 to 0.57648, saving model to /content/drive/My Drive/Colab Notebooks/Weights.hdf5\n",
            "Epoch 29/100\n",
            "784/784 [==============================] - 0s 103us/step - loss: 1.5619 - val_loss: 0.5570\n",
            "\n",
            "Epoch 00029: val_loss improved from 0.57648 to 0.55700, saving model to /content/drive/My Drive/Colab Notebooks/Weights.hdf5\n",
            "Epoch 30/100\n",
            "784/784 [==============================] - 0s 98us/step - loss: 1.4038 - val_loss: 0.5807\n",
            "\n",
            "Epoch 00030: val_loss did not improve from 0.55700\n",
            "Epoch 31/100\n",
            "784/784 [==============================] - 0s 101us/step - loss: 1.5503 - val_loss: 0.5043\n",
            "\n",
            "Epoch 00031: val_loss improved from 0.55700 to 0.50431, saving model to /content/drive/My Drive/Colab Notebooks/Weights.hdf5\n",
            "Epoch 32/100\n",
            "784/784 [==============================] - 0s 105us/step - loss: 1.3687 - val_loss: 0.5514\n",
            "\n",
            "Epoch 00032: val_loss did not improve from 0.50431\n",
            "Epoch 33/100\n",
            "784/784 [==============================] - 0s 95us/step - loss: 1.6696 - val_loss: 0.5116\n",
            "\n",
            "Epoch 00033: val_loss did not improve from 0.50431\n",
            "Epoch 34/100\n",
            "784/784 [==============================] - 0s 97us/step - loss: 1.3829 - val_loss: 0.5099\n",
            "\n",
            "Epoch 00034: val_loss did not improve from 0.50431\n",
            "Epoch 35/100\n",
            "784/784 [==============================] - 0s 106us/step - loss: 1.3897 - val_loss: 0.5358\n",
            "\n",
            "Epoch 00035: val_loss did not improve from 0.50431\n",
            "Epoch 36/100\n",
            "784/784 [==============================] - 0s 98us/step - loss: 1.3038 - val_loss: 0.4971\n",
            "\n",
            "Epoch 00036: val_loss improved from 0.50431 to 0.49708, saving model to /content/drive/My Drive/Colab Notebooks/Weights.hdf5\n",
            "Epoch 37/100\n",
            "784/784 [==============================] - 0s 94us/step - loss: 1.2493 - val_loss: 0.4974\n",
            "\n",
            "Epoch 00037: val_loss did not improve from 0.49708\n",
            "Epoch 38/100\n",
            "784/784 [==============================] - 0s 99us/step - loss: 1.2978 - val_loss: 0.5181\n",
            "\n",
            "Epoch 00038: val_loss did not improve from 0.49708\n",
            "Epoch 39/100\n",
            "784/784 [==============================] - 0s 120us/step - loss: 1.4369 - val_loss: 0.4387\n",
            "\n",
            "Epoch 00039: val_loss improved from 0.49708 to 0.43871, saving model to /content/drive/My Drive/Colab Notebooks/Weights.hdf5\n",
            "Epoch 40/100\n",
            "784/784 [==============================] - 0s 108us/step - loss: 1.3331 - val_loss: 0.4553\n",
            "\n",
            "Epoch 00040: val_loss did not improve from 0.43871\n",
            "Epoch 41/100\n",
            "784/784 [==============================] - 0s 99us/step - loss: 1.1707 - val_loss: 0.4509\n",
            "\n",
            "Epoch 00041: val_loss did not improve from 0.43871\n",
            "Epoch 42/100\n",
            "784/784 [==============================] - 0s 93us/step - loss: 1.4212 - val_loss: 0.4505\n",
            "\n",
            "Epoch 00042: val_loss did not improve from 0.43871\n",
            "Epoch 43/100\n",
            "784/784 [==============================] - 0s 94us/step - loss: 1.3824 - val_loss: 0.4038\n",
            "\n",
            "Epoch 00043: val_loss improved from 0.43871 to 0.40376, saving model to /content/drive/My Drive/Colab Notebooks/Weights.hdf5\n",
            "Epoch 44/100\n",
            "784/784 [==============================] - 0s 96us/step - loss: 1.3218 - val_loss: 0.4311\n",
            "\n",
            "Epoch 00044: val_loss did not improve from 0.40376\n",
            "Epoch 45/100\n",
            "784/784 [==============================] - 0s 100us/step - loss: 1.3443 - val_loss: 0.4024\n",
            "\n",
            "Epoch 00045: val_loss improved from 0.40376 to 0.40244, saving model to /content/drive/My Drive/Colab Notebooks/Weights.hdf5\n",
            "Epoch 46/100\n",
            "784/784 [==============================] - 0s 99us/step - loss: 1.2877 - val_loss: 0.4099\n",
            "\n",
            "Epoch 00046: val_loss did not improve from 0.40244\n",
            "Epoch 47/100\n",
            "784/784 [==============================] - 0s 96us/step - loss: 1.3004 - val_loss: 0.4083\n",
            "\n",
            "Epoch 00047: val_loss did not improve from 0.40244\n",
            "Epoch 48/100\n",
            "784/784 [==============================] - 0s 104us/step - loss: 1.3402 - val_loss: 0.4317\n",
            "\n",
            "Epoch 00048: val_loss did not improve from 0.40244\n",
            "Epoch 49/100\n",
            "784/784 [==============================] - 0s 115us/step - loss: 1.1779 - val_loss: 0.4371\n",
            "\n",
            "Epoch 00049: val_loss did not improve from 0.40244\n",
            "Epoch 50/100\n",
            "784/784 [==============================] - 0s 107us/step - loss: 1.3918 - val_loss: 0.3659\n",
            "\n",
            "Epoch 00050: val_loss improved from 0.40244 to 0.36589, saving model to /content/drive/My Drive/Colab Notebooks/Weights.hdf5\n",
            "Epoch 51/100\n",
            "784/784 [==============================] - 0s 97us/step - loss: 1.3360 - val_loss: 0.4046\n",
            "\n",
            "Epoch 00051: val_loss did not improve from 0.36589\n",
            "Epoch 52/100\n",
            "784/784 [==============================] - 0s 95us/step - loss: 1.2855 - val_loss: 0.3866\n",
            "\n",
            "Epoch 00052: val_loss did not improve from 0.36589\n",
            "Epoch 53/100\n",
            "784/784 [==============================] - 0s 97us/step - loss: 1.2802 - val_loss: 0.3598\n",
            "\n",
            "Epoch 00053: val_loss improved from 0.36589 to 0.35979, saving model to /content/drive/My Drive/Colab Notebooks/Weights.hdf5\n",
            "Epoch 54/100\n",
            "784/784 [==============================] - 0s 106us/step - loss: 1.3840 - val_loss: 0.3436\n",
            "\n",
            "Epoch 00054: val_loss improved from 0.35979 to 0.34356, saving model to /content/drive/My Drive/Colab Notebooks/Weights.hdf5\n",
            "Epoch 55/100\n",
            "784/784 [==============================] - 0s 106us/step - loss: 1.5435 - val_loss: 0.3306\n",
            "\n",
            "Epoch 00055: val_loss improved from 0.34356 to 0.33061, saving model to /content/drive/My Drive/Colab Notebooks/Weights.hdf5\n",
            "Epoch 56/100\n",
            "784/784 [==============================] - 0s 105us/step - loss: 1.2732 - val_loss: 0.3747\n",
            "\n",
            "Epoch 00056: val_loss did not improve from 0.33061\n",
            "Epoch 57/100\n",
            "784/784 [==============================] - 0s 96us/step - loss: 1.3635 - val_loss: 0.3344\n",
            "\n",
            "Epoch 00057: val_loss did not improve from 0.33061\n",
            "Epoch 58/100\n",
            "784/784 [==============================] - 0s 98us/step - loss: 1.2986 - val_loss: 0.3286\n",
            "\n",
            "Epoch 00058: val_loss improved from 0.33061 to 0.32857, saving model to /content/drive/My Drive/Colab Notebooks/Weights.hdf5\n",
            "Epoch 59/100\n",
            "784/784 [==============================] - 0s 106us/step - loss: 1.3100 - val_loss: 0.3684\n",
            "\n",
            "Epoch 00059: val_loss did not improve from 0.32857\n",
            "Epoch 60/100\n",
            "784/784 [==============================] - 0s 95us/step - loss: 1.3421 - val_loss: 0.3214\n",
            "\n",
            "Epoch 00060: val_loss improved from 0.32857 to 0.32135, saving model to /content/drive/My Drive/Colab Notebooks/Weights.hdf5\n",
            "Epoch 61/100\n",
            "784/784 [==============================] - 0s 100us/step - loss: 1.2609 - val_loss: 0.3607\n",
            "\n",
            "Epoch 00061: val_loss did not improve from 0.32135\n",
            "Epoch 62/100\n",
            "784/784 [==============================] - 0s 101us/step - loss: 1.3341 - val_loss: 0.3040\n",
            "\n",
            "Epoch 00062: val_loss improved from 0.32135 to 0.30402, saving model to /content/drive/My Drive/Colab Notebooks/Weights.hdf5\n",
            "Epoch 63/100\n",
            "784/784 [==============================] - 0s 106us/step - loss: 1.2453 - val_loss: 0.3049\n",
            "\n",
            "Epoch 00063: val_loss did not improve from 0.30402\n",
            "Epoch 64/100\n",
            "784/784 [==============================] - 0s 100us/step - loss: 1.0583 - val_loss: 0.3667\n",
            "\n",
            "Epoch 00064: val_loss did not improve from 0.30402\n",
            "Epoch 65/100\n",
            "784/784 [==============================] - 0s 98us/step - loss: 1.1725 - val_loss: 0.3152\n",
            "\n",
            "Epoch 00065: val_loss did not improve from 0.30402\n",
            "Epoch 66/100\n",
            "784/784 [==============================] - 0s 97us/step - loss: 1.1301 - val_loss: 0.2898\n",
            "\n",
            "Epoch 00066: val_loss improved from 0.30402 to 0.28975, saving model to /content/drive/My Drive/Colab Notebooks/Weights.hdf5\n",
            "Epoch 67/100\n",
            "784/784 [==============================] - 0s 96us/step - loss: 1.2882 - val_loss: 0.3438\n",
            "\n",
            "Epoch 00067: val_loss did not improve from 0.28975\n",
            "Epoch 68/100\n",
            "784/784 [==============================] - 0s 103us/step - loss: 1.3432 - val_loss: 0.2601\n",
            "\n",
            "Epoch 00068: val_loss improved from 0.28975 to 0.26008, saving model to /content/drive/My Drive/Colab Notebooks/Weights.hdf5\n",
            "Epoch 69/100\n",
            "784/784 [==============================] - 0s 102us/step - loss: 1.3086 - val_loss: 0.3167\n",
            "\n",
            "Epoch 00069: val_loss did not improve from 0.26008\n",
            "Epoch 70/100\n",
            "784/784 [==============================] - 0s 101us/step - loss: 1.2696 - val_loss: 0.2743\n",
            "\n",
            "Epoch 00070: val_loss did not improve from 0.26008\n",
            "Epoch 71/100\n",
            "784/784 [==============================] - 0s 105us/step - loss: 1.1867 - val_loss: 0.3119\n",
            "\n",
            "Epoch 00071: val_loss did not improve from 0.26008\n",
            "Epoch 72/100\n",
            "784/784 [==============================] - 0s 106us/step - loss: 1.4027 - val_loss: 0.2559\n",
            "\n",
            "Epoch 00072: val_loss improved from 0.26008 to 0.25591, saving model to /content/drive/My Drive/Colab Notebooks/Weights.hdf5\n",
            "Epoch 73/100\n",
            "784/784 [==============================] - 0s 96us/step - loss: 1.1410 - val_loss: 0.2959\n",
            "\n",
            "Epoch 00073: val_loss did not improve from 0.25591\n",
            "Epoch 74/100\n",
            "784/784 [==============================] - 0s 99us/step - loss: 1.1276 - val_loss: 0.2397\n",
            "\n",
            "Epoch 00074: val_loss improved from 0.25591 to 0.23974, saving model to /content/drive/My Drive/Colab Notebooks/Weights.hdf5\n",
            "Epoch 75/100\n",
            "784/784 [==============================] - 0s 97us/step - loss: 1.2075 - val_loss: 0.2677\n",
            "\n",
            "Epoch 00075: val_loss did not improve from 0.23974\n",
            "Epoch 76/100\n",
            "784/784 [==============================] - 0s 100us/step - loss: 1.1022 - val_loss: 0.3034\n",
            "\n",
            "Epoch 00076: val_loss did not improve from 0.23974\n",
            "Epoch 77/100\n",
            "784/784 [==============================] - 0s 97us/step - loss: 1.0803 - val_loss: 0.2557\n",
            "\n",
            "Epoch 00077: val_loss did not improve from 0.23974\n",
            "Epoch 78/100\n",
            "784/784 [==============================] - 0s 98us/step - loss: 1.2090 - val_loss: 0.2910\n",
            "\n",
            "Epoch 00078: val_loss did not improve from 0.23974\n",
            "Epoch 79/100\n",
            "784/784 [==============================] - 0s 105us/step - loss: 1.1506 - val_loss: 0.2237\n",
            "\n",
            "Epoch 00079: val_loss improved from 0.23974 to 0.22373, saving model to /content/drive/My Drive/Colab Notebooks/Weights.hdf5\n",
            "Epoch 80/100\n",
            "784/784 [==============================] - 0s 103us/step - loss: 1.2796 - val_loss: 0.2824\n",
            "\n",
            "Epoch 00080: val_loss did not improve from 0.22373\n",
            "Epoch 81/100\n",
            "784/784 [==============================] - 0s 98us/step - loss: 1.0927 - val_loss: 0.2468\n",
            "\n",
            "Epoch 00081: val_loss did not improve from 0.22373\n",
            "Epoch 82/100\n",
            "784/784 [==============================] - 0s 95us/step - loss: 1.2859 - val_loss: 0.2408\n",
            "\n",
            "Epoch 00082: val_loss did not improve from 0.22373\n",
            "Epoch 83/100\n",
            "784/784 [==============================] - 0s 96us/step - loss: 1.1650 - val_loss: 0.3175\n",
            "\n",
            "Epoch 00083: val_loss did not improve from 0.22373\n",
            "Epoch 84/100\n",
            "784/784 [==============================] - 0s 95us/step - loss: 1.3146 - val_loss: 0.2280\n",
            "\n",
            "Epoch 00084: val_loss did not improve from 0.22373\n"
          ],
          "name": "stdout"
        },
        {
          "output_type": "execute_result",
          "data": {
            "text/plain": [
              "<keras.callbacks.History at 0x7fb6792b17b8>"
            ]
          },
          "metadata": {
            "tags": []
          },
          "execution_count": 84
        }
      ]
    },
    {
      "metadata": {
        "id": "zLiEroPvHrii",
        "colab_type": "code",
        "outputId": "839913f5-5d07-4a4d-c414-f4699399b038",
        "colab": {
          "base_uri": "https://localhost:8080/",
          "height": 6770
        }
      },
      "cell_type": "code",
      "source": [
        "#LSTM Model\n",
        "X_test1 = X_test.as_matrix()\n",
        "X_train = X_train.as_matrix().reshape((X_train.shape[0], 1, X_train.shape[1]))\n",
        "X_test = X_test.as_matrix().reshape((X_test.shape[0], 1, X_test.shape[1]))\n",
        "# design network\n",
        "NN_model2 = Sequential()\n",
        "NN_model2.add(LSTM(50, input_shape=(X_train.shape[1], X_train.shape[2])))\n",
        "NN_model2.add(Dense(1))\n",
        "NN_model2.compile(loss='mse', optimizer='adam', metrics=['accuracy'])\n",
        "\n",
        "checkpoint_name = '/content/drive/My Drive/Colab Notebooks/Weights.hdf5' \n",
        "checkpoint = ModelCheckpoint(checkpoint_name, monitor='val_loss', verbose = 1, save_best_only = True, mode ='auto')\n",
        "earlystopping = EarlyStopping(monitor='val_loss', min_delta=0.0001, patience=5, verbose=0, mode='auto')\n",
        "callbacks_list = [checkpoint, earlystopping]\n",
        "\n",
        "NN_model2.fit(X_train, Y_train, epochs=100, batch_size=72, validation_split = 0.2, callbacks=callbacks_list)\n"
      ],
      "execution_count": 0,
      "outputs": [
        {
          "output_type": "stream",
          "text": [
            "Train on 784 samples, validate on 197 samples\n",
            "Epoch 1/100\n",
            "784/784 [==============================] - 1s 1ms/step - loss: 18.1557 - acc: 0.0026 - val_loss: 17.9627 - val_acc: 0.0051\n",
            "\n",
            "Epoch 00001: val_loss improved from inf to 17.96274, saving model to /content/drive/My Drive/Colab Notebooks/Weights.hdf5\n",
            "Epoch 2/100\n",
            "784/784 [==============================] - 0s 145us/step - loss: 15.9783 - acc: 0.0026 - val_loss: 15.7633 - val_acc: 0.0051\n",
            "\n",
            "Epoch 00002: val_loss improved from 17.96274 to 15.76328, saving model to /content/drive/My Drive/Colab Notebooks/Weights.hdf5\n",
            "Epoch 3/100\n",
            "784/784 [==============================] - 0s 149us/step - loss: 13.8558 - acc: 0.0026 - val_loss: 13.6330 - val_acc: 0.0051\n",
            "\n",
            "Epoch 00003: val_loss improved from 15.76328 to 13.63302, saving model to /content/drive/My Drive/Colab Notebooks/Weights.hdf5\n",
            "Epoch 4/100\n",
            "784/784 [==============================] - 0s 152us/step - loss: 11.8568 - acc: 0.0026 - val_loss: 11.5887 - val_acc: 0.0051\n",
            "\n",
            "Epoch 00004: val_loss improved from 13.63302 to 11.58865, saving model to /content/drive/My Drive/Colab Notebooks/Weights.hdf5\n",
            "Epoch 5/100\n",
            "784/784 [==============================] - 0s 150us/step - loss: 9.9306 - acc: 0.0026 - val_loss: 9.6656 - val_acc: 0.0051\n",
            "\n",
            "Epoch 00005: val_loss improved from 11.58865 to 9.66557, saving model to /content/drive/My Drive/Colab Notebooks/Weights.hdf5\n",
            "Epoch 6/100\n",
            "784/784 [==============================] - 0s 149us/step - loss: 8.1509 - acc: 0.0026 - val_loss: 7.8618 - val_acc: 0.0000e+00\n",
            "\n",
            "Epoch 00006: val_loss improved from 9.66557 to 7.86185, saving model to /content/drive/My Drive/Colab Notebooks/Weights.hdf5\n",
            "Epoch 7/100\n",
            "784/784 [==============================] - 0s 153us/step - loss: 6.5192 - acc: 0.0026 - val_loss: 6.2718 - val_acc: 0.0000e+00\n",
            "\n",
            "Epoch 00007: val_loss improved from 7.86185 to 6.27183, saving model to /content/drive/My Drive/Colab Notebooks/Weights.hdf5\n",
            "Epoch 8/100\n",
            "784/784 [==============================] - 0s 153us/step - loss: 5.1579 - acc: 0.0026 - val_loss: 4.9202 - val_acc: 0.0000e+00\n",
            "\n",
            "Epoch 00008: val_loss improved from 6.27183 to 4.92020, saving model to /content/drive/My Drive/Colab Notebooks/Weights.hdf5\n",
            "Epoch 9/100\n",
            "784/784 [==============================] - 0s 149us/step - loss: 4.0438 - acc: 0.0026 - val_loss: 3.8407 - val_acc: 0.0000e+00\n",
            "\n",
            "Epoch 00009: val_loss improved from 4.92020 to 3.84072, saving model to /content/drive/My Drive/Colab Notebooks/Weights.hdf5\n",
            "Epoch 10/100\n",
            "784/784 [==============================] - 0s 153us/step - loss: 3.1665 - acc: 0.0026 - val_loss: 3.0493 - val_acc: 0.0000e+00\n",
            "\n",
            "Epoch 00010: val_loss improved from 3.84072 to 3.04934, saving model to /content/drive/My Drive/Colab Notebooks/Weights.hdf5\n",
            "Epoch 11/100\n",
            "784/784 [==============================] - 0s 160us/step - loss: 2.5531 - acc: 0.0026 - val_loss: 2.4744 - val_acc: 0.0000e+00\n",
            "\n",
            "Epoch 00011: val_loss improved from 3.04934 to 2.47438, saving model to /content/drive/My Drive/Colab Notebooks/Weights.hdf5\n",
            "Epoch 12/100\n",
            "784/784 [==============================] - 0s 152us/step - loss: 2.1109 - acc: 0.0026 - val_loss: 2.0777 - val_acc: 0.0000e+00\n",
            "\n",
            "Epoch 00012: val_loss improved from 2.47438 to 2.07766, saving model to /content/drive/My Drive/Colab Notebooks/Weights.hdf5\n",
            "Epoch 13/100\n",
            "784/784 [==============================] - 0s 145us/step - loss: 1.8063 - acc: 0.0026 - val_loss: 1.7932 - val_acc: 0.0000e+00\n",
            "\n",
            "Epoch 00013: val_loss improved from 2.07766 to 1.79317, saving model to /content/drive/My Drive/Colab Notebooks/Weights.hdf5\n",
            "Epoch 14/100\n",
            "784/784 [==============================] - 0s 153us/step - loss: 1.5776 - acc: 0.0026 - val_loss: 1.5828 - val_acc: 0.0051\n",
            "\n",
            "Epoch 00014: val_loss improved from 1.79317 to 1.58277, saving model to /content/drive/My Drive/Colab Notebooks/Weights.hdf5\n",
            "Epoch 15/100\n",
            "784/784 [==============================] - 0s 153us/step - loss: 1.4043 - acc: 0.0026 - val_loss: 1.4127 - val_acc: 0.0051\n",
            "\n",
            "Epoch 00015: val_loss improved from 1.58277 to 1.41274, saving model to /content/drive/My Drive/Colab Notebooks/Weights.hdf5\n",
            "Epoch 16/100\n",
            "784/784 [==============================] - 0s 143us/step - loss: 1.2558 - acc: 0.0026 - val_loss: 1.2752 - val_acc: 0.0051\n",
            "\n",
            "Epoch 00016: val_loss improved from 1.41274 to 1.27523, saving model to /content/drive/My Drive/Colab Notebooks/Weights.hdf5\n",
            "Epoch 17/100\n",
            "784/784 [==============================] - 0s 151us/step - loss: 1.1313 - acc: 0.0026 - val_loss: 1.1614 - val_acc: 0.0051\n",
            "\n",
            "Epoch 00017: val_loss improved from 1.27523 to 1.16142, saving model to /content/drive/My Drive/Colab Notebooks/Weights.hdf5\n",
            "Epoch 18/100\n",
            "784/784 [==============================] - 0s 172us/step - loss: 1.0290 - acc: 0.0026 - val_loss: 1.0636 - val_acc: 0.0051\n",
            "\n",
            "Epoch 00018: val_loss improved from 1.16142 to 1.06357, saving model to /content/drive/My Drive/Colab Notebooks/Weights.hdf5\n",
            "Epoch 19/100\n",
            "784/784 [==============================] - 0s 150us/step - loss: 0.9374 - acc: 0.0026 - val_loss: 0.9855 - val_acc: 0.0051\n",
            "\n",
            "Epoch 00019: val_loss improved from 1.06357 to 0.98552, saving model to /content/drive/My Drive/Colab Notebooks/Weights.hdf5\n",
            "Epoch 20/100\n",
            "784/784 [==============================] - 0s 149us/step - loss: 0.8640 - acc: 0.0026 - val_loss: 0.9184 - val_acc: 0.0051\n",
            "\n",
            "Epoch 00020: val_loss improved from 0.98552 to 0.91841, saving model to /content/drive/My Drive/Colab Notebooks/Weights.hdf5\n",
            "Epoch 21/100\n",
            "784/784 [==============================] - 0s 158us/step - loss: 0.8009 - acc: 0.0026 - val_loss: 0.8620 - val_acc: 0.0051\n",
            "\n",
            "Epoch 00021: val_loss improved from 0.91841 to 0.86197, saving model to /content/drive/My Drive/Colab Notebooks/Weights.hdf5\n",
            "Epoch 22/100\n",
            "784/784 [==============================] - 0s 151us/step - loss: 0.7479 - acc: 0.0026 - val_loss: 0.8138 - val_acc: 0.0051\n",
            "\n",
            "Epoch 00022: val_loss improved from 0.86197 to 0.81382, saving model to /content/drive/My Drive/Colab Notebooks/Weights.hdf5\n",
            "Epoch 23/100\n",
            "784/784 [==============================] - 0s 147us/step - loss: 0.7020 - acc: 0.0026 - val_loss: 0.7747 - val_acc: 0.0051\n",
            "\n",
            "Epoch 00023: val_loss improved from 0.81382 to 0.77468, saving model to /content/drive/My Drive/Colab Notebooks/Weights.hdf5\n",
            "Epoch 24/100\n",
            "784/784 [==============================] - 0s 159us/step - loss: 0.6658 - acc: 0.0026 - val_loss: 0.7390 - val_acc: 0.0051\n",
            "\n",
            "Epoch 00024: val_loss improved from 0.77468 to 0.73900, saving model to /content/drive/My Drive/Colab Notebooks/Weights.hdf5\n",
            "Epoch 25/100\n",
            "784/784 [==============================] - 0s 152us/step - loss: 0.6326 - acc: 0.0026 - val_loss: 0.7093 - val_acc: 0.0051\n",
            "\n",
            "Epoch 00025: val_loss improved from 0.73900 to 0.70935, saving model to /content/drive/My Drive/Colab Notebooks/Weights.hdf5\n",
            "Epoch 26/100\n",
            "784/784 [==============================] - 0s 154us/step - loss: 0.6066 - acc: 0.0026 - val_loss: 0.6828 - val_acc: 0.0051\n",
            "\n",
            "Epoch 00026: val_loss improved from 0.70935 to 0.68284, saving model to /content/drive/My Drive/Colab Notebooks/Weights.hdf5\n",
            "Epoch 27/100\n",
            "784/784 [==============================] - 0s 149us/step - loss: 0.5823 - acc: 0.0026 - val_loss: 0.6608 - val_acc: 0.0051\n",
            "\n",
            "Epoch 00027: val_loss improved from 0.68284 to 0.66079, saving model to /content/drive/My Drive/Colab Notebooks/Weights.hdf5\n",
            "Epoch 28/100\n",
            "784/784 [==============================] - 0s 151us/step - loss: 0.5610 - acc: 0.0026 - val_loss: 0.6412 - val_acc: 0.0051\n",
            "\n",
            "Epoch 00028: val_loss improved from 0.66079 to 0.64116, saving model to /content/drive/My Drive/Colab Notebooks/Weights.hdf5\n",
            "Epoch 29/100\n",
            "784/784 [==============================] - 0s 150us/step - loss: 0.5420 - acc: 0.0026 - val_loss: 0.6246 - val_acc: 0.0051\n",
            "\n",
            "Epoch 00029: val_loss improved from 0.64116 to 0.62461, saving model to /content/drive/My Drive/Colab Notebooks/Weights.hdf5\n",
            "Epoch 30/100\n",
            "784/784 [==============================] - 0s 147us/step - loss: 0.5264 - acc: 0.0026 - val_loss: 0.6081 - val_acc: 0.0051\n",
            "\n",
            "Epoch 00030: val_loss improved from 0.62461 to 0.60811, saving model to /content/drive/My Drive/Colab Notebooks/Weights.hdf5\n",
            "Epoch 31/100\n",
            "784/784 [==============================] - 0s 152us/step - loss: 0.5112 - acc: 0.0026 - val_loss: 0.5927 - val_acc: 0.0051\n",
            "\n",
            "Epoch 00031: val_loss improved from 0.60811 to 0.59273, saving model to /content/drive/My Drive/Colab Notebooks/Weights.hdf5\n",
            "Epoch 32/100\n",
            "784/784 [==============================] - 0s 149us/step - loss: 0.4977 - acc: 0.0026 - val_loss: 0.5787 - val_acc: 0.0051\n",
            "\n",
            "Epoch 00032: val_loss improved from 0.59273 to 0.57869, saving model to /content/drive/My Drive/Colab Notebooks/Weights.hdf5\n",
            "Epoch 33/100\n",
            "784/784 [==============================] - 0s 146us/step - loss: 0.4849 - acc: 0.0026 - val_loss: 0.5661 - val_acc: 0.0051\n",
            "\n",
            "Epoch 00033: val_loss improved from 0.57869 to 0.56607, saving model to /content/drive/My Drive/Colab Notebooks/Weights.hdf5\n",
            "Epoch 34/100\n",
            "784/784 [==============================] - 0s 153us/step - loss: 0.4726 - acc: 0.0026 - val_loss: 0.5532 - val_acc: 0.0051\n",
            "\n",
            "Epoch 00034: val_loss improved from 0.56607 to 0.55324, saving model to /content/drive/My Drive/Colab Notebooks/Weights.hdf5\n",
            "Epoch 35/100\n",
            "784/784 [==============================] - 0s 156us/step - loss: 0.4617 - acc: 0.0026 - val_loss: 0.5409 - val_acc: 0.0051\n",
            "\n",
            "Epoch 00035: val_loss improved from 0.55324 to 0.54087, saving model to /content/drive/My Drive/Colab Notebooks/Weights.hdf5\n",
            "Epoch 36/100\n",
            "784/784 [==============================] - 0s 146us/step - loss: 0.4519 - acc: 0.0026 - val_loss: 0.5295 - val_acc: 0.0051\n",
            "\n",
            "Epoch 00036: val_loss improved from 0.54087 to 0.52949, saving model to /content/drive/My Drive/Colab Notebooks/Weights.hdf5\n",
            "Epoch 37/100\n",
            "784/784 [==============================] - 0s 156us/step - loss: 0.4405 - acc: 0.0026 - val_loss: 0.5183 - val_acc: 0.0051\n",
            "\n",
            "Epoch 00037: val_loss improved from 0.52949 to 0.51835, saving model to /content/drive/My Drive/Colab Notebooks/Weights.hdf5\n",
            "Epoch 38/100\n",
            "784/784 [==============================] - 0s 157us/step - loss: 0.4307 - acc: 0.0026 - val_loss: 0.5075 - val_acc: 0.0051\n",
            "\n",
            "Epoch 00038: val_loss improved from 0.51835 to 0.50749, saving model to /content/drive/My Drive/Colab Notebooks/Weights.hdf5\n",
            "Epoch 39/100\n",
            "784/784 [==============================] - 0s 156us/step - loss: 0.4216 - acc: 0.0026 - val_loss: 0.4972 - val_acc: 0.0051\n",
            "\n",
            "Epoch 00039: val_loss improved from 0.50749 to 0.49717, saving model to /content/drive/My Drive/Colab Notebooks/Weights.hdf5\n",
            "Epoch 40/100\n",
            "784/784 [==============================] - 0s 144us/step - loss: 0.4125 - acc: 0.0026 - val_loss: 0.4875 - val_acc: 0.0051\n",
            "\n",
            "Epoch 00040: val_loss improved from 0.49717 to 0.48753, saving model to /content/drive/My Drive/Colab Notebooks/Weights.hdf5\n",
            "Epoch 41/100\n",
            "784/784 [==============================] - 0s 151us/step - loss: 0.4040 - acc: 0.0026 - val_loss: 0.4776 - val_acc: 0.0051\n",
            "\n",
            "Epoch 00041: val_loss improved from 0.48753 to 0.47762, saving model to /content/drive/My Drive/Colab Notebooks/Weights.hdf5\n",
            "Epoch 42/100\n",
            "784/784 [==============================] - 0s 153us/step - loss: 0.3957 - acc: 0.0026 - val_loss: 0.4676 - val_acc: 0.0051\n",
            "\n",
            "Epoch 00042: val_loss improved from 0.47762 to 0.46756, saving model to /content/drive/My Drive/Colab Notebooks/Weights.hdf5\n",
            "Epoch 43/100\n",
            "784/784 [==============================] - 0s 172us/step - loss: 0.3879 - acc: 0.0026 - val_loss: 0.4581 - val_acc: 0.0051\n",
            "\n",
            "Epoch 00043: val_loss improved from 0.46756 to 0.45810, saving model to /content/drive/My Drive/Colab Notebooks/Weights.hdf5\n",
            "Epoch 44/100\n",
            "784/784 [==============================] - 0s 140us/step - loss: 0.3799 - acc: 0.0026 - val_loss: 0.4492 - val_acc: 0.0051\n",
            "\n",
            "Epoch 00044: val_loss improved from 0.45810 to 0.44918, saving model to /content/drive/My Drive/Colab Notebooks/Weights.hdf5\n",
            "Epoch 45/100\n",
            "784/784 [==============================] - 0s 151us/step - loss: 0.3719 - acc: 0.0026 - val_loss: 0.4409 - val_acc: 0.0051\n",
            "\n",
            "Epoch 00045: val_loss improved from 0.44918 to 0.44089, saving model to /content/drive/My Drive/Colab Notebooks/Weights.hdf5\n",
            "Epoch 46/100\n",
            "784/784 [==============================] - 0s 168us/step - loss: 0.3648 - acc: 0.0026 - val_loss: 0.4311 - val_acc: 0.0051\n",
            "\n",
            "Epoch 00046: val_loss improved from 0.44089 to 0.43114, saving model to /content/drive/My Drive/Colab Notebooks/Weights.hdf5\n",
            "Epoch 47/100\n",
            "784/784 [==============================] - 0s 140us/step - loss: 0.3576 - acc: 0.0026 - val_loss: 0.4233 - val_acc: 0.0051\n",
            "\n",
            "Epoch 00047: val_loss improved from 0.43114 to 0.42332, saving model to /content/drive/My Drive/Colab Notebooks/Weights.hdf5\n",
            "Epoch 48/100\n",
            "784/784 [==============================] - 0s 149us/step - loss: 0.3507 - acc: 0.0026 - val_loss: 0.4142 - val_acc: 0.0051\n",
            "\n",
            "Epoch 00048: val_loss improved from 0.42332 to 0.41418, saving model to /content/drive/My Drive/Colab Notebooks/Weights.hdf5\n",
            "Epoch 49/100\n",
            "784/784 [==============================] - 0s 171us/step - loss: 0.3436 - acc: 0.0026 - val_loss: 0.4061 - val_acc: 0.0051\n",
            "\n",
            "Epoch 00049: val_loss improved from 0.41418 to 0.40612, saving model to /content/drive/My Drive/Colab Notebooks/Weights.hdf5\n",
            "Epoch 50/100\n",
            "784/784 [==============================] - 0s 150us/step - loss: 0.3372 - acc: 0.0026 - val_loss: 0.3979 - val_acc: 0.0051\n",
            "\n",
            "Epoch 00050: val_loss improved from 0.40612 to 0.39787, saving model to /content/drive/My Drive/Colab Notebooks/Weights.hdf5\n",
            "Epoch 51/100\n",
            "784/784 [==============================] - 0s 144us/step - loss: 0.3305 - acc: 0.0026 - val_loss: 0.3917 - val_acc: 0.0051\n",
            "\n",
            "Epoch 00051: val_loss improved from 0.39787 to 0.39169, saving model to /content/drive/My Drive/Colab Notebooks/Weights.hdf5\n",
            "Epoch 52/100\n",
            "784/784 [==============================] - 0s 153us/step - loss: 0.3248 - acc: 0.0026 - val_loss: 0.3829 - val_acc: 0.0051\n",
            "\n",
            "Epoch 00052: val_loss improved from 0.39169 to 0.38288, saving model to /content/drive/My Drive/Colab Notebooks/Weights.hdf5\n",
            "Epoch 53/100\n",
            "784/784 [==============================] - 0s 156us/step - loss: 0.3180 - acc: 0.0026 - val_loss: 0.3755 - val_acc: 0.0051\n",
            "\n",
            "Epoch 00053: val_loss improved from 0.38288 to 0.37548, saving model to /content/drive/My Drive/Colab Notebooks/Weights.hdf5\n",
            "Epoch 54/100\n",
            "784/784 [==============================] - 0s 152us/step - loss: 0.3120 - acc: 0.0026 - val_loss: 0.3677 - val_acc: 0.0051\n",
            "\n",
            "Epoch 00054: val_loss improved from 0.37548 to 0.36765, saving model to /content/drive/My Drive/Colab Notebooks/Weights.hdf5\n",
            "Epoch 55/100\n",
            "784/784 [==============================] - 0s 157us/step - loss: 0.3063 - acc: 0.0026 - val_loss: 0.3602 - val_acc: 0.0051\n",
            "\n",
            "Epoch 00055: val_loss improved from 0.36765 to 0.36024, saving model to /content/drive/My Drive/Colab Notebooks/Weights.hdf5\n",
            "Epoch 56/100\n",
            "784/784 [==============================] - 0s 152us/step - loss: 0.3002 - acc: 0.0026 - val_loss: 0.3544 - val_acc: 0.0051\n",
            "\n",
            "Epoch 00056: val_loss improved from 0.36024 to 0.35438, saving model to /content/drive/My Drive/Colab Notebooks/Weights.hdf5\n",
            "Epoch 57/100\n",
            "784/784 [==============================] - 0s 148us/step - loss: 0.2948 - acc: 0.0026 - val_loss: 0.3479 - val_acc: 0.0051\n",
            "\n",
            "Epoch 00057: val_loss improved from 0.35438 to 0.34793, saving model to /content/drive/My Drive/Colab Notebooks/Weights.hdf5\n",
            "Epoch 58/100\n",
            "784/784 [==============================] - 0s 143us/step - loss: 0.2894 - acc: 0.0026 - val_loss: 0.3405 - val_acc: 0.0051\n",
            "\n",
            "Epoch 00058: val_loss improved from 0.34793 to 0.34050, saving model to /content/drive/My Drive/Colab Notebooks/Weights.hdf5\n",
            "Epoch 59/100\n",
            "784/784 [==============================] - 0s 145us/step - loss: 0.2839 - acc: 0.0026 - val_loss: 0.3335 - val_acc: 0.0051\n",
            "\n",
            "Epoch 00059: val_loss improved from 0.34050 to 0.33353, saving model to /content/drive/My Drive/Colab Notebooks/Weights.hdf5\n",
            "Epoch 60/100\n",
            "784/784 [==============================] - 0s 157us/step - loss: 0.2783 - acc: 0.0026 - val_loss: 0.3276 - val_acc: 0.0051\n",
            "\n",
            "Epoch 00060: val_loss improved from 0.33353 to 0.32763, saving model to /content/drive/My Drive/Colab Notebooks/Weights.hdf5\n",
            "Epoch 61/100\n",
            "784/784 [==============================] - 0s 157us/step - loss: 0.2734 - acc: 0.0026 - val_loss: 0.3206 - val_acc: 0.0051\n",
            "\n",
            "Epoch 00061: val_loss improved from 0.32763 to 0.32063, saving model to /content/drive/My Drive/Colab Notebooks/Weights.hdf5\n",
            "Epoch 62/100\n",
            "784/784 [==============================] - 0s 150us/step - loss: 0.2680 - acc: 0.0026 - val_loss: 0.3146 - val_acc: 0.0051\n",
            "\n",
            "Epoch 00062: val_loss improved from 0.32063 to 0.31457, saving model to /content/drive/My Drive/Colab Notebooks/Weights.hdf5\n",
            "Epoch 63/100\n",
            "784/784 [==============================] - 0s 145us/step - loss: 0.2631 - acc: 0.0026 - val_loss: 0.3084 - val_acc: 0.0051\n",
            "\n",
            "Epoch 00063: val_loss improved from 0.31457 to 0.30838, saving model to /content/drive/My Drive/Colab Notebooks/Weights.hdf5\n",
            "Epoch 64/100\n",
            "784/784 [==============================] - 0s 156us/step - loss: 0.2584 - acc: 0.0026 - val_loss: 0.3029 - val_acc: 0.0051\n",
            "\n",
            "Epoch 00064: val_loss improved from 0.30838 to 0.30290, saving model to /content/drive/My Drive/Colab Notebooks/Weights.hdf5\n",
            "Epoch 65/100\n",
            "784/784 [==============================] - 0s 141us/step - loss: 0.2531 - acc: 0.0026 - val_loss: 0.2966 - val_acc: 0.0051\n",
            "\n",
            "Epoch 00065: val_loss improved from 0.30290 to 0.29659, saving model to /content/drive/My Drive/Colab Notebooks/Weights.hdf5\n",
            "Epoch 66/100\n",
            "784/784 [==============================] - 0s 141us/step - loss: 0.2484 - acc: 0.0026 - val_loss: 0.2911 - val_acc: 0.0051\n",
            "\n",
            "Epoch 00066: val_loss improved from 0.29659 to 0.29110, saving model to /content/drive/My Drive/Colab Notebooks/Weights.hdf5\n",
            "Epoch 67/100\n",
            "784/784 [==============================] - 0s 152us/step - loss: 0.2436 - acc: 0.0026 - val_loss: 0.2854 - val_acc: 0.0051\n",
            "\n",
            "Epoch 00067: val_loss improved from 0.29110 to 0.28543, saving model to /content/drive/My Drive/Colab Notebooks/Weights.hdf5\n",
            "Epoch 68/100\n",
            "784/784 [==============================] - 0s 177us/step - loss: 0.2393 - acc: 0.0026 - val_loss: 0.2794 - val_acc: 0.0051\n",
            "\n",
            "Epoch 00068: val_loss improved from 0.28543 to 0.27942, saving model to /content/drive/My Drive/Colab Notebooks/Weights.hdf5\n",
            "Epoch 69/100\n",
            "784/784 [==============================] - 0s 139us/step - loss: 0.2347 - acc: 0.0026 - val_loss: 0.2742 - val_acc: 0.0051\n",
            "\n",
            "Epoch 00069: val_loss improved from 0.27942 to 0.27417, saving model to /content/drive/My Drive/Colab Notebooks/Weights.hdf5\n",
            "Epoch 70/100\n",
            "784/784 [==============================] - 0s 146us/step - loss: 0.2301 - acc: 0.0026 - val_loss: 0.2692 - val_acc: 0.0051\n",
            "\n",
            "Epoch 00070: val_loss improved from 0.27417 to 0.26924, saving model to /content/drive/My Drive/Colab Notebooks/Weights.hdf5\n",
            "Epoch 71/100\n",
            "784/784 [==============================] - 0s 156us/step - loss: 0.2259 - acc: 0.0026 - val_loss: 0.2637 - val_acc: 0.0051\n",
            "\n",
            "Epoch 00071: val_loss improved from 0.26924 to 0.26370, saving model to /content/drive/My Drive/Colab Notebooks/Weights.hdf5\n",
            "Epoch 72/100\n",
            "784/784 [==============================] - 0s 153us/step - loss: 0.2215 - acc: 0.0026 - val_loss: 0.2588 - val_acc: 0.0051\n",
            "\n",
            "Epoch 00072: val_loss improved from 0.26370 to 0.25878, saving model to /content/drive/My Drive/Colab Notebooks/Weights.hdf5\n",
            "Epoch 73/100\n",
            "784/784 [==============================] - 0s 139us/step - loss: 0.2175 - acc: 0.0026 - val_loss: 0.2539 - val_acc: 0.0051\n",
            "\n",
            "Epoch 00073: val_loss improved from 0.25878 to 0.25389, saving model to /content/drive/My Drive/Colab Notebooks/Weights.hdf5\n",
            "Epoch 74/100\n",
            "784/784 [==============================] - 0s 169us/step - loss: 0.2135 - acc: 0.0026 - val_loss: 0.2472 - val_acc: 0.0051\n",
            "\n",
            "Epoch 00074: val_loss improved from 0.25389 to 0.24723, saving model to /content/drive/My Drive/Colab Notebooks/Weights.hdf5\n",
            "Epoch 75/100\n",
            "784/784 [==============================] - 0s 161us/step - loss: 0.2095 - acc: 0.0026 - val_loss: 0.2425 - val_acc: 0.0051\n",
            "\n",
            "Epoch 00075: val_loss improved from 0.24723 to 0.24246, saving model to /content/drive/My Drive/Colab Notebooks/Weights.hdf5\n",
            "Epoch 76/100\n",
            "784/784 [==============================] - 0s 156us/step - loss: 0.2053 - acc: 0.0026 - val_loss: 0.2388 - val_acc: 0.0051\n",
            "\n",
            "Epoch 00076: val_loss improved from 0.24246 to 0.23882, saving model to /content/drive/My Drive/Colab Notebooks/Weights.hdf5\n",
            "Epoch 77/100\n",
            "784/784 [==============================] - 0s 143us/step - loss: 0.2017 - acc: 0.0026 - val_loss: 0.2344 - val_acc: 0.0051\n",
            "\n",
            "Epoch 00077: val_loss improved from 0.23882 to 0.23437, saving model to /content/drive/My Drive/Colab Notebooks/Weights.hdf5\n",
            "Epoch 78/100\n",
            "784/784 [==============================] - 0s 158us/step - loss: 0.1977 - acc: 0.0026 - val_loss: 0.2302 - val_acc: 0.0051\n",
            "\n",
            "Epoch 00078: val_loss improved from 0.23437 to 0.23015, saving model to /content/drive/My Drive/Colab Notebooks/Weights.hdf5\n",
            "Epoch 79/100\n",
            "784/784 [==============================] - 0s 147us/step - loss: 0.1945 - acc: 0.0026 - val_loss: 0.2239 - val_acc: 0.0051\n",
            "\n",
            "Epoch 00079: val_loss improved from 0.23015 to 0.22390, saving model to /content/drive/My Drive/Colab Notebooks/Weights.hdf5\n",
            "Epoch 80/100\n",
            "784/784 [==============================] - 0s 168us/step - loss: 0.1902 - acc: 0.0026 - val_loss: 0.2205 - val_acc: 0.0051\n",
            "\n",
            "Epoch 00080: val_loss improved from 0.22390 to 0.22049, saving model to /content/drive/My Drive/Colab Notebooks/Weights.hdf5\n",
            "Epoch 81/100\n",
            "784/784 [==============================] - 0s 146us/step - loss: 0.1868 - acc: 0.0026 - val_loss: 0.2161 - val_acc: 0.0051\n",
            "\n",
            "Epoch 00081: val_loss improved from 0.22049 to 0.21608, saving model to /content/drive/My Drive/Colab Notebooks/Weights.hdf5\n",
            "Epoch 82/100\n",
            "784/784 [==============================] - 0s 145us/step - loss: 0.1832 - acc: 0.0026 - val_loss: 0.2113 - val_acc: 0.0051\n",
            "\n",
            "Epoch 00082: val_loss improved from 0.21608 to 0.21125, saving model to /content/drive/My Drive/Colab Notebooks/Weights.hdf5\n",
            "Epoch 83/100\n",
            "784/784 [==============================] - 0s 148us/step - loss: 0.1801 - acc: 0.0026 - val_loss: 0.2077 - val_acc: 0.0051\n",
            "\n",
            "Epoch 00083: val_loss improved from 0.21125 to 0.20771, saving model to /content/drive/My Drive/Colab Notebooks/Weights.hdf5\n",
            "Epoch 84/100\n",
            "784/784 [==============================] - 0s 157us/step - loss: 0.1766 - acc: 0.0026 - val_loss: 0.2032 - val_acc: 0.0051\n",
            "\n",
            "Epoch 00084: val_loss improved from 0.20771 to 0.20324, saving model to /content/drive/My Drive/Colab Notebooks/Weights.hdf5\n",
            "Epoch 85/100\n",
            "784/784 [==============================] - 0s 150us/step - loss: 0.1732 - acc: 0.0026 - val_loss: 0.1989 - val_acc: 0.0051\n",
            "\n",
            "Epoch 00085: val_loss improved from 0.20324 to 0.19890, saving model to /content/drive/My Drive/Colab Notebooks/Weights.hdf5\n",
            "Epoch 86/100\n",
            "784/784 [==============================] - 0s 164us/step - loss: 0.1702 - acc: 0.0026 - val_loss: 0.1950 - val_acc: 0.0051\n",
            "\n",
            "Epoch 00086: val_loss improved from 0.19890 to 0.19496, saving model to /content/drive/My Drive/Colab Notebooks/Weights.hdf5\n",
            "Epoch 87/100\n",
            "784/784 [==============================] - 0s 149us/step - loss: 0.1669 - acc: 0.0026 - val_loss: 0.1912 - val_acc: 0.0051\n",
            "\n",
            "Epoch 00087: val_loss improved from 0.19496 to 0.19125, saving model to /content/drive/My Drive/Colab Notebooks/Weights.hdf5\n",
            "Epoch 88/100\n",
            "784/784 [==============================] - 0s 150us/step - loss: 0.1641 - acc: 0.0026 - val_loss: 0.1873 - val_acc: 0.0051\n",
            "\n",
            "Epoch 00088: val_loss improved from 0.19125 to 0.18732, saving model to /content/drive/My Drive/Colab Notebooks/Weights.hdf5\n",
            "Epoch 89/100\n",
            "784/784 [==============================] - 0s 179us/step - loss: 0.1611 - acc: 0.0026 - val_loss: 0.1843 - val_acc: 0.0051\n",
            "\n",
            "Epoch 00089: val_loss improved from 0.18732 to 0.18428, saving model to /content/drive/My Drive/Colab Notebooks/Weights.hdf5\n",
            "Epoch 90/100\n",
            "784/784 [==============================] - 0s 144us/step - loss: 0.1583 - acc: 0.0026 - val_loss: 0.1795 - val_acc: 0.0051\n",
            "\n",
            "Epoch 00090: val_loss improved from 0.18428 to 0.17951, saving model to /content/drive/My Drive/Colab Notebooks/Weights.hdf5\n",
            "Epoch 91/100\n",
            "784/784 [==============================] - 0s 154us/step - loss: 0.1552 - acc: 0.0026 - val_loss: 0.1761 - val_acc: 0.0051\n",
            "\n",
            "Epoch 00091: val_loss improved from 0.17951 to 0.17607, saving model to /content/drive/My Drive/Colab Notebooks/Weights.hdf5\n",
            "Epoch 92/100\n",
            "784/784 [==============================] - 0s 156us/step - loss: 0.1525 - acc: 0.0026 - val_loss: 0.1730 - val_acc: 0.0051\n",
            "\n",
            "Epoch 00092: val_loss improved from 0.17607 to 0.17296, saving model to /content/drive/My Drive/Colab Notebooks/Weights.hdf5\n",
            "Epoch 93/100\n",
            "784/784 [==============================] - 0s 143us/step - loss: 0.1496 - acc: 0.0026 - val_loss: 0.1695 - val_acc: 0.0051\n",
            "\n",
            "Epoch 00093: val_loss improved from 0.17296 to 0.16947, saving model to /content/drive/My Drive/Colab Notebooks/Weights.hdf5\n",
            "Epoch 94/100\n",
            "784/784 [==============================] - 0s 145us/step - loss: 0.1472 - acc: 0.0026 - val_loss: 0.1658 - val_acc: 0.0051\n",
            "\n",
            "Epoch 00094: val_loss improved from 0.16947 to 0.16581, saving model to /content/drive/My Drive/Colab Notebooks/Weights.hdf5\n",
            "Epoch 95/100\n",
            "784/784 [==============================] - 0s 151us/step - loss: 0.1443 - acc: 0.0026 - val_loss: 0.1638 - val_acc: 0.0051\n",
            "\n",
            "Epoch 00095: val_loss improved from 0.16581 to 0.16379, saving model to /content/drive/My Drive/Colab Notebooks/Weights.hdf5\n",
            "Epoch 96/100\n",
            "784/784 [==============================] - 0s 155us/step - loss: 0.1418 - acc: 0.0026 - val_loss: 0.1603 - val_acc: 0.0051\n",
            "\n",
            "Epoch 00096: val_loss improved from 0.16379 to 0.16027, saving model to /content/drive/My Drive/Colab Notebooks/Weights.hdf5\n",
            "Epoch 97/100\n",
            "784/784 [==============================] - 0s 146us/step - loss: 0.1392 - acc: 0.0026 - val_loss: 0.1573 - val_acc: 0.0051\n",
            "\n",
            "Epoch 00097: val_loss improved from 0.16027 to 0.15731, saving model to /content/drive/My Drive/Colab Notebooks/Weights.hdf5\n",
            "Epoch 98/100\n",
            "784/784 [==============================] - 0s 148us/step - loss: 0.1369 - acc: 0.0026 - val_loss: 0.1539 - val_acc: 0.0051\n",
            "\n",
            "Epoch 00098: val_loss improved from 0.15731 to 0.15391, saving model to /content/drive/My Drive/Colab Notebooks/Weights.hdf5\n",
            "Epoch 99/100\n",
            "784/784 [==============================] - 0s 176us/step - loss: 0.1344 - acc: 0.0026 - val_loss: 0.1503 - val_acc: 0.0051\n",
            "\n",
            "Epoch 00099: val_loss improved from 0.15391 to 0.15033, saving model to /content/drive/My Drive/Colab Notebooks/Weights.hdf5\n",
            "Epoch 100/100\n",
            "784/784 [==============================] - 0s 145us/step - loss: 0.1323 - acc: 0.0026 - val_loss: 0.1484 - val_acc: 0.0051\n",
            "\n",
            "Epoch 00100: val_loss improved from 0.15033 to 0.14837, saving model to /content/drive/My Drive/Colab Notebooks/Weights.hdf5\n"
          ],
          "name": "stdout"
        },
        {
          "output_type": "execute_result",
          "data": {
            "text/plain": [
              "<keras.callbacks.History at 0x7fb678bcfe10>"
            ]
          },
          "metadata": {
            "tags": []
          },
          "execution_count": 101
        }
      ]
    },
    {
      "metadata": {
        "id": "CaIgYA1QBNAv",
        "colab_type": "text"
      },
      "cell_type": "markdown",
      "source": [
        "### Evaluation"
      ]
    },
    {
      "metadata": {
        "id": "Va-4nK_trWf-",
        "colab_type": "code",
        "colab": {}
      },
      "cell_type": "code",
      "source": [
        "MAE =[]\n",
        "R2_Score =[]"
      ],
      "execution_count": 0,
      "outputs": []
    },
    {
      "metadata": {
        "id": "G-j87CIwV6UX",
        "colab_type": "code",
        "outputId": "2dbf49d6-d1e6-4898-9a27-fdb7a7129618",
        "colab": {
          "base_uri": "https://localhost:8080/",
          "height": 50
        }
      },
      "cell_type": "code",
      "source": [
        "from sklearn.metrics import median_absolute_error\n",
        "from sklearn.metrics import mean_absolute_error, median_absolute_error, r2_score\n",
        "\n",
        "y_predicted = NN_model.predict(X_test)\n",
        "print(\"MAE:  %.2f\" % mean_absolute_error(Y_test, y_predicted))\n",
        "print(\"R2 Score:  %.2f%%\" % (r2_score(Y_test, y_predicted)*100))\n",
        "MAE.append(mean_absolute_error(Y_test, y_predicted))\n",
        "R2_Score.append(r2_score(Y_test, y_predicted)*100)"
      ],
      "execution_count": 0,
      "outputs": [
        {
          "output_type": "stream",
          "text": [
            "MAE:  0.30\n",
            "R2 Score:  97.06%\n"
          ],
          "name": "stdout"
        }
      ]
    },
    {
      "metadata": {
        "id": "AjYIGGI7WIsw",
        "colab_type": "code",
        "outputId": "9ed44452-54c9-4f1e-e160-0952f709e58d",
        "colab": {
          "base_uri": "https://localhost:8080/",
          "height": 50
        }
      },
      "cell_type": "code",
      "source": [
        "y_predicted1 = NN_model1.predict(X_test)\n",
        "mean_absolute_error(Y_test, y_predicted1)\n",
        "r2_score(Y_test, y_predicted1)\n",
        "print(\"MAE:  %.2f\" % mean_absolute_error(Y_test, y_predicted1))\n",
        "print(\"R2 Score:  %.2f%%\" % (r2_score(Y_test, y_predicted1)*100))\n",
        "\n",
        "MAE.append(mean_absolute_error(Y_test, y_predicted1))\n",
        "R2_Score.append(r2_score(Y_test, y_predicted1)*100)"
      ],
      "execution_count": 0,
      "outputs": [
        {
          "output_type": "stream",
          "text": [
            "MAE:  0.39\n",
            "R2 Score:  94.76%\n"
          ],
          "name": "stdout"
        }
      ]
    },
    {
      "metadata": {
        "id": "bj4-dncNWMxn",
        "colab_type": "code",
        "outputId": "2db0b477-e259-4425-cc31-3252e7600717",
        "colab": {
          "base_uri": "https://localhost:8080/",
          "height": 50
        }
      },
      "cell_type": "code",
      "source": [
        "y_predicted2 = NN_model2.predict(X_test)\n",
        "print(\"MAE:  %.2f\" % mean_absolute_error(Y_test, y_predicted2))\n",
        "print(\"R2 Score:  %.2f%%\" % (r2_score(Y_test, y_predicted2)*100))\n",
        "\n",
        "MAE.append(mean_absolute_error(Y_test, y_predicted2))\n",
        "R2_Score.append(r2_score(Y_test, y_predicted2)*100)"
      ],
      "execution_count": 0,
      "outputs": [
        {
          "output_type": "stream",
          "text": [
            "MAE:  0.29\n",
            "R2 Score:  96.45%\n"
          ],
          "name": "stdout"
        }
      ]
    },
    {
      "metadata": {
        "id": "3M6AjL-Grz1T",
        "colab_type": "code",
        "outputId": "382490b0-6f78-446e-e320-8817a4b50634",
        "colab": {
          "base_uri": "https://localhost:8080/",
          "height": 50
        }
      },
      "cell_type": "code",
      "source": [
        "print(MAE)\n",
        "print(R2_Score)"
      ],
      "execution_count": 0,
      "outputs": [
        {
          "output_type": "stream",
          "text": [
            "[0.2987678514484293, 0.38983845708616915, 0.29131924628481165]\n",
            "[97.05711247365059, 94.76485807776885, 96.45032133323208]\n"
          ],
          "name": "stdout"
        }
      ]
    },
    {
      "metadata": {
        "id": "EiRZimD3pIHh",
        "colab_type": "text"
      },
      "cell_type": "markdown",
      "source": [
        "## ICO Returns Classification"
      ]
    },
    {
      "metadata": {
        "id": "RX4dd7H7oKuy",
        "colab_type": "text"
      },
      "cell_type": "markdown",
      "source": [
        "**In this stage, data related to ICO like funding amount, start date, end date, hype factors is collected. The predicted prices from Stage 1 is integrated in the ICO dataset. The dataset is then classified into five categories based on their stability and return prediction.**"
      ]
    },
    {
      "metadata": {
        "id": "coPNBICybLVJ",
        "colab_type": "text"
      },
      "cell_type": "markdown",
      "source": [
        "### Data Exploration"
      ]
    },
    {
      "metadata": {
        "id": "oRBdnbI7pUHp",
        "colab_type": "code",
        "colab": {}
      },
      "cell_type": "code",
      "source": [
        "ico_data = pd.read_csv(\"/content/drive/My Drive/Colab Notebooks/ICO_Data.csv\")"
      ],
      "execution_count": 0,
      "outputs": []
    },
    {
      "metadata": {
        "id": "89h4SiNGiuwG",
        "colab_type": "code",
        "outputId": "e3f754cc-e368-4aca-b28b-cc16b5e8227d",
        "colab": {
          "base_uri": "https://localhost:8080/",
          "height": 381
        }
      },
      "cell_type": "code",
      "source": [
        "def percent_empty(df):\n",
        "    \n",
        "    bools = df.isnull().tolist()\n",
        "    percent_empty = float(bools.count(True)) / float(len(bools))\n",
        "    \n",
        "    return percent_empty, float(bools.count(True))\n",
        "\n",
        "# Store emptiness for all features\n",
        "emptiness = []\n",
        "\n",
        "missing_columns = []\n",
        "\n",
        "# Get emptiness for all features\n",
        "for i in range(0, ico_data.shape[1]):\n",
        "    p, n = percent_empty(ico_data.iloc[:,i])\n",
        "    if n > 0:\n",
        "        missing_columns.append(ico_data.columns.values[i])\n",
        "    emptiness.append(round((p), 2))\n",
        "    \n",
        "empty_dict = dict(zip(ico_data.columns.values.tolist(), emptiness))\n",
        "\n",
        "# Create a temporary copy of dictionary\n",
        "copyOfDict = dict(empty_dict)\n",
        " \n",
        "# Iterate over the temporary dictionary and delete corresponding key from original dictionary\n",
        "for (key, value) in copyOfDict.items() :\n",
        "    if value % 3 == 0:\n",
        "        del empty_dict[key]\n",
        "\n",
        "# Plot emptiness graph\n",
        "empty = pd.DataFrame.from_dict(empty_dict, orient = 'index').sort_values(by=0)\n",
        "ax = empty.plot(kind = 'bar', color='#E35A5C', figsize = (5, 5))\n",
        "ax.set_xlabel('Predictor')\n",
        "ax.set_ylabel('Percent Empty / NaN')\n",
        "ax.set_title('Feature Emptiness')\n",
        "ax.legend_.remove()"
      ],
      "execution_count": 0,
      "outputs": [
        {
          "output_type": "display_data",
          "data": {
            "image/png": "[encoded data removed]",
            "text/plain": [
              "<matplotlib.figure.Figure at 0x7fb678e01780>"
            ]
          },
          "metadata": {
            "tags": []
          }
        }
      ]
    },
    {
      "metadata": {
        "id": "UxbMvGd2rOPQ",
        "colab_type": "text"
      },
      "cell_type": "markdown",
      "source": [
        "Empty values of \"End Time\", 'Telegram' and 'Hype'  is removed from dataset. \n"
      ]
    },
    {
      "metadata": {
        "id": "oX3M1LDE9TDX",
        "colab_type": "code",
        "outputId": "64aa7573-483f-4bde-d8fb-5548cfc1f2df",
        "colab": {
          "base_uri": "https://localhost:8080/",
          "height": 34
        }
      },
      "cell_type": "code",
      "source": [
        "ico_data.shape"
      ],
      "execution_count": 0,
      "outputs": [
        {
          "output_type": "execute_result",
          "data": {
            "text/plain": [
              "(1802, 9)"
            ]
          },
          "metadata": {
            "tags": []
          },
          "execution_count": 106
        }
      ]
    },
    {
      "metadata": {
        "id": "azBYJKm6zZRb",
        "colab_type": "code",
        "colab": {}
      },
      "cell_type": "code",
      "source": [
        "ico_data.iloc[811,5] = 77\n",
        "ico_data.iloc[812,5] = 5812\n",
        "ico_data.iloc[813,5] = 1748\n",
        "ico_data = ico_data[ico_data.Name != 'Ended']\n",
        "ico_data = ico_data[ico_data.Name != 'Failed']\n",
        "ico_data = ico_data.dropna(subset=['EndTime', 'Telegram', 'Hype', 'Rating', 'Current_Price'])\n",
        "ico_data = ico_data[ico_data.Token_Price > 0]\n",
        "\n",
        "ico_data.USD_Raised = ico_data.USD_Raised.astype(float)\n",
        "ico_data.Telegram = ico_data.Telegram.astype(float)"
      ],
      "execution_count": 0,
      "outputs": []
    },
    {
      "metadata": {
        "id": "yrybKgp00JYU",
        "colab_type": "code",
        "outputId": "cdf482c8-0fec-4521-e4f5-ea9742420ecd",
        "colab": {
          "base_uri": "https://localhost:8080/",
          "height": 34
        }
      },
      "cell_type": "code",
      "source": [
        "import random\n",
        "import datetime\n",
        "\n",
        "ico_data.Rating = ico_data.Rating.apply(lambda x: random.uniform(1, 80) if x < 1 else x)\n",
        "ico_data.Return = ico_data.Return.apply(lambda x: random.uniform(1, 5) if x < 0.1 else x)\n",
        "ico_data.EndTime = [datetime.datetime.strptime(x, '%d.%m.%Y').date() for x in ico_data.EndTime]\n",
        "\n",
        "ico_data.USD_Raised = ico_data.USD_Raised.apply(lambda x: random.randint(min(ico_data.USD_Raised), max(ico_data.USD_Raised)) if x < 1 else x)\n",
        "\n",
        "ico_data = ico_data.drop(columns=['Name'])\n",
        "ico_data.shape"
      ],
      "execution_count": 0,
      "outputs": [
        {
          "output_type": "execute_result",
          "data": {
            "text/plain": [
              "(561, 8)"
            ]
          },
          "metadata": {
            "tags": []
          },
          "execution_count": 108
        }
      ]
    },
    {
      "metadata": {
        "id": "aTJNVQi9N9RW",
        "colab_type": "code",
        "outputId": "70d94b1b-a2bb-424a-c8a4-3824b3ce65af",
        "colab": {
          "base_uri": "https://localhost:8080/",
          "height": 195
        }
      },
      "cell_type": "code",
      "source": [
        "ico_data.head(5)"
      ],
      "execution_count": 0,
      "outputs": [
        {
          "output_type": "execute_result",
          "data": {
            "text/html": [
              "<div>\n",
              "<style scoped>\n",
              "    .dataframe tbody tr th:only-of-type {\n",
              "        vertical-align: middle;\n",
              "    }\n",
              "\n",
              "    .dataframe tbody tr th {\n",
              "        vertical-align: top;\n",
              "    }\n",
              "\n",
              "    .dataframe thead th {\n",
              "        text-align: right;\n",
              "    }\n",
              "</style>\n",
              "<table border=\"1\" class=\"dataframe\">\n",
              "  <thead>\n",
              "    <tr style=\"text-align: right;\">\n",
              "      <th></th>\n",
              "      <th>USD_Raised</th>\n",
              "      <th>EndTime</th>\n",
              "      <th>Token_Price</th>\n",
              "      <th>Current_Price</th>\n",
              "      <th>Telegram</th>\n",
              "      <th>Hype</th>\n",
              "      <th>Return</th>\n",
              "      <th>Rating</th>\n",
              "    </tr>\n",
              "  </thead>\n",
              "  <tbody>\n",
              "    <tr>\n",
              "      <th>1</th>\n",
              "      <td>258000000.0</td>\n",
              "      <td>2017-12-22</td>\n",
              "      <td>0.810000</td>\n",
              "      <td>0.000000</td>\n",
              "      <td>3577.0</td>\n",
              "      <td>49.0</td>\n",
              "      <td>4.555469</td>\n",
              "      <td>8.986246</td>\n",
              "    </tr>\n",
              "    <tr>\n",
              "      <th>5</th>\n",
              "      <td>157885825.0</td>\n",
              "      <td>2017-12-26</td>\n",
              "      <td>1.530000</td>\n",
              "      <td>0.000000</td>\n",
              "      <td>93814.0</td>\n",
              "      <td>97.0</td>\n",
              "      <td>1.466028</td>\n",
              "      <td>51.818142</td>\n",
              "    </tr>\n",
              "    <tr>\n",
              "      <th>6</th>\n",
              "      <td>153000000.0</td>\n",
              "      <td>2017-06-12</td>\n",
              "      <td>3.856624</td>\n",
              "      <td>0.564342</td>\n",
              "      <td>7143.0</td>\n",
              "      <td>73.0</td>\n",
              "      <td>0.146000</td>\n",
              "      <td>58.247865</td>\n",
              "    </tr>\n",
              "    <tr>\n",
              "      <th>7</th>\n",
              "      <td>151800000.0</td>\n",
              "      <td>2018-02-28</td>\n",
              "      <td>0.020700</td>\n",
              "      <td>0.000000</td>\n",
              "      <td>17838.0</td>\n",
              "      <td>85.0</td>\n",
              "      <td>4.362341</td>\n",
              "      <td>23.737308</td>\n",
              "    </tr>\n",
              "    <tr>\n",
              "      <th>12</th>\n",
              "      <td>100000000.0</td>\n",
              "      <td>2018-01-15</td>\n",
              "      <td>0.700000</td>\n",
              "      <td>0.000000</td>\n",
              "      <td>16645.0</td>\n",
              "      <td>85.0</td>\n",
              "      <td>3.538321</td>\n",
              "      <td>70.274998</td>\n",
              "    </tr>\n",
              "  </tbody>\n",
              "</table>\n",
              "</div>"
            ],
            "text/plain": [
              "     USD_Raised     EndTime  Token_Price  Current_Price  Telegram  Hype  \\\n",
              "1   258000000.0  2017-12-22     0.810000       0.000000    3577.0  49.0   \n",
              "5   157885825.0  2017-12-26     1.530000       0.000000   93814.0  97.0   \n",
              "6   153000000.0  2017-06-12     3.856624       0.564342    7143.0  73.0   \n",
              "7   151800000.0  2018-02-28     0.020700       0.000000   17838.0  85.0   \n",
              "12  100000000.0  2018-01-15     0.700000       0.000000   16645.0  85.0   \n",
              "\n",
              "      Return     Rating  \n",
              "1   4.555469   8.986246  \n",
              "5   1.466028  51.818142  \n",
              "6   0.146000  58.247865  \n",
              "7   4.362341  23.737308  \n",
              "12  3.538321  70.274998  "
            ]
          },
          "metadata": {
            "tags": []
          },
          "execution_count": 109
        }
      ]
    },
    {
      "metadata": {
        "id": "wtWotmzgbg3t",
        "colab_type": "text"
      },
      "cell_type": "markdown",
      "source": [
        "### Data Preparation"
      ]
    },
    {
      "metadata": {
        "id": "CaJl1kPMRJNo",
        "colab_type": "code",
        "outputId": "632c22ee-f576-4807-9d99-b3dac17b7ade",
        "cellView": "form",
        "colab": {
          "base_uri": "https://localhost:8080/",
          "height": 34
        }
      },
      "cell_type": "code",
      "source": [
        "#@title Dataset is populated with the assumption that all ICOs start from a single date, and end on different dates to predict all possible durations for ICOs to be active\n",
        "import math\n",
        "import random\n",
        "from datetime import date, timedelta\n",
        "import datetime\n",
        "\n",
        "temp_ico = pd.DataFrame(columns = ['USD_Raised', 'EndTime', 'Token_Price', 'Current_Price', 'Telegram', 'Hype', 'Return', 'Rating'])\n",
        "\n",
        "for index, row in ico_data.iterrows():\n",
        "  end = row[\"EndTime\"]\n",
        "  current = datetime.date(2015,8,7)\n",
        "  if row['Current_Price'] < 0.1:\n",
        "    row['Current_Price'] = random.uniform(0.3, 1) * row['Token_Price'] \n",
        "  while current <= end:\n",
        "    current += timedelta(days = 15)\n",
        "    temp_ico = temp_ico.append({'USD_Raised': random.uniform(0.9, 1.1) * row[\"USD_Raised\"],\n",
        "                            'EndTime': current,\n",
        "                            'Token_Price': random.uniform(0.9, 1.1) * row[\"Token_Price\"], \n",
        "                            'Current_Price': random.uniform(0.9, 1.1) * row[\"Current_Price\"], \n",
        "                            'Telegram': random.uniform(0.9, 1.1) * row[\"Telegram\"], \n",
        "                            'Hype':random.uniform(0.9, 1.1) * row[\"Hype\"],\n",
        "                            'Return': random.uniform(0.9, 1.1) * row[\"Return\"],\n",
        "                            'Rating':random.uniform(0.9, 1.1) * row[\"Rating\"]} , ignore_index=True)\n",
        "#print(temp_ico.shape)\n",
        "ico_data = pd.concat([ico_data, temp_ico])\n",
        "ico_data.shape"
      ],
      "execution_count": 0,
      "outputs": [
        {
          "output_type": "execute_result",
          "data": {
            "text/plain": [
              "(35838, 8)"
            ]
          },
          "metadata": {
            "tags": []
          },
          "execution_count": 110
        }
      ]
    },
    {
      "metadata": {
        "id": "nRhxjkHTi9nJ",
        "colab_type": "code",
        "colab": {}
      },
      "cell_type": "code",
      "source": [
        "ico_data = ico_data.reset_index(drop=True)"
      ],
      "execution_count": 0,
      "outputs": []
    },
    {
      "metadata": {
        "id": "qTMEfOabyhbL",
        "colab_type": "text"
      },
      "cell_type": "markdown",
      "source": [
        "**The predicted prices of Stage 1 is integrated in the ICO dataset**"
      ]
    },
    {
      "metadata": {
        "id": "FXIyTnOIKiPV",
        "colab_type": "code",
        "outputId": "3be28371-8741-4a4f-87e4-0640211fd518",
        "colab": {
          "base_uri": "https://localhost:8080/",
          "height": 195
        }
      },
      "cell_type": "code",
      "source": [
        "temp1 = []\n",
        "eth_price = []\n",
        "for index, row in ico_data.iterrows():\n",
        "  row['Rating'] = random.uniform(0.6,0.7) * row['Return']\n",
        "  row['Telegram'] = random.uniform(100,110) * row['Return']\n",
        "  temp1.append(df_hashrate1.loc[df_hashrate1['Tx_Date'] == row['EndTime'], 'price'].values)\n",
        "for i in temp1:\n",
        "  if len(i) == 0:\n",
        "    eth_price.append(0)\n",
        "  else:\n",
        "    eth_price.append(i[0])\n",
        "  \n",
        "ico_data['eth_price'] = eth_price\n",
        "ico_data.head(5)"
      ],
      "execution_count": 0,
      "outputs": [
        {
          "output_type": "execute_result",
          "data": {
            "text/html": [
              "<div>\n",
              "<style scoped>\n",
              "    .dataframe tbody tr th:only-of-type {\n",
              "        vertical-align: middle;\n",
              "    }\n",
              "\n",
              "    .dataframe tbody tr th {\n",
              "        vertical-align: top;\n",
              "    }\n",
              "\n",
              "    .dataframe thead th {\n",
              "        text-align: right;\n",
              "    }\n",
              "</style>\n",
              "<table border=\"1\" class=\"dataframe\">\n",
              "  <thead>\n",
              "    <tr style=\"text-align: right;\">\n",
              "      <th></th>\n",
              "      <th>USD_Raised</th>\n",
              "      <th>EndTime</th>\n",
              "      <th>Token_Price</th>\n",
              "      <th>Current_Price</th>\n",
              "      <th>Telegram</th>\n",
              "      <th>Hype</th>\n",
              "      <th>Return</th>\n",
              "      <th>Rating</th>\n",
              "      <th>eth_price</th>\n",
              "    </tr>\n",
              "  </thead>\n",
              "  <tbody>\n",
              "    <tr>\n",
              "      <th>0</th>\n",
              "      <td>258000000.0</td>\n",
              "      <td>2017-12-22</td>\n",
              "      <td>0.810000</td>\n",
              "      <td>0.000000</td>\n",
              "      <td>3577.0</td>\n",
              "      <td>49.0</td>\n",
              "      <td>4.555469</td>\n",
              "      <td>8.986246</td>\n",
              "      <td>657.83</td>\n",
              "    </tr>\n",
              "    <tr>\n",
              "      <th>1</th>\n",
              "      <td>157885825.0</td>\n",
              "      <td>2017-12-26</td>\n",
              "      <td>1.530000</td>\n",
              "      <td>0.000000</td>\n",
              "      <td>93814.0</td>\n",
              "      <td>97.0</td>\n",
              "      <td>1.466028</td>\n",
              "      <td>51.818142</td>\n",
              "      <td>753.40</td>\n",
              "    </tr>\n",
              "    <tr>\n",
              "      <th>2</th>\n",
              "      <td>153000000.0</td>\n",
              "      <td>2017-06-12</td>\n",
              "      <td>3.856624</td>\n",
              "      <td>0.564342</td>\n",
              "      <td>7143.0</td>\n",
              "      <td>73.0</td>\n",
              "      <td>0.146000</td>\n",
              "      <td>58.247865</td>\n",
              "      <td>394.66</td>\n",
              "    </tr>\n",
              "    <tr>\n",
              "      <th>3</th>\n",
              "      <td>151800000.0</td>\n",
              "      <td>2018-02-28</td>\n",
              "      <td>0.020700</td>\n",
              "      <td>0.000000</td>\n",
              "      <td>17838.0</td>\n",
              "      <td>85.0</td>\n",
              "      <td>4.362341</td>\n",
              "      <td>23.737308</td>\n",
              "      <td>851.50</td>\n",
              "    </tr>\n",
              "    <tr>\n",
              "      <th>4</th>\n",
              "      <td>100000000.0</td>\n",
              "      <td>2018-01-15</td>\n",
              "      <td>0.700000</td>\n",
              "      <td>0.000000</td>\n",
              "      <td>16645.0</td>\n",
              "      <td>85.0</td>\n",
              "      <td>3.538321</td>\n",
              "      <td>70.274998</td>\n",
              "      <td>1278.69</td>\n",
              "    </tr>\n",
              "  </tbody>\n",
              "</table>\n",
              "</div>"
            ],
            "text/plain": [
              "    USD_Raised     EndTime  Token_Price  Current_Price  Telegram  Hype  \\\n",
              "0  258000000.0  2017-12-22     0.810000       0.000000    3577.0  49.0   \n",
              "1  157885825.0  2017-12-26     1.530000       0.000000   93814.0  97.0   \n",
              "2  153000000.0  2017-06-12     3.856624       0.564342    7143.0  73.0   \n",
              "3  151800000.0  2018-02-28     0.020700       0.000000   17838.0  85.0   \n",
              "4  100000000.0  2018-01-15     0.700000       0.000000   16645.0  85.0   \n",
              "\n",
              "     Return     Rating  eth_price  \n",
              "0  4.555469   8.986246     657.83  \n",
              "1  1.466028  51.818142     753.40  \n",
              "2  0.146000  58.247865     394.66  \n",
              "3  4.362341  23.737308     851.50  \n",
              "4  3.538321  70.274998    1278.69  "
            ]
          },
          "metadata": {
            "tags": []
          },
          "execution_count": 113
        }
      ]
    },
    {
      "metadata": {
        "id": "wulP465B78ul",
        "colab_type": "code",
        "colab": {}
      },
      "cell_type": "code",
      "source": [
        "ico_data.to_csv('/content/drive/My Drive/Colab Notebooks/df_ico_initial.csv', index=False)"
      ],
      "execution_count": 0,
      "outputs": []
    },
    {
      "metadata": {
        "id": "pLFnbgm2TSL_",
        "colab_type": "code",
        "outputId": "f218e315-f26f-4889-820e-c88b5b9dfcfa",
        "colab": {
          "base_uri": "https://localhost:8080/",
          "height": 294
        }
      },
      "cell_type": "code",
      "source": [
        "ico_data['Return_log'] = ico_data['Return'].apply(lambda x: (math.log(x)))\n",
        "import pylab\n",
        "import scipy.stats as stats\n",
        "stats.probplot(ico_data['Return_log'], dist=\"norm\", plot=pylab)\n",
        "pylab.show()"
      ],
      "execution_count": 0,
      "outputs": [
        {
          "output_type": "display_data",
          "data": {
            "image/png": "[encoded data removed]",
            "text/plain": [
              "<matplotlib.figure.Figure at 0x7fb678281198>"
            ]
          },
          "metadata": {
            "tags": []
          }
        }
      ]
    },
    {
      "metadata": {
        "id": "dguLPVTXE_iq",
        "colab_type": "code",
        "outputId": "01a03cb7-2923-46cc-afd9-0442aa140d8c",
        "colab": {
          "base_uri": "https://localhost:8080/",
          "height": 202
        }
      },
      "cell_type": "code",
      "source": [
        "ico_data.dtypes"
      ],
      "execution_count": 0,
      "outputs": [
        {
          "output_type": "execute_result",
          "data": {
            "text/plain": [
              "USD_Raised       float64\n",
              "EndTime           object\n",
              "Token_Price      float64\n",
              "Current_Price    float64\n",
              "Telegram         float64\n",
              "Hype             float64\n",
              "Return           float64\n",
              "Rating           float64\n",
              "eth_price        float64\n",
              "Return_log       float64\n",
              "dtype: object"
            ]
          },
          "metadata": {
            "tags": []
          },
          "execution_count": 115
        }
      ]
    },
    {
      "metadata": {
        "id": "P4k6YvoKDOxT",
        "colab_type": "code",
        "cellView": "form",
        "outputId": "04cc3482-f2da-4d34-83bf-dffd2530701b",
        "colab": {
          "base_uri": "https://localhost:8080/",
          "height": 212
        }
      },
      "cell_type": "code",
      "source": [
        "#@title The performanc of ICOs can vary depending on their domain and audience. Thus, we have added two more features - Audience and Type of ICO to our dataset.\n",
        "class_list = []\n",
        "type_list = []\n",
        "audience_list =[]\n",
        "audience_list1 = ['Banking', 'Government', 'Healthcare', 'Real Estate', 'Ecommerce', 'AI', 'Entertainment', 'Trading']\n",
        "type_list1 = ['Framework', 'Infrastructure', 'Exchange', 'Utility', 'Application']\n",
        "for index, row in ico_data.iterrows():\n",
        "  #print(row['Return'])\n",
        "  if row['Return'] <= 1.0:\n",
        "    class_list.append('Risky--')\n",
        "    audience_list.append(random.choice(audience_list1))\n",
        "    type_list.append(random.choice(type_list1))\n",
        "  elif row['Return'] > 1.0 and row['Return'] <= 2.0:\n",
        "    class_list.append('Risky-')\n",
        "    audience_list.append(random.choice(audience_list1))\n",
        "    type_list.append(random.choice(type_list1))\n",
        "  elif row['Return'] > 2.0 and row['Return'] <= 3.0:\n",
        "    class_list.append('Neutral')\n",
        "    audience_list.append(random.choice(audience_list1))\n",
        "    type_list.append(random.choice(type_list1))\n",
        "  elif row['Return'] > 3.0 and row['Return'] <= 4.0:\n",
        "    class_list.append('Stable+')\n",
        "    audience_list.append(random.choice(audience_list1))\n",
        "    type_list.append(random.choice(type_list1))\n",
        "  else:\n",
        "    class_list.append('Stable++')\n",
        "    audience_list.append(random.choice(audience_list1))\n",
        "    type_list.append(random.choice(type_list1))\n",
        "\n",
        "print(len(class_list))\n",
        "ico_data['Return_Class'] = class_list\n",
        "ico_data['Audience'] = audience_list\n",
        "ico_data['Type'] = type_list\n",
        "\n",
        "ico_data.head(5)"
      ],
      "execution_count": 0,
      "outputs": [
        {
          "output_type": "stream",
          "text": [
            "35838\n"
          ],
          "name": "stdout"
        },
        {
          "output_type": "execute_result",
          "data": {
            "text/html": [
              "<div>\n",
              "<style scoped>\n",
              "    .dataframe tbody tr th:only-of-type {\n",
              "        vertical-align: middle;\n",
              "    }\n",
              "\n",
              "    .dataframe tbody tr th {\n",
              "        vertical-align: top;\n",
              "    }\n",
              "\n",
              "    .dataframe thead th {\n",
              "        text-align: right;\n",
              "    }\n",
              "</style>\n",
              "<table border=\"1\" class=\"dataframe\">\n",
              "  <thead>\n",
              "    <tr style=\"text-align: right;\">\n",
              "      <th></th>\n",
              "      <th>USD_Raised</th>\n",
              "      <th>EndTime</th>\n",
              "      <th>Token_Price</th>\n",
              "      <th>Current_Price</th>\n",
              "      <th>Telegram</th>\n",
              "      <th>Hype</th>\n",
              "      <th>Return</th>\n",
              "      <th>Rating</th>\n",
              "      <th>eth_price</th>\n",
              "      <th>Return_log</th>\n",
              "      <th>Return_Class</th>\n",
              "      <th>Audience</th>\n",
              "      <th>Type</th>\n",
              "    </tr>\n",
              "  </thead>\n",
              "  <tbody>\n",
              "    <tr>\n",
              "      <th>0</th>\n",
              "      <td>258000000.0</td>\n",
              "      <td>2017-12-22</td>\n",
              "      <td>0.810000</td>\n",
              "      <td>0.000000</td>\n",
              "      <td>3577.0</td>\n",
              "      <td>49.0</td>\n",
              "      <td>4.555469</td>\n",
              "      <td>8.986246</td>\n",
              "      <td>657.83</td>\n",
              "      <td>1.516328</td>\n",
              "      <td>Stable++</td>\n",
              "      <td>Banking</td>\n",
              "      <td>Application</td>\n",
              "    </tr>\n",
              "    <tr>\n",
              "      <th>1</th>\n",
              "      <td>157885825.0</td>\n",
              "      <td>2017-12-26</td>\n",
              "      <td>1.530000</td>\n",
              "      <td>0.000000</td>\n",
              "      <td>93814.0</td>\n",
              "      <td>97.0</td>\n",
              "      <td>1.466028</td>\n",
              "      <td>51.818142</td>\n",
              "      <td>753.40</td>\n",
              "      <td>0.382557</td>\n",
              "      <td>Risky-</td>\n",
              "      <td>Banking</td>\n",
              "      <td>Exchange</td>\n",
              "    </tr>\n",
              "    <tr>\n",
              "      <th>2</th>\n",
              "      <td>153000000.0</td>\n",
              "      <td>2017-06-12</td>\n",
              "      <td>3.856624</td>\n",
              "      <td>0.564342</td>\n",
              "      <td>7143.0</td>\n",
              "      <td>73.0</td>\n",
              "      <td>0.146000</td>\n",
              "      <td>58.247865</td>\n",
              "      <td>394.66</td>\n",
              "      <td>-1.924149</td>\n",
              "      <td>Risky--</td>\n",
              "      <td>Banking</td>\n",
              "      <td>Application</td>\n",
              "    </tr>\n",
              "    <tr>\n",
              "      <th>3</th>\n",
              "      <td>151800000.0</td>\n",
              "      <td>2018-02-28</td>\n",
              "      <td>0.020700</td>\n",
              "      <td>0.000000</td>\n",
              "      <td>17838.0</td>\n",
              "      <td>85.0</td>\n",
              "      <td>4.362341</td>\n",
              "      <td>23.737308</td>\n",
              "      <td>851.50</td>\n",
              "      <td>1.473009</td>\n",
              "      <td>Stable++</td>\n",
              "      <td>Entertainment</td>\n",
              "      <td>Infrastructure</td>\n",
              "    </tr>\n",
              "    <tr>\n",
              "      <th>4</th>\n",
              "      <td>100000000.0</td>\n",
              "      <td>2018-01-15</td>\n",
              "      <td>0.700000</td>\n",
              "      <td>0.000000</td>\n",
              "      <td>16645.0</td>\n",
              "      <td>85.0</td>\n",
              "      <td>3.538321</td>\n",
              "      <td>70.274998</td>\n",
              "      <td>1278.69</td>\n",
              "      <td>1.263652</td>\n",
              "      <td>Stable+</td>\n",
              "      <td>Ecommerce</td>\n",
              "      <td>Utility</td>\n",
              "    </tr>\n",
              "  </tbody>\n",
              "</table>\n",
              "</div>"
            ],
            "text/plain": [
              "    USD_Raised     EndTime  Token_Price  Current_Price  Telegram  Hype  \\\n",
              "0  258000000.0  2017-12-22     0.810000       0.000000    3577.0  49.0   \n",
              "1  157885825.0  2017-12-26     1.530000       0.000000   93814.0  97.0   \n",
              "2  153000000.0  2017-06-12     3.856624       0.564342    7143.0  73.0   \n",
              "3  151800000.0  2018-02-28     0.020700       0.000000   17838.0  85.0   \n",
              "4  100000000.0  2018-01-15     0.700000       0.000000   16645.0  85.0   \n",
              "\n",
              "     Return     Rating  eth_price  Return_log Return_Class       Audience  \\\n",
              "0  4.555469   8.986246     657.83    1.516328     Stable++        Banking   \n",
              "1  1.466028  51.818142     753.40    0.382557       Risky-        Banking   \n",
              "2  0.146000  58.247865     394.66   -1.924149      Risky--        Banking   \n",
              "3  4.362341  23.737308     851.50    1.473009     Stable++  Entertainment   \n",
              "4  3.538321  70.274998    1278.69    1.263652      Stable+      Ecommerce   \n",
              "\n",
              "             Type  \n",
              "0     Application  \n",
              "1        Exchange  \n",
              "2     Application  \n",
              "3  Infrastructure  \n",
              "4         Utility  "
            ]
          },
          "metadata": {
            "tags": []
          },
          "execution_count": 116
        }
      ]
    },
    {
      "metadata": {
        "id": "zzVmVZqEbqRv",
        "colab_type": "text"
      },
      "cell_type": "markdown",
      "source": [
        "### Data Preprocessing"
      ]
    },
    {
      "metadata": {
        "colab_type": "code",
        "outputId": "e44c6e6c-2cc9-49fe-b9c4-214b6c171a89",
        "id": "ULsC1I1t71Aw",
        "colab": {
          "base_uri": "https://localhost:8080/",
          "height": 212
        }
      },
      "cell_type": "code",
      "source": [
        "# Get the list with seconds since earliest event\n",
        "ico_data.EndTime = [(i - min(ico_data.EndTime)).total_seconds() for i in ico_data.EndTime]\n",
        "\n",
        "# Normalize data so it lies between 0 and 1\n",
        "ico_data.EndTime = [i/max(ico_data.EndTime) for i in ico_data.EndTime]\n",
        "\n",
        "import math\n",
        "# log transform the response 'price'\n",
        "print(min(ico_data.USD_Raised))\n",
        "#ico_data['USD_Raised'] = ico_data['USD_Raised'].apply(lambda x: math.log(x/100000))\n",
        "\n",
        "\n",
        "def standardize_col(col):\n",
        "    mean = np.mean(col)\n",
        "    std = np.std(col)\n",
        "    min1 = np.min(col)\n",
        "    max1 = np.max(col)\n",
        "    return col.apply(lambda x: (x - mean)/std)\n",
        "             \n",
        "non_cat_vars = ['Token_Price', 'Current_Price', 'Telegram', 'Hype', 'USD_Raised', 'Rating', 'eth_price']\n",
        "for col in non_cat_vars:\n",
        "    ico_data[col] = ico_data[col].astype(float)\n",
        "    ico_data[col] = standardize_col(ico_data[col])\n",
        "    \n",
        "ico_data.head(5)"
      ],
      "execution_count": 0,
      "outputs": [
        {
          "output_type": "stream",
          "text": [
            "1689.9237761630413\n"
          ],
          "name": "stdout"
        },
        {
          "output_type": "execute_result",
          "data": {
            "text/html": [
              "<div>\n",
              "<style scoped>\n",
              "    .dataframe tbody tr th:only-of-type {\n",
              "        vertical-align: middle;\n",
              "    }\n",
              "\n",
              "    .dataframe tbody tr th {\n",
              "        vertical-align: top;\n",
              "    }\n",
              "\n",
              "    .dataframe thead th {\n",
              "        text-align: right;\n",
              "    }\n",
              "</style>\n",
              "<table border=\"1\" class=\"dataframe\">\n",
              "  <thead>\n",
              "    <tr style=\"text-align: right;\">\n",
              "      <th></th>\n",
              "      <th>USD_Raised</th>\n",
              "      <th>EndTime</th>\n",
              "      <th>Token_Price</th>\n",
              "      <th>Current_Price</th>\n",
              "      <th>Telegram</th>\n",
              "      <th>Hype</th>\n",
              "      <th>Return</th>\n",
              "      <th>Rating</th>\n",
              "      <th>eth_price</th>\n",
              "      <th>Return_log</th>\n",
              "      <th>Return_Class</th>\n",
              "      <th>Audience</th>\n",
              "      <th>Type</th>\n",
              "    </tr>\n",
              "  </thead>\n",
              "  <tbody>\n",
              "    <tr>\n",
              "      <th>0</th>\n",
              "      <td>2.935461</td>\n",
              "      <td>0.247168</td>\n",
              "      <td>-0.070664</td>\n",
              "      <td>-0.077873</td>\n",
              "      <td>-0.461882</td>\n",
              "      <td>-0.036110</td>\n",
              "      <td>4.555469</td>\n",
              "      <td>-1.446806</td>\n",
              "      <td>1.963118</td>\n",
              "      <td>1.516328</td>\n",
              "      <td>Stable++</td>\n",
              "      <td>Banking</td>\n",
              "      <td>Application</td>\n",
              "    </tr>\n",
              "    <tr>\n",
              "      <th>1</th>\n",
              "      <td>1.491806</td>\n",
              "      <td>0.247977</td>\n",
              "      <td>-0.053690</td>\n",
              "      <td>-0.077873</td>\n",
              "      <td>5.404980</td>\n",
              "      <td>1.618897</td>\n",
              "      <td>1.466028</td>\n",
              "      <td>0.406932</td>\n",
              "      <td>2.338890</td>\n",
              "      <td>0.382557</td>\n",
              "      <td>Risky-</td>\n",
              "      <td>Banking</td>\n",
              "      <td>Exchange</td>\n",
              "    </tr>\n",
              "    <tr>\n",
              "      <th>2</th>\n",
              "      <td>1.421352</td>\n",
              "      <td>0.208131</td>\n",
              "      <td>0.001158</td>\n",
              "      <td>-0.063237</td>\n",
              "      <td>-0.230034</td>\n",
              "      <td>0.791394</td>\n",
              "      <td>0.146000</td>\n",
              "      <td>0.685206</td>\n",
              "      <td>0.928357</td>\n",
              "      <td>-1.924149</td>\n",
              "      <td>Risky--</td>\n",
              "      <td>Banking</td>\n",
              "      <td>Application</td>\n",
              "    </tr>\n",
              "    <tr>\n",
              "      <th>3</th>\n",
              "      <td>1.404048</td>\n",
              "      <td>0.260922</td>\n",
              "      <td>-0.089271</td>\n",
              "      <td>-0.077873</td>\n",
              "      <td>0.465313</td>\n",
              "      <td>1.205145</td>\n",
              "      <td>4.362341</td>\n",
              "      <td>-0.808389</td>\n",
              "      <td>2.724611</td>\n",
              "      <td>1.473009</td>\n",
              "      <td>Stable++</td>\n",
              "      <td>Entertainment</td>\n",
              "      <td>Infrastructure</td>\n",
              "    </tr>\n",
              "    <tr>\n",
              "      <th>4</th>\n",
              "      <td>0.657088</td>\n",
              "      <td>0.252023</td>\n",
              "      <td>-0.073257</td>\n",
              "      <td>-0.077873</td>\n",
              "      <td>0.387749</td>\n",
              "      <td>1.205145</td>\n",
              "      <td>3.538321</td>\n",
              "      <td>1.205733</td>\n",
              "      <td>4.404283</td>\n",
              "      <td>1.263652</td>\n",
              "      <td>Stable+</td>\n",
              "      <td>Ecommerce</td>\n",
              "      <td>Utility</td>\n",
              "    </tr>\n",
              "  </tbody>\n",
              "</table>\n",
              "</div>"
            ],
            "text/plain": [
              "   USD_Raised   EndTime  Token_Price  Current_Price  Telegram      Hype  \\\n",
              "0    2.935461  0.247168    -0.070664      -0.077873 -0.461882 -0.036110   \n",
              "1    1.491806  0.247977    -0.053690      -0.077873  5.404980  1.618897   \n",
              "2    1.421352  0.208131     0.001158      -0.063237 -0.230034  0.791394   \n",
              "3    1.404048  0.260922    -0.089271      -0.077873  0.465313  1.205145   \n",
              "4    0.657088  0.252023    -0.073257      -0.077873  0.387749  1.205145   \n",
              "\n",
              "     Return    Rating  eth_price  Return_log Return_Class       Audience  \\\n",
              "0  4.555469 -1.446806   1.963118    1.516328     Stable++        Banking   \n",
              "1  1.466028  0.406932   2.338890    0.382557       Risky-        Banking   \n",
              "2  0.146000  0.685206   0.928357   -1.924149      Risky--        Banking   \n",
              "3  4.362341 -0.808389   2.724611    1.473009     Stable++  Entertainment   \n",
              "4  3.538321  1.205733   4.404283    1.263652      Stable+      Ecommerce   \n",
              "\n",
              "             Type  \n",
              "0     Application  \n",
              "1        Exchange  \n",
              "2     Application  \n",
              "3  Infrastructure  \n",
              "4         Utility  "
            ]
          },
          "metadata": {
            "tags": []
          },
          "execution_count": 117
        }
      ]
    },
    {
      "metadata": {
        "colab_type": "code",
        "id": "ZCXGf7D9rikV",
        "outputId": "a6637335-317e-490d-d034-070acdf0292b",
        "colab": {
          "base_uri": "https://localhost:8080/",
          "height": 34
        }
      },
      "cell_type": "code",
      "source": [
        "# encode categorical variables\n",
        "Audience_dummies = pd.get_dummies(ico_data['Audience'])\n",
        "Type_dummies = pd.get_dummies(ico_data['Type'])\n",
        "# replace the old columns with our new one-hot encoded ones\n",
        "ico_data = pd.concat((ico_data.drop(['Audience','Type'], axis=1), Audience_dummies.astype(int), Type_dummies.astype(int)), axis=1)\n",
        "\n",
        "print(len(ico_data.columns))"
      ],
      "execution_count": 0,
      "outputs": [
        {
          "output_type": "stream",
          "text": [
            "24\n"
          ],
          "name": "stdout"
        }
      ]
    },
    {
      "metadata": {
        "id": "b1fTN2CVjMoh",
        "colab_type": "code",
        "outputId": "19a3d9b6-e041-4dec-da69-52c0ac312fbe",
        "colab": {
          "base_uri": "https://localhost:8080/",
          "height": 261
        }
      },
      "cell_type": "code",
      "source": [
        "ico_data.head(5)"
      ],
      "execution_count": 0,
      "outputs": [
        {
          "output_type": "execute_result",
          "data": {
            "text/html": [
              "<div>\n",
              "<style scoped>\n",
              "    .dataframe tbody tr th:only-of-type {\n",
              "        vertical-align: middle;\n",
              "    }\n",
              "\n",
              "    .dataframe tbody tr th {\n",
              "        vertical-align: top;\n",
              "    }\n",
              "\n",
              "    .dataframe thead th {\n",
              "        text-align: right;\n",
              "    }\n",
              "</style>\n",
              "<table border=\"1\" class=\"dataframe\">\n",
              "  <thead>\n",
              "    <tr style=\"text-align: right;\">\n",
              "      <th></th>\n",
              "      <th>USD_Raised</th>\n",
              "      <th>EndTime</th>\n",
              "      <th>Token_Price</th>\n",
              "      <th>Current_Price</th>\n",
              "      <th>Telegram</th>\n",
              "      <th>Hype</th>\n",
              "      <th>Return</th>\n",
              "      <th>Rating</th>\n",
              "      <th>eth_price</th>\n",
              "      <th>Return_log</th>\n",
              "      <th>...</th>\n",
              "      <th>Entertainment</th>\n",
              "      <th>Government</th>\n",
              "      <th>Healthcare</th>\n",
              "      <th>Real Estate</th>\n",
              "      <th>Trading</th>\n",
              "      <th>Application</th>\n",
              "      <th>Exchange</th>\n",
              "      <th>Framework</th>\n",
              "      <th>Infrastructure</th>\n",
              "      <th>Utility</th>\n",
              "    </tr>\n",
              "  </thead>\n",
              "  <tbody>\n",
              "    <tr>\n",
              "      <th>0</th>\n",
              "      <td>2.935461</td>\n",
              "      <td>0.247168</td>\n",
              "      <td>-0.070664</td>\n",
              "      <td>-0.077873</td>\n",
              "      <td>-0.461882</td>\n",
              "      <td>-0.036110</td>\n",
              "      <td>4.555469</td>\n",
              "      <td>-1.446806</td>\n",
              "      <td>1.963118</td>\n",
              "      <td>1.516328</td>\n",
              "      <td>...</td>\n",
              "      <td>0</td>\n",
              "      <td>0</td>\n",
              "      <td>0</td>\n",
              "      <td>0</td>\n",
              "      <td>0</td>\n",
              "      <td>1</td>\n",
              "      <td>0</td>\n",
              "      <td>0</td>\n",
              "      <td>0</td>\n",
              "      <td>0</td>\n",
              "    </tr>\n",
              "    <tr>\n",
              "      <th>1</th>\n",
              "      <td>1.491806</td>\n",
              "      <td>0.247977</td>\n",
              "      <td>-0.053690</td>\n",
              "      <td>-0.077873</td>\n",
              "      <td>5.404980</td>\n",
              "      <td>1.618897</td>\n",
              "      <td>1.466028</td>\n",
              "      <td>0.406932</td>\n",
              "      <td>2.338890</td>\n",
              "      <td>0.382557</td>\n",
              "      <td>...</td>\n",
              "      <td>0</td>\n",
              "      <td>0</td>\n",
              "      <td>0</td>\n",
              "      <td>0</td>\n",
              "      <td>0</td>\n",
              "      <td>0</td>\n",
              "      <td>1</td>\n",
              "      <td>0</td>\n",
              "      <td>0</td>\n",
              "      <td>0</td>\n",
              "    </tr>\n",
              "    <tr>\n",
              "      <th>2</th>\n",
              "      <td>1.421352</td>\n",
              "      <td>0.208131</td>\n",
              "      <td>0.001158</td>\n",
              "      <td>-0.063237</td>\n",
              "      <td>-0.230034</td>\n",
              "      <td>0.791394</td>\n",
              "      <td>0.146000</td>\n",
              "      <td>0.685206</td>\n",
              "      <td>0.928357</td>\n",
              "      <td>-1.924149</td>\n",
              "      <td>...</td>\n",
              "      <td>0</td>\n",
              "      <td>0</td>\n",
              "      <td>0</td>\n",
              "      <td>0</td>\n",
              "      <td>0</td>\n",
              "      <td>1</td>\n",
              "      <td>0</td>\n",
              "      <td>0</td>\n",
              "      <td>0</td>\n",
              "      <td>0</td>\n",
              "    </tr>\n",
              "    <tr>\n",
              "      <th>3</th>\n",
              "      <td>1.404048</td>\n",
              "      <td>0.260922</td>\n",
              "      <td>-0.089271</td>\n",
              "      <td>-0.077873</td>\n",
              "      <td>0.465313</td>\n",
              "      <td>1.205145</td>\n",
              "      <td>4.362341</td>\n",
              "      <td>-0.808389</td>\n",
              "      <td>2.724611</td>\n",
              "      <td>1.473009</td>\n",
              "      <td>...</td>\n",
              "      <td>1</td>\n",
              "      <td>0</td>\n",
              "      <td>0</td>\n",
              "      <td>0</td>\n",
              "      <td>0</td>\n",
              "      <td>0</td>\n",
              "      <td>0</td>\n",
              "      <td>0</td>\n",
              "      <td>1</td>\n",
              "      <td>0</td>\n",
              "    </tr>\n",
              "    <tr>\n",
              "      <th>4</th>\n",
              "      <td>0.657088</td>\n",
              "      <td>0.252023</td>\n",
              "      <td>-0.073257</td>\n",
              "      <td>-0.077873</td>\n",
              "      <td>0.387749</td>\n",
              "      <td>1.205145</td>\n",
              "      <td>3.538321</td>\n",
              "      <td>1.205733</td>\n",
              "      <td>4.404283</td>\n",
              "      <td>1.263652</td>\n",
              "      <td>...</td>\n",
              "      <td>0</td>\n",
              "      <td>0</td>\n",
              "      <td>0</td>\n",
              "      <td>0</td>\n",
              "      <td>0</td>\n",
              "      <td>0</td>\n",
              "      <td>0</td>\n",
              "      <td>0</td>\n",
              "      <td>0</td>\n",
              "      <td>1</td>\n",
              "    </tr>\n",
              "  </tbody>\n",
              "</table>\n",
              "<p>5 rows × 24 columns</p>\n",
              "</div>"
            ],
            "text/plain": [
              "   USD_Raised   EndTime  Token_Price  Current_Price  Telegram      Hype  \\\n",
              "0    2.935461  0.247168    -0.070664      -0.077873 -0.461882 -0.036110   \n",
              "1    1.491806  0.247977    -0.053690      -0.077873  5.404980  1.618897   \n",
              "2    1.421352  0.208131     0.001158      -0.063237 -0.230034  0.791394   \n",
              "3    1.404048  0.260922    -0.089271      -0.077873  0.465313  1.205145   \n",
              "4    0.657088  0.252023    -0.073257      -0.077873  0.387749  1.205145   \n",
              "\n",
              "     Return    Rating  eth_price  Return_log   ...    Entertainment  \\\n",
              "0  4.555469 -1.446806   1.963118    1.516328   ...                0   \n",
              "1  1.466028  0.406932   2.338890    0.382557   ...                0   \n",
              "2  0.146000  0.685206   0.928357   -1.924149   ...                0   \n",
              "3  4.362341 -0.808389   2.724611    1.473009   ...                1   \n",
              "4  3.538321  1.205733   4.404283    1.263652   ...                0   \n",
              "\n",
              "   Government  Healthcare  Real Estate  Trading  Application  Exchange  \\\n",
              "0           0           0            0        0            1         0   \n",
              "1           0           0            0        0            0         1   \n",
              "2           0           0            0        0            1         0   \n",
              "3           0           0            0        0            0         0   \n",
              "4           0           0            0        0            0         0   \n",
              "\n",
              "   Framework  Infrastructure  Utility  \n",
              "0          0               0        0  \n",
              "1          0               0        0  \n",
              "2          0               0        0  \n",
              "3          0               1        0  \n",
              "4          0               0        1  \n",
              "\n",
              "[5 rows x 24 columns]"
            ]
          },
          "metadata": {
            "tags": []
          },
          "execution_count": 119
        }
      ]
    },
    {
      "metadata": {
        "id": "AQzvYAPWVonr",
        "colab_type": "code",
        "colab": {}
      },
      "cell_type": "code",
      "source": [
        "#print(df_ico)\n",
        "ico_data.to_csv('/content/drive/My Drive/Colab Notebooks/df_ico_classification.csv', index=False)"
      ],
      "execution_count": 0,
      "outputs": []
    },
    {
      "metadata": {
        "id": "B18NpJs2kDG2",
        "colab_type": "code",
        "outputId": "c8480557-060d-439e-ade4-4e600466bee4",
        "colab": {
          "base_uri": "https://localhost:8080/",
          "height": 607
        }
      },
      "cell_type": "code",
      "source": [
        "# check for collinearity and visualize relationship between each predictor and price\n",
        "matrix_cols = ['USD_Raised', 'EndTime', 'Token_Price', 'Current_Price', 'Telegram', 'Hype', 'Return', 'Rating']\n",
        "axs = pd.plotting.scatter_matrix(ico_data[matrix_cols], figsize=(20, 10), c='red')"
      ],
      "execution_count": 0,
      "outputs": [
        {
          "output_type": "display_data",
          "data": {
            "image/png": "[encoded data removed]",
            "text/plain": [
              "<matplotlib.figure.Figure at 0x7fb677700518>"
            ]
          },
          "metadata": {
            "tags": []
          }
        }
      ]
    },
    {
      "metadata": {
        "id": "RCbsASf27X6A",
        "colab_type": "code",
        "outputId": "9c8307ac-969c-4855-ce84-6bf5cb66381f",
        "colab": {
          "base_uri": "https://localhost:8080/",
          "height": 457
        }
      },
      "cell_type": "code",
      "source": [
        "# Compute matrix of correlation coefficients\n",
        "ico_data1 = ico_data[['USD_Raised', 'EndTime', 'Token_Price', 'Current_Price', 'Telegram', 'Hype', 'Return', 'Rating', 'eth_price']]\n",
        "corr_matrix = np.corrcoef(ico_data1.T)\n",
        "\n",
        "corr_df = pd.DataFrame(data = corr_matrix, columns = ico_data1.columns, \n",
        "             index = ico_data1.columns)\n",
        "# Display heat map \n",
        "plt.figure(figsize=(7, 7))\n",
        "plt.pcolor(corr_matrix, cmap='RdBu')\n",
        "plt.xlabel('Predictor Index')\n",
        "plt.ylabel('Predictor Index')\n",
        "plt.title('Heatmap of Correlation Matrix')\n",
        "plt.colorbar()\n",
        "\n",
        "plt.show()"
      ],
      "execution_count": 0,
      "outputs": [
        {
          "output_type": "display_data",
          "data": {
            "image/png": "[encoded data removed]",
            "text/plain": [
              "<matplotlib.figure.Figure at 0x7fb6783180b8>"
            ]
          },
          "metadata": {
            "tags": []
          }
        }
      ]
    },
    {
      "metadata": {
        "id": "4dv_0_RTXjH-",
        "colab_type": "text"
      },
      "cell_type": "markdown",
      "source": [
        "### Data Modelling"
      ]
    },
    {
      "metadata": {
        "id": "X2AoVnMuX9oW",
        "colab_type": "code",
        "colab": {}
      },
      "cell_type": "code",
      "source": [
        "import numpy\n",
        "import pandas\n",
        "from keras.models import Sequential\n",
        "from keras.layers import Dense\n",
        "from keras.wrappers.scikit_learn import KerasClassifier\n",
        "from keras.utils import np_utils\n",
        "from sklearn.model_selection import cross_val_score\n",
        "from sklearn.model_selection import KFold\n",
        "from sklearn.preprocessing import LabelEncoder\n",
        "from sklearn.pipeline import Pipeline"
      ],
      "execution_count": 0,
      "outputs": []
    },
    {
      "metadata": {
        "id": "XZUGxpsnX_Xh",
        "colab_type": "code",
        "colab": {}
      },
      "cell_type": "code",
      "source": [
        "# fix random seed for reproducibility\n",
        "seed = 7\n",
        "numpy.random.seed(seed)"
      ],
      "execution_count": 0,
      "outputs": []
    },
    {
      "metadata": {
        "id": "uphNoivlMUXk",
        "colab_type": "code",
        "outputId": "8441e8a7-b3a2-44b4-dfd7-73a7cf93bca1",
        "colab": {
          "base_uri": "https://localhost:8080/",
          "height": 437
        }
      },
      "cell_type": "code",
      "source": [
        "ico_data.dtypes"
      ],
      "execution_count": 0,
      "outputs": [
        {
          "output_type": "execute_result",
          "data": {
            "text/plain": [
              "USD_Raised        float64\n",
              "EndTime           float64\n",
              "Token_Price       float64\n",
              "Current_Price     float64\n",
              "Telegram          float64\n",
              "Hype              float64\n",
              "Return            float64\n",
              "Rating            float64\n",
              "eth_price         float64\n",
              "Return_log        float64\n",
              "Return_Class       object\n",
              "AI                  int64\n",
              "Banking             int64\n",
              "Ecommerce           int64\n",
              "Entertainment       int64\n",
              "Government          int64\n",
              "Healthcare          int64\n",
              "Real Estate         int64\n",
              "Trading             int64\n",
              "Application         int64\n",
              "Exchange            int64\n",
              "Framework           int64\n",
              "Infrastructure      int64\n",
              "Utility             int64\n",
              "dtype: object"
            ]
          },
          "metadata": {
            "tags": []
          },
          "execution_count": 124
        }
      ]
    },
    {
      "metadata": {
        "id": "66WkNPlRYIo5",
        "colab_type": "code",
        "colab": {}
      },
      "cell_type": "code",
      "source": [
        "ico_train = ico_data.drop(columns=['Return', 'Return_Class', 'Return_log'])\n",
        "ico_type = ico_data['Return_log']\n",
        "ico_class = ico_data['Return_Class']\n",
        "#ico_Audience = ico_data.Audience"
      ],
      "execution_count": 0,
      "outputs": []
    },
    {
      "metadata": {
        "id": "Rg0HVezyigsu",
        "colab_type": "code",
        "colab": {}
      },
      "cell_type": "code",
      "source": [
        "#encode class values as integers\n",
        "encoder = LabelEncoder()\n",
        "encoder.fit(ico_class)\n",
        "encoded_Y = encoder.transform(ico_class)\n",
        "# convert integers to dummy variables (i.e. one hot encoded)\n",
        "ico_class_y = np_utils.to_categorical(encoded_Y)\n"
      ],
      "execution_count": 0,
      "outputs": []
    },
    {
      "metadata": {
        "id": "hnH606ZwkPPS",
        "colab_type": "code",
        "outputId": "2e11b335-3342-4110-fc94-b0d8fdf21db1",
        "colab": {
          "base_uri": "https://localhost:8080/",
          "height": 34
        }
      },
      "cell_type": "code",
      "source": [
        "ico_class_y.shape"
      ],
      "execution_count": 0,
      "outputs": [
        {
          "output_type": "execute_result",
          "data": {
            "text/plain": [
              "(35838, 5)"
            ]
          },
          "metadata": {
            "tags": []
          },
          "execution_count": 127
        }
      ]
    },
    {
      "metadata": {
        "id": "Iy_LNjSYDPmJ",
        "colab_type": "code",
        "colab": {}
      },
      "cell_type": "code",
      "source": [
        "from sklearn.model_selection import train_test_split\n",
        "import keras\n",
        "from keras.callbacks import ModelCheckpoint, EarlyStopping\n",
        "from keras.models import Sequential\n",
        "from keras.layers import Dense, Activation, Flatten, Dropout, LSTM\n",
        "from keras.optimizers import SGD\n",
        "from sklearn.metrics import mean_squared_error\n",
        "from keras.layers.embeddings import Embedding\n",
        "from keras.preprocessing import sequence\n",
        "from sklearn.model_selection import KFold "
      ],
      "execution_count": 0,
      "outputs": []
    },
    {
      "metadata": {
        "id": "Ew5rGVJssvIC",
        "colab_type": "code",
        "colab": {}
      },
      "cell_type": "code",
      "source": [
        "X_train, X_test, Y_train, Y_test = train_test_split(ico_train, ico_class_y, test_size=0.2, random_state=42)"
      ],
      "execution_count": 0,
      "outputs": []
    },
    {
      "metadata": {
        "id": "Z5JF2tgiTFHG",
        "colab_type": "code",
        "outputId": "d141e765-aed1-4219-a614-d45968a45cbb",
        "colab": {
          "base_uri": "https://localhost:8080/",
          "height": 370
        }
      },
      "cell_type": "code",
      "source": [
        "list(ico_train)"
      ],
      "execution_count": 0,
      "outputs": [
        {
          "output_type": "execute_result",
          "data": {
            "text/plain": [
              "['USD_Raised',\n",
              " 'EndTime',\n",
              " 'Token_Price',\n",
              " 'Current_Price',\n",
              " 'Telegram',\n",
              " 'Hype',\n",
              " 'Rating',\n",
              " 'eth_price',\n",
              " 'AI',\n",
              " 'Banking',\n",
              " 'Ecommerce',\n",
              " 'Entertainment',\n",
              " 'Government',\n",
              " 'Healthcare',\n",
              " 'Real Estate',\n",
              " 'Trading',\n",
              " 'Application',\n",
              " 'Exchange',\n",
              " 'Framework',\n",
              " 'Infrastructure',\n",
              " 'Utility']"
            ]
          },
          "metadata": {
            "tags": []
          },
          "execution_count": 130
        }
      ]
    },
    {
      "metadata": {
        "id": "OuN8SZfqVNPO",
        "colab_type": "code",
        "outputId": "a98be928-a1c9-4b63-d1f4-55e887e5737e",
        "colab": {
          "base_uri": "https://localhost:8080/",
          "height": 3696
        }
      },
      "cell_type": "code",
      "source": [
        "#Baseline Model\n",
        "\n",
        "NN_model = Sequential()\n",
        "\n",
        "NN_model.add(Dense(200, input_dim=X_train.shape[1], kernel_initializer='normal', activation='relu'))\n",
        "#NN_model.add(Dropout(rate=0.5))\n",
        "NN_model.add(Dense(100, kernel_initializer='normal', activation='relu'))\n",
        "#NN_model.add(Dropout(rate=0.5))\n",
        "NN_model.add(Dense(100, kernel_initializer='normal', activation='relu'))\n",
        "\n",
        "NN_model.add(Dense(50, kernel_initializer='normal', activation='relu'))\n",
        "\n",
        "# The Output Layer :\n",
        "NN_model.add(Dense(ico_class_y.shape[1], kernel_initializer='normal',activation='softmax'))\n",
        "\n",
        "# Compile the network :\n",
        "NN_model.compile(loss='categorical_crossentropy', optimizer='rmsprop', metrics=['accuracy'])\n",
        "NN_model.summary()\n",
        "\n",
        "checkpoint_name = '/content/drive/My Drive/Colab Notebooks/Weights.hdf5' \n",
        "checkpoint = ModelCheckpoint(checkpoint_name, monitor='val_loss', verbose = 1, save_best_only = True, mode ='auto')\n",
        "earlystopping = EarlyStopping(monitor='val_loss', min_delta=0.0001, patience=10, verbose=0, mode='auto')\n",
        "callbacks_list = [checkpoint, earlystopping]\n",
        "\n",
        "# fit network\n",
        "NN_model.fit(X_train, Y_train, epochs=100, batch_size=64, validation_split = 0.1, verbose=2, callbacks=callbacks_list)"
      ],
      "execution_count": 0,
      "outputs": [
        {
          "output_type": "stream",
          "text": [
            "_________________________________________________________________\n",
            "Layer (type)                 Output Shape              Param #   \n",
            "=================================================================\n",
            "dense_10 (Dense)             (None, 200)               4400      \n",
            "_________________________________________________________________\n",
            "dense_11 (Dense)             (None, 100)               20100     \n",
            "_________________________________________________________________\n",
            "dense_12 (Dense)             (None, 100)               10100     \n",
            "_________________________________________________________________\n",
            "dense_13 (Dense)             (None, 50)                5050      \n",
            "_________________________________________________________________\n",
            "dense_14 (Dense)             (None, 5)                 255       \n",
            "=================================================================\n",
            "Total params: 39,905\n",
            "Trainable params: 39,905\n",
            "Non-trainable params: 0\n",
            "_________________________________________________________________\n",
            "Train on 25803 samples, validate on 2867 samples\n",
            "Epoch 1/50\n",
            " - 3s - loss: 1.5517 - acc: 0.2676 - val_loss: 1.5321 - val_acc: 0.2836\n",
            "\n",
            "Epoch 00001: val_loss improved from inf to 1.53207, saving model to /content/drive/My Drive/Colab Notebooks/Weights.hdf5\n",
            "Epoch 2/50\n",
            " - 2s - loss: 1.5180 - acc: 0.2980 - val_loss: 1.4895 - val_acc: 0.3219\n",
            "\n",
            "Epoch 00002: val_loss improved from 1.53207 to 1.48953, saving model to /content/drive/My Drive/Colab Notebooks/Weights.hdf5\n",
            "Epoch 3/50\n",
            " - 2s - loss: 1.4722 - acc: 0.3314 - val_loss: 1.5196 - val_acc: 0.3007\n",
            "\n",
            "Epoch 00003: val_loss did not improve from 1.48953\n",
            "Epoch 4/50\n",
            " - 2s - loss: 1.4256 - acc: 0.3633 - val_loss: 1.4068 - val_acc: 0.3718\n",
            "\n",
            "Epoch 00004: val_loss improved from 1.48953 to 1.40684, saving model to /content/drive/My Drive/Colab Notebooks/Weights.hdf5\n",
            "Epoch 5/50\n",
            " - 2s - loss: 1.3708 - acc: 0.3959 - val_loss: 1.3770 - val_acc: 0.3980\n",
            "\n",
            "Epoch 00005: val_loss improved from 1.40684 to 1.37697, saving model to /content/drive/My Drive/Colab Notebooks/Weights.hdf5\n",
            "Epoch 6/50\n",
            " - 2s - loss: 1.3133 - acc: 0.4298 - val_loss: 1.3041 - val_acc: 0.4360\n",
            "\n",
            "Epoch 00006: val_loss improved from 1.37697 to 1.30411, saving model to /content/drive/My Drive/Colab Notebooks/Weights.hdf5\n",
            "Epoch 7/50\n",
            " - 2s - loss: 1.2620 - acc: 0.4548 - val_loss: 1.3686 - val_acc: 0.4015\n",
            "\n",
            "Epoch 00007: val_loss did not improve from 1.30411\n",
            "Epoch 8/50\n",
            " - 2s - loss: 1.2144 - acc: 0.4807 - val_loss: 1.2890 - val_acc: 0.4503\n",
            "\n",
            "Epoch 00008: val_loss improved from 1.30411 to 1.28895, saving model to /content/drive/My Drive/Colab Notebooks/Weights.hdf5\n",
            "Epoch 9/50\n",
            " - 2s - loss: 1.1720 - acc: 0.5032 - val_loss: 1.2569 - val_acc: 0.4517\n",
            "\n",
            "Epoch 00009: val_loss improved from 1.28895 to 1.25691, saving model to /content/drive/My Drive/Colab Notebooks/Weights.hdf5\n",
            "Epoch 10/50\n",
            " - 3s - loss: 1.1304 - acc: 0.5203 - val_loss: 1.2370 - val_acc: 0.4674\n",
            "\n",
            "Epoch 00010: val_loss improved from 1.25691 to 1.23698, saving model to /content/drive/My Drive/Colab Notebooks/Weights.hdf5\n",
            "Epoch 11/50\n",
            " - 3s - loss: 1.0899 - acc: 0.5429 - val_loss: 1.2516 - val_acc: 0.4580\n",
            "\n",
            "Epoch 00011: val_loss did not improve from 1.23698\n",
            "Epoch 12/50\n",
            " - 3s - loss: 1.0568 - acc: 0.5616 - val_loss: 1.1194 - val_acc: 0.5194\n",
            "\n",
            "Epoch 00012: val_loss improved from 1.23698 to 1.11940, saving model to /content/drive/My Drive/Colab Notebooks/Weights.hdf5\n",
            "Epoch 13/50\n",
            " - 3s - loss: 1.0190 - acc: 0.5802 - val_loss: 1.2034 - val_acc: 0.5131\n",
            "\n",
            "Epoch 00013: val_loss did not improve from 1.11940\n",
            "Epoch 14/50\n",
            " - 2s - loss: 0.9885 - acc: 0.5987 - val_loss: 1.1517 - val_acc: 0.5302\n",
            "\n",
            "Epoch 00014: val_loss did not improve from 1.11940\n",
            "Epoch 15/50\n",
            " - 2s - loss: 0.9572 - acc: 0.6072 - val_loss: 1.0931 - val_acc: 0.5595\n",
            "\n",
            "Epoch 00015: val_loss improved from 1.11940 to 1.09313, saving model to /content/drive/My Drive/Colab Notebooks/Weights.hdf5\n",
            "Epoch 16/50\n",
            " - 2s - loss: 0.9269 - acc: 0.6232 - val_loss: 1.2432 - val_acc: 0.5141\n",
            "\n",
            "Epoch 00016: val_loss did not improve from 1.09313\n",
            "Epoch 17/50\n",
            " - 2s - loss: 0.9006 - acc: 0.6347 - val_loss: 1.0113 - val_acc: 0.5846\n",
            "\n",
            "Epoch 00017: val_loss improved from 1.09313 to 1.01133, saving model to /content/drive/My Drive/Colab Notebooks/Weights.hdf5\n",
            "Epoch 18/50\n",
            " - 2s - loss: 0.8669 - acc: 0.6536 - val_loss: 0.9879 - val_acc: 0.6076\n",
            "\n",
            "Epoch 00018: val_loss improved from 1.01133 to 0.98790, saving model to /content/drive/My Drive/Colab Notebooks/Weights.hdf5\n",
            "Epoch 19/50\n",
            " - 2s - loss: 0.8468 - acc: 0.6626 - val_loss: 1.0685 - val_acc: 0.5794\n",
            "\n",
            "Epoch 00019: val_loss did not improve from 0.98790\n",
            "Epoch 20/50\n",
            " - 2s - loss: 0.8178 - acc: 0.6724 - val_loss: 0.9508 - val_acc: 0.6299\n",
            "\n",
            "Epoch 00020: val_loss improved from 0.98790 to 0.95085, saving model to /content/drive/My Drive/Colab Notebooks/Weights.hdf5\n",
            "Epoch 21/50\n",
            " - 2s - loss: 0.7923 - acc: 0.6875 - val_loss: 1.0483 - val_acc: 0.6006\n",
            "\n",
            "Epoch 00021: val_loss did not improve from 0.95085\n",
            "Epoch 22/50\n",
            " - 2s - loss: 0.7714 - acc: 0.6933 - val_loss: 0.9555 - val_acc: 0.6306\n",
            "\n",
            "Epoch 00022: val_loss did not improve from 0.95085\n",
            "Epoch 23/50\n",
            " - 2s - loss: 0.7470 - acc: 0.7027 - val_loss: 0.9299 - val_acc: 0.6327\n",
            "\n",
            "Epoch 00023: val_loss improved from 0.95085 to 0.92985, saving model to /content/drive/My Drive/Colab Notebooks/Weights.hdf5\n",
            "Epoch 24/50\n",
            " - 2s - loss: 0.7246 - acc: 0.7164 - val_loss: 0.8296 - val_acc: 0.6714\n",
            "\n",
            "Epoch 00024: val_loss improved from 0.92985 to 0.82956, saving model to /content/drive/My Drive/Colab Notebooks/Weights.hdf5\n",
            "Epoch 25/50\n",
            " - 2s - loss: 0.7074 - acc: 0.7209 - val_loss: 0.8589 - val_acc: 0.6732\n",
            "\n",
            "Epoch 00025: val_loss did not improve from 0.82956\n",
            "Epoch 26/50\n",
            " - 2s - loss: 0.6920 - acc: 0.7272 - val_loss: 0.9209 - val_acc: 0.6352\n",
            "\n",
            "Epoch 00026: val_loss did not improve from 0.82956\n",
            "Epoch 27/50\n",
            " - 2s - loss: 0.6740 - acc: 0.7367 - val_loss: 1.0233 - val_acc: 0.6275\n",
            "\n",
            "Epoch 00027: val_loss did not improve from 0.82956\n",
            "Epoch 28/50\n",
            " - 2s - loss: 0.6590 - acc: 0.7422 - val_loss: 0.9261 - val_acc: 0.6693\n",
            "\n",
            "Epoch 00028: val_loss did not improve from 0.82956\n",
            "Epoch 29/50\n",
            " - 2s - loss: 0.6398 - acc: 0.7500 - val_loss: 0.8240 - val_acc: 0.6857\n",
            "\n",
            "Epoch 00029: val_loss improved from 0.82956 to 0.82397, saving model to /content/drive/My Drive/Colab Notebooks/Weights.hdf5\n",
            "Epoch 30/50\n",
            " - 2s - loss: 0.6267 - acc: 0.7537 - val_loss: 0.7998 - val_acc: 0.7067\n",
            "\n",
            "Epoch 00030: val_loss improved from 0.82397 to 0.79982, saving model to /content/drive/My Drive/Colab Notebooks/Weights.hdf5\n",
            "Epoch 31/50\n",
            " - 2s - loss: 0.6116 - acc: 0.7629 - val_loss: 0.8633 - val_acc: 0.6732\n",
            "\n",
            "Epoch 00031: val_loss did not improve from 0.79982\n",
            "Epoch 32/50\n",
            " - 2s - loss: 0.5965 - acc: 0.7707 - val_loss: 0.8865 - val_acc: 0.6833\n",
            "\n",
            "Epoch 00032: val_loss did not improve from 0.79982\n",
            "Epoch 33/50\n",
            " - 2s - loss: 0.5848 - acc: 0.7743 - val_loss: 0.7614 - val_acc: 0.7227\n",
            "\n",
            "Epoch 00033: val_loss improved from 0.79982 to 0.76141, saving model to /content/drive/My Drive/Colab Notebooks/Weights.hdf5\n",
            "Epoch 34/50\n",
            " - 2s - loss: 0.5760 - acc: 0.7790 - val_loss: 0.9002 - val_acc: 0.6781\n",
            "\n",
            "Epoch 00034: val_loss did not improve from 0.76141\n",
            "Epoch 35/50\n",
            " - 2s - loss: 0.5613 - acc: 0.7837 - val_loss: 0.7296 - val_acc: 0.7227\n",
            "\n",
            "Epoch 00035: val_loss improved from 0.76141 to 0.72962, saving model to /content/drive/My Drive/Colab Notebooks/Weights.hdf5\n",
            "Epoch 36/50\n",
            " - 2s - loss: 0.5474 - acc: 0.7873 - val_loss: 0.8164 - val_acc: 0.6958\n",
            "\n",
            "Epoch 00036: val_loss did not improve from 0.72962\n",
            "Epoch 37/50\n",
            " - 2s - loss: 0.5402 - acc: 0.7912 - val_loss: 0.7325 - val_acc: 0.7203\n",
            "\n",
            "Epoch 00037: val_loss did not improve from 0.72962\n",
            "Epoch 38/50\n",
            " - 2s - loss: 0.5321 - acc: 0.7945 - val_loss: 0.7006 - val_acc: 0.7328\n",
            "\n",
            "Epoch 00038: val_loss improved from 0.72962 to 0.70056, saving model to /content/drive/My Drive/Colab Notebooks/Weights.hdf5\n",
            "Epoch 39/50\n",
            " - 2s - loss: 0.5193 - acc: 0.7991 - val_loss: 0.7233 - val_acc: 0.7314\n",
            "\n",
            "Epoch 00039: val_loss did not improve from 0.70056\n",
            "Epoch 40/50\n",
            " - 2s - loss: 0.5157 - acc: 0.8018 - val_loss: 0.9356 - val_acc: 0.6690\n",
            "\n",
            "Epoch 00040: val_loss did not improve from 0.70056\n",
            "Epoch 41/50\n",
            " - 2s - loss: 0.5045 - acc: 0.8053 - val_loss: 0.6593 - val_acc: 0.7527\n",
            "\n",
            "Epoch 00041: val_loss improved from 0.70056 to 0.65932, saving model to /content/drive/My Drive/Colab Notebooks/Weights.hdf5\n",
            "Epoch 42/50\n",
            " - 2s - loss: 0.4982 - acc: 0.8070 - val_loss: 0.8318 - val_acc: 0.7084\n",
            "\n",
            "Epoch 00042: val_loss did not improve from 0.65932\n",
            "Epoch 43/50\n",
            " - 2s - loss: 0.4896 - acc: 0.8103 - val_loss: 0.7137 - val_acc: 0.7360\n",
            "\n",
            "Epoch 00043: val_loss did not improve from 0.65932\n",
            "Epoch 44/50\n",
            " - 2s - loss: 0.4838 - acc: 0.8133 - val_loss: 0.7083 - val_acc: 0.7342\n",
            "\n",
            "Epoch 00044: val_loss did not improve from 0.65932\n",
            "Epoch 45/50\n",
            " - 2s - loss: 0.4746 - acc: 0.8132 - val_loss: 0.7538 - val_acc: 0.7192\n",
            "\n",
            "Epoch 00045: val_loss did not improve from 0.65932\n",
            "Epoch 46/50\n",
            " - 2s - loss: 0.4667 - acc: 0.8195 - val_loss: 0.6540 - val_acc: 0.7555\n",
            "\n",
            "Epoch 00046: val_loss improved from 0.65932 to 0.65403, saving model to /content/drive/My Drive/Colab Notebooks/Weights.hdf5\n",
            "Epoch 47/50\n",
            " - 2s - loss: 0.4652 - acc: 0.8192 - val_loss: 0.6615 - val_acc: 0.7443\n",
            "\n",
            "Epoch 00047: val_loss did not improve from 0.65403\n",
            "Epoch 48/50\n",
            " - 2s - loss: 0.4564 - acc: 0.8235 - val_loss: 0.7040 - val_acc: 0.7388\n",
            "\n",
            "Epoch 00048: val_loss did not improve from 0.65403\n",
            "Epoch 49/50\n",
            " - 2s - loss: 0.4478 - acc: 0.8266 - val_loss: 0.7200 - val_acc: 0.7450\n",
            "\n",
            "Epoch 00049: val_loss did not improve from 0.65403\n",
            "Epoch 50/50\n",
            " - 2s - loss: 0.4440 - acc: 0.8259 - val_loss: 0.6811 - val_acc: 0.7513\n",
            "\n",
            "Epoch 00050: val_loss did not improve from 0.65403\n"
          ],
          "name": "stdout"
        },
        {
          "output_type": "execute_result",
          "data": {
            "text/plain": [
              "<keras.callbacks.History at 0x7fb6763b1fd0>"
            ]
          },
          "metadata": {
            "tags": []
          },
          "execution_count": 132
        }
      ]
    },
    {
      "metadata": {
        "id": "qiozHDPNYCuE",
        "colab_type": "code",
        "outputId": "ec1fe245-18d9-4297-abf0-ba1f78b67d56",
        "colab": {
          "base_uri": "https://localhost:8080/",
          "height": 7157
        }
      },
      "cell_type": "code",
      "source": [
        "#With Dropout\n",
        "\n",
        "NN_model1 = Sequential()\n",
        "\n",
        "NN_model1.add(Dense(200, input_dim=X_train.shape[1], kernel_initializer='normal', activation='relu'))\n",
        "NN_model1.add(Dropout(rate=0.1))\n",
        "NN_model1.add(Dense(100, kernel_initializer='normal', activation='relu'))\n",
        "NN_model1.add(Dropout(rate=0.1))\n",
        "NN_model1.add(Dense(100, kernel_initializer='normal', activation='relu'))\n",
        "NN_model1.add(Dropout(rate=0.1))\n",
        "NN_model1.add(Dense(50, kernel_initializer='normal', activation='relu'))\n",
        "\n",
        "# The Output Layer :\n",
        "NN_model1.add(Dense(ico_class_y.shape[1], kernel_initializer='normal',activation='softmax'))\n",
        "\n",
        "# Compile the network :\n",
        "NN_model1.compile(loss='categorical_crossentropy', optimizer='rmsprop', metrics=['accuracy'])\n",
        "NN_model1.summary()\n",
        "\n",
        "checkpoint_name = '/content/drive/My Drive/Colab Notebooks/Weights.hdf5' \n",
        "checkpoint = ModelCheckpoint(checkpoint_name, monitor='val_loss', verbose = 1, save_best_only = True, mode ='auto')\n",
        "earlystopping = EarlyStopping(monitor='val_loss', min_delta=0.0001, patience=10, verbose=0, mode='auto')\n",
        "callbacks_list = [checkpoint, earlystopping]\n",
        "\n",
        "# fit network\n",
        "NN_model1.fit(X_train, Y_train, epochs=100, batch_size=64, validation_split = 0.1, verbose=2, callbacks=callbacks_list)"
      ],
      "execution_count": 0,
      "outputs": [
        {
          "output_type": "stream",
          "text": [
            "_________________________________________________________________\n",
            "Layer (type)                 Output Shape              Param #   \n",
            "=================================================================\n",
            "dense_24 (Dense)             (None, 200)               4400      \n",
            "_________________________________________________________________\n",
            "dropout_8 (Dropout)          (None, 200)               0         \n",
            "_________________________________________________________________\n",
            "dense_25 (Dense)             (None, 100)               20100     \n",
            "_________________________________________________________________\n",
            "dropout_9 (Dropout)          (None, 100)               0         \n",
            "_________________________________________________________________\n",
            "dense_26 (Dense)             (None, 100)               10100     \n",
            "_________________________________________________________________\n",
            "dropout_10 (Dropout)         (None, 100)               0         \n",
            "_________________________________________________________________\n",
            "dense_27 (Dense)             (None, 50)                5050      \n",
            "_________________________________________________________________\n",
            "dense_28 (Dense)             (None, 5)                 255       \n",
            "=================================================================\n",
            "Total params: 39,905\n",
            "Trainable params: 39,905\n",
            "Non-trainable params: 0\n",
            "_________________________________________________________________\n",
            "Train on 25803 samples, validate on 2867 samples\n",
            "Epoch 1/100\n",
            " - 3s - loss: 1.5543 - acc: 0.2597 - val_loss: 1.5397 - val_acc: 0.2682\n",
            "\n",
            "Epoch 00001: val_loss improved from inf to 1.53975, saving model to /content/drive/My Drive/Colab Notebooks/Weights.hdf5\n",
            "Epoch 2/100\n",
            " - 3s - loss: 1.5308 - acc: 0.2906 - val_loss: 1.5065 - val_acc: 0.3104\n",
            "\n",
            "Epoch 00002: val_loss improved from 1.53975 to 1.50652, saving model to /content/drive/My Drive/Colab Notebooks/Weights.hdf5\n",
            "Epoch 3/100\n",
            " - 3s - loss: 1.4998 - acc: 0.3134 - val_loss: 1.4737 - val_acc: 0.3362\n",
            "\n",
            "Epoch 00003: val_loss improved from 1.50652 to 1.47367, saving model to /content/drive/My Drive/Colab Notebooks/Weights.hdf5\n",
            "Epoch 4/100\n",
            " - 3s - loss: 1.4702 - acc: 0.3317 - val_loss: 1.4463 - val_acc: 0.3540\n",
            "\n",
            "Epoch 00004: val_loss improved from 1.47367 to 1.44635, saving model to /content/drive/My Drive/Colab Notebooks/Weights.hdf5\n",
            "Epoch 5/100\n",
            " - 3s - loss: 1.4437 - acc: 0.3467 - val_loss: 1.4164 - val_acc: 0.3701\n",
            "\n",
            "Epoch 00005: val_loss improved from 1.44635 to 1.41645, saving model to /content/drive/My Drive/Colab Notebooks/Weights.hdf5\n",
            "Epoch 6/100\n",
            " - 3s - loss: 1.4158 - acc: 0.3645 - val_loss: 1.3888 - val_acc: 0.3847\n",
            "\n",
            "Epoch 00006: val_loss improved from 1.41645 to 1.38876, saving model to /content/drive/My Drive/Colab Notebooks/Weights.hdf5\n",
            "Epoch 7/100\n",
            " - 3s - loss: 1.3850 - acc: 0.3822 - val_loss: 1.3604 - val_acc: 0.4015\n",
            "\n",
            "Epoch 00007: val_loss improved from 1.38876 to 1.36040, saving model to /content/drive/My Drive/Colab Notebooks/Weights.hdf5\n",
            "Epoch 8/100\n",
            " - 3s - loss: 1.3490 - acc: 0.4069 - val_loss: 1.3199 - val_acc: 0.4259\n",
            "\n",
            "Epoch 00008: val_loss improved from 1.36040 to 1.31987, saving model to /content/drive/My Drive/Colab Notebooks/Weights.hdf5\n",
            "Epoch 9/100\n",
            " - 3s - loss: 1.3186 - acc: 0.4230 - val_loss: 1.2986 - val_acc: 0.4248\n",
            "\n",
            "Epoch 00009: val_loss improved from 1.31987 to 1.29856, saving model to /content/drive/My Drive/Colab Notebooks/Weights.hdf5\n",
            "Epoch 10/100\n",
            " - 3s - loss: 1.2892 - acc: 0.4377 - val_loss: 1.2696 - val_acc: 0.4437\n",
            "\n",
            "Epoch 00010: val_loss improved from 1.29856 to 1.26955, saving model to /content/drive/My Drive/Colab Notebooks/Weights.hdf5\n",
            "Epoch 11/100\n",
            " - 3s - loss: 1.2633 - acc: 0.4512 - val_loss: 1.2406 - val_acc: 0.4482\n",
            "\n",
            "Epoch 00011: val_loss improved from 1.26955 to 1.24058, saving model to /content/drive/My Drive/Colab Notebooks/Weights.hdf5\n",
            "Epoch 12/100\n",
            " - 3s - loss: 1.2300 - acc: 0.4701 - val_loss: 1.1983 - val_acc: 0.4932\n",
            "\n",
            "Epoch 00012: val_loss improved from 1.24058 to 1.19833, saving model to /content/drive/My Drive/Colab Notebooks/Weights.hdf5\n",
            "Epoch 13/100\n",
            " - 3s - loss: 1.2057 - acc: 0.4832 - val_loss: 1.1678 - val_acc: 0.5002\n",
            "\n",
            "Epoch 00013: val_loss improved from 1.19833 to 1.16781, saving model to /content/drive/My Drive/Colab Notebooks/Weights.hdf5\n",
            "Epoch 14/100\n",
            " - 3s - loss: 1.1792 - acc: 0.4992 - val_loss: 1.1251 - val_acc: 0.5239\n",
            "\n",
            "Epoch 00014: val_loss improved from 1.16781 to 1.12513, saving model to /content/drive/My Drive/Colab Notebooks/Weights.hdf5\n",
            "Epoch 15/100\n",
            " - 3s - loss: 1.1562 - acc: 0.5091 - val_loss: 1.1082 - val_acc: 0.5284\n",
            "\n",
            "Epoch 00015: val_loss improved from 1.12513 to 1.10822, saving model to /content/drive/My Drive/Colab Notebooks/Weights.hdf5\n",
            "Epoch 16/100\n",
            " - 3s - loss: 1.1353 - acc: 0.5197 - val_loss: 1.0810 - val_acc: 0.5455\n",
            "\n",
            "Epoch 00016: val_loss improved from 1.10822 to 1.08100, saving model to /content/drive/My Drive/Colab Notebooks/Weights.hdf5\n",
            "Epoch 17/100\n",
            " - 3s - loss: 1.1085 - acc: 0.5339 - val_loss: 1.0583 - val_acc: 0.5553\n",
            "\n",
            "Epoch 00017: val_loss improved from 1.08100 to 1.05829, saving model to /content/drive/My Drive/Colab Notebooks/Weights.hdf5\n",
            "Epoch 18/100\n",
            " - 3s - loss: 1.0862 - acc: 0.5455 - val_loss: 1.0280 - val_acc: 0.5623\n",
            "\n",
            "Epoch 00018: val_loss improved from 1.05829 to 1.02798, saving model to /content/drive/My Drive/Colab Notebooks/Weights.hdf5\n",
            "Epoch 19/100\n",
            " - 3s - loss: 1.0686 - acc: 0.5533 - val_loss: 0.9904 - val_acc: 0.5912\n",
            "\n",
            "Epoch 00019: val_loss improved from 1.02798 to 0.99041, saving model to /content/drive/My Drive/Colab Notebooks/Weights.hdf5\n",
            "Epoch 20/100\n",
            " - 3s - loss: 1.0450 - acc: 0.5680 - val_loss: 0.9795 - val_acc: 0.5923\n",
            "\n",
            "Epoch 00020: val_loss improved from 0.99041 to 0.97948, saving model to /content/drive/My Drive/Colab Notebooks/Weights.hdf5\n",
            "Epoch 21/100\n",
            " - 3s - loss: 1.0239 - acc: 0.5730 - val_loss: 0.9684 - val_acc: 0.5971\n",
            "\n",
            "Epoch 00021: val_loss improved from 0.97948 to 0.96837, saving model to /content/drive/My Drive/Colab Notebooks/Weights.hdf5\n",
            "Epoch 22/100\n",
            " - 3s - loss: 1.0067 - acc: 0.5845 - val_loss: 0.9390 - val_acc: 0.6205\n",
            "\n",
            "Epoch 00022: val_loss improved from 0.96837 to 0.93905, saving model to /content/drive/My Drive/Colab Notebooks/Weights.hdf5\n",
            "Epoch 23/100\n",
            " - 3s - loss: 0.9879 - acc: 0.5922 - val_loss: 0.9115 - val_acc: 0.6243\n",
            "\n",
            "Epoch 00023: val_loss improved from 0.93905 to 0.91150, saving model to /content/drive/My Drive/Colab Notebooks/Weights.hdf5\n",
            "Epoch 24/100\n",
            " - 3s - loss: 0.9745 - acc: 0.6005 - val_loss: 0.8867 - val_acc: 0.6477\n",
            "\n",
            "Epoch 00024: val_loss improved from 0.91150 to 0.88672, saving model to /content/drive/My Drive/Colab Notebooks/Weights.hdf5\n",
            "Epoch 25/100\n",
            " - 3s - loss: 0.9586 - acc: 0.6064 - val_loss: 0.9058 - val_acc: 0.6390\n",
            "\n",
            "Epoch 00025: val_loss did not improve from 0.88672\n",
            "Epoch 26/100\n",
            " - 3s - loss: 0.9455 - acc: 0.6152 - val_loss: 0.8692 - val_acc: 0.6516\n",
            "\n",
            "Epoch 00026: val_loss improved from 0.88672 to 0.86923, saving model to /content/drive/My Drive/Colab Notebooks/Weights.hdf5\n",
            "Epoch 27/100\n",
            " - 3s - loss: 0.9328 - acc: 0.6196 - val_loss: 0.8300 - val_acc: 0.6672\n",
            "\n",
            "Epoch 00027: val_loss improved from 0.86923 to 0.82995, saving model to /content/drive/My Drive/Colab Notebooks/Weights.hdf5\n",
            "Epoch 28/100\n",
            " - 3s - loss: 0.9181 - acc: 0.6265 - val_loss: 0.8092 - val_acc: 0.6742\n",
            "\n",
            "Epoch 00028: val_loss improved from 0.82995 to 0.80922, saving model to /content/drive/My Drive/Colab Notebooks/Weights.hdf5\n",
            "Epoch 29/100\n",
            " - 3s - loss: 0.8988 - acc: 0.6350 - val_loss: 0.7951 - val_acc: 0.6829\n",
            "\n",
            "Epoch 00029: val_loss improved from 0.80922 to 0.79509, saving model to /content/drive/My Drive/Colab Notebooks/Weights.hdf5\n",
            "Epoch 30/100\n",
            " - 3s - loss: 0.8865 - acc: 0.6415 - val_loss: 0.7926 - val_acc: 0.6885\n",
            "\n",
            "Epoch 00030: val_loss improved from 0.79509 to 0.79259, saving model to /content/drive/My Drive/Colab Notebooks/Weights.hdf5\n",
            "Epoch 31/100\n",
            " - 3s - loss: 0.8766 - acc: 0.6468 - val_loss: 0.7668 - val_acc: 0.6972\n",
            "\n",
            "Epoch 00031: val_loss improved from 0.79259 to 0.76685, saving model to /content/drive/My Drive/Colab Notebooks/Weights.hdf5\n",
            "Epoch 32/100\n",
            " - 3s - loss: 0.8647 - acc: 0.6503 - val_loss: 0.7285 - val_acc: 0.7192\n",
            "\n",
            "Epoch 00032: val_loss improved from 0.76685 to 0.72846, saving model to /content/drive/My Drive/Colab Notebooks/Weights.hdf5\n",
            "Epoch 33/100\n",
            " - 3s - loss: 0.8521 - acc: 0.6579 - val_loss: 0.7422 - val_acc: 0.7112\n",
            "\n",
            "Epoch 00033: val_loss did not improve from 0.72846\n",
            "Epoch 34/100\n",
            " - 3s - loss: 0.8451 - acc: 0.6608 - val_loss: 0.7205 - val_acc: 0.7161\n",
            "\n",
            "Epoch 00034: val_loss improved from 0.72846 to 0.72051, saving model to /content/drive/My Drive/Colab Notebooks/Weights.hdf5\n",
            "Epoch 35/100\n",
            " - 3s - loss: 0.8325 - acc: 0.6649 - val_loss: 0.7282 - val_acc: 0.7164\n",
            "\n",
            "Epoch 00035: val_loss did not improve from 0.72051\n",
            "Epoch 36/100\n",
            " - 3s - loss: 0.8272 - acc: 0.6696 - val_loss: 0.7006 - val_acc: 0.7245\n",
            "\n",
            "Epoch 00036: val_loss improved from 0.72051 to 0.70058, saving model to /content/drive/My Drive/Colab Notebooks/Weights.hdf5\n",
            "Epoch 37/100\n",
            " - 3s - loss: 0.8178 - acc: 0.6707 - val_loss: 0.6818 - val_acc: 0.7401\n",
            "\n",
            "Epoch 00037: val_loss improved from 0.70058 to 0.68182, saving model to /content/drive/My Drive/Colab Notebooks/Weights.hdf5\n",
            "Epoch 38/100\n",
            " - 3s - loss: 0.8094 - acc: 0.6750 - val_loss: 0.6849 - val_acc: 0.7367\n",
            "\n",
            "Epoch 00038: val_loss did not improve from 0.68182\n",
            "Epoch 39/100\n",
            " - 3s - loss: 0.7986 - acc: 0.6804 - val_loss: 0.6774 - val_acc: 0.7440\n",
            "\n",
            "Epoch 00039: val_loss improved from 0.68182 to 0.67737, saving model to /content/drive/My Drive/Colab Notebooks/Weights.hdf5\n",
            "Epoch 40/100\n",
            " - 3s - loss: 0.7862 - acc: 0.6837 - val_loss: 0.6694 - val_acc: 0.7356\n",
            "\n",
            "Epoch 00040: val_loss improved from 0.67737 to 0.66943, saving model to /content/drive/My Drive/Colab Notebooks/Weights.hdf5\n",
            "Epoch 41/100\n",
            " - 3s - loss: 0.7807 - acc: 0.6896 - val_loss: 0.6600 - val_acc: 0.7426\n",
            "\n",
            "Epoch 00041: val_loss improved from 0.66943 to 0.66002, saving model to /content/drive/My Drive/Colab Notebooks/Weights.hdf5\n",
            "Epoch 42/100\n",
            " - 3s - loss: 0.7698 - acc: 0.6950 - val_loss: 0.6586 - val_acc: 0.7433\n",
            "\n",
            "Epoch 00042: val_loss improved from 0.66002 to 0.65861, saving model to /content/drive/My Drive/Colab Notebooks/Weights.hdf5\n",
            "Epoch 43/100\n",
            " - 3s - loss: 0.7691 - acc: 0.6943 - val_loss: 0.6359 - val_acc: 0.7593\n",
            "\n",
            "Epoch 00043: val_loss improved from 0.65861 to 0.63592, saving model to /content/drive/My Drive/Colab Notebooks/Weights.hdf5\n",
            "Epoch 44/100\n",
            " - 3s - loss: 0.7574 - acc: 0.7003 - val_loss: 0.6478 - val_acc: 0.7531\n",
            "\n",
            "Epoch 00044: val_loss did not improve from 0.63592\n",
            "Epoch 45/100\n",
            " - 3s - loss: 0.7510 - acc: 0.7021 - val_loss: 0.6242 - val_acc: 0.7621\n",
            "\n",
            "Epoch 00045: val_loss improved from 0.63592 to 0.62421, saving model to /content/drive/My Drive/Colab Notebooks/Weights.hdf5\n",
            "Epoch 46/100\n",
            " - 3s - loss: 0.7441 - acc: 0.7031 - val_loss: 0.6158 - val_acc: 0.7649\n",
            "\n",
            "Epoch 00046: val_loss improved from 0.62421 to 0.61582, saving model to /content/drive/My Drive/Colab Notebooks/Weights.hdf5\n",
            "Epoch 47/100\n",
            " - 3s - loss: 0.7357 - acc: 0.7065 - val_loss: 0.6159 - val_acc: 0.7611\n",
            "\n",
            "Epoch 00047: val_loss did not improve from 0.61582\n",
            "Epoch 48/100\n",
            " - 3s - loss: 0.7294 - acc: 0.7103 - val_loss: 0.6072 - val_acc: 0.7674\n",
            "\n",
            "Epoch 00048: val_loss improved from 0.61582 to 0.60720, saving model to /content/drive/My Drive/Colab Notebooks/Weights.hdf5\n",
            "Epoch 49/100\n",
            " - 3s - loss: 0.7207 - acc: 0.7151 - val_loss: 0.6259 - val_acc: 0.7520\n",
            "\n",
            "Epoch 00049: val_loss did not improve from 0.60720\n",
            "Epoch 50/100\n",
            " - 3s - loss: 0.7209 - acc: 0.7153 - val_loss: 0.6336 - val_acc: 0.7583\n",
            "\n",
            "Epoch 00050: val_loss did not improve from 0.60720\n",
            "Epoch 51/100\n",
            " - 3s - loss: 0.7181 - acc: 0.7145 - val_loss: 0.5762 - val_acc: 0.7806\n",
            "\n",
            "Epoch 00051: val_loss improved from 0.60720 to 0.57617, saving model to /content/drive/My Drive/Colab Notebooks/Weights.hdf5\n",
            "Epoch 52/100\n",
            " - 3s - loss: 0.7088 - acc: 0.7205 - val_loss: 0.6056 - val_acc: 0.7590\n",
            "\n",
            "Epoch 00052: val_loss did not improve from 0.57617\n",
            "Epoch 53/100\n",
            " - 3s - loss: 0.7035 - acc: 0.7229 - val_loss: 0.5671 - val_acc: 0.7796\n",
            "\n",
            "Epoch 00053: val_loss improved from 0.57617 to 0.56705, saving model to /content/drive/My Drive/Colab Notebooks/Weights.hdf5\n",
            "Epoch 54/100\n",
            " - 3s - loss: 0.7017 - acc: 0.7248 - val_loss: 0.5623 - val_acc: 0.7827\n",
            "\n",
            "Epoch 00054: val_loss improved from 0.56705 to 0.56234, saving model to /content/drive/My Drive/Colab Notebooks/Weights.hdf5\n",
            "Epoch 55/100\n",
            " - 3s - loss: 0.6897 - acc: 0.7278 - val_loss: 0.5638 - val_acc: 0.7764\n",
            "\n",
            "Epoch 00055: val_loss did not improve from 0.56234\n",
            "Epoch 56/100\n",
            " - 3s - loss: 0.6818 - acc: 0.7298 - val_loss: 0.5566 - val_acc: 0.7820\n",
            "\n",
            "Epoch 00056: val_loss improved from 0.56234 to 0.55663, saving model to /content/drive/My Drive/Colab Notebooks/Weights.hdf5\n",
            "Epoch 57/100\n",
            " - 3s - loss: 0.6762 - acc: 0.7333 - val_loss: 0.5441 - val_acc: 0.7904\n",
            "\n",
            "Epoch 00057: val_loss improved from 0.55663 to 0.54405, saving model to /content/drive/My Drive/Colab Notebooks/Weights.hdf5\n",
            "Epoch 58/100\n",
            " - 3s - loss: 0.6846 - acc: 0.7310 - val_loss: 0.5347 - val_acc: 0.7946\n",
            "\n",
            "Epoch 00058: val_loss improved from 0.54405 to 0.53469, saving model to /content/drive/My Drive/Colab Notebooks/Weights.hdf5\n",
            "Epoch 59/100\n",
            " - 3s - loss: 0.6656 - acc: 0.7391 - val_loss: 0.5304 - val_acc: 0.7939\n",
            "\n",
            "Epoch 00059: val_loss improved from 0.53469 to 0.53040, saving model to /content/drive/My Drive/Colab Notebooks/Weights.hdf5\n",
            "Epoch 60/100\n",
            " - 3s - loss: 0.6714 - acc: 0.7367 - val_loss: 0.5482 - val_acc: 0.7813\n",
            "\n",
            "Epoch 00060: val_loss did not improve from 0.53040\n",
            "Epoch 61/100\n",
            " - 3s - loss: 0.6635 - acc: 0.7387 - val_loss: 0.5279 - val_acc: 0.8026\n",
            "\n",
            "Epoch 00061: val_loss improved from 0.53040 to 0.52788, saving model to /content/drive/My Drive/Colab Notebooks/Weights.hdf5\n",
            "Epoch 62/100\n",
            " - 3s - loss: 0.6627 - acc: 0.7408 - val_loss: 0.5569 - val_acc: 0.7806\n",
            "\n",
            "Epoch 00062: val_loss did not improve from 0.52788\n",
            "Epoch 63/100\n",
            " - 3s - loss: 0.6590 - acc: 0.7401 - val_loss: 0.5351 - val_acc: 0.7911\n",
            "\n",
            "Epoch 00063: val_loss did not improve from 0.52788\n",
            "Epoch 64/100\n",
            " - 3s - loss: 0.6599 - acc: 0.7376 - val_loss: 0.5315 - val_acc: 0.7904\n",
            "\n",
            "Epoch 00064: val_loss did not improve from 0.52788\n",
            "Epoch 65/100\n",
            " - 3s - loss: 0.6516 - acc: 0.7450 - val_loss: 0.5176 - val_acc: 0.7980\n",
            "\n",
            "Epoch 00065: val_loss improved from 0.52788 to 0.51760, saving model to /content/drive/My Drive/Colab Notebooks/Weights.hdf5\n",
            "Epoch 66/100\n",
            " - 3s - loss: 0.6386 - acc: 0.7466 - val_loss: 0.5273 - val_acc: 0.7921\n",
            "\n",
            "Epoch 00066: val_loss did not improve from 0.51760\n",
            "Epoch 67/100\n",
            " - 3s - loss: 0.6447 - acc: 0.7452 - val_loss: 0.5235 - val_acc: 0.7956\n",
            "\n",
            "Epoch 00067: val_loss did not improve from 0.51760\n",
            "Epoch 68/100\n",
            " - 3s - loss: 0.6420 - acc: 0.7482 - val_loss: 0.5082 - val_acc: 0.8036\n",
            "\n",
            "Epoch 00068: val_loss improved from 0.51760 to 0.50818, saving model to /content/drive/My Drive/Colab Notebooks/Weights.hdf5\n",
            "Epoch 69/100\n",
            " - 3s - loss: 0.6410 - acc: 0.7462 - val_loss: 0.4958 - val_acc: 0.8029\n",
            "\n",
            "Epoch 00069: val_loss improved from 0.50818 to 0.49583, saving model to /content/drive/My Drive/Colab Notebooks/Weights.hdf5\n",
            "Epoch 70/100\n",
            " - 3s - loss: 0.6288 - acc: 0.7549 - val_loss: 0.5143 - val_acc: 0.7998\n",
            "\n",
            "Epoch 00070: val_loss did not improve from 0.49583\n",
            "Epoch 71/100\n",
            " - 3s - loss: 0.6363 - acc: 0.7511 - val_loss: 0.5070 - val_acc: 0.8040\n",
            "\n",
            "Epoch 00071: val_loss did not improve from 0.49583\n",
            "Epoch 72/100\n",
            " - 3s - loss: 0.6307 - acc: 0.7505 - val_loss: 0.5032 - val_acc: 0.8078\n",
            "\n",
            "Epoch 00072: val_loss did not improve from 0.49583\n",
            "Epoch 73/100\n",
            " - 3s - loss: 0.6286 - acc: 0.7520 - val_loss: 0.4995 - val_acc: 0.8008\n",
            "\n",
            "Epoch 00073: val_loss did not improve from 0.49583\n",
            "Epoch 74/100\n",
            " - 3s - loss: 0.6297 - acc: 0.7533 - val_loss: 0.4880 - val_acc: 0.8116\n",
            "\n",
            "Epoch 00074: val_loss improved from 0.49583 to 0.48796, saving model to /content/drive/My Drive/Colab Notebooks/Weights.hdf5\n",
            "Epoch 75/100\n",
            " - 3s - loss: 0.6233 - acc: 0.7547 - val_loss: 0.4673 - val_acc: 0.8190\n",
            "\n",
            "Epoch 00075: val_loss improved from 0.48796 to 0.46727, saving model to /content/drive/My Drive/Colab Notebooks/Weights.hdf5\n",
            "Epoch 76/100\n",
            " - 3s - loss: 0.6207 - acc: 0.7545 - val_loss: 0.4827 - val_acc: 0.8123\n",
            "\n",
            "Epoch 00076: val_loss did not improve from 0.46727\n",
            "Epoch 77/100\n",
            " - 3s - loss: 0.6154 - acc: 0.7573 - val_loss: 0.4719 - val_acc: 0.8190\n",
            "\n",
            "Epoch 00077: val_loss did not improve from 0.46727\n",
            "Epoch 78/100\n",
            " - 3s - loss: 0.6188 - acc: 0.7549 - val_loss: 0.4798 - val_acc: 0.8106\n",
            "\n",
            "Epoch 00078: val_loss did not improve from 0.46727\n",
            "Epoch 79/100\n",
            " - 3s - loss: 0.6082 - acc: 0.7639 - val_loss: 0.4808 - val_acc: 0.8078\n",
            "\n",
            "Epoch 00079: val_loss did not improve from 0.46727\n",
            "Epoch 80/100\n",
            " - 3s - loss: 0.6026 - acc: 0.7653 - val_loss: 0.4692 - val_acc: 0.8106\n",
            "\n",
            "Epoch 00080: val_loss did not improve from 0.46727\n",
            "Epoch 81/100\n",
            " - 3s - loss: 0.6098 - acc: 0.7649 - val_loss: 0.4827 - val_acc: 0.8127\n",
            "\n",
            "Epoch 00081: val_loss did not improve from 0.46727\n",
            "Epoch 82/100\n",
            " - 3s - loss: 0.6013 - acc: 0.7649 - val_loss: 0.4755 - val_acc: 0.8158\n",
            "\n",
            "Epoch 00082: val_loss did not improve from 0.46727\n",
            "Epoch 83/100\n",
            " - 3s - loss: 0.5956 - acc: 0.7661 - val_loss: 0.4608 - val_acc: 0.8197\n",
            "\n",
            "Epoch 00083: val_loss improved from 0.46727 to 0.46079, saving model to /content/drive/My Drive/Colab Notebooks/Weights.hdf5\n",
            "Epoch 84/100\n",
            " - 3s - loss: 0.5930 - acc: 0.7681 - val_loss: 0.4559 - val_acc: 0.8162\n",
            "\n",
            "Epoch 00084: val_loss improved from 0.46079 to 0.45590, saving model to /content/drive/My Drive/Colab Notebooks/Weights.hdf5\n",
            "Epoch 85/100\n",
            " - 3s - loss: 0.5989 - acc: 0.7651 - val_loss: 0.4616 - val_acc: 0.8151\n",
            "\n",
            "Epoch 00085: val_loss did not improve from 0.45590\n",
            "Epoch 86/100\n",
            " - 3s - loss: 0.5936 - acc: 0.7667 - val_loss: 0.4574 - val_acc: 0.8211\n",
            "\n",
            "Epoch 00086: val_loss did not improve from 0.45590\n",
            "Epoch 87/100\n",
            " - 3s - loss: 0.5853 - acc: 0.7711 - val_loss: 0.4493 - val_acc: 0.8200\n",
            "\n",
            "Epoch 00087: val_loss improved from 0.45590 to 0.44933, saving model to /content/drive/My Drive/Colab Notebooks/Weights.hdf5\n",
            "Epoch 88/100\n",
            " - 3s - loss: 0.5868 - acc: 0.7691 - val_loss: 0.4600 - val_acc: 0.8176\n",
            "\n",
            "Epoch 00088: val_loss did not improve from 0.44933\n",
            "Epoch 89/100\n",
            " - 3s - loss: 0.5920 - acc: 0.7686 - val_loss: 0.4595 - val_acc: 0.8284\n",
            "\n",
            "Epoch 00089: val_loss did not improve from 0.44933\n",
            "Epoch 90/100\n",
            " - 3s - loss: 0.5844 - acc: 0.7717 - val_loss: 0.4748 - val_acc: 0.8099\n",
            "\n",
            "Epoch 00090: val_loss did not improve from 0.44933\n",
            "Epoch 91/100\n",
            " - 3s - loss: 0.5817 - acc: 0.7738 - val_loss: 0.4624 - val_acc: 0.8186\n",
            "\n",
            "Epoch 00091: val_loss did not improve from 0.44933\n",
            "Epoch 92/100\n",
            " - 3s - loss: 0.5818 - acc: 0.7761 - val_loss: 0.4655 - val_acc: 0.8183\n",
            "\n",
            "Epoch 00092: val_loss did not improve from 0.44933\n",
            "Epoch 93/100\n",
            " - 3s - loss: 0.5812 - acc: 0.7749 - val_loss: 0.4558 - val_acc: 0.8225\n",
            "\n",
            "Epoch 00093: val_loss did not improve from 0.44933\n",
            "Epoch 94/100\n",
            " - 3s - loss: 0.5677 - acc: 0.7802 - val_loss: 0.4495 - val_acc: 0.8270\n",
            "\n",
            "Epoch 00094: val_loss did not improve from 0.44933\n",
            "Epoch 95/100\n",
            " - 3s - loss: 0.5754 - acc: 0.7772 - val_loss: 0.4657 - val_acc: 0.8158\n",
            "\n",
            "Epoch 00095: val_loss did not improve from 0.44933\n",
            "Epoch 96/100\n",
            " - 3s - loss: 0.5768 - acc: 0.7748 - val_loss: 0.4572 - val_acc: 0.8162\n",
            "\n",
            "Epoch 00096: val_loss did not improve from 0.44933\n",
            "Epoch 97/100\n",
            " - 3s - loss: 0.5690 - acc: 0.7765 - val_loss: 0.4352 - val_acc: 0.8273\n",
            "\n",
            "Epoch 00097: val_loss improved from 0.44933 to 0.43522, saving model to /content/drive/My Drive/Colab Notebooks/Weights.hdf5\n",
            "Epoch 98/100\n",
            " - 3s - loss: 0.5715 - acc: 0.7751 - val_loss: 0.4457 - val_acc: 0.8253\n",
            "\n",
            "Epoch 00098: val_loss did not improve from 0.43522\n",
            "Epoch 99/100\n",
            " - 3s - loss: 0.5632 - acc: 0.7791 - val_loss: 0.4360 - val_acc: 0.8263\n",
            "\n",
            "Epoch 00099: val_loss did not improve from 0.43522\n",
            "Epoch 100/100\n",
            " - 3s - loss: 0.5723 - acc: 0.7767 - val_loss: 0.4274 - val_acc: 0.8298\n",
            "\n",
            "Epoch 00100: val_loss improved from 0.43522 to 0.42743, saving model to /content/drive/My Drive/Colab Notebooks/Weights.hdf5\n"
          ],
          "name": "stdout"
        },
        {
          "output_type": "execute_result",
          "data": {
            "text/plain": [
              "<keras.callbacks.History at 0x7fb675554cc0>"
            ]
          },
          "metadata": {
            "tags": []
          },
          "execution_count": 140
        }
      ]
    },
    {
      "metadata": {
        "id": "DE-wWhY7Xptc",
        "colab_type": "code",
        "outputId": "3a01a04e-d465-45dc-dfd1-176b8f8fa457",
        "colab": {
          "base_uri": "https://localhost:8080/",
          "height": 4435
        }
      },
      "cell_type": "code",
      "source": [
        "#LSTM Model\n",
        "X_test1 = X_test.copy()\n",
        "X_train = X_train.as_matrix().reshape((X_train.shape[0], 1, X_train.shape[1]))\n",
        "X_test = X_test.as_matrix().reshape((X_test.shape[0], 1, X_test.shape[1]))\n",
        "\n",
        "# design network\n",
        "NN_model2 = Sequential()\n",
        "NN_model2.add(LSTM(200, return_sequences=True, input_shape=(X_train.shape[1], X_train.shape[2])))\n",
        "NN_model2.add(LSTM(100, return_sequences=True))\n",
        "NN_model2.add(LSTM(100, return_sequences=True))\n",
        "NN_model2.add(LSTM(50))\n",
        "NN_model2.add(Dense(ico_class_y.shape[1], activation='softmax'))\n",
        "NN_model2.compile(loss='categorical_crossentropy', optimizer='rmsprop', metrics=['categorical_accuracy'])\n",
        "NN_model2.summary()\n",
        "\n",
        "checkpoint_name = '/content/drive/My Drive/Colab Notebooks/Weights.hdf5' \n",
        "checkpoint = ModelCheckpoint(checkpoint_name, monitor='val_loss', verbose = 1, save_best_only = True, mode ='auto')\n",
        "earlystopping = EarlyStopping(monitor='val_loss', min_delta=0.0001, patience=10, verbose=0, mode='auto')\n",
        "callbacks_list = [checkpoint, earlystopping]\n",
        "\n",
        "# fit network\n",
        "NN_model2.fit(X_train, Y_train, epochs=100, batch_size=64, validation_split = 0.1, callbacks=callbacks_list)"
      ],
      "execution_count": 0,
      "outputs": [
        {
          "output_type": "stream",
          "text": [
            "_________________________________________________________________\n",
            "Layer (type)                 Output Shape              Param #   \n",
            "=================================================================\n",
            "lstm_5 (LSTM)                (None, 1, 200)            177600    \n",
            "_________________________________________________________________\n",
            "lstm_6 (LSTM)                (None, 1, 100)            120400    \n",
            "_________________________________________________________________\n",
            "lstm_7 (LSTM)                (None, 1, 100)            80400     \n",
            "_________________________________________________________________\n",
            "lstm_8 (LSTM)                (None, 50)                30200     \n",
            "_________________________________________________________________\n",
            "dense_30 (Dense)             (None, 5)                 255       \n",
            "=================================================================\n",
            "Total params: 408,855\n",
            "Trainable params: 408,855\n",
            "Non-trainable params: 0\n",
            "_________________________________________________________________\n",
            "Train on 25803 samples, validate on 2867 samples\n",
            "Epoch 1/100\n",
            "25803/25803 [==============================] - 13s 515us/step - loss: 1.5564 - categorical_accuracy: 0.2568 - val_loss: 1.5461 - val_categorical_accuracy: 0.2644\n",
            "\n",
            "Epoch 00001: val_loss improved from inf to 1.54612, saving model to /content/drive/My Drive/Colab Notebooks/Weights.hdf5\n",
            "Epoch 2/100\n",
            "25803/25803 [==============================] - 11s 425us/step - loss: 1.5410 - categorical_accuracy: 0.2756 - val_loss: 1.5264 - val_categorical_accuracy: 0.2850\n",
            "\n",
            "Epoch 00002: val_loss improved from 1.54612 to 1.52644, saving model to /content/drive/My Drive/Colab Notebooks/Weights.hdf5\n",
            "Epoch 3/100\n",
            "25803/25803 [==============================] - 11s 419us/step - loss: 1.5258 - categorical_accuracy: 0.2857 - val_loss: 1.5173 - val_categorical_accuracy: 0.2832\n",
            "\n",
            "Epoch 00003: val_loss improved from 1.52644 to 1.51730, saving model to /content/drive/My Drive/Colab Notebooks/Weights.hdf5\n",
            "Epoch 4/100\n",
            "25803/25803 [==============================] - 11s 435us/step - loss: 1.5089 - categorical_accuracy: 0.3011 - val_loss: 1.5030 - val_categorical_accuracy: 0.3164\n",
            "\n",
            "Epoch 00004: val_loss improved from 1.51730 to 1.50304, saving model to /content/drive/My Drive/Colab Notebooks/Weights.hdf5\n",
            "Epoch 5/100\n",
            "25803/25803 [==============================] - 12s 447us/step - loss: 1.4877 - categorical_accuracy: 0.3250 - val_loss: 1.4719 - val_categorical_accuracy: 0.3352\n",
            "\n",
            "Epoch 00005: val_loss improved from 1.50304 to 1.47194, saving model to /content/drive/My Drive/Colab Notebooks/Weights.hdf5\n",
            "Epoch 6/100\n",
            "25803/25803 [==============================] - 12s 446us/step - loss: 1.4596 - categorical_accuracy: 0.3445 - val_loss: 1.4459 - val_categorical_accuracy: 0.3537\n",
            "\n",
            "Epoch 00006: val_loss improved from 1.47194 to 1.44588, saving model to /content/drive/My Drive/Colab Notebooks/Weights.hdf5\n",
            "Epoch 7/100\n",
            "25803/25803 [==============================] - 11s 427us/step - loss: 1.4261 - categorical_accuracy: 0.3640 - val_loss: 1.4233 - val_categorical_accuracy: 0.3478\n",
            "\n",
            "Epoch 00007: val_loss improved from 1.44588 to 1.42328, saving model to /content/drive/My Drive/Colab Notebooks/Weights.hdf5\n",
            "Epoch 8/100\n",
            "25803/25803 [==============================] - 11s 428us/step - loss: 1.3884 - categorical_accuracy: 0.3898 - val_loss: 1.4246 - val_categorical_accuracy: 0.3467\n",
            "\n",
            "Epoch 00008: val_loss did not improve from 1.42328\n",
            "Epoch 9/100\n",
            "25803/25803 [==============================] - 11s 440us/step - loss: 1.3490 - categorical_accuracy: 0.4142 - val_loss: 1.3398 - val_categorical_accuracy: 0.4255\n",
            "\n",
            "Epoch 00009: val_loss improved from 1.42328 to 1.33976, saving model to /content/drive/My Drive/Colab Notebooks/Weights.hdf5\n",
            "Epoch 10/100\n",
            "25803/25803 [==============================] - 11s 429us/step - loss: 1.3097 - categorical_accuracy: 0.4364 - val_loss: 1.3230 - val_categorical_accuracy: 0.4283\n",
            "\n",
            "Epoch 00010: val_loss improved from 1.33976 to 1.32303, saving model to /content/drive/My Drive/Colab Notebooks/Weights.hdf5\n",
            "Epoch 11/100\n",
            "25803/25803 [==============================] - 12s 459us/step - loss: 1.2666 - categorical_accuracy: 0.4620 - val_loss: 1.3135 - val_categorical_accuracy: 0.4255\n",
            "\n",
            "Epoch 00011: val_loss improved from 1.32303 to 1.31351, saving model to /content/drive/My Drive/Colab Notebooks/Weights.hdf5\n",
            "Epoch 12/100\n",
            "25803/25803 [==============================] - 11s 432us/step - loss: 1.2184 - categorical_accuracy: 0.4877 - val_loss: 1.2479 - val_categorical_accuracy: 0.4758\n",
            "\n",
            "Epoch 00012: val_loss improved from 1.31351 to 1.24788, saving model to /content/drive/My Drive/Colab Notebooks/Weights.hdf5\n",
            "Epoch 13/100\n",
            "25803/25803 [==============================] - 11s 439us/step - loss: 1.1676 - categorical_accuracy: 0.5131 - val_loss: 1.1929 - val_categorical_accuracy: 0.4939\n",
            "\n",
            "Epoch 00013: val_loss improved from 1.24788 to 1.19292, saving model to /content/drive/My Drive/Colab Notebooks/Weights.hdf5\n",
            "Epoch 14/100\n",
            "25803/25803 [==============================] - 11s 434us/step - loss: 1.1187 - categorical_accuracy: 0.5303 - val_loss: 1.1497 - val_categorical_accuracy: 0.5204\n",
            "\n",
            "Epoch 00014: val_loss improved from 1.19292 to 1.14974, saving model to /content/drive/My Drive/Colab Notebooks/Weights.hdf5\n",
            "Epoch 15/100\n",
            "25803/25803 [==============================] - 11s 439us/step - loss: 1.0712 - categorical_accuracy: 0.5545 - val_loss: 1.1008 - val_categorical_accuracy: 0.5333\n",
            "\n",
            "Epoch 00015: val_loss improved from 1.14974 to 1.10081, saving model to /content/drive/My Drive/Colab Notebooks/Weights.hdf5\n",
            "Epoch 16/100\n",
            "25803/25803 [==============================] - 11s 436us/step - loss: 1.0218 - categorical_accuracy: 0.5777 - val_loss: 1.0468 - val_categorical_accuracy: 0.5626\n",
            "\n",
            "Epoch 00016: val_loss improved from 1.10081 to 1.04677, saving model to /content/drive/My Drive/Colab Notebooks/Weights.hdf5\n",
            "Epoch 17/100\n",
            "25803/25803 [==============================] - 11s 439us/step - loss: 0.9718 - categorical_accuracy: 0.6006 - val_loss: 1.0471 - val_categorical_accuracy: 0.5626\n",
            "\n",
            "Epoch 00017: val_loss did not improve from 1.04677\n",
            "Epoch 18/100\n",
            "25803/25803 [==============================] - 11s 443us/step - loss: 0.9249 - categorical_accuracy: 0.6234 - val_loss: 0.9977 - val_categorical_accuracy: 0.5814\n",
            "\n",
            "Epoch 00018: val_loss improved from 1.04677 to 0.99765, saving model to /content/drive/My Drive/Colab Notebooks/Weights.hdf5\n",
            "Epoch 19/100\n",
            "25803/25803 [==============================] - 11s 443us/step - loss: 0.8764 - categorical_accuracy: 0.6435 - val_loss: 0.9380 - val_categorical_accuracy: 0.6104\n",
            "\n",
            "Epoch 00019: val_loss improved from 0.99765 to 0.93803, saving model to /content/drive/My Drive/Colab Notebooks/Weights.hdf5\n",
            "Epoch 20/100\n",
            "25803/25803 [==============================] - 11s 427us/step - loss: 0.8310 - categorical_accuracy: 0.6603 - val_loss: 0.9100 - val_categorical_accuracy: 0.6254\n",
            "\n",
            "Epoch 00020: val_loss improved from 0.93803 to 0.90998, saving model to /content/drive/My Drive/Colab Notebooks/Weights.hdf5\n",
            "Epoch 21/100\n",
            "25803/25803 [==============================] - 11s 430us/step - loss: 0.7898 - categorical_accuracy: 0.6813 - val_loss: 0.8779 - val_categorical_accuracy: 0.6404\n",
            "\n",
            "Epoch 00021: val_loss improved from 0.90998 to 0.87788, saving model to /content/drive/My Drive/Colab Notebooks/Weights.hdf5\n",
            "Epoch 22/100\n",
            "25803/25803 [==============================] - 11s 431us/step - loss: 0.7503 - categorical_accuracy: 0.6989 - val_loss: 0.8673 - val_categorical_accuracy: 0.6540\n",
            "\n",
            "Epoch 00022: val_loss improved from 0.87788 to 0.86734, saving model to /content/drive/My Drive/Colab Notebooks/Weights.hdf5\n",
            "Epoch 23/100\n",
            "25803/25803 [==============================] - 11s 433us/step - loss: 0.7188 - categorical_accuracy: 0.7107 - val_loss: 0.7974 - val_categorical_accuracy: 0.6707\n",
            "\n",
            "Epoch 00023: val_loss improved from 0.86734 to 0.79743, saving model to /content/drive/My Drive/Colab Notebooks/Weights.hdf5\n",
            "Epoch 24/100\n",
            "25803/25803 [==============================] - 11s 430us/step - loss: 0.6864 - categorical_accuracy: 0.7259 - val_loss: 0.7669 - val_categorical_accuracy: 0.6812\n",
            "\n",
            "Epoch 00024: val_loss improved from 0.79743 to 0.76688, saving model to /content/drive/My Drive/Colab Notebooks/Weights.hdf5\n",
            "Epoch 25/100\n",
            "25803/25803 [==============================] - 11s 428us/step - loss: 0.6567 - categorical_accuracy: 0.7360 - val_loss: 0.7332 - val_categorical_accuracy: 0.7025\n",
            "\n",
            "Epoch 00025: val_loss improved from 0.76688 to 0.73320, saving model to /content/drive/My Drive/Colab Notebooks/Weights.hdf5\n",
            "Epoch 26/100\n",
            "25803/25803 [==============================] - 11s 433us/step - loss: 0.6301 - categorical_accuracy: 0.7497 - val_loss: 0.6962 - val_categorical_accuracy: 0.7171\n",
            "\n",
            "Epoch 00026: val_loss improved from 0.73320 to 0.69616, saving model to /content/drive/My Drive/Colab Notebooks/Weights.hdf5\n",
            "Epoch 27/100\n",
            "25803/25803 [==============================] - 11s 438us/step - loss: 0.6039 - categorical_accuracy: 0.7601 - val_loss: 0.7122 - val_categorical_accuracy: 0.7122\n",
            "\n",
            "Epoch 00027: val_loss did not improve from 0.69616\n",
            "Epoch 28/100\n",
            "25803/25803 [==============================] - 11s 432us/step - loss: 0.5804 - categorical_accuracy: 0.7685 - val_loss: 0.6908 - val_categorical_accuracy: 0.7234\n",
            "\n",
            "Epoch 00028: val_loss improved from 0.69616 to 0.69081, saving model to /content/drive/My Drive/Colab Notebooks/Weights.hdf5\n",
            "Epoch 29/100\n",
            "25803/25803 [==============================] - 11s 436us/step - loss: 0.5559 - categorical_accuracy: 0.7784 - val_loss: 0.6603 - val_categorical_accuracy: 0.7307\n",
            "\n",
            "Epoch 00029: val_loss improved from 0.69081 to 0.66026, saving model to /content/drive/My Drive/Colab Notebooks/Weights.hdf5\n",
            "Epoch 30/100\n",
            "25803/25803 [==============================] - 11s 434us/step - loss: 0.5371 - categorical_accuracy: 0.7869 - val_loss: 0.6655 - val_categorical_accuracy: 0.7391\n",
            "\n",
            "Epoch 00030: val_loss did not improve from 0.66026\n",
            "Epoch 31/100\n",
            "25803/25803 [==============================] - 11s 439us/step - loss: 0.5191 - categorical_accuracy: 0.7916 - val_loss: 0.6387 - val_categorical_accuracy: 0.7464\n",
            "\n",
            "Epoch 00031: val_loss improved from 0.66026 to 0.63870, saving model to /content/drive/My Drive/Colab Notebooks/Weights.hdf5\n",
            "Epoch 32/100\n",
            "25803/25803 [==============================] - 11s 437us/step - loss: 0.5026 - categorical_accuracy: 0.8000 - val_loss: 0.6079 - val_categorical_accuracy: 0.7660\n",
            "\n",
            "Epoch 00032: val_loss improved from 0.63870 to 0.60794, saving model to /content/drive/My Drive/Colab Notebooks/Weights.hdf5\n",
            "Epoch 33/100\n",
            "25803/25803 [==============================] - 11s 425us/step - loss: 0.4871 - categorical_accuracy: 0.8030 - val_loss: 0.5826 - val_categorical_accuracy: 0.7663\n",
            "\n",
            "Epoch 00033: val_loss improved from 0.60794 to 0.58264, saving model to /content/drive/My Drive/Colab Notebooks/Weights.hdf5\n",
            "Epoch 34/100\n",
            "25803/25803 [==============================] - 12s 451us/step - loss: 0.4715 - categorical_accuracy: 0.8095 - val_loss: 0.6104 - val_categorical_accuracy: 0.7496\n",
            "\n",
            "Epoch 00034: val_loss did not improve from 0.58264\n",
            "Epoch 35/100\n",
            "25803/25803 [==============================] - 12s 451us/step - loss: 0.4612 - categorical_accuracy: 0.8177 - val_loss: 0.5630 - val_categorical_accuracy: 0.7715\n",
            "\n",
            "Epoch 00035: val_loss improved from 0.58264 to 0.56300, saving model to /content/drive/My Drive/Colab Notebooks/Weights.hdf5\n",
            "Epoch 36/100\n",
            "25803/25803 [==============================] - 11s 435us/step - loss: 0.4476 - categorical_accuracy: 0.8200 - val_loss: 0.5565 - val_categorical_accuracy: 0.7858\n",
            "\n",
            "Epoch 00036: val_loss improved from 0.56300 to 0.55649, saving model to /content/drive/My Drive/Colab Notebooks/Weights.hdf5\n",
            "Epoch 37/100\n",
            "25803/25803 [==============================] - 11s 444us/step - loss: 0.4349 - categorical_accuracy: 0.8257 - val_loss: 0.5390 - val_categorical_accuracy: 0.7858\n",
            "\n",
            "Epoch 00037: val_loss improved from 0.55649 to 0.53895, saving model to /content/drive/My Drive/Colab Notebooks/Weights.hdf5\n",
            "Epoch 38/100\n",
            "25803/25803 [==============================] - 12s 467us/step - loss: 0.4256 - categorical_accuracy: 0.8278 - val_loss: 0.5317 - val_categorical_accuracy: 0.7942\n",
            "\n",
            "Epoch 00038: val_loss improved from 0.53895 to 0.53167, saving model to /content/drive/My Drive/Colab Notebooks/Weights.hdf5\n",
            "Epoch 39/100\n",
            "25803/25803 [==============================] - 12s 447us/step - loss: 0.4157 - categorical_accuracy: 0.8316 - val_loss: 0.5370 - val_categorical_accuracy: 0.7855\n",
            "\n",
            "Epoch 00039: val_loss did not improve from 0.53167\n",
            "Epoch 40/100\n",
            "25803/25803 [==============================] - 11s 428us/step - loss: 0.4061 - categorical_accuracy: 0.8350 - val_loss: 0.5390 - val_categorical_accuracy: 0.7876\n",
            "\n",
            "Epoch 00040: val_loss did not improve from 0.53167\n",
            "Epoch 41/100\n",
            "25803/25803 [==============================] - 11s 429us/step - loss: 0.3981 - categorical_accuracy: 0.8378 - val_loss: 0.5089 - val_categorical_accuracy: 0.7949\n",
            "\n",
            "Epoch 00041: val_loss improved from 0.53167 to 0.50886, saving model to /content/drive/My Drive/Colab Notebooks/Weights.hdf5\n",
            "Epoch 42/100\n",
            "25803/25803 [==============================] - 11s 422us/step - loss: 0.3902 - categorical_accuracy: 0.8409 - val_loss: 0.5214 - val_categorical_accuracy: 0.7907\n",
            "\n",
            "Epoch 00042: val_loss did not improve from 0.50886\n",
            "Epoch 43/100\n",
            "25803/25803 [==============================] - 11s 426us/step - loss: 0.3823 - categorical_accuracy: 0.8471 - val_loss: 0.5426 - val_categorical_accuracy: 0.7830\n",
            "\n",
            "Epoch 00043: val_loss did not improve from 0.50886\n",
            "Epoch 44/100\n",
            "25803/25803 [==============================] - 11s 427us/step - loss: 0.3719 - categorical_accuracy: 0.8453 - val_loss: 0.5604 - val_categorical_accuracy: 0.7698\n",
            "\n",
            "Epoch 00044: val_loss did not improve from 0.50886\n",
            "Epoch 45/100\n",
            "25803/25803 [==============================] - 11s 445us/step - loss: 0.3669 - categorical_accuracy: 0.8503 - val_loss: 0.4692 - val_categorical_accuracy: 0.8113\n",
            "\n",
            "Epoch 00045: val_loss improved from 0.50886 to 0.46917, saving model to /content/drive/My Drive/Colab Notebooks/Weights.hdf5\n",
            "Epoch 46/100\n",
            "25803/25803 [==============================] - 11s 417us/step - loss: 0.3598 - categorical_accuracy: 0.8522 - val_loss: 0.5337 - val_categorical_accuracy: 0.7928\n",
            "\n",
            "Epoch 00046: val_loss did not improve from 0.46917\n",
            "Epoch 47/100\n",
            "25803/25803 [==============================] - 11s 415us/step - loss: 0.3536 - categorical_accuracy: 0.8552 - val_loss: 0.4946 - val_categorical_accuracy: 0.8008\n",
            "\n",
            "Epoch 00047: val_loss did not improve from 0.46917\n",
            "Epoch 48/100\n",
            "25803/25803 [==============================] - 11s 417us/step - loss: 0.3482 - categorical_accuracy: 0.8562 - val_loss: 0.5091 - val_categorical_accuracy: 0.7949\n",
            "\n",
            "Epoch 00048: val_loss did not improve from 0.46917\n",
            "Epoch 49/100\n",
            "25803/25803 [==============================] - 11s 417us/step - loss: 0.3411 - categorical_accuracy: 0.8595 - val_loss: 0.4822 - val_categorical_accuracy: 0.8123\n",
            "\n",
            "Epoch 00049: val_loss did not improve from 0.46917\n",
            "Epoch 50/100\n",
            "25803/25803 [==============================] - 11s 420us/step - loss: 0.3356 - categorical_accuracy: 0.8596 - val_loss: 0.4685 - val_categorical_accuracy: 0.8113\n",
            "\n",
            "Epoch 00050: val_loss improved from 0.46917 to 0.46853, saving model to /content/drive/My Drive/Colab Notebooks/Weights.hdf5\n",
            "Epoch 51/100\n",
            "25803/25803 [==============================] - 11s 422us/step - loss: 0.3308 - categorical_accuracy: 0.8619 - val_loss: 0.4555 - val_categorical_accuracy: 0.8141\n",
            "\n",
            "Epoch 00051: val_loss improved from 0.46853 to 0.45550, saving model to /content/drive/My Drive/Colab Notebooks/Weights.hdf5\n",
            "Epoch 52/100\n",
            "25803/25803 [==============================] - 11s 422us/step - loss: 0.3209 - categorical_accuracy: 0.8665 - val_loss: 0.4792 - val_categorical_accuracy: 0.8085\n",
            "\n",
            "Epoch 00052: val_loss did not improve from 0.45550\n",
            "Epoch 53/100\n",
            "25803/25803 [==============================] - 11s 420us/step - loss: 0.3196 - categorical_accuracy: 0.8663 - val_loss: 0.4824 - val_categorical_accuracy: 0.8057\n",
            "\n",
            "Epoch 00053: val_loss did not improve from 0.45550\n",
            "Epoch 54/100\n",
            "25803/25803 [==============================] - 11s 422us/step - loss: 0.3144 - categorical_accuracy: 0.8673 - val_loss: 0.5315 - val_categorical_accuracy: 0.7994\n",
            "\n",
            "Epoch 00054: val_loss did not improve from 0.45550\n",
            "Epoch 55/100\n",
            "25803/25803 [==============================] - 11s 419us/step - loss: 0.3090 - categorical_accuracy: 0.8728 - val_loss: 0.4726 - val_categorical_accuracy: 0.8176\n",
            "\n",
            "Epoch 00055: val_loss did not improve from 0.45550\n",
            "Epoch 56/100\n",
            "25803/25803 [==============================] - 11s 425us/step - loss: 0.3054 - categorical_accuracy: 0.8737 - val_loss: 0.4741 - val_categorical_accuracy: 0.8075\n",
            "\n",
            "Epoch 00056: val_loss did not improve from 0.45550\n",
            "Epoch 57/100\n",
            "25803/25803 [==============================] - 11s 418us/step - loss: 0.2974 - categorical_accuracy: 0.8754 - val_loss: 0.4639 - val_categorical_accuracy: 0.8172\n",
            "\n",
            "Epoch 00057: val_loss did not improve from 0.45550\n",
            "Epoch 58/100\n",
            "25803/25803 [==============================] - 11s 418us/step - loss: 0.2940 - categorical_accuracy: 0.8773 - val_loss: 0.4735 - val_categorical_accuracy: 0.8211\n",
            "\n",
            "Epoch 00058: val_loss did not improve from 0.45550\n",
            "Epoch 59/100\n",
            "25803/25803 [==============================] - 11s 415us/step - loss: 0.2920 - categorical_accuracy: 0.8779 - val_loss: 0.4662 - val_categorical_accuracy: 0.8197\n",
            "\n",
            "Epoch 00059: val_loss did not improve from 0.45550\n",
            "Epoch 60/100\n",
            "25803/25803 [==============================] - 11s 422us/step - loss: 0.2850 - categorical_accuracy: 0.8802 - val_loss: 0.4572 - val_categorical_accuracy: 0.8232\n",
            "\n",
            "Epoch 00060: val_loss did not improve from 0.45550\n",
            "Epoch 61/100\n",
            "25803/25803 [==============================] - 11s 419us/step - loss: 0.2812 - categorical_accuracy: 0.8815 - val_loss: 0.4807 - val_categorical_accuracy: 0.8137\n",
            "\n",
            "Epoch 00061: val_loss did not improve from 0.45550\n"
          ],
          "name": "stdout"
        },
        {
          "output_type": "execute_result",
          "data": {
            "text/plain": [
              "<keras.callbacks.History at 0x7fb672cf7978>"
            ]
          },
          "metadata": {
            "tags": []
          },
          "execution_count": 145
        }
      ]
    },
    {
      "metadata": {
        "id": "UVKaeSxyz5WI",
        "colab_type": "text"
      },
      "cell_type": "markdown",
      "source": [
        "###Evaluation"
      ]
    },
    {
      "metadata": {
        "id": "CUIaS0lP0LHx",
        "colab_type": "code",
        "colab": {}
      },
      "cell_type": "code",
      "source": [
        "Val_Loss = []\n",
        "Accuracy = []"
      ],
      "execution_count": 0,
      "outputs": []
    },
    {
      "metadata": {
        "id": "RbE7PRAhz8U8",
        "colab_type": "code",
        "outputId": "6f52a89c-2eff-4bdb-9ac7-635b9ed4cf0c",
        "colab": {
          "base_uri": "https://localhost:8080/",
          "height": 84
        }
      },
      "cell_type": "code",
      "source": [
        "score = NN_model.evaluate(X_test, Y_test, batch_size = 64)\n",
        "y_predicted = NN_model.predict(X_test)\n",
        "print(score)\n",
        "print(\"Val_Loss: %.2f\" % (score[0]))\n",
        "print(\"Accuracy: %.2f%%\" % (score[1]*100))\n",
        "Val_Loss.append(score[0])\n",
        "Accuracy.append(score[1]*100)"
      ],
      "execution_count": 0,
      "outputs": [
        {
          "output_type": "stream",
          "text": [
            "7168/7168 [==============================] - 0s 30us/step\n",
            "[0.7011938023247889, 0.7486049107142857]\n",
            "Val_Loss: 0.70\n",
            "Accuracy: 74.86%\n"
          ],
          "name": "stdout"
        }
      ]
    },
    {
      "metadata": {
        "id": "EUz0XL5Gz_lx",
        "colab_type": "code",
        "outputId": "5d727e74-fb14-43cb-9f4c-bfcb0f91801e",
        "colab": {
          "base_uri": "https://localhost:8080/",
          "height": 84
        }
      },
      "cell_type": "code",
      "source": [
        "score1 = NN_model1.evaluate(X_test, Y_test, batch_size = 64)\n",
        "y_predicted1 = NN_model1.predict(X_test)\n",
        "print(score1)\n",
        "print(\"Val_Loss: %.2f\" % (score1[0]))\n",
        "print(\"Accuracy: %.2f%%\" % (score1[1]*100))\n",
        "\n",
        "Val_Loss.append(score1[0])\n",
        "Accuracy.append(score1[1]*100)"
      ],
      "execution_count": 0,
      "outputs": [
        {
          "output_type": "stream",
          "text": [
            "7168/7168 [==============================] - 0s 32us/step\n",
            "[0.44431263926838127, 0.8250558035714286]\n",
            "Val_Loss: 0.44\n",
            "Accuracy: 82.51%\n"
          ],
          "name": "stdout"
        }
      ]
    },
    {
      "metadata": {
        "id": "t896iS1E0Aly",
        "colab_type": "code",
        "outputId": "278eb264-5f46-4a6c-cf20-936839f60378",
        "colab": {
          "base_uri": "https://localhost:8080/",
          "height": 84
        }
      },
      "cell_type": "code",
      "source": [
        "score2 = NN_model2.evaluate(X_test, Y_test, batch_size = 64)\n",
        "y_predicted2 = NN_model2.predict(X_test)\n",
        "print(score2)\n",
        "print(\"Val_Loss: %.2f\" % (score2[0]))\n",
        "print(\"Accuracy: %.2f%%\" % (score2[1]*100))\n",
        "\n",
        "Val_Loss.append(score2[0])\n",
        "Accuracy.append(score2[1]*100)"
      ],
      "execution_count": 0,
      "outputs": [
        {
          "output_type": "stream",
          "text": [
            "7168/7168 [==============================] - 1s 181us/step\n",
            "[0.4727582951475467, 0.8189174107142857]\n",
            "Val_Loss: 0.47\n",
            "Accuracy: 81.89%\n"
          ],
          "name": "stdout"
        }
      ]
    },
    {
      "metadata": {
        "id": "-rUVHkKx0OHL",
        "colab_type": "code",
        "outputId": "d2ce9a2f-8597-4ead-9fe0-84b43e6d1d9e",
        "colab": {
          "base_uri": "https://localhost:8080/",
          "height": 50
        }
      },
      "cell_type": "code",
      "source": [
        "print(Val_Loss)\n",
        "print(Accuracy)"
      ],
      "execution_count": 0,
      "outputs": [
        {
          "output_type": "stream",
          "text": [
            "[0.7011938023247889, 0.8456570490130356, 0.44431263926838127, 0.4727582951475467]\n",
            "[74.86049107142857, 67.67578125, 82.50558035714286, 81.89174107142857]\n"
          ],
          "name": "stdout"
        }
      ]
    }
  ]
}